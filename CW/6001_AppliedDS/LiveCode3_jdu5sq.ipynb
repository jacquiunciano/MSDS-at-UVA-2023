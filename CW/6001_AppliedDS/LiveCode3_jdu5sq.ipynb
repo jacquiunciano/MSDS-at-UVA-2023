{
 "cells": [
  {
   "cell_type": "code",
   "execution_count": 27,
   "id": "f2f2a6d3-e19d-4f59-a339-eab196ff4571",
   "metadata": {},
   "outputs": [],
   "source": [
    "import numpy as np\n",
    "import pandas as pd\n",
    "import os\n",
    "import requests\n",
    "import json\n",
    "import dotenv as de\n",
    "os.chdir(\"C:/Users/jacqu/Documents/MSDS/CW\")"
   ]
  },
  {
   "cell_type": "code",
   "execution_count": 28,
   "id": "523b5fbd-53c7-423e-8e0e-aefe5445afbe",
   "metadata": {},
   "outputs": [],
   "source": [
    "### !pip install python-dotenv"
   ]
  },
  {
   "cell_type": "code",
   "execution_count": 29,
   "id": "97bdcabe-5c63-4d84-b144-1390ef00d9c9",
   "metadata": {},
   "outputs": [
    {
     "data": {
      "text/plain": [
       "True"
      ]
     },
     "execution_count": 29,
     "metadata": {},
     "output_type": "execute_result"
    }
   ],
   "source": [
    "de.load_dotenv()"
   ]
  },
  {
   "cell_type": "code",
   "execution_count": 30,
   "id": "b4da89f4-7332-4dd6-818c-04a0f58d1cc5",
   "metadata": {},
   "outputs": [],
   "source": [
    "congresskey=os.getenv(\"congresskey\")\n",
    "opensecretskey=os.getenv(\"opensecretskey\")"
   ]
  },
  {
   "cell_type": "code",
   "execution_count": 31,
   "id": "b429e4ef-9da2-429a-8195-96bb2f44f06f",
   "metadata": {},
   "outputs": [
    {
     "data": {
      "text/plain": [
       "{'user_agent': 'python-requests/2.28.1', 'from': 'jdu5sq@virginia.edu'}"
      ]
     },
     "execution_count": 31,
     "metadata": {},
     "output_type": "execute_result"
    }
   ],
   "source": [
    "## headers\n",
    "## user agent str tells system what \n",
    "r = requests.get(\"https://httpbin.org/user-agent\")\n",
    "user_agent = json.loads(r.text)[\"user-agent\"]\n",
    "headers = {\"user_agent\": user_agent,\n",
    "          \"from\":\"jdu5sq@virginia.edu\"}\n",
    "headers"
   ]
  },
  {
   "cell_type": "code",
   "execution_count": 41,
   "id": "3f7c3e14-3a79-4c8b-b316-0643b16fd23f",
   "metadata": {},
   "outputs": [
    {
     "data": {
      "text/plain": [
       "<Response [403]>"
      ]
     },
     "execution_count": 41,
     "metadata": {},
     "output_type": "execute_result"
    }
   ],
   "source": [
    "## Congress\n",
    "root = \"https://api.congress.gov/v3\"\n",
    "endpt = \"/member\"\n",
    "parameters = {\"api_key\":congresskey}\n",
    "r = requests.get(root+endpt, params = parameters, headers = headers)\n",
    "r"
   ]
  },
  {
   "cell_type": "code",
   "execution_count": 35,
   "id": "36f63236-def8-4f05-8413-5d43381b3380",
   "metadata": {},
   "outputs": [
    {
     "ename": "KeyError",
     "evalue": "\"Key 'members' not found. If specifying a record_path, all elements of data should have the path.\"",
     "output_type": "error",
     "traceback": [
      "\u001b[1;31m---------------------------------------------------------------------------\u001b[0m",
      "\u001b[1;31mKeyError\u001b[0m                                  Traceback (most recent call last)",
      "File \u001b[1;32m~\\anaconda3\\lib\\site-packages\\pandas\\io\\json\\_normalize.py:399\u001b[0m, in \u001b[0;36m_json_normalize.<locals>._pull_field\u001b[1;34m(js, spec, extract_record)\u001b[0m\n\u001b[0;32m    398\u001b[0m     \u001b[38;5;28;01melse\u001b[39;00m:\n\u001b[1;32m--> 399\u001b[0m         result \u001b[38;5;241m=\u001b[39m \u001b[43mresult\u001b[49m\u001b[43m[\u001b[49m\u001b[43mspec\u001b[49m\u001b[43m]\u001b[49m\n\u001b[0;32m    400\u001b[0m \u001b[38;5;28;01mexcept\u001b[39;00m \u001b[38;5;167;01mKeyError\u001b[39;00m \u001b[38;5;28;01mas\u001b[39;00m e:\n",
      "\u001b[1;31mKeyError\u001b[0m: 'members'",
      "\nThe above exception was the direct cause of the following exception:\n",
      "\u001b[1;31mKeyError\u001b[0m                                  Traceback (most recent call last)",
      "Cell \u001b[1;32mIn[35], line 2\u001b[0m\n\u001b[0;32m      1\u001b[0m mj \u001b[38;5;241m=\u001b[39m json\u001b[38;5;241m.\u001b[39mloads(r\u001b[38;5;241m.\u001b[39mtext)\n\u001b[1;32m----> 2\u001b[0m df \u001b[38;5;241m=\u001b[39m \u001b[43mpd\u001b[49m\u001b[38;5;241;43m.\u001b[39;49m\u001b[43mjson_normalize\u001b[49m\u001b[43m(\u001b[49m\u001b[43mmj\u001b[49m\u001b[43m,\u001b[49m\u001b[43m \u001b[49m\u001b[43mrecord_path\u001b[49m\u001b[38;5;241;43m=\u001b[39;49m\u001b[43m[\u001b[49m\u001b[38;5;124;43m\"\u001b[39;49m\u001b[38;5;124;43mmembers\u001b[39;49m\u001b[38;5;124;43m\"\u001b[39;49m\u001b[43m]\u001b[49m\u001b[43m)\u001b[49m\n\u001b[0;32m      3\u001b[0m df\n",
      "File \u001b[1;32m~\\anaconda3\\lib\\site-packages\\pandas\\io\\json\\_normalize.py:518\u001b[0m, in \u001b[0;36m_json_normalize\u001b[1;34m(data, record_path, meta, meta_prefix, record_prefix, errors, sep, max_level)\u001b[0m\n\u001b[0;32m    515\u001b[0m                 meta_vals[key]\u001b[38;5;241m.\u001b[39mappend(meta_val)\n\u001b[0;32m    516\u001b[0m             records\u001b[38;5;241m.\u001b[39mextend(recs)\n\u001b[1;32m--> 518\u001b[0m \u001b[43m_recursive_extract\u001b[49m\u001b[43m(\u001b[49m\u001b[43mdata\u001b[49m\u001b[43m,\u001b[49m\u001b[43m \u001b[49m\u001b[43mrecord_path\u001b[49m\u001b[43m,\u001b[49m\u001b[43m \u001b[49m\u001b[43m{\u001b[49m\u001b[43m}\u001b[49m\u001b[43m,\u001b[49m\u001b[43m \u001b[49m\u001b[43mlevel\u001b[49m\u001b[38;5;241;43m=\u001b[39;49m\u001b[38;5;241;43m0\u001b[39;49m\u001b[43m)\u001b[49m\n\u001b[0;32m    520\u001b[0m result \u001b[38;5;241m=\u001b[39m DataFrame(records)\n\u001b[0;32m    522\u001b[0m \u001b[38;5;28;01mif\u001b[39;00m record_prefix \u001b[38;5;129;01mis\u001b[39;00m \u001b[38;5;129;01mnot\u001b[39;00m \u001b[38;5;28;01mNone\u001b[39;00m:\n",
      "File \u001b[1;32m~\\anaconda3\\lib\\site-packages\\pandas\\io\\json\\_normalize.py:500\u001b[0m, in \u001b[0;36m_json_normalize.<locals>._recursive_extract\u001b[1;34m(data, path, seen_meta, level)\u001b[0m\n\u001b[0;32m    498\u001b[0m \u001b[38;5;28;01melse\u001b[39;00m:\n\u001b[0;32m    499\u001b[0m     \u001b[38;5;28;01mfor\u001b[39;00m obj \u001b[38;5;129;01min\u001b[39;00m data:\n\u001b[1;32m--> 500\u001b[0m         recs \u001b[38;5;241m=\u001b[39m \u001b[43m_pull_records\u001b[49m\u001b[43m(\u001b[49m\u001b[43mobj\u001b[49m\u001b[43m,\u001b[49m\u001b[43m \u001b[49m\u001b[43mpath\u001b[49m\u001b[43m[\u001b[49m\u001b[38;5;241;43m0\u001b[39;49m\u001b[43m]\u001b[49m\u001b[43m)\u001b[49m\n\u001b[0;32m    501\u001b[0m         recs \u001b[38;5;241m=\u001b[39m [\n\u001b[0;32m    502\u001b[0m             nested_to_record(r, sep\u001b[38;5;241m=\u001b[39msep, max_level\u001b[38;5;241m=\u001b[39mmax_level)\n\u001b[0;32m    503\u001b[0m             \u001b[38;5;28;01mif\u001b[39;00m \u001b[38;5;28misinstance\u001b[39m(r, \u001b[38;5;28mdict\u001b[39m)\n\u001b[0;32m    504\u001b[0m             \u001b[38;5;28;01melse\u001b[39;00m r\n\u001b[0;32m    505\u001b[0m             \u001b[38;5;28;01mfor\u001b[39;00m r \u001b[38;5;129;01min\u001b[39;00m recs\n\u001b[0;32m    506\u001b[0m         ]\n\u001b[0;32m    508\u001b[0m         \u001b[38;5;66;03m# For repeating the metadata later\u001b[39;00m\n",
      "File \u001b[1;32m~\\anaconda3\\lib\\site-packages\\pandas\\io\\json\\_normalize.py:422\u001b[0m, in \u001b[0;36m_json_normalize.<locals>._pull_records\u001b[1;34m(js, spec)\u001b[0m\n\u001b[0;32m    416\u001b[0m \u001b[38;5;28;01mdef\u001b[39;00m \u001b[38;5;21m_pull_records\u001b[39m(js: \u001b[38;5;28mdict\u001b[39m[\u001b[38;5;28mstr\u001b[39m, Any], spec: \u001b[38;5;28mlist\u001b[39m \u001b[38;5;241m|\u001b[39m \u001b[38;5;28mstr\u001b[39m) \u001b[38;5;241m-\u001b[39m\u001b[38;5;241m>\u001b[39m \u001b[38;5;28mlist\u001b[39m:\n\u001b[0;32m    417\u001b[0m     \u001b[38;5;124;03m\"\"\"\u001b[39;00m\n\u001b[0;32m    418\u001b[0m \u001b[38;5;124;03m    Internal function to pull field for records, and similar to\u001b[39;00m\n\u001b[0;32m    419\u001b[0m \u001b[38;5;124;03m    _pull_field, but require to return list. And will raise error\u001b[39;00m\n\u001b[0;32m    420\u001b[0m \u001b[38;5;124;03m    if has non iterable value.\u001b[39;00m\n\u001b[0;32m    421\u001b[0m \u001b[38;5;124;03m    \"\"\"\u001b[39;00m\n\u001b[1;32m--> 422\u001b[0m     result \u001b[38;5;241m=\u001b[39m \u001b[43m_pull_field\u001b[49m\u001b[43m(\u001b[49m\u001b[43mjs\u001b[49m\u001b[43m,\u001b[49m\u001b[43m \u001b[49m\u001b[43mspec\u001b[49m\u001b[43m,\u001b[49m\u001b[43m \u001b[49m\u001b[43mextract_record\u001b[49m\u001b[38;5;241;43m=\u001b[39;49m\u001b[38;5;28;43;01mTrue\u001b[39;49;00m\u001b[43m)\u001b[49m\n\u001b[0;32m    424\u001b[0m     \u001b[38;5;66;03m# GH 31507 GH 30145, GH 26284 if result is not list, raise TypeError if not\u001b[39;00m\n\u001b[0;32m    425\u001b[0m     \u001b[38;5;66;03m# null, otherwise return an empty list\u001b[39;00m\n\u001b[0;32m    426\u001b[0m     \u001b[38;5;28;01mif\u001b[39;00m \u001b[38;5;129;01mnot\u001b[39;00m \u001b[38;5;28misinstance\u001b[39m(result, \u001b[38;5;28mlist\u001b[39m):\n",
      "File \u001b[1;32m~\\anaconda3\\lib\\site-packages\\pandas\\io\\json\\_normalize.py:402\u001b[0m, in \u001b[0;36m_json_normalize.<locals>._pull_field\u001b[1;34m(js, spec, extract_record)\u001b[0m\n\u001b[0;32m    400\u001b[0m \u001b[38;5;28;01mexcept\u001b[39;00m \u001b[38;5;167;01mKeyError\u001b[39;00m \u001b[38;5;28;01mas\u001b[39;00m e:\n\u001b[0;32m    401\u001b[0m     \u001b[38;5;28;01mif\u001b[39;00m extract_record:\n\u001b[1;32m--> 402\u001b[0m         \u001b[38;5;28;01mraise\u001b[39;00m \u001b[38;5;167;01mKeyError\u001b[39;00m(\n\u001b[0;32m    403\u001b[0m             \u001b[38;5;124mf\u001b[39m\u001b[38;5;124m\"\u001b[39m\u001b[38;5;124mKey \u001b[39m\u001b[38;5;132;01m{\u001b[39;00me\u001b[38;5;132;01m}\u001b[39;00m\u001b[38;5;124m not found. If specifying a record_path, all elements of \u001b[39m\u001b[38;5;124m\"\u001b[39m\n\u001b[0;32m    404\u001b[0m             \u001b[38;5;124mf\u001b[39m\u001b[38;5;124m\"\u001b[39m\u001b[38;5;124mdata should have the path.\u001b[39m\u001b[38;5;124m\"\u001b[39m\n\u001b[0;32m    405\u001b[0m         ) \u001b[38;5;28;01mfrom\u001b[39;00m \u001b[38;5;21;01me\u001b[39;00m\n\u001b[0;32m    406\u001b[0m     \u001b[38;5;28;01melif\u001b[39;00m errors \u001b[38;5;241m==\u001b[39m \u001b[38;5;124m\"\u001b[39m\u001b[38;5;124mignore\u001b[39m\u001b[38;5;124m\"\u001b[39m:\n\u001b[0;32m    407\u001b[0m         \u001b[38;5;28;01mreturn\u001b[39;00m np\u001b[38;5;241m.\u001b[39mnan\n",
      "\u001b[1;31mKeyError\u001b[0m: \"Key 'members' not found. If specifying a record_path, all elements of data should have the path.\""
     ]
    }
   ],
   "source": [
    "mj = json.loads(r.text)\n",
    "df = pd.json_normalize(mj, record_path=[\"members\"])\n",
    "df"
   ]
  },
  {
   "cell_type": "code",
   "execution_count": 34,
   "id": "a59b20aa-aa05-45c1-bd2b-8e93a6fbae96",
   "metadata": {},
   "outputs": [
    {
     "ename": "NameError",
     "evalue": "name 'df' is not defined",
     "output_type": "error",
     "traceback": [
      "\u001b[1;31m---------------------------------------------------------------------------\u001b[0m",
      "\u001b[1;31mNameError\u001b[0m                                 Traceback (most recent call last)",
      "Cell \u001b[1;32mIn[34], line 1\u001b[0m\n\u001b[1;32m----> 1\u001b[0m bgId \u001b[38;5;241m=\u001b[39m \u001b[43mdf\u001b[49m\u001b[38;5;241m.\u001b[39mquery(\u001b[38;5;124m\"\u001b[39m\u001b[38;5;124mstate==\u001b[39m\u001b[38;5;124m'\u001b[39m\u001b[38;5;124mViriginia\u001b[39m\u001b[38;5;124m'\u001b[39m\u001b[38;5;124m & district==5\u001b[39m\u001b[38;5;124m\"\u001b[39m)\u001b[38;5;241m.\u001b[39mreset_index()[\u001b[38;5;124m\"\u001b[39m\u001b[38;5;124mbioguideId\u001b[39m\u001b[38;5;124m\"\u001b[39m][\u001b[38;5;241m0\u001b[39m]\n",
      "\u001b[1;31mNameError\u001b[0m: name 'df' is not defined"
     ]
    }
   ],
   "source": [
    "bgId = df.query(\"state=='Viriginia' & district==5\").reset_index()[\"bioguideId\"][0]"
   ]
  },
  {
   "cell_type": "code",
   "execution_count": 36,
   "id": "66ca964a-6b95-44d7-80b9-36b54c63c22e",
   "metadata": {},
   "outputs": [
    {
     "ename": "NameError",
     "evalue": "name 'bgId' is not defined",
     "output_type": "error",
     "traceback": [
      "\u001b[1;31m---------------------------------------------------------------------------\u001b[0m",
      "\u001b[1;31mNameError\u001b[0m                                 Traceback (most recent call last)",
      "Cell \u001b[1;32mIn[36], line 1\u001b[0m\n\u001b[1;32m----> 1\u001b[0m endpt \u001b[38;5;241m=\u001b[39m \u001b[38;5;124mf\u001b[39m\u001b[38;5;124m'\u001b[39m\u001b[38;5;124m/member/\u001b[39m\u001b[38;5;132;01m{\u001b[39;00mbgId\u001b[38;5;132;01m}\u001b[39;00m\u001b[38;5;124m/sponsored-legislation\u001b[39m\u001b[38;5;124m'\u001b[39m\n\u001b[0;32m      2\u001b[0m endpt\n\u001b[0;32m      3\u001b[0m r \u001b[38;5;241m=\u001b[39m requests\u001b[38;5;241m.\u001b[39mget(root \u001b[38;5;241m+\u001b[39m endpt, params \u001b[38;5;241m=\u001b[39m parameters, headers \u001b[38;5;241m=\u001b[39m headers)\n",
      "\u001b[1;31mNameError\u001b[0m: name 'bgId' is not defined"
     ]
    }
   ],
   "source": [
    "endpt = f'/member/{bgId}/sponsored-legislation'\n",
    "endpt\n",
    "r = requests.get(root + endpt, params = parameters, headers = headers)\n",
    "r"
   ]
  },
  {
   "cell_type": "code",
   "execution_count": null,
   "id": "b09e35ad-9108-4134-9187-6d77e70a5297",
   "metadata": {},
   "outputs": [],
   "source": [
    "json.loads(r.text)"
   ]
  },
  {
   "cell_type": "code",
   "execution_count": null,
   "id": "962366ec-9d14-4b75-81c3-dd83831ef351",
   "metadata": {},
   "outputs": [],
   "source": []
  },
  {
   "cell_type": "code",
   "execution_count": null,
   "id": "e3075b38-6e63-4978-ac41-fe59a102a0e2",
   "metadata": {},
   "outputs": [],
   "source": []
  },
  {
   "cell_type": "code",
   "execution_count": 45,
   "id": "e7e512bd-fd7c-48c0-9086-8b41dee10bc0",
   "metadata": {},
   "outputs": [
    {
     "data": {
      "text/plain": [
       "<Response [200]>"
      ]
     },
     "execution_count": 45,
     "metadata": {},
     "output_type": "execute_result"
    }
   ],
   "source": [
    "root = \"http://www.opensecrets.org/api/\"\n",
    "parameters = {\"apikey\":opensecretskey,\n",
    "             \"id\": \"VA\",\n",
    "             \"output\":\"json\",\n",
    "             \"method\":\"getLegislators\"}\n",
    "r = requests.get(root, params=parameters, headers=headers)\n",
    "r"
   ]
  },
  {
   "cell_type": "code",
   "execution_count": 51,
   "id": "56337fc9-1613-403a-ab1f-3548126b7394",
   "metadata": {},
   "outputs": [
    {
     "data": {
      "text/plain": [
       "{'@attributes': {'cid': 'N00048315',\n",
       "  'firstlast': 'Jen Kiggans',\n",
       "  'lastname': 'Kiggans',\n",
       "  'party': 'R',\n",
       "  'office': 'VA02',\n",
       "  'gender': 'F',\n",
       "  'first_elected': '2022',\n",
       "  'exit_code': '0',\n",
       "  'comments': '',\n",
       "  'phone': '',\n",
       "  'fax': '',\n",
       "  'website': '',\n",
       "  'webform': '',\n",
       "  'congress_office': '',\n",
       "  'bioguide_id': 'K000399',\n",
       "  'votesmart_id': '',\n",
       "  'feccandid': 'H2VA02064',\n",
       "  'twitter_id': '',\n",
       "  'youtube_url': '',\n",
       "  'facebook_id': '',\n",
       "  'birthdate': ''}}"
      ]
     },
     "execution_count": 51,
     "metadata": {},
     "output_type": "execute_result"
    }
   ],
   "source": [
    "mj = json.loads(r.text)\n",
    "mj[\"response\"][\"legislator\"][1]\n",
    "## we want to get rid of attributes"
   ]
  },
  {
   "cell_type": "code",
   "execution_count": 54,
   "id": "cce52867-542f-4167-b390-f1b7798c2c98",
   "metadata": {},
   "outputs": [
    {
     "data": {
      "text/plain": [
       "{'cid': 'N00048315',\n",
       " 'firstlast': 'Jen Kiggans',\n",
       " 'lastname': 'Kiggans',\n",
       " 'party': 'R',\n",
       " 'office': 'VA02',\n",
       " 'gender': 'F',\n",
       " 'first_elected': '2022',\n",
       " 'exit_code': '0',\n",
       " 'comments': '',\n",
       " 'phone': '',\n",
       " 'fax': '',\n",
       " 'website': '',\n",
       " 'webform': '',\n",
       " 'congress_office': '',\n",
       " 'bioguide_id': 'K000399',\n",
       " 'votesmart_id': '',\n",
       " 'feccandid': 'H2VA02064',\n",
       " 'twitter_id': '',\n",
       " 'youtube_url': '',\n",
       " 'facebook_id': '',\n",
       " 'birthdate': ''}"
      ]
     },
     "execution_count": 54,
     "metadata": {},
     "output_type": "execute_result"
    }
   ],
   "source": [
    "## mj[\"response\"][\"legislator\"][1][\"@attributes\"] but in interation over list form\n",
    "mj2 = [x[\"@attributes\"] for x in mj[\"response\"][\"legislator\"]]\n",
    "mj2[1]"
   ]
  },
  {
   "cell_type": "code",
   "execution_count": 55,
   "id": "0608fb2e-8ca8-47ab-8721-e9c3faf87abe",
   "metadata": {},
   "outputs": [
    {
     "data": {
      "text/html": [
       "<div>\n",
       "<style scoped>\n",
       "    .dataframe tbody tr th:only-of-type {\n",
       "        vertical-align: middle;\n",
       "    }\n",
       "\n",
       "    .dataframe tbody tr th {\n",
       "        vertical-align: top;\n",
       "    }\n",
       "\n",
       "    .dataframe thead th {\n",
       "        text-align: right;\n",
       "    }\n",
       "</style>\n",
       "<table border=\"1\" class=\"dataframe\">\n",
       "  <thead>\n",
       "    <tr style=\"text-align: right;\">\n",
       "      <th></th>\n",
       "      <th>cid</th>\n",
       "      <th>firstlast</th>\n",
       "      <th>lastname</th>\n",
       "      <th>party</th>\n",
       "      <th>office</th>\n",
       "      <th>gender</th>\n",
       "      <th>first_elected</th>\n",
       "      <th>exit_code</th>\n",
       "      <th>comments</th>\n",
       "      <th>phone</th>\n",
       "      <th>...</th>\n",
       "      <th>website</th>\n",
       "      <th>webform</th>\n",
       "      <th>congress_office</th>\n",
       "      <th>bioguide_id</th>\n",
       "      <th>votesmart_id</th>\n",
       "      <th>feccandid</th>\n",
       "      <th>twitter_id</th>\n",
       "      <th>youtube_url</th>\n",
       "      <th>facebook_id</th>\n",
       "      <th>birthdate</th>\n",
       "    </tr>\n",
       "  </thead>\n",
       "  <tbody>\n",
       "    <tr>\n",
       "      <th>0</th>\n",
       "      <td>N00029459</td>\n",
       "      <td>Rob Wittman</td>\n",
       "      <td>Wittman</td>\n",
       "      <td>R</td>\n",
       "      <td>VA01</td>\n",
       "      <td>M</td>\n",
       "      <td>2007</td>\n",
       "      <td>0</td>\n",
       "      <td></td>\n",
       "      <td>202-225-4261</td>\n",
       "      <td>...</td>\n",
       "      <td>http://wittman.house.gov</td>\n",
       "      <td>https://wittman.house.gov/contact-form/</td>\n",
       "      <td>2055 Rayburn House Office Building</td>\n",
       "      <td>W000804</td>\n",
       "      <td>58133</td>\n",
       "      <td>H8VA01147</td>\n",
       "      <td>RobWittman</td>\n",
       "      <td>https://youtube.com/RobWittman</td>\n",
       "      <td>RepRobWittman</td>\n",
       "      <td>1959-02-03</td>\n",
       "    </tr>\n",
       "    <tr>\n",
       "      <th>1</th>\n",
       "      <td>N00048315</td>\n",
       "      <td>Jen Kiggans</td>\n",
       "      <td>Kiggans</td>\n",
       "      <td>R</td>\n",
       "      <td>VA02</td>\n",
       "      <td>F</td>\n",
       "      <td>2022</td>\n",
       "      <td>0</td>\n",
       "      <td></td>\n",
       "      <td></td>\n",
       "      <td>...</td>\n",
       "      <td></td>\n",
       "      <td></td>\n",
       "      <td></td>\n",
       "      <td>K000399</td>\n",
       "      <td></td>\n",
       "      <td>H2VA02064</td>\n",
       "      <td></td>\n",
       "      <td></td>\n",
       "      <td></td>\n",
       "      <td></td>\n",
       "    </tr>\n",
       "    <tr>\n",
       "      <th>2</th>\n",
       "      <td>N00002147</td>\n",
       "      <td>Bobby Scott</td>\n",
       "      <td>Scott</td>\n",
       "      <td>D</td>\n",
       "      <td>VA03</td>\n",
       "      <td>M</td>\n",
       "      <td>1992</td>\n",
       "      <td>0</td>\n",
       "      <td></td>\n",
       "      <td>202-225-8351</td>\n",
       "      <td>...</td>\n",
       "      <td>http://bobbyscott.house.gov</td>\n",
       "      <td>https://bobbyscott.house.gov/email-bobby-scott</td>\n",
       "      <td>1201 Longworth House Office Building</td>\n",
       "      <td>S000185</td>\n",
       "      <td>27117</td>\n",
       "      <td>H6VA01117</td>\n",
       "      <td>BobbyScott</td>\n",
       "      <td>https://youtube.com/repbobbyscott</td>\n",
       "      <td>RepBobbyScott</td>\n",
       "      <td>1947-04-30</td>\n",
       "    </tr>\n",
       "    <tr>\n",
       "      <th>3</th>\n",
       "      <td>N00045557</td>\n",
       "      <td>Bob Good</td>\n",
       "      <td>Good</td>\n",
       "      <td>R</td>\n",
       "      <td>VA05</td>\n",
       "      <td>M</td>\n",
       "      <td>2020</td>\n",
       "      <td>0</td>\n",
       "      <td></td>\n",
       "      <td>202225-4711</td>\n",
       "      <td>...</td>\n",
       "      <td>https://good.house.gov/</td>\n",
       "      <td></td>\n",
       "      <td>1213 Longworth House Office Building, Washingt...</td>\n",
       "      <td>456853</td>\n",
       "      <td></td>\n",
       "      <td></td>\n",
       "      <td>@RepBobGood</td>\n",
       "      <td></td>\n",
       "      <td></td>\n",
       "      <td>09/11/65</td>\n",
       "    </tr>\n",
       "    <tr>\n",
       "      <th>4</th>\n",
       "      <td>N00042296</td>\n",
       "      <td>Ben Cline</td>\n",
       "      <td>Cline</td>\n",
       "      <td>R</td>\n",
       "      <td>VA06</td>\n",
       "      <td>M</td>\n",
       "      <td>2018</td>\n",
       "      <td>0</td>\n",
       "      <td></td>\n",
       "      <td>202-225-5431</td>\n",
       "      <td>...</td>\n",
       "      <td>https://cline.house.gov/</td>\n",
       "      <td></td>\n",
       "      <td>1009 Longworth House Office Building</td>\n",
       "      <td>C001118</td>\n",
       "      <td></td>\n",
       "      <td></td>\n",
       "      <td>RepBenCline</td>\n",
       "      <td></td>\n",
       "      <td></td>\n",
       "      <td>1972-02-29</td>\n",
       "    </tr>\n",
       "    <tr>\n",
       "      <th>5</th>\n",
       "      <td>N00041418</td>\n",
       "      <td>Abigail Spanberger</td>\n",
       "      <td>Spanberger</td>\n",
       "      <td>D</td>\n",
       "      <td>VA07</td>\n",
       "      <td>F</td>\n",
       "      <td>2018</td>\n",
       "      <td>0</td>\n",
       "      <td></td>\n",
       "      <td>202-225-2815</td>\n",
       "      <td>...</td>\n",
       "      <td>https://spanberger.house.gov/</td>\n",
       "      <td></td>\n",
       "      <td>1239 Longworth House Office Building</td>\n",
       "      <td>S001209</td>\n",
       "      <td></td>\n",
       "      <td></td>\n",
       "      <td>RepSpanberger</td>\n",
       "      <td></td>\n",
       "      <td></td>\n",
       "      <td>1979-08-07</td>\n",
       "    </tr>\n",
       "    <tr>\n",
       "      <th>6</th>\n",
       "      <td>N00036018</td>\n",
       "      <td>Don Beyer</td>\n",
       "      <td>Beyer</td>\n",
       "      <td>D</td>\n",
       "      <td>VA08</td>\n",
       "      <td>M</td>\n",
       "      <td>2014</td>\n",
       "      <td>0</td>\n",
       "      <td></td>\n",
       "      <td>202-225-4376</td>\n",
       "      <td>...</td>\n",
       "      <td>http://beyer.house.gov</td>\n",
       "      <td></td>\n",
       "      <td>1119 Longworth House Office Building</td>\n",
       "      <td>B001292</td>\n",
       "      <td></td>\n",
       "      <td>H4VA08224</td>\n",
       "      <td>repdonbeyer</td>\n",
       "      <td></td>\n",
       "      <td>repdonbeyer</td>\n",
       "      <td>1950-06-20</td>\n",
       "    </tr>\n",
       "    <tr>\n",
       "      <th>7</th>\n",
       "      <td>N00032029</td>\n",
       "      <td>Morgan Griffith</td>\n",
       "      <td>Griffith</td>\n",
       "      <td>R</td>\n",
       "      <td>VA09</td>\n",
       "      <td>M</td>\n",
       "      <td>2010</td>\n",
       "      <td>0</td>\n",
       "      <td></td>\n",
       "      <td>202-225-3861</td>\n",
       "      <td>...</td>\n",
       "      <td>http://morgangriffith.house.gov</td>\n",
       "      <td>https://morgangriffith.house.gov/contact/conta...</td>\n",
       "      <td>2202 Rayburn House Office Building</td>\n",
       "      <td>G000568</td>\n",
       "      <td>5148</td>\n",
       "      <td>H0VA09055</td>\n",
       "      <td>RepMGriffith</td>\n",
       "      <td>https://youtube.com/RepMorganGriffith</td>\n",
       "      <td>RepMorganGriffith</td>\n",
       "      <td>1958-03-15</td>\n",
       "    </tr>\n",
       "    <tr>\n",
       "      <th>8</th>\n",
       "      <td>N00041002</td>\n",
       "      <td>Jennifer Wexton</td>\n",
       "      <td>Wexton</td>\n",
       "      <td>D</td>\n",
       "      <td>VA10</td>\n",
       "      <td>F</td>\n",
       "      <td>2018</td>\n",
       "      <td>0</td>\n",
       "      <td></td>\n",
       "      <td>202-225-5136</td>\n",
       "      <td>...</td>\n",
       "      <td>https://wexton.house.gov/</td>\n",
       "      <td></td>\n",
       "      <td>1217 Longworth House Office Building</td>\n",
       "      <td>W000825</td>\n",
       "      <td></td>\n",
       "      <td></td>\n",
       "      <td>RepWexton</td>\n",
       "      <td></td>\n",
       "      <td></td>\n",
       "      <td>1968-05-27</td>\n",
       "    </tr>\n",
       "    <tr>\n",
       "      <th>9</th>\n",
       "      <td>N00029891</td>\n",
       "      <td>Gerry Connolly</td>\n",
       "      <td>Connolly</td>\n",
       "      <td>D</td>\n",
       "      <td>VA11</td>\n",
       "      <td>M</td>\n",
       "      <td>2008</td>\n",
       "      <td>0</td>\n",
       "      <td></td>\n",
       "      <td>202-225-1492</td>\n",
       "      <td>...</td>\n",
       "      <td>https://connolly.house.gov</td>\n",
       "      <td>https://forms.house.gov/connolly/contact-form....</td>\n",
       "      <td>2238 Rayburn House Office Building</td>\n",
       "      <td>C001078</td>\n",
       "      <td>95078</td>\n",
       "      <td>H8VA11062</td>\n",
       "      <td>GerryConnolly</td>\n",
       "      <td>https://youtube.com/repconnolly</td>\n",
       "      <td>CongressmanGerryConnolly</td>\n",
       "      <td>1950-03-30</td>\n",
       "    </tr>\n",
       "    <tr>\n",
       "      <th>10</th>\n",
       "      <td>N00033177</td>\n",
       "      <td>Tim Kaine</td>\n",
       "      <td>Kaine</td>\n",
       "      <td>D</td>\n",
       "      <td>VAS1</td>\n",
       "      <td>M</td>\n",
       "      <td>2012</td>\n",
       "      <td>0</td>\n",
       "      <td></td>\n",
       "      <td>202-224-4024</td>\n",
       "      <td>...</td>\n",
       "      <td>https://www.kaine.senate.gov</td>\n",
       "      <td>https://www.kaine.senate.gov/contact</td>\n",
       "      <td>231 Russell Senate Office Building</td>\n",
       "      <td>K000384</td>\n",
       "      <td>50772</td>\n",
       "      <td>S2VA00142</td>\n",
       "      <td>SenKaineOffice</td>\n",
       "      <td>https://youtube.com/SenatorTimKaine</td>\n",
       "      <td>SenatorKaine</td>\n",
       "      <td>1958-02-26</td>\n",
       "    </tr>\n",
       "    <tr>\n",
       "      <th>11</th>\n",
       "      <td>N00002097</td>\n",
       "      <td>Mark Warner</td>\n",
       "      <td>Warner</td>\n",
       "      <td>D</td>\n",
       "      <td>VAS2</td>\n",
       "      <td>M</td>\n",
       "      <td>2008</td>\n",
       "      <td>0</td>\n",
       "      <td></td>\n",
       "      <td>202-224-2023</td>\n",
       "      <td>...</td>\n",
       "      <td>https://www.warner.senate.gov</td>\n",
       "      <td>http://www.warner.senate.gov/public/index.cfm?...</td>\n",
       "      <td>703 Hart Senate Office Building</td>\n",
       "      <td>W000805</td>\n",
       "      <td>535</td>\n",
       "      <td>S6VA00093</td>\n",
       "      <td>MarkWarner</td>\n",
       "      <td>https://youtube.com/SenatorMarkWarner</td>\n",
       "      <td>MarkRWarner</td>\n",
       "      <td>1954-12-15</td>\n",
       "    </tr>\n",
       "  </tbody>\n",
       "</table>\n",
       "<p>12 rows × 21 columns</p>\n",
       "</div>"
      ],
      "text/plain": [
       "          cid           firstlast    lastname party office gender  \\\n",
       "0   N00029459         Rob Wittman     Wittman     R   VA01      M   \n",
       "1   N00048315         Jen Kiggans     Kiggans     R   VA02      F   \n",
       "2   N00002147         Bobby Scott       Scott     D   VA03      M   \n",
       "3   N00045557            Bob Good        Good     R   VA05      M   \n",
       "4   N00042296           Ben Cline       Cline     R   VA06      M   \n",
       "5   N00041418  Abigail Spanberger  Spanberger     D   VA07      F   \n",
       "6   N00036018           Don Beyer       Beyer     D   VA08      M   \n",
       "7   N00032029     Morgan Griffith    Griffith     R   VA09      M   \n",
       "8   N00041002     Jennifer Wexton      Wexton     D   VA10      F   \n",
       "9   N00029891      Gerry Connolly    Connolly     D   VA11      M   \n",
       "10  N00033177           Tim Kaine       Kaine     D   VAS1      M   \n",
       "11  N00002097         Mark Warner      Warner     D   VAS2      M   \n",
       "\n",
       "   first_elected exit_code comments         phone  ...  \\\n",
       "0           2007         0           202-225-4261  ...   \n",
       "1           2022         0                         ...   \n",
       "2           1992         0           202-225-8351  ...   \n",
       "3           2020         0            202225-4711  ...   \n",
       "4           2018         0           202-225-5431  ...   \n",
       "5           2018         0           202-225-2815  ...   \n",
       "6           2014         0           202-225-4376  ...   \n",
       "7           2010         0           202-225-3861  ...   \n",
       "8           2018         0           202-225-5136  ...   \n",
       "9           2008         0           202-225-1492  ...   \n",
       "10          2012         0           202-224-4024  ...   \n",
       "11          2008         0           202-224-2023  ...   \n",
       "\n",
       "                            website  \\\n",
       "0          http://wittman.house.gov   \n",
       "1                                     \n",
       "2       http://bobbyscott.house.gov   \n",
       "3           https://good.house.gov/   \n",
       "4          https://cline.house.gov/   \n",
       "5     https://spanberger.house.gov/   \n",
       "6            http://beyer.house.gov   \n",
       "7   http://morgangriffith.house.gov   \n",
       "8         https://wexton.house.gov/   \n",
       "9        https://connolly.house.gov   \n",
       "10     https://www.kaine.senate.gov   \n",
       "11    https://www.warner.senate.gov   \n",
       "\n",
       "                                              webform  \\\n",
       "0             https://wittman.house.gov/contact-form/   \n",
       "1                                                       \n",
       "2      https://bobbyscott.house.gov/email-bobby-scott   \n",
       "3                                                       \n",
       "4                                                       \n",
       "5                                                       \n",
       "6                                                       \n",
       "7   https://morgangriffith.house.gov/contact/conta...   \n",
       "8                                                       \n",
       "9   https://forms.house.gov/connolly/contact-form....   \n",
       "10               https://www.kaine.senate.gov/contact   \n",
       "11  http://www.warner.senate.gov/public/index.cfm?...   \n",
       "\n",
       "                                      congress_office bioguide_id  \\\n",
       "0                  2055 Rayburn House Office Building     W000804   \n",
       "1                                                         K000399   \n",
       "2                1201 Longworth House Office Building     S000185   \n",
       "3   1213 Longworth House Office Building, Washingt...      456853   \n",
       "4                1009 Longworth House Office Building     C001118   \n",
       "5                1239 Longworth House Office Building     S001209   \n",
       "6                1119 Longworth House Office Building     B001292   \n",
       "7                  2202 Rayburn House Office Building     G000568   \n",
       "8                1217 Longworth House Office Building     W000825   \n",
       "9                  2238 Rayburn House Office Building     C001078   \n",
       "10                 231 Russell Senate Office Building     K000384   \n",
       "11                    703 Hart Senate Office Building     W000805   \n",
       "\n",
       "   votesmart_id  feccandid      twitter_id  \\\n",
       "0         58133  H8VA01147      RobWittman   \n",
       "1                H2VA02064                   \n",
       "2         27117  H6VA01117      BobbyScott   \n",
       "3                              @RepBobGood   \n",
       "4                              RepBenCline   \n",
       "5                            RepSpanberger   \n",
       "6                H4VA08224     repdonbeyer   \n",
       "7          5148  H0VA09055    RepMGriffith   \n",
       "8                                RepWexton   \n",
       "9         95078  H8VA11062   GerryConnolly   \n",
       "10        50772  S2VA00142  SenKaineOffice   \n",
       "11          535  S6VA00093      MarkWarner   \n",
       "\n",
       "                              youtube_url               facebook_id  \\\n",
       "0          https://youtube.com/RobWittman             RepRobWittman   \n",
       "1                                                                     \n",
       "2       https://youtube.com/repbobbyscott             RepBobbyScott   \n",
       "3                                                                     \n",
       "4                                                                     \n",
       "5                                                                     \n",
       "6                                                       repdonbeyer   \n",
       "7   https://youtube.com/RepMorganGriffith         RepMorganGriffith   \n",
       "8                                                                     \n",
       "9         https://youtube.com/repconnolly  CongressmanGerryConnolly   \n",
       "10    https://youtube.com/SenatorTimKaine              SenatorKaine   \n",
       "11  https://youtube.com/SenatorMarkWarner               MarkRWarner   \n",
       "\n",
       "     birthdate  \n",
       "0   1959-02-03  \n",
       "1               \n",
       "2   1947-04-30  \n",
       "3     09/11/65  \n",
       "4   1972-02-29  \n",
       "5   1979-08-07  \n",
       "6   1950-06-20  \n",
       "7   1958-03-15  \n",
       "8   1968-05-27  \n",
       "9   1950-03-30  \n",
       "10  1958-02-26  \n",
       "11  1954-12-15  \n",
       "\n",
       "[12 rows x 21 columns]"
      ]
     },
     "execution_count": 55,
     "metadata": {},
     "output_type": "execute_result"
    }
   ],
   "source": [
    "valeg = pd.json_normalize(mj2)\n",
    "valeg"
   ]
  },
  {
   "cell_type": "code",
   "execution_count": 56,
   "id": "f6176707-efb5-424d-988f-c29e5a94fe9a",
   "metadata": {},
   "outputs": [
    {
     "data": {
      "text/html": [
       "<div>\n",
       "<style scoped>\n",
       "    .dataframe tbody tr th:only-of-type {\n",
       "        vertical-align: middle;\n",
       "    }\n",
       "\n",
       "    .dataframe tbody tr th {\n",
       "        vertical-align: top;\n",
       "    }\n",
       "\n",
       "    .dataframe thead th {\n",
       "        text-align: right;\n",
       "    }\n",
       "</style>\n",
       "<table border=\"1\" class=\"dataframe\">\n",
       "  <thead>\n",
       "    <tr style=\"text-align: right;\">\n",
       "      <th></th>\n",
       "      <th>index</th>\n",
       "      <th>cid</th>\n",
       "      <th>firstlast</th>\n",
       "      <th>lastname</th>\n",
       "      <th>party</th>\n",
       "      <th>office</th>\n",
       "      <th>gender</th>\n",
       "      <th>first_elected</th>\n",
       "      <th>exit_code</th>\n",
       "      <th>comments</th>\n",
       "      <th>...</th>\n",
       "      <th>website</th>\n",
       "      <th>webform</th>\n",
       "      <th>congress_office</th>\n",
       "      <th>bioguide_id</th>\n",
       "      <th>votesmart_id</th>\n",
       "      <th>feccandid</th>\n",
       "      <th>twitter_id</th>\n",
       "      <th>youtube_url</th>\n",
       "      <th>facebook_id</th>\n",
       "      <th>birthdate</th>\n",
       "    </tr>\n",
       "  </thead>\n",
       "  <tbody>\n",
       "    <tr>\n",
       "      <th>0</th>\n",
       "      <td>3</td>\n",
       "      <td>N00045557</td>\n",
       "      <td>Bob Good</td>\n",
       "      <td>Good</td>\n",
       "      <td>R</td>\n",
       "      <td>VA05</td>\n",
       "      <td>M</td>\n",
       "      <td>2020</td>\n",
       "      <td>0</td>\n",
       "      <td></td>\n",
       "      <td>...</td>\n",
       "      <td>https://good.house.gov/</td>\n",
       "      <td></td>\n",
       "      <td>1213 Longworth House Office Building, Washingt...</td>\n",
       "      <td>456853</td>\n",
       "      <td></td>\n",
       "      <td></td>\n",
       "      <td>@RepBobGood</td>\n",
       "      <td></td>\n",
       "      <td></td>\n",
       "      <td>09/11/65</td>\n",
       "    </tr>\n",
       "  </tbody>\n",
       "</table>\n",
       "<p>1 rows × 22 columns</p>\n",
       "</div>"
      ],
      "text/plain": [
       "   index        cid firstlast lastname party office gender first_elected  \\\n",
       "0      3  N00045557  Bob Good     Good     R   VA05      M          2020   \n",
       "\n",
       "  exit_code comments  ...                  website webform  \\\n",
       "0         0           ...  https://good.house.gov/           \n",
       "\n",
       "                                     congress_office bioguide_id votesmart_id  \\\n",
       "0  1213 Longworth House Office Building, Washingt...      456853                \n",
       "\n",
       "  feccandid   twitter_id youtube_url facebook_id birthdate  \n",
       "0            @RepBobGood                          09/11/65  \n",
       "\n",
       "[1 rows x 22 columns]"
      ]
     },
     "execution_count": 56,
     "metadata": {},
     "output_type": "execute_result"
    }
   ],
   "source": [
    "valeg.query(\"lastname=='Good'\").reset_index()"
   ]
  },
  {
   "cell_type": "code",
   "execution_count": 57,
   "id": "97aba6ef-effb-4e57-a6a2-0dfb4c09e0f0",
   "metadata": {},
   "outputs": [
    {
     "data": {
      "text/plain": [
       "0    N00045557\n",
       "Name: cid, dtype: object"
      ]
     },
     "execution_count": 57,
     "metadata": {},
     "output_type": "execute_result"
    }
   ],
   "source": [
    "valeg.query(\"lastname=='Good'\").reset_index()[\"cid\"]"
   ]
  },
  {
   "cell_type": "code",
   "execution_count": 60,
   "id": "c43e670e-c9a0-43bb-839f-999599170e27",
   "metadata": {},
   "outputs": [],
   "source": [
    "## Bob Good ID\n",
    "bid = valeg.query(\"lastname=='Good'\").reset_index()[\"cid\"][0]"
   ]
  },
  {
   "cell_type": "code",
   "execution_count": 61,
   "id": "feae1739-ece1-4251-ba6b-86b103f31bb4",
   "metadata": {},
   "outputs": [
    {
     "data": {
      "text/plain": [
       "<Response [200]>"
      ]
     },
     "execution_count": 61,
     "metadata": {},
     "output_type": "execute_result"
    }
   ],
   "source": [
    "## Now get contributors\n",
    "parameters = {\"apikey\":opensecretskey,\n",
    "             \"cid\": bid,\n",
    "             \"output\":\"json\",\n",
    "             \"method\":\"candContrib\"}\n",
    "r = requests.get(root, params=parameters, headers=headers)\n",
    "r"
   ]
  },
  {
   "cell_type": "code",
   "execution_count": 65,
   "id": "0bfdbc22-509c-4752-a64a-ffcc9b1e6edf",
   "metadata": {},
   "outputs": [
    {
     "data": {
      "text/plain": [
       "{'@attributes': {'org_name': 'Liberty University',\n",
       "  'total': '14567',\n",
       "  'pacs': '0',\n",
       "  'indivs': '14567'}}"
      ]
     },
     "execution_count": 65,
     "metadata": {},
     "output_type": "execute_result"
    }
   ],
   "source": [
    "json.loads(r.text)[\"response\"][\"contributors\"][\"contributor\"][1]"
   ]
  },
  {
   "cell_type": "code",
   "execution_count": null,
   "id": "4f9f00dd-7e3b-4365-aa00-c4b94f694451",
   "metadata": {},
   "outputs": [],
   "source": []
  }
 ],
 "metadata": {
  "kernelspec": {
   "display_name": "Python 3 (ipykernel)",
   "language": "python",
   "name": "python3"
  },
  "language_info": {
   "codemirror_mode": {
    "name": "ipython",
    "version": 3
   },
   "file_extension": ".py",
   "mimetype": "text/x-python",
   "name": "python",
   "nbconvert_exporter": "python",
   "pygments_lexer": "ipython3",
   "version": "3.10.9"
  }
 },
 "nbformat": 4,
 "nbformat_minor": 5
}
