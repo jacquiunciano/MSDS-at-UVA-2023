{
 "cells": [
  {
   "cell_type": "markdown",
   "id": "ed1c04ed-8bfc-45fe-965c-f228f712449f",
   "metadata": {},
   "source": [
    "reasons not to use web scrapping:\n",
    "1. API is preferred\n",
    "2. short shelf life for code\n",
    "3. web scrapping may not be legal in future\n",
    "\n",
    "check robots.txt file for websites to check about whats allowed and not\n",
    "ex. www.pintrest.com/robots.txt"
   ]
  },
  {
   "cell_type": "code",
   "execution_count": 12,
   "id": "55fff640-06e2-4af5-a1e3-0024f37069b7",
   "metadata": {},
   "outputs": [],
   "source": [
    "### download underlying html: right click and view source\n",
    "### ctrl F works great for finding shit\n",
    "import numpy as np\n",
    "import pandas as pd\n",
    "import requests\n",
    "from bs4 import BeautifulSoup as bs\n",
    "import sys\n",
    "import json"
   ]
  },
  {
   "cell_type": "code",
   "execution_count": 3,
   "id": "e2086a5d-7fd9-47d2-8236-489e5b87592a",
   "metadata": {},
   "outputs": [
    {
     "data": {
      "text/plain": [
       "'{\\n  \"user-agent\": \"python-requests/2.28.1\"\\n}\\n'"
      ]
     },
     "execution_count": 3,
     "metadata": {},
     "output_type": "execute_result"
    }
   ],
   "source": [
    "r = requests.get(\"https://httpbin.org/user-agent\")\n",
    "r.text"
   ]
  },
  {
   "cell_type": "code",
   "execution_count": 7,
   "id": "862b245f-2634-4685-a79f-381391b2463b",
   "metadata": {},
   "outputs": [],
   "source": [
    "useragent = json.loads(r.text)[\"user-agent\"]\n",
    "headers = {\"user-agent\": useragent,\n",
    "           \"from\": \"jdu5sq@virginia.edu\"}"
   ]
  },
  {
   "cell_type": "code",
   "execution_count": 8,
   "id": "442f62d0-74f3-4752-a064-aded7c2aa6e3",
   "metadata": {},
   "outputs": [
    {
     "data": {
      "text/plain": [
       "<Response [200]>"
      ]
     },
     "execution_count": 8,
     "metadata": {},
     "output_type": "execute_result"
    }
   ],
   "source": [
    "### getting the raw html from website\n",
    "url = \"https://www.rottentomatoes.com/browse/movies_in_theaters/sort:a_z?page=8\"\n",
    "r = requests.get(url, headers=headers)\n",
    "r"
   ]
  },
  {
   "cell_type": "code",
   "execution_count": 15,
   "id": "156f6b86-10e8-4f92-b56d-52a9e775eb3b",
   "metadata": {},
   "outputs": [],
   "source": [
    "### we can't use json.loads(), need BeautifulSoup\n",
    "rottom = bs(r.text)\n",
    "### this is now html, not str"
   ]
  },
  {
   "cell_type": "code",
   "execution_count": 39,
   "id": "3c7c81d6-07d2-4b14-86c9-02a2a099db6c",
   "metadata": {},
   "outputs": [],
   "source": [
    "### lets get some titles\n",
    "### there's an opening and closing for each tab\n",
    "### attributes are what alters the behaviour of a tab Ex: href, data-qa, etc.\n",
    "### find_all: (name of tab, name of class, name of other atributes)\n",
    "### too narrow ==> rottom.find_all(\"a\")\n",
    "### got to view source and check name of attributes\n",
    "movies = rottom.find_all(\"a\", \"js-tile-link\")"
   ]
  },
  {
   "cell_type": "code",
   "execution_count": 20,
   "id": "976cc869-abde-457b-a549-45a6d7ca4d56",
   "metadata": {},
   "outputs": [
    {
     "data": {
      "text/plain": [
       "[<a class=\"js-tile-link\" data-ems-id=\"a9630a5c-53fa-4361-9231-65c374ec33b9\" data-qa=\"discovery-media-list-item\" href=\"/m/20_days_in_mariupol\">\n",
       " <tile-dynamic isvideo=\"false\" skeleton=\"panel\">\n",
       " <img alt=\"20 Days in Mariupol\" class=\"posterImage\" loading=\"lazy\" slot=\"image\" src=\"https://resizing.flixster.com/DmVaGkJ05k132mx1SuJIys17e7Y=/206x305/v2/https://resizing.flixster.com/DFn5JdxpXnxOwZoIV3Lnrb0Xf7Q=/ems.cHJkLWVtcy1hc3NldHMvbW92aWVzLzA1YzI3OWU1LTgxNjAtNDY3YS04N2EzLTNhNTIzYjdlOGRkYy5qcGc=\"/>\n",
       " <div data-qa=\"discovery-media-list-item-caption\" data-track=\"scores\" slot=\"caption\">\n",
       " <score-pairs audiencescore=\"\" audiencesentiment=\"\" criticsscore=\"100\" criticssentiment=\"positive\">\n",
       " </score-pairs>\n",
       " <span class=\"p--small\" data-qa=\"discovery-media-list-item-title\">\n",
       "           20 Days in Mariupol\n",
       "         </span>\n",
       " <span class=\"smaller\" data-qa=\"discovery-media-list-item-start-date\">\n",
       "             Opens Jul 14, 2023\n",
       "           </span>\n",
       " </div>\n",
       " </tile-dynamic>\n",
       " </a>,\n",
       " <a class=\"js-tile-link\" data-ems-id=\"470d2cf2-967f-40b3-9324-ebdc7e1c7cca\" data-qa=\"discovery-media-list-item\" href=\"/m/7_11_pm\">\n",
       " <tile-dynamic isvideo=\"false\" skeleton=\"panel\">\n",
       " <img alt=\"7:11 PM\" class=\"posterImage\" loading=\"lazy\" slot=\"image\" src=\"https://resizing.flixster.com/bkydjIwqVHtIovDDQ3DT6IlUdK0=/206x305/v2/https://resizing.flixster.com/ay7Jt5s-pUCWNvb5lNL1t5O7vxw=/ems.cHJkLWVtcy1hc3NldHMvbW92aWVzL2M4N2NkMTM3LTBiM2YtNGViYy04NzI2LTYwMjMyMzcxOWEyNy5qcGc=\"/>\n",
       " <div data-qa=\"discovery-media-list-item-caption\" data-track=\"scores\" slot=\"caption\">\n",
       " <score-pairs audiencescore=\"96\" audiencesentiment=\"positive\" criticsscore=\"\" criticssentiment=\"\">\n",
       " </score-pairs>\n",
       " <span class=\"p--small\" data-qa=\"discovery-media-list-item-title\">\n",
       "           7:11 PM\n",
       "         </span>\n",
       " <span class=\"smaller\" data-qa=\"discovery-media-list-item-start-date\">\n",
       "             Opened Jul 07, 2023\n",
       "           </span>\n",
       " </div>\n",
       " </tile-dynamic>\n",
       " </a>]"
      ]
     },
     "execution_count": 20,
     "metadata": {},
     "output_type": "execute_result"
    }
   ],
   "source": [
    "movies[0:2]"
   ]
  },
  {
   "cell_type": "code",
   "execution_count": 21,
   "id": "5aed4309-9bf5-45a5-ad59-bb798d4d7d37",
   "metadata": {},
   "outputs": [
    {
     "data": {
      "text/plain": [
       "[<span class=\"p--small\" data-qa=\"discovery-media-list-item-title\">\n",
       "           20 Days in Mariupol\n",
       "         </span>]"
      ]
     },
     "execution_count": 21,
     "metadata": {},
     "output_type": "execute_result"
    }
   ],
   "source": [
    "movies[0].find_all(\"span\", \"p--small\")"
   ]
  },
  {
   "cell_type": "code",
   "execution_count": 27,
   "id": "cd54d8f7-6de6-4dc3-8e33-447f19912f64",
   "metadata": {},
   "outputs": [
    {
     "data": {
      "text/plain": [
       "'\\n          20 Days in Mariupol\\n        '"
      ]
     },
     "execution_count": 27,
     "metadata": {},
     "output_type": "execute_result"
    }
   ],
   "source": [
    "movies[0].find(\"span\", \"p--small\").text"
   ]
  },
  {
   "cell_type": "code",
   "execution_count": 28,
   "id": "c39aa0d2-3cbb-4a1d-a78d-ad4f9769ffe7",
   "metadata": {},
   "outputs": [
    {
     "data": {
      "text/plain": [
       "'20 Days in Mariupol'"
      ]
     },
     "execution_count": 28,
     "metadata": {},
     "output_type": "execute_result"
    }
   ],
   "source": [
    "movies[0].find(\"span\", \"p--small\").text.strip()"
   ]
  },
  {
   "cell_type": "code",
   "execution_count": 29,
   "id": "70a9dc7e-4d15-48b9-a6fc-6d965b80726b",
   "metadata": {},
   "outputs": [],
   "source": [
    "### how to get a list of movie names\n",
    "m20 = [x.find(\"span\", \"p--small\").text.strip() for x in movies]"
   ]
  },
  {
   "cell_type": "code",
   "execution_count": 30,
   "id": "73665ad7-ead8-4b1a-b85f-c2b99f127c08",
   "metadata": {},
   "outputs": [
    {
     "data": {
      "text/plain": [
       "['20 Days in Mariupol',\n",
       " '7:11 PM',\n",
       " 'Bad Girl Boogey',\n",
       " 'Belle',\n",
       " 'Bhaag Saale',\n",
       " 'Blue Jean',\n",
       " 'Contempt',\n",
       " 'Have You Got It Yet? The Story of Syd Barrett and Pink Floyd',\n",
       " \"L'immensità\",\n",
       " 'Lost in the Stars',\n",
       " 'Lynch/Oz',\n",
       " 'Millie Lies Low',\n",
       " 'Neeyat',\n",
       " 'ODESZA: The Last Goodbye Cinematic Experience',\n",
       " 'Odd Hours, No Pay, Cool Hat',\n",
       " 'Once Upon a Time in Uganda',\n",
       " 'One More Chance',\n",
       " 'Padmini',\n",
       " 'Rangabali',\n",
       " 'Rudrangi',\n",
       " 'Squaring the Circle (The Story of Hipgnosis)',\n",
       " 'The 50th Anniversary of Lynyrd Skynyrd',\n",
       " 'The Crusades',\n",
       " 'The League',\n",
       " 'The Miracle Club',\n",
       " 'The Mother and the Whore',\n",
       " 'The Wicker Man',\n",
       " 'UFC 290: Volkanovski vs. Rodríguez',\n",
       " 'Werckmeister Harmonies',\n",
       " 'Wham!']"
      ]
     },
     "execution_count": 30,
     "metadata": {},
     "output_type": "execute_result"
    }
   ],
   "source": [
    "m20"
   ]
  },
  {
   "cell_type": "code",
   "execution_count": 32,
   "id": "b04b3a17-de5c-4768-8bdc-0225a7303357",
   "metadata": {},
   "outputs": [
    {
     "data": {
      "text/plain": [
       "<score-pairs audiencescore=\"\" audiencesentiment=\"\" criticsscore=\"100\" criticssentiment=\"positive\">\n",
       "</score-pairs>"
      ]
     },
     "execution_count": 32,
     "metadata": {},
     "output_type": "execute_result"
    }
   ],
   "source": [
    "movies[0].find(\"score-pairs\")"
   ]
  },
  {
   "cell_type": "code",
   "execution_count": 33,
   "id": "8af578a0-c038-4f72-a528-26389c5a456e",
   "metadata": {},
   "outputs": [
    {
     "data": {
      "text/plain": [
       "''"
      ]
     },
     "execution_count": 33,
     "metadata": {},
     "output_type": "execute_result"
    }
   ],
   "source": [
    "movies[0].find(\"score-pairs\")[\"audiencescore\"]"
   ]
  },
  {
   "cell_type": "code",
   "execution_count": 40,
   "id": "ecfb17f9-0bf9-47c2-8159-5f79e9f990f9",
   "metadata": {},
   "outputs": [
    {
     "ename": "TypeError",
     "evalue": "'NoneType' object is not subscriptable",
     "output_type": "error",
     "traceback": [
      "\u001b[1;31m---------------------------------------------------------------------------\u001b[0m",
      "\u001b[1;31mTypeError\u001b[0m                                 Traceback (most recent call last)",
      "Cell \u001b[1;32mIn[40], line 1\u001b[0m\n\u001b[1;32m----> 1\u001b[0m \u001b[43mmovies\u001b[49m\u001b[43m[\u001b[49m\u001b[38;5;241;43m0\u001b[39;49m\u001b[43m]\u001b[49m\u001b[38;5;241;43m.\u001b[39;49m\u001b[43mfind\u001b[49m\u001b[43m(\u001b[49m\u001b[38;5;124;43m\"\u001b[39;49m\u001b[38;5;124;43ma\u001b[39;49m\u001b[38;5;124;43m\"\u001b[39;49m\u001b[43m,\u001b[49m\u001b[43m \u001b[49m\u001b[43mhref\u001b[49m\u001b[38;5;241;43m=\u001b[39;49m\u001b[38;5;28;43;01mTrue\u001b[39;49;00m\u001b[43m)\u001b[49m\u001b[43m[\u001b[49m\u001b[38;5;124;43m\"\u001b[39;49m\u001b[38;5;124;43mhref\u001b[39;49m\u001b[38;5;124;43m\"\u001b[39;49m\u001b[43m]\u001b[49m\n",
      "\u001b[1;31mTypeError\u001b[0m: 'NoneType' object is not subscriptable"
     ]
    }
   ],
   "source": [
    "movies[0].find(\"a\", href=True)[\"href\"]"
   ]
  },
  {
   "cell_type": "code",
   "execution_count": null,
   "id": "02ad1398-0b6e-4c90-ae8e-1a151310fcdb",
   "metadata": {},
   "outputs": [],
   "source": []
  }
 ],
 "metadata": {
  "kernelspec": {
   "display_name": "Python 3 (ipykernel)",
   "language": "python",
   "name": "python3"
  },
  "language_info": {
   "codemirror_mode": {
    "name": "ipython",
    "version": 3
   },
   "file_extension": ".py",
   "mimetype": "text/x-python",
   "name": "python",
   "nbconvert_exporter": "python",
   "pygments_lexer": "ipython3",
   "version": "3.10.9"
  }
 },
 "nbformat": 4,
 "nbformat_minor": 5
}
