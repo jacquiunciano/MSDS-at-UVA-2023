{
 "cells": [
  {
   "cell_type": "code",
   "execution_count": 1,
   "id": "53bc8f22-47e9-47d8-8341-bdc06c982848",
   "metadata": {
    "tags": []
   },
   "outputs": [],
   "source": [
    "import os\n",
    "import pandas as pd\n",
    "import numpy as np"
   ]
  },
  {
   "cell_type": "code",
   "execution_count": 2,
   "id": "496df24e-4503-427a-8217-ecf65966b01e",
   "metadata": {
    "tags": []
   },
   "outputs": [],
   "source": [
    "os.chdir(\"C:/Users/jacqu/OneDrive/Documents/MSDS/datasets\")"
   ]
  },
  {
   "cell_type": "code",
   "execution_count": 3,
   "id": "c61dd0e4-0090-452e-bebd-c6e4e1e180bd",
   "metadata": {
    "tags": []
   },
   "outputs": [],
   "source": [
    "data = pd.read_csv(\"data100k.csv\")"
   ]
  },
  {
   "cell_type": "code",
   "execution_count": 5,
   "id": "8e464102-34f0-49d0-9ab0-f003b0cf387c",
   "metadata": {
    "tags": []
   },
   "outputs": [
    {
     "data": {
      "text/html": [
       "<div>\n",
       "<style scoped>\n",
       "    .dataframe tbody tr th:only-of-type {\n",
       "        vertical-align: middle;\n",
       "    }\n",
       "\n",
       "    .dataframe tbody tr th {\n",
       "        vertical-align: top;\n",
       "    }\n",
       "\n",
       "    .dataframe thead th {\n",
       "        text-align: right;\n",
       "    }\n",
       "</style>\n",
       "<table border=\"1\" class=\"dataframe\">\n",
       "  <thead>\n",
       "    <tr style=\"text-align: right;\">\n",
       "      <th></th>\n",
       "      <th>0</th>\n",
       "      <th>1</th>\n",
       "    </tr>\n",
       "  </thead>\n",
       "  <tbody>\n",
       "    <tr>\n",
       "      <th>person_id</th>\n",
       "      <td>102090000000110</td>\n",
       "      <td>343221000000125</td>\n",
       "    </tr>\n",
       "    <tr>\n",
       "      <th>HearingDate</th>\n",
       "      <td>2019-02-28</td>\n",
       "      <td>2009-12-07</td>\n",
       "    </tr>\n",
       "    <tr>\n",
       "      <th>CodeSection</th>\n",
       "      <td>A.46.2-862</td>\n",
       "      <td>B.46.2-301</td>\n",
       "    </tr>\n",
       "    <tr>\n",
       "      <th>codesection</th>\n",
       "      <td>covered elsewhere</td>\n",
       "      <td>covered elsewhere</td>\n",
       "    </tr>\n",
       "    <tr>\n",
       "      <th>ChargeType</th>\n",
       "      <td>Misdemeanor</td>\n",
       "      <td>Misdemeanor</td>\n",
       "    </tr>\n",
       "    <tr>\n",
       "      <th>chargetype</th>\n",
       "      <td>Misdemeanor</td>\n",
       "      <td>Misdemeanor</td>\n",
       "    </tr>\n",
       "    <tr>\n",
       "      <th>Class</th>\n",
       "      <td>1</td>\n",
       "      <td>1</td>\n",
       "    </tr>\n",
       "    <tr>\n",
       "      <th>DispositionCode</th>\n",
       "      <td>Guilty</td>\n",
       "      <td>Guilty</td>\n",
       "    </tr>\n",
       "    <tr>\n",
       "      <th>disposition</th>\n",
       "      <td>Conviction</td>\n",
       "      <td>Conviction</td>\n",
       "    </tr>\n",
       "    <tr>\n",
       "      <th>Plea</th>\n",
       "      <td>NaN</td>\n",
       "      <td>NaN</td>\n",
       "    </tr>\n",
       "    <tr>\n",
       "      <th>Race</th>\n",
       "      <td>Black(Non-Hispanic)</td>\n",
       "      <td>Black(Non-Hispanic)</td>\n",
       "    </tr>\n",
       "    <tr>\n",
       "      <th>Sex</th>\n",
       "      <td>Male</td>\n",
       "      <td>Female</td>\n",
       "    </tr>\n",
       "    <tr>\n",
       "      <th>fips</th>\n",
       "      <td>25</td>\n",
       "      <td>540</td>\n",
       "    </tr>\n",
       "    <tr>\n",
       "      <th>convictions</th>\n",
       "      <td>True</td>\n",
       "      <td>True</td>\n",
       "    </tr>\n",
       "    <tr>\n",
       "      <th>arrests</th>\n",
       "      <td>False</td>\n",
       "      <td>False</td>\n",
       "    </tr>\n",
       "    <tr>\n",
       "      <th>felony10</th>\n",
       "      <td>False</td>\n",
       "      <td>False</td>\n",
       "    </tr>\n",
       "    <tr>\n",
       "      <th>sevenyear</th>\n",
       "      <td>False</td>\n",
       "      <td>True</td>\n",
       "    </tr>\n",
       "    <tr>\n",
       "      <th>tenyear</th>\n",
       "      <td>False</td>\n",
       "      <td>True</td>\n",
       "    </tr>\n",
       "    <tr>\n",
       "      <th>within7</th>\n",
       "      <td>True</td>\n",
       "      <td>False</td>\n",
       "    </tr>\n",
       "    <tr>\n",
       "      <th>within10</th>\n",
       "      <td>True</td>\n",
       "      <td>False</td>\n",
       "    </tr>\n",
       "    <tr>\n",
       "      <th>class1_2</th>\n",
       "      <td>False</td>\n",
       "      <td>False</td>\n",
       "    </tr>\n",
       "    <tr>\n",
       "      <th>class3_4</th>\n",
       "      <td>False</td>\n",
       "      <td>False</td>\n",
       "    </tr>\n",
       "    <tr>\n",
       "      <th>expungable</th>\n",
       "      <td>Automatic (pending)</td>\n",
       "      <td>Not eligible</td>\n",
       "    </tr>\n",
       "    <tr>\n",
       "      <th>old_expungable</th>\n",
       "      <td>False</td>\n",
       "      <td>False</td>\n",
       "    </tr>\n",
       "    <tr>\n",
       "      <th>expungable_no_lifetimelimit</th>\n",
       "      <td>Automatic (pending)</td>\n",
       "      <td>Not eligible</td>\n",
       "    </tr>\n",
       "    <tr>\n",
       "      <th>reason</th>\n",
       "      <td>Conviction of misdemeanor charges listed in 19...</td>\n",
       "      <td>Conviction of misdemeanor charges that are not...</td>\n",
       "    </tr>\n",
       "    <tr>\n",
       "      <th>sameday</th>\n",
       "      <td>False</td>\n",
       "      <td>False</td>\n",
       "    </tr>\n",
       "    <tr>\n",
       "      <th>lifetime</th>\n",
       "      <td>False</td>\n",
       "      <td>False</td>\n",
       "    </tr>\n",
       "  </tbody>\n",
       "</table>\n",
       "</div>"
      ],
      "text/plain": [
       "                                                                             0  \\\n",
       "person_id                                                      102090000000110   \n",
       "HearingDate                                                         2019-02-28   \n",
       "CodeSection                                                         A.46.2-862   \n",
       "codesection                                                  covered elsewhere   \n",
       "ChargeType                                                         Misdemeanor   \n",
       "chargetype                                                         Misdemeanor   \n",
       "Class                                                                        1   \n",
       "DispositionCode                                                         Guilty   \n",
       "disposition                                                         Conviction   \n",
       "Plea                                                                       NaN   \n",
       "Race                                                       Black(Non-Hispanic)   \n",
       "Sex                                                                       Male   \n",
       "fips                                                                        25   \n",
       "convictions                                                               True   \n",
       "arrests                                                                  False   \n",
       "felony10                                                                 False   \n",
       "sevenyear                                                                False   \n",
       "tenyear                                                                  False   \n",
       "within7                                                                   True   \n",
       "within10                                                                  True   \n",
       "class1_2                                                                 False   \n",
       "class3_4                                                                 False   \n",
       "expungable                                                 Automatic (pending)   \n",
       "old_expungable                                                           False   \n",
       "expungable_no_lifetimelimit                                Automatic (pending)   \n",
       "reason                       Conviction of misdemeanor charges listed in 19...   \n",
       "sameday                                                                  False   \n",
       "lifetime                                                                 False   \n",
       "\n",
       "                                                                             1  \n",
       "person_id                                                      343221000000125  \n",
       "HearingDate                                                         2009-12-07  \n",
       "CodeSection                                                         B.46.2-301  \n",
       "codesection                                                  covered elsewhere  \n",
       "ChargeType                                                         Misdemeanor  \n",
       "chargetype                                                         Misdemeanor  \n",
       "Class                                                                        1  \n",
       "DispositionCode                                                         Guilty  \n",
       "disposition                                                         Conviction  \n",
       "Plea                                                                       NaN  \n",
       "Race                                                       Black(Non-Hispanic)  \n",
       "Sex                                                                     Female  \n",
       "fips                                                                       540  \n",
       "convictions                                                               True  \n",
       "arrests                                                                  False  \n",
       "felony10                                                                 False  \n",
       "sevenyear                                                                 True  \n",
       "tenyear                                                                   True  \n",
       "within7                                                                  False  \n",
       "within10                                                                 False  \n",
       "class1_2                                                                 False  \n",
       "class3_4                                                                 False  \n",
       "expungable                                                        Not eligible  \n",
       "old_expungable                                                           False  \n",
       "expungable_no_lifetimelimit                                       Not eligible  \n",
       "reason                       Conviction of misdemeanor charges that are not...  \n",
       "sameday                                                                  False  \n",
       "lifetime                                                                 False  "
      ]
     },
     "execution_count": 5,
     "metadata": {},
     "output_type": "execute_result"
    }
   ],
   "source": [
    "data.head(2).T"
   ]
  },
  {
   "cell_type": "code",
   "execution_count": 7,
   "id": "f4da82f0-2e7e-42c1-9309-afec12de82aa",
   "metadata": {
    "tags": []
   },
   "outputs": [
    {
     "data": {
      "text/plain": [
       "Race\n",
       "White Caucasian(Non-Hispanic)                  114421\n",
       "Black(Non-Hispanic)                             80173\n",
       "White Caucasian (Non-Hispanic)                  41679\n",
       "Black (Non-Hispanic)                            33254\n",
       "Hispanic                                         9319\n",
       "White                                            3527\n",
       "Other(Includes Not Applicable.. Unknown)         3452\n",
       "Asian Or Pacific Islander                        2787\n",
       "Black                                            2200\n",
       "MISSING                                          1022\n",
       "Unknown (Includes Not Applicable.. Unknown)       785\n",
       "Other (Includes Not Applicable.. Unknown)         615\n",
       "American Indian                                   302\n",
       "Unknown                                            54\n",
       "Asian or Pacific Islander                           7\n",
       "American Indian Or Alaskan Native                   1\n",
       "Name: count, dtype: int64"
      ]
     },
     "execution_count": 7,
     "metadata": {},
     "output_type": "execute_result"
    }
   ],
   "source": [
    "data[\"Race\"].value_counts()"
   ]
  },
  {
   "cell_type": "code",
   "execution_count": 9,
   "id": "751cc0af-dcc7-4a83-9339-b42a022d56b3",
   "metadata": {
    "tags": []
   },
   "outputs": [
    {
     "data": {
      "text/plain": [
       "array(['Black(Non-Hispanic)', 'Hispanic', 'White Caucasian(Non-Hispanic)',\n",
       "       'MISSING', 'Asian Or Pacific Islander', 'Black (Non-Hispanic)',\n",
       "       'White Caucasian (Non-Hispanic)',\n",
       "       'Other(Includes Not Applicable.. Unknown)',\n",
       "       'Other (Includes Not Applicable.. Unknown)', 'Black', 'White',\n",
       "       'Unknown (Includes Not Applicable.. Unknown)', 'American Indian',\n",
       "       'Unknown', 'Asian or Pacific Islander',\n",
       "       'American Indian Or Alaskan Native'], dtype=object)"
      ]
     },
     "execution_count": 9,
     "metadata": {},
     "output_type": "execute_result"
    }
   ],
   "source": [
    "data[\"Race\"].unique()"
   ]
  },
  {
   "cell_type": "code",
   "execution_count": 10,
   "id": "c814783c-bf56-4141-903e-b7b7e7ff9b59",
   "metadata": {
    "tags": []
   },
   "outputs": [],
   "source": [
    "repldat = {'Black(Non-Hispanic)':\"Black (Non-Hispanic)\", \n",
    "           'Hispanic':\"Hispanic\", \n",
    "           'White Caucasian(Non-Hispanic)':\"White (Non-Hispanic)\",\n",
    "           'MISSING':\"Missing/Other/Unknown\", \n",
    "           'Asian Or Pacific Islander':\"Asian or Pacific Islander\", \n",
    "           'Black (Non-Hispanic)':\"Black (Non-Hispanic)\",\n",
    "           'White Caucasian (Non-Hispanic)':\"White (Non-Hispanic)\",\n",
    "           'Other(Includes Not Applicable.. Unknown)':\"Missing/Other/Unknown\",\n",
    "           'Other (Includes Not Applicable.. Unknown)':\"Missing/Other/Unknown\", \n",
    "           'Black':\"Black (Non-Hispanic)\", \n",
    "           'White':\"White (Non-Hispanic)\",\n",
    "           'Unknown (Includes Not Applicable.. Unknown)':\"Missing/Other/Unknown\", \n",
    "           'American Indian':\"American Indian or Alaskan Native\",\n",
    "           'Unknown':\"Missing/Other/Unknown\", \n",
    "           'Asian or Pacific Islander':\"Asian or Pacific Islander\",\n",
    "           'American Indian Or Alaskan Native':\"American Indian or Alaskan Native\"}"
   ]
  },
  {
   "cell_type": "code",
   "execution_count": 11,
   "id": "0c5d6621-7ac9-4bf0-ad6e-4a588fc74c0a",
   "metadata": {
    "tags": []
   },
   "outputs": [],
   "source": [
    "data[\"Race\"] = data[\"Race\"].replace(repldat)"
   ]
  },
  {
   "cell_type": "code",
   "execution_count": 12,
   "id": "2b8eb59d-ebf3-4c7e-a8df-68e97c94ef01",
   "metadata": {
    "tags": []
   },
   "outputs": [
    {
     "data": {
      "text/plain": [
       "Race\n",
       "White (Non-Hispanic)                 159627\n",
       "Black (Non-Hispanic)                 115627\n",
       "Hispanic                               9319\n",
       "Missing/Other/Unknown                  5928\n",
       "Asian or Pacific Islander              2794\n",
       "American Indian or Alaskan Native       303\n",
       "Name: count, dtype: int64"
      ]
     },
     "execution_count": 12,
     "metadata": {},
     "output_type": "execute_result"
    }
   ],
   "source": [
    "data[\"Race\"].value_counts()"
   ]
  },
  {
   "cell_type": "code",
   "execution_count": 13,
   "id": "444ce228-eb76-429f-96f9-7e23988214d9",
   "metadata": {
    "tags": []
   },
   "outputs": [],
   "source": [
    "df = data"
   ]
  },
  {
   "cell_type": "code",
   "execution_count": 14,
   "id": "5ac54a6d-bbee-4a03-bbbb-44a3d1542cfd",
   "metadata": {
    "tags": []
   },
   "outputs": [
    {
     "data": {
      "text/plain": [
       "disposition\n",
       "Conviction            188521\n",
       "Dismissed             103867\n",
       "Deferral Dismissal      1210\n",
       "Name: count, dtype: int64"
      ]
     },
     "execution_count": 14,
     "metadata": {},
     "output_type": "execute_result"
    }
   ],
   "source": [
    "df[\"disposition\"].value_counts()"
   ]
  },
  {
   "cell_type": "code",
   "execution_count": 15,
   "id": "5b7449b3-037f-4677-9e81-01232ae22842",
   "metadata": {
    "tags": []
   },
   "outputs": [],
   "source": [
    "df_convict = df.query(\"disposition == 'Conviction'\")"
   ]
  },
  {
   "cell_type": "code",
   "execution_count": 16,
   "id": "5b8c138d-d773-4eec-a462-812ee0799e74",
   "metadata": {
    "tags": []
   },
   "outputs": [
    {
     "data": {
      "text/plain": [
       "(188521, 28)"
      ]
     },
     "execution_count": 16,
     "metadata": {},
     "output_type": "execute_result"
    }
   ],
   "source": [
    "df_convict.shape"
   ]
  },
  {
   "cell_type": "code",
   "execution_count": 30,
   "id": "c8eaa5f0-de6f-4543-8c9d-2625d6971100",
   "metadata": {
    "tags": []
   },
   "outputs": [],
   "source": [
    "cases_convict_race = df_convict.groupby([\"CodeSection\",\"Race\"]).size().reset_index()"
   ]
  },
  {
   "cell_type": "code",
   "execution_count": 31,
   "id": "8ec943c1-a776-4200-a099-411f8b258921",
   "metadata": {
    "tags": []
   },
   "outputs": [
    {
     "data": {
      "text/html": [
       "<div>\n",
       "<style scoped>\n",
       "    .dataframe tbody tr th:only-of-type {\n",
       "        vertical-align: middle;\n",
       "    }\n",
       "\n",
       "    .dataframe tbody tr th {\n",
       "        vertical-align: top;\n",
       "    }\n",
       "\n",
       "    .dataframe thead th {\n",
       "        text-align: right;\n",
       "    }\n",
       "</style>\n",
       "<table border=\"1\" class=\"dataframe\">\n",
       "  <thead>\n",
       "    <tr style=\"text-align: right;\">\n",
       "      <th></th>\n",
       "      <th>CodeSection</th>\n",
       "      <th>Race</th>\n",
       "      <th>0</th>\n",
       "    </tr>\n",
       "  </thead>\n",
       "  <tbody>\n",
       "    <tr>\n",
       "      <th>0</th>\n",
       "      <td>01-2007</td>\n",
       "      <td>White (Non-Hispanic)</td>\n",
       "      <td>1</td>\n",
       "    </tr>\n",
       "    <tr>\n",
       "      <th>1</th>\n",
       "      <td>1</td>\n",
       "      <td>Black (Non-Hispanic)</td>\n",
       "      <td>3</td>\n",
       "    </tr>\n",
       "    <tr>\n",
       "      <th>2</th>\n",
       "      <td>1</td>\n",
       "      <td>White (Non-Hispanic)</td>\n",
       "      <td>1</td>\n",
       "    </tr>\n",
       "    <tr>\n",
       "      <th>3</th>\n",
       "      <td>1-12</td>\n",
       "      <td>Black (Non-Hispanic)</td>\n",
       "      <td>27</td>\n",
       "    </tr>\n",
       "    <tr>\n",
       "      <th>4</th>\n",
       "      <td>1-12</td>\n",
       "      <td>White (Non-Hispanic)</td>\n",
       "      <td>6</td>\n",
       "    </tr>\n",
       "    <tr>\n",
       "      <th>...</th>\n",
       "      <td>...</td>\n",
       "      <td>...</td>\n",
       "      <td>...</td>\n",
       "    </tr>\n",
       "    <tr>\n",
       "      <th>4885</th>\n",
       "      <td>Z.18.2-91</td>\n",
       "      <td>Hispanic</td>\n",
       "      <td>2</td>\n",
       "    </tr>\n",
       "    <tr>\n",
       "      <th>4886</th>\n",
       "      <td>Z.18.2-91</td>\n",
       "      <td>White (Non-Hispanic)</td>\n",
       "      <td>123</td>\n",
       "    </tr>\n",
       "    <tr>\n",
       "      <th>4887</th>\n",
       "      <td>Z.18.2-91; 26</td>\n",
       "      <td>Black (Non-Hispanic)</td>\n",
       "      <td>1</td>\n",
       "    </tr>\n",
       "    <tr>\n",
       "      <th>4888</th>\n",
       "      <td>Z.18.2-95</td>\n",
       "      <td>Black (Non-Hispanic)</td>\n",
       "      <td>2</td>\n",
       "    </tr>\n",
       "    <tr>\n",
       "      <th>4889</th>\n",
       "      <td>Z18.2-47</td>\n",
       "      <td>Black (Non-Hispanic)</td>\n",
       "      <td>1</td>\n",
       "    </tr>\n",
       "  </tbody>\n",
       "</table>\n",
       "<p>4890 rows × 3 columns</p>\n",
       "</div>"
      ],
      "text/plain": [
       "        CodeSection                  Race    0\n",
       "0           01-2007  White (Non-Hispanic)    1\n",
       "1                 1  Black (Non-Hispanic)    3\n",
       "2                 1  White (Non-Hispanic)    1\n",
       "3              1-12  Black (Non-Hispanic)   27\n",
       "4              1-12  White (Non-Hispanic)    6\n",
       "...             ...                   ...  ...\n",
       "4885      Z.18.2-91              Hispanic    2\n",
       "4886      Z.18.2-91  White (Non-Hispanic)  123\n",
       "4887  Z.18.2-91; 26  Black (Non-Hispanic)    1\n",
       "4888      Z.18.2-95  Black (Non-Hispanic)    2\n",
       "4889       Z18.2-47  Black (Non-Hispanic)    1\n",
       "\n",
       "[4890 rows x 3 columns]"
      ]
     },
     "execution_count": 31,
     "metadata": {},
     "output_type": "execute_result"
    }
   ],
   "source": [
    "cases_convict_race"
   ]
  },
  {
   "cell_type": "code",
   "execution_count": 32,
   "id": "ff2a0c94-404f-478d-909a-7081c85d5215",
   "metadata": {
    "tags": []
   },
   "outputs": [],
   "source": [
    "cases_convict_race = cases_convict_race.rename({0:\"count\"}, axis=1) "
   ]
  },
  {
   "cell_type": "code",
   "execution_count": 33,
   "id": "41d73889-978f-44e9-9664-d081cff681aa",
   "metadata": {
    "tags": []
   },
   "outputs": [
    {
     "data": {
      "text/html": [
       "<div>\n",
       "<style scoped>\n",
       "    .dataframe tbody tr th:only-of-type {\n",
       "        vertical-align: middle;\n",
       "    }\n",
       "\n",
       "    .dataframe tbody tr th {\n",
       "        vertical-align: top;\n",
       "    }\n",
       "\n",
       "    .dataframe thead th {\n",
       "        text-align: right;\n",
       "    }\n",
       "</style>\n",
       "<table border=\"1\" class=\"dataframe\">\n",
       "  <thead>\n",
       "    <tr style=\"text-align: right;\">\n",
       "      <th></th>\n",
       "      <th>CodeSection</th>\n",
       "      <th>Race</th>\n",
       "      <th>count</th>\n",
       "    </tr>\n",
       "  </thead>\n",
       "  <tbody>\n",
       "    <tr>\n",
       "      <th>0</th>\n",
       "      <td>01-2007</td>\n",
       "      <td>White (Non-Hispanic)</td>\n",
       "      <td>1</td>\n",
       "    </tr>\n",
       "    <tr>\n",
       "      <th>1</th>\n",
       "      <td>1</td>\n",
       "      <td>Black (Non-Hispanic)</td>\n",
       "      <td>3</td>\n",
       "    </tr>\n",
       "    <tr>\n",
       "      <th>2</th>\n",
       "      <td>1</td>\n",
       "      <td>White (Non-Hispanic)</td>\n",
       "      <td>1</td>\n",
       "    </tr>\n",
       "    <tr>\n",
       "      <th>3</th>\n",
       "      <td>1-12</td>\n",
       "      <td>Black (Non-Hispanic)</td>\n",
       "      <td>27</td>\n",
       "    </tr>\n",
       "    <tr>\n",
       "      <th>4</th>\n",
       "      <td>1-12</td>\n",
       "      <td>White (Non-Hispanic)</td>\n",
       "      <td>6</td>\n",
       "    </tr>\n",
       "    <tr>\n",
       "      <th>...</th>\n",
       "      <td>...</td>\n",
       "      <td>...</td>\n",
       "      <td>...</td>\n",
       "    </tr>\n",
       "    <tr>\n",
       "      <th>4885</th>\n",
       "      <td>Z.18.2-91</td>\n",
       "      <td>Hispanic</td>\n",
       "      <td>2</td>\n",
       "    </tr>\n",
       "    <tr>\n",
       "      <th>4886</th>\n",
       "      <td>Z.18.2-91</td>\n",
       "      <td>White (Non-Hispanic)</td>\n",
       "      <td>123</td>\n",
       "    </tr>\n",
       "    <tr>\n",
       "      <th>4887</th>\n",
       "      <td>Z.18.2-91; 26</td>\n",
       "      <td>Black (Non-Hispanic)</td>\n",
       "      <td>1</td>\n",
       "    </tr>\n",
       "    <tr>\n",
       "      <th>4888</th>\n",
       "      <td>Z.18.2-95</td>\n",
       "      <td>Black (Non-Hispanic)</td>\n",
       "      <td>2</td>\n",
       "    </tr>\n",
       "    <tr>\n",
       "      <th>4889</th>\n",
       "      <td>Z18.2-47</td>\n",
       "      <td>Black (Non-Hispanic)</td>\n",
       "      <td>1</td>\n",
       "    </tr>\n",
       "  </tbody>\n",
       "</table>\n",
       "<p>4890 rows × 3 columns</p>\n",
       "</div>"
      ],
      "text/plain": [
       "        CodeSection                  Race  count\n",
       "0           01-2007  White (Non-Hispanic)      1\n",
       "1                 1  Black (Non-Hispanic)      3\n",
       "2                 1  White (Non-Hispanic)      1\n",
       "3              1-12  Black (Non-Hispanic)     27\n",
       "4              1-12  White (Non-Hispanic)      6\n",
       "...             ...                   ...    ...\n",
       "4885      Z.18.2-91              Hispanic      2\n",
       "4886      Z.18.2-91  White (Non-Hispanic)    123\n",
       "4887  Z.18.2-91; 26  Black (Non-Hispanic)      1\n",
       "4888      Z.18.2-95  Black (Non-Hispanic)      2\n",
       "4889       Z18.2-47  Black (Non-Hispanic)      1\n",
       "\n",
       "[4890 rows x 3 columns]"
      ]
     },
     "execution_count": 33,
     "metadata": {},
     "output_type": "execute_result"
    }
   ],
   "source": [
    "cases_convict_race.replace(np.nan, 0)"
   ]
  },
  {
   "cell_type": "code",
   "execution_count": 34,
   "id": "48c4b8ae-e05e-4576-80cb-85cb6fd41432",
   "metadata": {
    "tags": []
   },
   "outputs": [],
   "source": [
    "## index: a list of columns we want to be the primary key after reshaping is done\n",
    "## columns: the current feature which contains the names of the columns we want to create\n",
    "## values: current column with the values are we're going to use\n",
    "cases_convict_race = pd.pivot_table(\n",
    "    cases_convict_race,\n",
    "    index = [\"CodeSection\"],\n",
    "    columns = [\"Race\"],\n",
    "    values = [\"count\"],\n",
    "    fill_value=0).reset_index()"
   ]
  },
  {
   "cell_type": "code",
   "execution_count": 35,
   "id": "4b18d07c-7c81-4e1c-a1c0-3bb27441355a",
   "metadata": {
    "tags": []
   },
   "outputs": [
    {
     "data": {
      "text/html": [
       "<div>\n",
       "<style scoped>\n",
       "    .dataframe tbody tr th:only-of-type {\n",
       "        vertical-align: middle;\n",
       "    }\n",
       "\n",
       "    .dataframe tbody tr th {\n",
       "        vertical-align: top;\n",
       "    }\n",
       "\n",
       "    .dataframe thead tr th {\n",
       "        text-align: left;\n",
       "    }\n",
       "</style>\n",
       "<table border=\"1\" class=\"dataframe\">\n",
       "  <thead>\n",
       "    <tr>\n",
       "      <th></th>\n",
       "      <th>CodeSection</th>\n",
       "      <th colspan=\"6\" halign=\"left\">count</th>\n",
       "    </tr>\n",
       "    <tr>\n",
       "      <th>Race</th>\n",
       "      <th></th>\n",
       "      <th>American Indian or Alaskan Native</th>\n",
       "      <th>Asian or Pacific Islander</th>\n",
       "      <th>Black (Non-Hispanic)</th>\n",
       "      <th>Hispanic</th>\n",
       "      <th>Missing/Other/Unknown</th>\n",
       "      <th>White (Non-Hispanic)</th>\n",
       "    </tr>\n",
       "  </thead>\n",
       "  <tbody>\n",
       "    <tr>\n",
       "      <th>0</th>\n",
       "      <td>01-2007</td>\n",
       "      <td>0</td>\n",
       "      <td>0</td>\n",
       "      <td>0</td>\n",
       "      <td>0</td>\n",
       "      <td>0</td>\n",
       "      <td>1</td>\n",
       "    </tr>\n",
       "    <tr>\n",
       "      <th>1</th>\n",
       "      <td>1</td>\n",
       "      <td>0</td>\n",
       "      <td>0</td>\n",
       "      <td>3</td>\n",
       "      <td>0</td>\n",
       "      <td>0</td>\n",
       "      <td>1</td>\n",
       "    </tr>\n",
       "    <tr>\n",
       "      <th>2</th>\n",
       "      <td>1-12</td>\n",
       "      <td>0</td>\n",
       "      <td>0</td>\n",
       "      <td>27</td>\n",
       "      <td>0</td>\n",
       "      <td>0</td>\n",
       "      <td>6</td>\n",
       "    </tr>\n",
       "    <tr>\n",
       "      <th>3</th>\n",
       "      <td>1-200</td>\n",
       "      <td>0</td>\n",
       "      <td>0</td>\n",
       "      <td>7</td>\n",
       "      <td>0</td>\n",
       "      <td>0</td>\n",
       "      <td>3</td>\n",
       "    </tr>\n",
       "    <tr>\n",
       "      <th>4</th>\n",
       "      <td>1.21</td>\n",
       "      <td>0</td>\n",
       "      <td>0</td>\n",
       "      <td>0</td>\n",
       "      <td>0</td>\n",
       "      <td>0</td>\n",
       "      <td>1</td>\n",
       "    </tr>\n",
       "    <tr>\n",
       "      <th>...</th>\n",
       "      <td>...</td>\n",
       "      <td>...</td>\n",
       "      <td>...</td>\n",
       "      <td>...</td>\n",
       "      <td>...</td>\n",
       "      <td>...</td>\n",
       "      <td>...</td>\n",
       "    </tr>\n",
       "    <tr>\n",
       "      <th>3105</th>\n",
       "      <td>Z.18.2-90</td>\n",
       "      <td>0</td>\n",
       "      <td>0</td>\n",
       "      <td>4</td>\n",
       "      <td>0</td>\n",
       "      <td>1</td>\n",
       "      <td>3</td>\n",
       "    </tr>\n",
       "    <tr>\n",
       "      <th>3106</th>\n",
       "      <td>Z.18.2-91</td>\n",
       "      <td>0</td>\n",
       "      <td>2</td>\n",
       "      <td>95</td>\n",
       "      <td>2</td>\n",
       "      <td>0</td>\n",
       "      <td>123</td>\n",
       "    </tr>\n",
       "    <tr>\n",
       "      <th>3107</th>\n",
       "      <td>Z.18.2-91; 26</td>\n",
       "      <td>0</td>\n",
       "      <td>0</td>\n",
       "      <td>1</td>\n",
       "      <td>0</td>\n",
       "      <td>0</td>\n",
       "      <td>0</td>\n",
       "    </tr>\n",
       "    <tr>\n",
       "      <th>3108</th>\n",
       "      <td>Z.18.2-95</td>\n",
       "      <td>0</td>\n",
       "      <td>0</td>\n",
       "      <td>2</td>\n",
       "      <td>0</td>\n",
       "      <td>0</td>\n",
       "      <td>0</td>\n",
       "    </tr>\n",
       "    <tr>\n",
       "      <th>3109</th>\n",
       "      <td>Z18.2-47</td>\n",
       "      <td>0</td>\n",
       "      <td>0</td>\n",
       "      <td>1</td>\n",
       "      <td>0</td>\n",
       "      <td>0</td>\n",
       "      <td>0</td>\n",
       "    </tr>\n",
       "  </tbody>\n",
       "</table>\n",
       "<p>3110 rows × 7 columns</p>\n",
       "</div>"
      ],
      "text/plain": [
       "        CodeSection                             count  \\\n",
       "Race                American Indian or Alaskan Native   \n",
       "0           01-2007                                 0   \n",
       "1                 1                                 0   \n",
       "2              1-12                                 0   \n",
       "3             1-200                                 0   \n",
       "4              1.21                                 0   \n",
       "...             ...                               ...   \n",
       "3105      Z.18.2-90                                 0   \n",
       "3106      Z.18.2-91                                 0   \n",
       "3107  Z.18.2-91; 26                                 0   \n",
       "3108      Z.18.2-95                                 0   \n",
       "3109       Z18.2-47                                 0   \n",
       "\n",
       "                                                              \\\n",
       "Race Asian or Pacific Islander Black (Non-Hispanic) Hispanic   \n",
       "0                            0                    0        0   \n",
       "1                            0                    3        0   \n",
       "2                            0                   27        0   \n",
       "3                            0                    7        0   \n",
       "4                            0                    0        0   \n",
       "...                        ...                  ...      ...   \n",
       "3105                         0                    4        0   \n",
       "3106                         2                   95        2   \n",
       "3107                         0                    1        0   \n",
       "3108                         0                    2        0   \n",
       "3109                         0                    1        0   \n",
       "\n",
       "                                                 \n",
       "Race Missing/Other/Unknown White (Non-Hispanic)  \n",
       "0                        0                    1  \n",
       "1                        0                    1  \n",
       "2                        0                    6  \n",
       "3                        0                    3  \n",
       "4                        0                    1  \n",
       "...                    ...                  ...  \n",
       "3105                     1                    3  \n",
       "3106                     0                  123  \n",
       "3107                     0                    0  \n",
       "3108                     0                    0  \n",
       "3109                     0                    0  \n",
       "\n",
       "[3110 rows x 7 columns]"
      ]
     },
     "execution_count": 35,
     "metadata": {},
     "output_type": "execute_result"
    }
   ],
   "source": [
    "cases_convict_race"
   ]
  },
  {
   "cell_type": "code",
   "execution_count": 38,
   "id": "39a5fdcb-d9f3-47b6-bb5a-3d4873687cf6",
   "metadata": {
    "tags": []
   },
   "outputs": [
    {
     "data": {
      "text/plain": [
       "Index(['CodeSection', 'AIAN', 'API', 'Black', 'Hisp', 'Unknown', 'White'], dtype='object')"
      ]
     },
     "execution_count": 38,
     "metadata": {},
     "output_type": "execute_result"
    }
   ],
   "source": [
    "cases_convict_race.columns = [\"CodeSection\", \"AIAN\", \"API\", \"Black\",\n",
    "                             \"Hisp\", \"Unknown\", \"White\"]\n",
    "cases_convict_race.columns"
   ]
  },
  {
   "cell_type": "code",
   "execution_count": 42,
   "id": "4a87c02b-5253-4880-b99a-08706df1f884",
   "metadata": {
    "tags": []
   },
   "outputs": [
    {
     "ename": "TypeError",
     "evalue": "can only concatenate str (not \"int\") to str",
     "output_type": "error",
     "traceback": [
      "\u001b[1;31m---------------------------------------------------------------------------\u001b[0m",
      "\u001b[1;31mTypeError\u001b[0m                                 Traceback (most recent call last)",
      "File \u001b[1;32m~\\anaconda3\\lib\\site-packages\\pandas\\core\\ops\\array_ops.py:171\u001b[0m, in \u001b[0;36m_na_arithmetic_op\u001b[1;34m(left, right, op, is_cmp)\u001b[0m\n\u001b[0;32m    170\u001b[0m \u001b[38;5;28;01mtry\u001b[39;00m:\n\u001b[1;32m--> 171\u001b[0m     result \u001b[38;5;241m=\u001b[39m \u001b[43mfunc\u001b[49m\u001b[43m(\u001b[49m\u001b[43mleft\u001b[49m\u001b[43m,\u001b[49m\u001b[43m \u001b[49m\u001b[43mright\u001b[49m\u001b[43m)\u001b[49m\n\u001b[0;32m    172\u001b[0m \u001b[38;5;28;01mexcept\u001b[39;00m \u001b[38;5;167;01mTypeError\u001b[39;00m:\n",
      "File \u001b[1;32m~\\anaconda3\\lib\\site-packages\\pandas\\core\\computation\\expressions.py:239\u001b[0m, in \u001b[0;36mevaluate\u001b[1;34m(op, a, b, use_numexpr)\u001b[0m\n\u001b[0;32m    237\u001b[0m     \u001b[38;5;28;01mif\u001b[39;00m use_numexpr:\n\u001b[0;32m    238\u001b[0m         \u001b[38;5;66;03m# error: \"None\" not callable\u001b[39;00m\n\u001b[1;32m--> 239\u001b[0m         \u001b[38;5;28;01mreturn\u001b[39;00m \u001b[43m_evaluate\u001b[49m\u001b[43m(\u001b[49m\u001b[43mop\u001b[49m\u001b[43m,\u001b[49m\u001b[43m \u001b[49m\u001b[43mop_str\u001b[49m\u001b[43m,\u001b[49m\u001b[43m \u001b[49m\u001b[43ma\u001b[49m\u001b[43m,\u001b[49m\u001b[43m \u001b[49m\u001b[43mb\u001b[49m\u001b[43m)\u001b[49m  \u001b[38;5;66;03m# type: ignore[misc]\u001b[39;00m\n\u001b[0;32m    240\u001b[0m \u001b[38;5;28;01mreturn\u001b[39;00m _evaluate_standard(op, op_str, a, b)\n",
      "File \u001b[1;32m~\\anaconda3\\lib\\site-packages\\pandas\\core\\computation\\expressions.py:70\u001b[0m, in \u001b[0;36m_evaluate_standard\u001b[1;34m(op, op_str, a, b)\u001b[0m\n\u001b[0;32m     69\u001b[0m     _store_test_result(\u001b[38;5;28;01mFalse\u001b[39;00m)\n\u001b[1;32m---> 70\u001b[0m \u001b[38;5;28;01mreturn\u001b[39;00m \u001b[43mop\u001b[49m\u001b[43m(\u001b[49m\u001b[43ma\u001b[49m\u001b[43m,\u001b[49m\u001b[43m \u001b[49m\u001b[43mb\u001b[49m\u001b[43m)\u001b[49m\n",
      "\u001b[1;31mTypeError\u001b[0m: can only concatenate str (not \"int\") to str",
      "\nDuring handling of the above exception, another exception occurred:\n",
      "\u001b[1;31mTypeError\u001b[0m                                 Traceback (most recent call last)",
      "Cell \u001b[1;32mIn[42], line 1\u001b[0m\n\u001b[1;32m----> 1\u001b[0m cases_convict_race[\u001b[38;5;124m\"\u001b[39m\u001b[38;5;124mtotal_conviction\u001b[39m\u001b[38;5;124m\"\u001b[39m] \u001b[38;5;241m=\u001b[39m \u001b[43mcases_convict_race\u001b[49m\u001b[43m[\u001b[49m\u001b[38;5;124;43m\"\u001b[39;49m\u001b[38;5;124;43mCodeSection\u001b[39;49m\u001b[38;5;124;43m\"\u001b[39;49m\u001b[43m]\u001b[49m\u001b[43m \u001b[49m\u001b[38;5;241;43m+\u001b[39;49m\u001b[43m \u001b[49m\u001b[43mcases_convict_race\u001b[49m\u001b[43m[\u001b[49m\u001b[38;5;124;43m\"\u001b[39;49m\u001b[38;5;124;43mAIAN\u001b[39;49m\u001b[38;5;124;43m\"\u001b[39;49m\u001b[43m]\u001b[49m \u001b[38;5;241m+\u001b[39m cases_convict_race[\u001b[38;5;124m\"\u001b[39m\u001b[38;5;124mAPI\u001b[39m\u001b[38;5;124m\"\u001b[39m] \u001b[38;5;241m+\u001b[39m cases_convict_race[\u001b[38;5;124m\"\u001b[39m\u001b[38;5;124mBlack\u001b[39m\u001b[38;5;124m\"\u001b[39m] \u001b[38;5;241m+\u001b[39m cases_convict_race[\u001b[38;5;124m\"\u001b[39m\u001b[38;5;124mHisp\u001b[39m\u001b[38;5;124m\"\u001b[39m] \u001b[38;5;241m+\u001b[39m cases_convict_race[\u001b[38;5;124m\"\u001b[39m\u001b[38;5;124mUnknown\u001b[39m\u001b[38;5;124m\"\u001b[39m] \u001b[38;5;241m+\u001b[39m  cases_convict_race[\u001b[38;5;124m\"\u001b[39m\u001b[38;5;124mWhite\u001b[39m\u001b[38;5;124m\"\u001b[39m]\n",
      "File \u001b[1;32m~\\anaconda3\\lib\\site-packages\\pandas\\core\\ops\\common.py:81\u001b[0m, in \u001b[0;36m_unpack_zerodim_and_defer.<locals>.new_method\u001b[1;34m(self, other)\u001b[0m\n\u001b[0;32m     77\u001b[0m             \u001b[38;5;28;01mreturn\u001b[39;00m \u001b[38;5;28mNotImplemented\u001b[39m\n\u001b[0;32m     79\u001b[0m other \u001b[38;5;241m=\u001b[39m item_from_zerodim(other)\n\u001b[1;32m---> 81\u001b[0m \u001b[38;5;28;01mreturn\u001b[39;00m \u001b[43mmethod\u001b[49m\u001b[43m(\u001b[49m\u001b[38;5;28;43mself\u001b[39;49m\u001b[43m,\u001b[49m\u001b[43m \u001b[49m\u001b[43mother\u001b[49m\u001b[43m)\u001b[49m\n",
      "File \u001b[1;32m~\\anaconda3\\lib\\site-packages\\pandas\\core\\arraylike.py:186\u001b[0m, in \u001b[0;36mOpsMixin.__add__\u001b[1;34m(self, other)\u001b[0m\n\u001b[0;32m     98\u001b[0m \u001b[38;5;129m@unpack_zerodim_and_defer\u001b[39m(\u001b[38;5;124m\"\u001b[39m\u001b[38;5;124m__add__\u001b[39m\u001b[38;5;124m\"\u001b[39m)\n\u001b[0;32m     99\u001b[0m \u001b[38;5;28;01mdef\u001b[39;00m \u001b[38;5;21m__add__\u001b[39m(\u001b[38;5;28mself\u001b[39m, other):\n\u001b[0;32m    100\u001b[0m \u001b[38;5;250m    \u001b[39m\u001b[38;5;124;03m\"\"\"\u001b[39;00m\n\u001b[0;32m    101\u001b[0m \u001b[38;5;124;03m    Get Addition of DataFrame and other, column-wise.\u001b[39;00m\n\u001b[0;32m    102\u001b[0m \n\u001b[1;32m   (...)\u001b[0m\n\u001b[0;32m    184\u001b[0m \u001b[38;5;124;03m    moose     3.0     NaN\u001b[39;00m\n\u001b[0;32m    185\u001b[0m \u001b[38;5;124;03m    \"\"\"\u001b[39;00m\n\u001b[1;32m--> 186\u001b[0m     \u001b[38;5;28;01mreturn\u001b[39;00m \u001b[38;5;28;43mself\u001b[39;49m\u001b[38;5;241;43m.\u001b[39;49m\u001b[43m_arith_method\u001b[49m\u001b[43m(\u001b[49m\u001b[43mother\u001b[49m\u001b[43m,\u001b[49m\u001b[43m \u001b[49m\u001b[43moperator\u001b[49m\u001b[38;5;241;43m.\u001b[39;49m\u001b[43madd\u001b[49m\u001b[43m)\u001b[49m\n",
      "File \u001b[1;32m~\\anaconda3\\lib\\site-packages\\pandas\\core\\series.py:6112\u001b[0m, in \u001b[0;36mSeries._arith_method\u001b[1;34m(self, other, op)\u001b[0m\n\u001b[0;32m   6110\u001b[0m \u001b[38;5;28;01mdef\u001b[39;00m \u001b[38;5;21m_arith_method\u001b[39m(\u001b[38;5;28mself\u001b[39m, other, op):\n\u001b[0;32m   6111\u001b[0m     \u001b[38;5;28mself\u001b[39m, other \u001b[38;5;241m=\u001b[39m ops\u001b[38;5;241m.\u001b[39malign_method_SERIES(\u001b[38;5;28mself\u001b[39m, other)\n\u001b[1;32m-> 6112\u001b[0m     \u001b[38;5;28;01mreturn\u001b[39;00m \u001b[43mbase\u001b[49m\u001b[38;5;241;43m.\u001b[39;49m\u001b[43mIndexOpsMixin\u001b[49m\u001b[38;5;241;43m.\u001b[39;49m\u001b[43m_arith_method\u001b[49m\u001b[43m(\u001b[49m\u001b[38;5;28;43mself\u001b[39;49m\u001b[43m,\u001b[49m\u001b[43m \u001b[49m\u001b[43mother\u001b[49m\u001b[43m,\u001b[49m\u001b[43m \u001b[49m\u001b[43mop\u001b[49m\u001b[43m)\u001b[49m\n",
      "File \u001b[1;32m~\\anaconda3\\lib\\site-packages\\pandas\\core\\base.py:1348\u001b[0m, in \u001b[0;36mIndexOpsMixin._arith_method\u001b[1;34m(self, other, op)\u001b[0m\n\u001b[0;32m   1345\u001b[0m rvalues \u001b[38;5;241m=\u001b[39m ensure_wrapped_if_datetimelike(rvalues)\n\u001b[0;32m   1347\u001b[0m \u001b[38;5;28;01mwith\u001b[39;00m np\u001b[38;5;241m.\u001b[39merrstate(\u001b[38;5;28mall\u001b[39m\u001b[38;5;241m=\u001b[39m\u001b[38;5;124m\"\u001b[39m\u001b[38;5;124mignore\u001b[39m\u001b[38;5;124m\"\u001b[39m):\n\u001b[1;32m-> 1348\u001b[0m     result \u001b[38;5;241m=\u001b[39m \u001b[43mops\u001b[49m\u001b[38;5;241;43m.\u001b[39;49m\u001b[43marithmetic_op\u001b[49m\u001b[43m(\u001b[49m\u001b[43mlvalues\u001b[49m\u001b[43m,\u001b[49m\u001b[43m \u001b[49m\u001b[43mrvalues\u001b[49m\u001b[43m,\u001b[49m\u001b[43m \u001b[49m\u001b[43mop\u001b[49m\u001b[43m)\u001b[49m\n\u001b[0;32m   1350\u001b[0m \u001b[38;5;28;01mreturn\u001b[39;00m \u001b[38;5;28mself\u001b[39m\u001b[38;5;241m.\u001b[39m_construct_result(result, name\u001b[38;5;241m=\u001b[39mres_name)\n",
      "File \u001b[1;32m~\\anaconda3\\lib\\site-packages\\pandas\\core\\ops\\array_ops.py:232\u001b[0m, in \u001b[0;36marithmetic_op\u001b[1;34m(left, right, op)\u001b[0m\n\u001b[0;32m    228\u001b[0m     _bool_arith_check(op, left, right)\n\u001b[0;32m    230\u001b[0m     \u001b[38;5;66;03m# error: Argument 1 to \"_na_arithmetic_op\" has incompatible type\u001b[39;00m\n\u001b[0;32m    231\u001b[0m     \u001b[38;5;66;03m# \"Union[ExtensionArray, ndarray[Any, Any]]\"; expected \"ndarray[Any, Any]\"\u001b[39;00m\n\u001b[1;32m--> 232\u001b[0m     res_values \u001b[38;5;241m=\u001b[39m \u001b[43m_na_arithmetic_op\u001b[49m\u001b[43m(\u001b[49m\u001b[43mleft\u001b[49m\u001b[43m,\u001b[49m\u001b[43m \u001b[49m\u001b[43mright\u001b[49m\u001b[43m,\u001b[49m\u001b[43m \u001b[49m\u001b[43mop\u001b[49m\u001b[43m)\u001b[49m  \u001b[38;5;66;03m# type: ignore[arg-type]\u001b[39;00m\n\u001b[0;32m    234\u001b[0m \u001b[38;5;28;01mreturn\u001b[39;00m res_values\n",
      "File \u001b[1;32m~\\anaconda3\\lib\\site-packages\\pandas\\core\\ops\\array_ops.py:178\u001b[0m, in \u001b[0;36m_na_arithmetic_op\u001b[1;34m(left, right, op, is_cmp)\u001b[0m\n\u001b[0;32m    172\u001b[0m \u001b[38;5;28;01mexcept\u001b[39;00m \u001b[38;5;167;01mTypeError\u001b[39;00m:\n\u001b[0;32m    173\u001b[0m     \u001b[38;5;28;01mif\u001b[39;00m \u001b[38;5;129;01mnot\u001b[39;00m is_cmp \u001b[38;5;129;01mand\u001b[39;00m (is_object_dtype(left\u001b[38;5;241m.\u001b[39mdtype) \u001b[38;5;129;01mor\u001b[39;00m is_object_dtype(right)):\n\u001b[0;32m    174\u001b[0m         \u001b[38;5;66;03m# For object dtype, fallback to a masked operation (only operating\u001b[39;00m\n\u001b[0;32m    175\u001b[0m         \u001b[38;5;66;03m#  on the non-missing values)\u001b[39;00m\n\u001b[0;32m    176\u001b[0m         \u001b[38;5;66;03m# Don't do this for comparisons, as that will handle complex numbers\u001b[39;00m\n\u001b[0;32m    177\u001b[0m         \u001b[38;5;66;03m#  incorrectly, see GH#32047\u001b[39;00m\n\u001b[1;32m--> 178\u001b[0m         result \u001b[38;5;241m=\u001b[39m \u001b[43m_masked_arith_op\u001b[49m\u001b[43m(\u001b[49m\u001b[43mleft\u001b[49m\u001b[43m,\u001b[49m\u001b[43m \u001b[49m\u001b[43mright\u001b[49m\u001b[43m,\u001b[49m\u001b[43m \u001b[49m\u001b[43mop\u001b[49m\u001b[43m)\u001b[49m\n\u001b[0;32m    179\u001b[0m     \u001b[38;5;28;01melse\u001b[39;00m:\n\u001b[0;32m    180\u001b[0m         \u001b[38;5;28;01mraise\u001b[39;00m\n",
      "File \u001b[1;32m~\\anaconda3\\lib\\site-packages\\pandas\\core\\ops\\array_ops.py:116\u001b[0m, in \u001b[0;36m_masked_arith_op\u001b[1;34m(x, y, op)\u001b[0m\n\u001b[0;32m    114\u001b[0m     \u001b[38;5;66;03m# See GH#5284, GH#5035, GH#19448 for historical reference\u001b[39;00m\n\u001b[0;32m    115\u001b[0m     \u001b[38;5;28;01mif\u001b[39;00m mask\u001b[38;5;241m.\u001b[39many():\n\u001b[1;32m--> 116\u001b[0m         result[mask] \u001b[38;5;241m=\u001b[39m \u001b[43mop\u001b[49m\u001b[43m(\u001b[49m\u001b[43mxrav\u001b[49m\u001b[43m[\u001b[49m\u001b[43mmask\u001b[49m\u001b[43m]\u001b[49m\u001b[43m,\u001b[49m\u001b[43m \u001b[49m\u001b[43myrav\u001b[49m\u001b[43m[\u001b[49m\u001b[43mmask\u001b[49m\u001b[43m]\u001b[49m\u001b[43m)\u001b[49m\n\u001b[0;32m    118\u001b[0m \u001b[38;5;28;01melse\u001b[39;00m:\n\u001b[0;32m    119\u001b[0m     \u001b[38;5;28;01mif\u001b[39;00m \u001b[38;5;129;01mnot\u001b[39;00m is_scalar(y):\n",
      "\u001b[1;31mTypeError\u001b[0m: can only concatenate str (not \"int\") to str"
     ]
    }
   ],
   "source": [
    "cases_convict_race[\"total_conviction\"] = cases_convict_race[\"CodeSection\"] + cases_convict_race[\"AIAN\"] + cases_convict_race[\"API\"] + cases_convict_race[\"Black\"] + cases_convict_race[\"Hisp\"] + cases_convict_race[\"Unknown\"] +  cases_convict_race[\"White\"]"
   ]
  },
  {
   "cell_type": "code",
   "execution_count": null,
   "id": "4502608b-959d-4a89-9076-7d7acfd9852c",
   "metadata": {},
   "outputs": [],
   "source": []
  }
 ],
 "metadata": {
  "kernelspec": {
   "display_name": "Python 3 (ipykernel)",
   "language": "python",
   "name": "python3"
  },
  "language_info": {
   "codemirror_mode": {
    "name": "ipython",
    "version": 3
   },
   "file_extension": ".py",
   "mimetype": "text/x-python",
   "name": "python",
   "nbconvert_exporter": "python",
   "pygments_lexer": "ipython3",
   "version": "3.10.9"
  }
 },
 "nbformat": 4,
 "nbformat_minor": 5
}
