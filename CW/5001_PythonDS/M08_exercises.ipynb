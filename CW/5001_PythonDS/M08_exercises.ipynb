{
 "cells": [
  {
   "cell_type": "code",
   "execution_count": 15,
   "id": "1c8d9822-3e0f-4ff0-810d-f69caa0c6d80",
   "metadata": {
    "tags": []
   },
   "outputs": [],
   "source": [
    "import pandas as pd\n",
    "import numpy as np\n",
    "import math"
   ]
  },
  {
   "cell_type": "code",
   "execution_count": 16,
   "id": "ef8ee56e-35fd-481c-ab72-411197613aeb",
   "metadata": {
    "tags": []
   },
   "outputs": [
    {
     "data": {
      "text/plain": [
       "3.141592653589793"
      ]
     },
     "execution_count": 16,
     "metadata": {},
     "output_type": "execute_result"
    }
   ],
   "source": [
    "math.pi"
   ]
  },
  {
   "cell_type": "code",
   "execution_count": 4,
   "id": "3a657528-5954-4da6-a031-b67bbd95f612",
   "metadata": {
    "tags": []
   },
   "outputs": [
    {
     "name": "stdout",
     "output_type": "stream",
     "text": [
      "oops <class 'ZeroDivisionError'>\n"
     ]
    }
   ],
   "source": [
    "## exercise 8.1\n",
    "\n",
    "try:\n",
    "    10/0\n",
    "except ZeroDivisionError:\n",
    "    print(\"oops\", ZeroDivisionError)"
   ]
  },
  {
   "cell_type": "code",
   "execution_count": 14,
   "id": "290aa76e-7a50-499e-9b15-cbc2f6e67f19",
   "metadata": {
    "tags": []
   },
   "outputs": [],
   "source": [
    "x = True\n",
    "assert x"
   ]
  },
  {
   "cell_type": "code",
   "execution_count": 24,
   "id": "605db9fb-d3d9-4d22-985b-0b362cb05059",
   "metadata": {
    "tags": []
   },
   "outputs": [],
   "source": [
    "## exercise 8.3\n",
    "def area(rad):\n",
    "    return math.pi*(rad**2)"
   ]
  },
  {
   "cell_type": "code",
   "execution_count": 28,
   "id": "d91b06a2-c9cd-4db5-83d8-d72154da8e95",
   "metadata": {
    "tags": []
   },
   "outputs": [],
   "source": [
    "assert isinstance(area(1), float), \"oops\""
   ]
  },
  {
   "cell_type": "code",
   "execution_count": 29,
   "id": "b9dddbb3-03ed-40f5-932d-f7c3e17f54a9",
   "metadata": {
    "tags": []
   },
   "outputs": [],
   "source": [
    "assert area(0)==0, \"oops\""
   ]
  },
  {
   "cell_type": "code",
   "execution_count": 30,
   "id": "1766b51c-6e49-4eb9-9254-338721a5c521",
   "metadata": {
    "tags": []
   },
   "outputs": [],
   "source": [
    "assert math.isclose(area(5), 78.5, abs_tol=0.1), \"oops\""
   ]
  },
  {
   "cell_type": "code",
   "execution_count": 31,
   "id": "7d9fef62-7740-415d-bf71-b512ed9cb38c",
   "metadata": {
    "tags": []
   },
   "outputs": [
    {
     "ename": "AssertionError",
     "evalue": "oops",
     "output_type": "error",
     "traceback": [
      "\u001b[1;31m---------------------------------------------------------------------------\u001b[0m",
      "\u001b[1;31mAssertionError\u001b[0m                            Traceback (most recent call last)",
      "Cell \u001b[1;32mIn[31], line 1\u001b[0m\n\u001b[1;32m----> 1\u001b[0m \u001b[38;5;28;01massert\u001b[39;00m math\u001b[38;5;241m.\u001b[39misclose(area(\u001b[38;5;241m5\u001b[39m), \u001b[38;5;241m100\u001b[39m, abs_tol\u001b[38;5;241m=\u001b[39m\u001b[38;5;241m0.1\u001b[39m), \u001b[38;5;124m\"\u001b[39m\u001b[38;5;124moops\u001b[39m\u001b[38;5;124m\"\u001b[39m\n",
      "\u001b[1;31mAssertionError\u001b[0m: oops"
     ]
    }
   ],
   "source": [
    "assert math.isclose(area(5), 100, abs_tol=0.1), \"oops\""
   ]
  },
  {
   "cell_type": "code",
   "execution_count": 33,
   "id": "2ae8310c-bada-477a-ad4b-182435d1bca5",
   "metadata": {
    "tags": []
   },
   "outputs": [
    {
     "name": "stderr",
     "output_type": "stream",
     "text": [
      "C:\\Users\\jacqu\\AppData\\Roaming\\jupyter\\runtime\\kernel-981661d0-fd83-4c6c-8101-bf26acba07f6 (unittest.loader._FailedTest) ... ERROR\n",
      "\n",
      "======================================================================\n",
      "ERROR: C:\\Users\\jacqu\\AppData\\Roaming\\jupyter\\runtime\\kernel-981661d0-fd83-4c6c-8101-bf26acba07f6 (unittest.loader._FailedTest)\n",
      "----------------------------------------------------------------------\n",
      "AttributeError: module '__main__' has no attribute 'C:\\Users\\jacqu\\AppData\\Roaming\\jupyter\\runtime\\kernel-981661d0-fd83-4c6c-8101-bf26acba07f6'\n",
      "\n",
      "----------------------------------------------------------------------\n",
      "Ran 1 test in 0.005s\n",
      "\n",
      "FAILED (errors=1)\n"
     ]
    },
    {
     "ename": "SystemExit",
     "evalue": "True",
     "output_type": "error",
     "traceback": [
      "An exception has occurred, use %tb to see the full traceback.\n",
      "\u001b[1;31mSystemExit\u001b[0m\u001b[1;31m:\u001b[0m True\n"
     ]
    },
    {
     "name": "stderr",
     "output_type": "stream",
     "text": [
      "C:\\Users\\jacqu\\anaconda3\\lib\\site-packages\\IPython\\core\\interactiveshell.py:3513: UserWarning: To exit: use 'exit', 'quit', or Ctrl-D.\n",
      "  warn(\"To exit: use 'exit', 'quit', or Ctrl-D.\", stacklevel=1)\n"
     ]
    }
   ],
   "source": [
    "## exercise 8.4\n",
    "class Student:\n",
    "\n",
    "    def __init__(self, name, courses=None):\n",
    "        self.name = name # string type\n",
    "        self.courses = [] if courses is None else courses # list of strings\n",
    "        self.num_courses = len(self.courses)\n",
    "\n",
    "    def enroll_in_course(self, course_name):\n",
    "        \"Enrolls the student in a course.\"\n",
    "        self.courses.append(course_name)\n",
    "        self.num_courses += 1 # increment the number of courses\n",
    "\n",
    "    def unenroll_in_course(self, course_name):\n",
    "        \"Unenrolls the student from a course.\"\n",
    "        if course_name in self.courses:\n",
    "            self.courses.remove(course_name)\n",
    "            self.num_courses -= 1 # decrememt the number of courses\n",
    "        else:\n",
    "            print(\"Student was not enrolled in that course\")\n",
    "from student import Student\n",
    "import unittest\n",
    "\n",
    "class EnrollInTestCase(unittest.TestCase): \n",
    "\n",
    "    def test_01_is_numCoursincremented_correctly(self):\n",
    "\n",
    "        # Create student instance, adding some courses\n",
    "        student1 = Student('Katherine', ['DS 5100'])\n",
    "        student1.enroll_in_course(\"CS 5050\")\n",
    "        student1.enroll_in_course(\"CS 5777\")\n",
    "        print(student1.courses)\n",
    "        print(student1.num_courses)\n",
    "\n",
    "        # Test\n",
    "        expected = 3\n",
    "        # unittest.TestCase brings in the assertEqual() method\n",
    "        self.assertEqual(student1.num_courses, expected)\n",
    "\n",
    "    def test_02_is_course_added(self):\n",
    "        student1 = Student('Katherine', ['DS 5100'])\n",
    "        course = \"CS 5050\"\n",
    "        student1.enroll_in_course(course)\n",
    "        student1.unenroll_in_course(course)\n",
    "        self.assertFalse(course in student1.courses)\n",
    "\n",
    "    def test_03_is_course_not_added(self):\n",
    "        student1 = Student('Katherine', ['DS 5100'])\n",
    "        expected = len(student1.courses)\n",
    "        course = \"CS 5050\"\n",
    "        student1.unenroll_in_course(course)\n",
    "        actual = len(student1.courses)\n",
    "        self.assertEqual(actual, expected)\n",
    "\n",
    "\n",
    "if __name__ == '__main__':\n",
    "    unittest.main(verbosity=2)"
   ]
  },
  {
   "cell_type": "code",
   "execution_count": 34,
   "id": "b9f7b70c-3cc3-4c14-99ea-e4bcc74a8be4",
   "metadata": {
    "tags": []
   },
   "outputs": [],
   "source": [
    "!python student.py"
   ]
  },
  {
   "cell_type": "code",
   "execution_count": 35,
   "id": "fdede5bf-54bf-4d8b-b20d-d7910571fdd3",
   "metadata": {
    "tags": []
   },
   "outputs": [
    {
     "name": "stdout",
     "output_type": "stream",
     "text": [
      "['DS 5100', 'CS 5050', 'CS 5777']\n",
      "3\n",
      "Student was not enrolled in that course\n"
     ]
    },
    {
     "name": "stderr",
     "output_type": "stream",
     "text": [
      "test_01_is_numCoursincremented_correctly (__main__.EnrollInTestCase) ... ok\n",
      "test_02_is_course_added (__main__.EnrollInTestCase) ... ok\n",
      "test_03_is_course_not_added (__main__.EnrollInTestCase) ... ok\n",
      "\n",
      "----------------------------------------------------------------------\n",
      "Ran 3 tests in 0.001s\n",
      "\n",
      "OK\n"
     ]
    }
   ],
   "source": [
    "!python student_test.py "
   ]
  },
  {
   "cell_type": "code",
   "execution_count": 36,
   "id": "1fcf1ce1-8d5f-45dd-a052-b2305a4a7982",
   "metadata": {
    "tags": []
   },
   "outputs": [
    {
     "name": "stdout",
     "output_type": "stream",
     "text": [
      "['DS 5100', 'CS 5050', 'CS 5777']\n",
      "3\n",
      "Student was not enrolled in that course\n"
     ]
    }
   ],
   "source": [
    "!python student_test.py 2> test-results.txt"
   ]
  },
  {
   "cell_type": "code",
   "execution_count": null,
   "id": "37452c1b-7267-4a04-af71-dc467b4754db",
   "metadata": {},
   "outputs": [],
   "source": []
  }
 ],
 "metadata": {
  "kernelspec": {
   "display_name": "Python 3 (ipykernel)",
   "language": "python",
   "name": "python3"
  },
  "language_info": {
   "codemirror_mode": {
    "name": "ipython",
    "version": 3
   },
   "file_extension": ".py",
   "mimetype": "text/x-python",
   "name": "python",
   "nbconvert_exporter": "python",
   "pygments_lexer": "ipython3",
   "version": "3.10.9"
  }
 },
 "nbformat": 4,
 "nbformat_minor": 5
}
