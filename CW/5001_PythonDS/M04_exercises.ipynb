{
 "cells": [
  {
   "cell_type": "code",
   "execution_count": 13,
   "id": "38bd15a9-4f2e-433d-be33-5c44f10f5be0",
   "metadata": {},
   "outputs": [],
   "source": [
    "## exercise 4.1\n",
    "def check_length(mystr, myint):\n",
    "    '''\n",
    "    This function takes in a str and an int and checks to see if they are \n",
    "    of equal length. Returns True if the str length is equal to the int and False \n",
    "    if not.\n",
    "    \n",
    "    INPUT\n",
    "    mystr         a str\n",
    "    myint         an int\n",
    "    \n",
    "    OUTPUT\n",
    "    bool          returns a boolean value (True or False)\n",
    "    '''\n",
    "    return len(mystr)==myint"
   ]
  },
  {
   "cell_type": "code",
   "execution_count": 3,
   "id": "b64a2ceb-5f79-44a7-83c9-00b2d311292a",
   "metadata": {
    "tags": []
   },
   "outputs": [
    {
     "ename": "NameError",
     "evalue": "name 'check_length' is not defined",
     "output_type": "error",
     "traceback": [
      "\u001b[1;31m---------------------------------------------------------------------------\u001b[0m",
      "\u001b[1;31mNameError\u001b[0m                                 Traceback (most recent call last)",
      "Cell \u001b[1;32mIn[3], line 2\u001b[0m\n\u001b[0;32m      1\u001b[0m str1 \u001b[38;5;241m=\u001b[39m \u001b[38;5;124m\"\u001b[39m\u001b[38;5;124mis this text the right length?\u001b[39m\u001b[38;5;124m\"\u001b[39m\n\u001b[1;32m----> 2\u001b[0m \u001b[43mcheck_length\u001b[49m(str1, \u001b[38;5;241m30\u001b[39m)\n",
      "\u001b[1;31mNameError\u001b[0m: name 'check_length' is not defined"
     ]
    }
   ],
   "source": [
    "str1 = \"is this text the right length?\"\n",
    "check_length(str1, 30)"
   ]
  },
  {
   "cell_type": "code",
   "execution_count": 15,
   "id": "8c196929-4f12-4b26-80bc-78c11fb3b84c",
   "metadata": {
    "tags": []
   },
   "outputs": [
    {
     "data": {
      "text/plain": [
       "False"
      ]
     },
     "execution_count": 15,
     "metadata": {},
     "output_type": "execute_result"
    }
   ],
   "source": [
    "check_length(\"jflksjfklsjldksjflk\", 13)"
   ]
  },
  {
   "cell_type": "code",
   "execution_count": 16,
   "id": "a6fc8526-7c1d-46aa-a846-c1bedd524692",
   "metadata": {
    "tags": []
   },
   "outputs": [
    {
     "data": {
      "text/plain": [
       "True"
      ]
     },
     "execution_count": 16,
     "metadata": {},
     "output_type": "execute_result"
    }
   ],
   "source": [
    "check_length(\"fdsjklrewuio\", 12)"
   ]
  },
  {
   "cell_type": "code",
   "execution_count": 17,
   "id": "09ab4846-fc7a-4fa2-8e38-a900426e1339",
   "metadata": {
    "tags": []
   },
   "outputs": [
    {
     "data": {
      "text/plain": [
       "False"
      ]
     },
     "execution_count": 17,
     "metadata": {},
     "output_type": "execute_result"
    }
   ],
   "source": [
    "check_length(\"fjkdskdkdkdkdk\", 5)"
   ]
  },
  {
   "cell_type": "code",
   "execution_count": 18,
   "id": "df14ee74-8b4c-4a72-bf1b-1bfbe4851084",
   "metadata": {
    "tags": []
   },
   "outputs": [],
   "source": [
    "## 4.2\n",
    "def sqargs(*x):\n",
    "    print([y**2 for y in x])\n",
    "    return None"
   ]
  },
  {
   "cell_type": "code",
   "execution_count": 26,
   "id": "cd3cf8f7-9d08-4cb3-9c02-f315b8082928",
   "metadata": {
    "tags": []
   },
   "outputs": [
    {
     "data": {
      "text/plain": [
       "False"
      ]
     },
     "execution_count": 26,
     "metadata": {},
     "output_type": "execute_result"
    }
   ],
   "source": [
    "type(\"mystr\"+\"12\")==str"
   ]
  },
  {
   "cell_type": "code",
   "execution_count": 19,
   "id": "3cd213ff-a7b7-44b8-885c-534de6b88359",
   "metadata": {
    "tags": []
   },
   "outputs": [
    {
     "name": "stdout",
     "output_type": "stream",
     "text": [
      "[4, 9, 16]\n"
     ]
    }
   ],
   "source": [
    "sqargs(2,3,4)"
   ]
  },
  {
   "cell_type": "code",
   "execution_count": 1,
   "id": "87131014-0435-4292-b8af-879a7c07844f",
   "metadata": {
    "tags": []
   },
   "outputs": [],
   "source": [
    "## 4.3\n",
    "def word_shortener(mystr):\n",
    "    if (isinstance(mystr, str) and len(mystr)>3):\n",
    "        return mystr[0].upper()+f\"{len(mystr)-2}\"+mystr[-1].upper()"
   ]
  },
  {
   "cell_type": "code",
   "execution_count": 4,
   "id": "a5341e17-286b-42f0-a96d-d209147be66e",
   "metadata": {
    "tags": []
   },
   "outputs": [
    {
     "data": {
      "text/plain": [
       "'I28?'"
      ]
     },
     "execution_count": 4,
     "metadata": {},
     "output_type": "execute_result"
    }
   ],
   "source": [
    "word_shortener(str1)"
   ]
  },
  {
   "cell_type": "code",
   "execution_count": 5,
   "id": "cd61cb41-c637-4b1e-a81e-0ef9861e7f2c",
   "metadata": {
    "tags": []
   },
   "outputs": [
    {
     "data": {
      "text/plain": [
       "True"
      ]
     },
     "execution_count": 5,
     "metadata": {},
     "output_type": "execute_result"
    }
   ],
   "source": [
    "isinstance(str1, str)"
   ]
  },
  {
   "cell_type": "code",
   "execution_count": 6,
   "id": "9a47feab-2faf-4967-80f4-eb9e4bafeb88",
   "metadata": {
    "tags": []
   },
   "outputs": [],
   "source": [
    "str1 = \"hello\""
   ]
  },
  {
   "cell_type": "code",
   "execution_count": 7,
   "id": "1deb9397-e2fc-411f-bc53-b42e2b94503b",
   "metadata": {
    "tags": []
   },
   "outputs": [
    {
     "data": {
      "text/plain": [
       "True"
      ]
     },
     "execution_count": 7,
     "metadata": {},
     "output_type": "execute_result"
    }
   ],
   "source": [
    "isinstance(str1, str)"
   ]
  },
  {
   "cell_type": "code",
   "execution_count": 8,
   "id": "66431b52-9c9f-48bf-bb9e-e22062703b79",
   "metadata": {
    "tags": []
   },
   "outputs": [
    {
     "data": {
      "text/plain": [
       "'o'"
      ]
     },
     "execution_count": 8,
     "metadata": {},
     "output_type": "execute_result"
    }
   ],
   "source": [
    "str1[-1]"
   ]
  },
  {
   "cell_type": "code",
   "execution_count": 9,
   "id": "46bd7d9e-e2df-4880-b113-2c0a238c7ac2",
   "metadata": {
    "tags": []
   },
   "outputs": [],
   "source": [
    "## 4.4\n",
    "def is_nonneg(x):\n",
    "    if x-5>=0:\n",
    "        return 1\n",
    "    else:\n",
    "        return 0"
   ]
  },
  {
   "cell_type": "code",
   "execution_count": 10,
   "id": "461c9b53-22d2-4e6e-a73e-8f67dce8ed5c",
   "metadata": {
    "tags": []
   },
   "outputs": [
    {
     "data": {
      "text/plain": [
       "0"
      ]
     },
     "execution_count": 10,
     "metadata": {},
     "output_type": "execute_result"
    }
   ],
   "source": [
    "is_nonneg(4)"
   ]
  },
  {
   "cell_type": "code",
   "execution_count": 11,
   "id": "78d0754c-bb1b-46e3-9e42-5e3a0431b4e3",
   "metadata": {
    "tags": []
   },
   "outputs": [],
   "source": [
    "## 4.6\n",
    "checking = lambda x: x>=10 and x<=20"
   ]
  },
  {
   "cell_type": "code",
   "execution_count": 12,
   "id": "adab6cf9-820a-4ad1-9ec2-4b9aeeb02742",
   "metadata": {
    "tags": []
   },
   "outputs": [
    {
     "data": {
      "text/plain": [
       "False"
      ]
     },
     "execution_count": 12,
     "metadata": {},
     "output_type": "execute_result"
    }
   ],
   "source": [
    "checking(4)"
   ]
  },
  {
   "cell_type": "code",
   "execution_count": 13,
   "id": "2af849a7-f54c-4317-bd9d-16757e82f397",
   "metadata": {
    "tags": []
   },
   "outputs": [
    {
     "data": {
      "text/plain": [
       "True"
      ]
     },
     "execution_count": 13,
     "metadata": {},
     "output_type": "execute_result"
    }
   ],
   "source": [
    "checking(15)"
   ]
  },
  {
   "cell_type": "code",
   "execution_count": 23,
   "id": "7c844364-5ce1-4d57-adb2-ded6b1c3c539",
   "metadata": {
    "tags": []
   },
   "outputs": [],
   "source": [
    "## 4.9\n",
    "c2f = lambda c: (1.8*c)+32\n",
    "f2c = lambda f: (f-32)/1.8\n",
    "t2t = lambda temp, scale: int(f2c(temp)) if scale.upper()==\"C\" else int(c2f(temp))"
   ]
  },
  {
   "cell_type": "code",
   "execution_count": 24,
   "id": "4caa209c-ceed-4e1a-b358-cfc01d1c7a82",
   "metadata": {
    "tags": []
   },
   "outputs": [
    {
     "data": {
      "text/plain": [
       "212"
      ]
     },
     "execution_count": 24,
     "metadata": {},
     "output_type": "execute_result"
    }
   ],
   "source": [
    "t2t(100, \"f\")"
   ]
  },
  {
   "cell_type": "code",
   "execution_count": 20,
   "id": "5cbe1232-b46b-411b-b8d2-9e56cd243a73",
   "metadata": {
    "tags": []
   },
   "outputs": [
    {
     "data": {
      "text/plain": [
       "12"
      ]
     },
     "execution_count": 20,
     "metadata": {},
     "output_type": "execute_result"
    }
   ],
   "source": [
    "{\"a\":12, \"b\": 34}[\"a\"]"
   ]
  },
  {
   "cell_type": "code",
   "execution_count": 25,
   "id": "aef37e10-fe5b-4a3f-899a-d6f6f872b0bc",
   "metadata": {
    "tags": []
   },
   "outputs": [],
   "source": [
    "t2t_1 = lambda temp, scale: {\"c\": int(f2c(temp)), \"f\": int(c2f(temp))}[scale]"
   ]
  },
  {
   "cell_type": "code",
   "execution_count": 26,
   "id": "6e13a087-53e6-4011-b2f1-3a191d7bac94",
   "metadata": {
    "tags": []
   },
   "outputs": [
    {
     "data": {
      "text/plain": [
       "212"
      ]
     },
     "execution_count": 26,
     "metadata": {},
     "output_type": "execute_result"
    }
   ],
   "source": [
    "t2t_1(100, \"f\")"
   ]
  },
  {
   "cell_type": "code",
   "execution_count": 27,
   "id": "112cdb45-fa71-407a-a076-f33d22f01372",
   "metadata": {
    "tags": []
   },
   "outputs": [],
   "source": [
    "a_dict = {\"c\": f2c, \"f\": c2f}\n",
    "t2t_2 = lambda temp, scale: round(a_dict[scale](temp))"
   ]
  },
  {
   "cell_type": "code",
   "execution_count": 28,
   "id": "a16dac7f-177e-4ffa-a177-cfeb140e4d8e",
   "metadata": {
    "tags": []
   },
   "outputs": [
    {
     "data": {
      "text/plain": [
       "212"
      ]
     },
     "execution_count": 28,
     "metadata": {},
     "output_type": "execute_result"
    }
   ],
   "source": [
    "t2t_2(100, \"f\")"
   ]
  },
  {
   "cell_type": "code",
   "execution_count": null,
   "id": "0afde4ab-a92d-4f39-804e-34f48238384e",
   "metadata": {},
   "outputs": [],
   "source": []
  }
 ],
 "metadata": {
  "kernelspec": {
   "display_name": "Python 3 (ipykernel)",
   "language": "python",
   "name": "python3"
  },
  "language_info": {
   "codemirror_mode": {
    "name": "ipython",
    "version": 3
   },
   "file_extension": ".py",
   "mimetype": "text/x-python",
   "name": "python",
   "nbconvert_exporter": "python",
   "pygments_lexer": "ipython3",
   "version": "3.10.9"
  }
 },
 "nbformat": 4,
 "nbformat_minor": 5
}
