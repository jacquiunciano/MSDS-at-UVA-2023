{
 "cells": [
  {
   "cell_type": "code",
   "execution_count": 9,
   "id": "c46d6b12-6194-409b-a250-c529bb2bac72",
   "metadata": {
    "tags": []
   },
   "outputs": [],
   "source": [
    "import numpy as np"
   ]
  },
  {
   "cell_type": "code",
   "execution_count": 14,
   "id": "bd419339-654f-4dde-9e16-140addc0cfe2",
   "metadata": {
    "tags": []
   },
   "outputs": [],
   "source": [
    "## exercise 5.3 randint(low, high, size)\n",
    "ran10 = np.random.randint(1,7,10)"
   ]
  },
  {
   "cell_type": "code",
   "execution_count": 19,
   "id": "13d50003-6e98-4596-8340-a6438bbb674f",
   "metadata": {
    "tags": []
   },
   "outputs": [
    {
     "name": "stdout",
     "output_type": "stream",
     "text": [
      "3,6,4,5,4,6,4,2,1,2\n"
     ]
    }
   ],
   "source": [
    "print(\",\".join(ran10.astype(str)))"
   ]
  },
  {
   "cell_type": "code",
   "execution_count": 24,
   "id": "b1787f78-b112-4497-84b8-32658a4ef27f",
   "metadata": {
    "tags": []
   },
   "outputs": [
    {
     "data": {
      "text/plain": [
       "int"
      ]
     },
     "execution_count": 24,
     "metadata": {},
     "output_type": "execute_result"
    }
   ],
   "source": [
    "## exercise 5.4\n",
    "type(np.random.randint(4))"
   ]
  },
  {
   "cell_type": "code",
   "execution_count": 25,
   "id": "92cc8180-4b63-42a4-b607-c1a588588026",
   "metadata": {
    "tags": []
   },
   "outputs": [
    {
     "data": {
      "text/plain": [
       "numpy.ndarray"
      ]
     },
     "execution_count": 25,
     "metadata": {},
     "output_type": "execute_result"
    }
   ],
   "source": [
    "type(np.random.randint(1,7,10))"
   ]
  },
  {
   "cell_type": "code",
   "execution_count": 28,
   "id": "3c9fc49c-951e-404f-a22b-d174522e1397",
   "metadata": {
    "tags": []
   },
   "outputs": [
    {
     "data": {
      "text/plain": [
       "(array([1., 0., 2., 0., 0., 0., 1., 0., 4., 2.]),\n",
       " array([1. , 1.5, 2. , 2.5, 3. , 3.5, 4. , 4.5, 5. , 5.5, 6. ]),\n",
       " <BarContainer object of 10 artists>)"
      ]
     },
     "execution_count": 28,
     "metadata": {},
     "output_type": "execute_result"
    },
    {
     "data": {
      "image/png": "[encoded data removed]",
      "text/plain": [
       "<Figure size 640x480 with 1 Axes>"
      ]
     },
     "metadata": {},
     "output_type": "display_data"
    }
   ],
   "source": [
    "## exercise 5.5\n",
    "from matplotlib.pyplot import hist\n",
    "hist(np.random.randint(1,7,10))"
   ]
  },
  {
   "cell_type": "code",
   "execution_count": 33,
   "id": "15e985ab-32c4-4c2e-8017-35b47c880176",
   "metadata": {
    "tags": []
   },
   "outputs": [
    {
     "data": {
      "text/plain": [
       "array([[ 0.98377607,  0.51382851, -0.64346799],\n",
       "       [-0.65741393,  1.51895267,  0.08714125]])"
      ]
     },
     "execution_count": 33,
     "metadata": {},
     "output_type": "execute_result"
    }
   ],
   "source": [
    "## exercise 5.6\n",
    "mat = np.random.randn(2,3)\n",
    "mat"
   ]
  },
  {
   "cell_type": "code",
   "execution_count": 32,
   "id": "6efa3ad6-0a4b-48d7-9abd-c4599564fdd5",
   "metadata": {
    "tags": []
   },
   "outputs": [
    {
     "data": {
      "text/plain": [
       "array([[-0.20622014, -0.51223386, -0.69958872],\n",
       "       [ 1.33045586, -0.42493261, -1.07872665]])"
      ]
     },
     "execution_count": 32,
     "metadata": {},
     "output_type": "execute_result"
    }
   ],
   "source": [
    "## exercise 5.7\n",
    "mat2 = mat*2\n",
    "mat2"
   ]
  },
  {
   "cell_type": "code",
   "execution_count": 35,
   "id": "a3618ea7-e2dd-4bff-a4a8-cf7ecf0c9ffe",
   "metadata": {
    "tags": []
   },
   "outputs": [],
   "source": [
    "mat3 = mat2+mat2"
   ]
  },
  {
   "cell_type": "code",
   "execution_count": 37,
   "id": "2537f773-d969-42da-99f2-849a4945cdce",
   "metadata": {
    "tags": []
   },
   "outputs": [
    {
     "data": {
      "text/plain": [
       "array([[-2.42459348, -0.97611665, -0.71470564],\n",
       "       [ 0.37581104, -1.17665717, -0.46350945]])"
      ]
     },
     "execution_count": 37,
     "metadata": {},
     "output_type": "execute_result"
    }
   ],
   "source": [
    "## exercise 5.9\n",
    "mat4 = 1/mat3\n",
    "mat4"
   ]
  },
  {
   "cell_type": "code",
   "execution_count": 41,
   "id": "58dd3c38-5f68-4783-b32c-78048842942b",
   "metadata": {
    "tags": []
   },
   "outputs": [],
   "source": [
    "## exercise 5.10\n",
    "zez = np.zeros((2,4))"
   ]
  },
  {
   "cell_type": "code",
   "execution_count": 42,
   "id": "a7e147db-df17-487c-8d40-5d084e6fc8ec",
   "metadata": {
    "tags": []
   },
   "outputs": [],
   "source": [
    "uno = np.zeros((2,4))+1"
   ]
  },
  {
   "cell_type": "code",
   "execution_count": 43,
   "id": "e9dcc373-efdf-4331-9aa1-5ad17639e9f1",
   "metadata": {
    "tags": []
   },
   "outputs": [
    {
     "data": {
      "text/plain": [
       "array([[1., 1., 1., 1.],\n",
       "       [1., 1., 1., 1.]])"
      ]
     },
     "execution_count": 43,
     "metadata": {},
     "output_type": "execute_result"
    }
   ],
   "source": [
    "uno"
   ]
  },
  {
   "cell_type": "code",
   "execution_count": 44,
   "id": "95c42def-2080-48a5-948c-6a403d945a4c",
   "metadata": {
    "tags": []
   },
   "outputs": [],
   "source": [
    "uno2 = np.ones((2,4))"
   ]
  },
  {
   "cell_type": "code",
   "execution_count": 46,
   "id": "43d43241-6a51-4af3-a9e0-1119b19ac0e8",
   "metadata": {
    "tags": []
   },
   "outputs": [
    {
     "name": "stdout",
     "output_type": "stream",
     "text": [
      "[[0. 0. 0. 0.]\n",
      " [0. 0. 0. 0.]]\n",
      "[[1. 1. 1. 1.]\n",
      " [1. 1. 1. 1.]]\n"
     ]
    }
   ],
   "source": [
    "print(zez)\n",
    "print(uno2)"
   ]
  },
  {
   "cell_type": "code",
   "execution_count": 47,
   "id": "476210fc-df6d-4bd3-8bd6-3350c5578482",
   "metadata": {
    "tags": []
   },
   "outputs": [],
   "source": [
    "## exercise 5.11\n",
    "iden = np.identity(4)"
   ]
  },
  {
   "cell_type": "code",
   "execution_count": 48,
   "id": "da14ee9c-d2bd-43cc-86af-556883405953",
   "metadata": {
    "tags": []
   },
   "outputs": [
    {
     "data": {
      "text/plain": [
       "array([[1., 0., 0., 0.],\n",
       "       [0., 1., 0., 0.],\n",
       "       [0., 0., 1., 0.],\n",
       "       [0., 0., 0., 1.]])"
      ]
     },
     "execution_count": 48,
     "metadata": {},
     "output_type": "execute_result"
    }
   ],
   "source": [
    "iden"
   ]
  },
  {
   "cell_type": "code",
   "execution_count": 64,
   "id": "c7e9fb03-7e05-42b0-bf7b-d49890fc13ab",
   "metadata": {
    "tags": []
   },
   "outputs": [],
   "source": [
    "## exercise 5.12\n",
    "v5 = np.random.randn(5)"
   ]
  },
  {
   "cell_type": "code",
   "execution_count": 65,
   "id": "0ad8e0bb-e3c5-4e5f-893f-0724d40a73c7",
   "metadata": {
    "tags": []
   },
   "outputs": [
    {
     "data": {
      "text/plain": [
       "array([0.35780159, 1.1254835 , 1.60453418])"
      ]
     },
     "execution_count": 65,
     "metadata": {},
     "output_type": "execute_result"
    }
   ],
   "source": [
    "v5[1:4]"
   ]
  },
  {
   "cell_type": "code",
   "execution_count": 66,
   "id": "03414d27-42c7-48fd-8e59-e5b74641b205",
   "metadata": {
    "tags": []
   },
   "outputs": [
    {
     "data": {
      "text/plain": [
       "array([0.35780159, 1.1254835 , 1.60453418])"
      ]
     },
     "execution_count": 66,
     "metadata": {},
     "output_type": "execute_result"
    }
   ],
   "source": [
    "## exercise 5.13\n",
    "v5[v5>0.15]"
   ]
  },
  {
   "cell_type": "code",
   "execution_count": 67,
   "id": "a166a458-fb60-406d-8f1c-807a4e75447a",
   "metadata": {
    "tags": []
   },
   "outputs": [
    {
     "data": {
      "text/plain": [
       "array([0.        , 0.35780159, 1.1254835 , 1.60453418, 0.        ])"
      ]
     },
     "execution_count": 67,
     "metadata": {},
     "output_type": "execute_result"
    }
   ],
   "source": [
    "## exercise 5.15\n",
    "v = v5.copy()\n",
    "v5[v5<0] = 0\n",
    "v5"
   ]
  },
  {
   "cell_type": "code",
   "execution_count": 75,
   "id": "b0a50bb7-af72-41e7-9bf5-708a1b31a113",
   "metadata": {
    "tags": []
   },
   "outputs": [],
   "source": [
    "## exercise 5.16\n",
    "def roll_dice(n, m=6, sort=False, reverse=False):\n",
    "    roll = np.random.randint(1,m,n)\n",
    "    if sort==True:\n",
    "        return sorted(roll, reverse=reverse)\n",
    "    else:\n",
    "        return list(roll)"
   ]
  },
  {
   "cell_type": "code",
   "execution_count": 77,
   "id": "edab6ccf-116c-44d6-b1a1-a1706ab7b304",
   "metadata": {
    "tags": []
   },
   "outputs": [
    {
     "name": "stdout",
     "output_type": "stream",
     "text": [
      "[5, 4, 4, 4, 3, 2, 2, 2, 1, 1]\n",
      "[5, 6, 6, 10, 1, 2, 1, 2, 9, 6]\n"
     ]
    }
   ],
   "source": [
    "print(roll_dice(10, sort=True, reverse=True))\n",
    "print(roll_dice(10, 12))"
   ]
  },
  {
   "cell_type": "code",
   "execution_count": 79,
   "id": "bfd3cc7c-6d5c-4dc5-823c-85205a3131eb",
   "metadata": {
    "tags": []
   },
   "outputs": [
    {
     "data": {
      "text/plain": [
       "[<matplotlib.lines.Line2D at 0x2261b281030>]"
      ]
     },
     "execution_count": 79,
     "metadata": {},
     "output_type": "execute_result"
    },
    {
     "data": {
      "image/png": "[encoded data removed]",
      "text/plain": [
       "<Figure size 640x480 with 1 Axes>"
      ]
     },
     "metadata": {},
     "output_type": "display_data"
    }
   ],
   "source": [
    "## exercise 5.17\n",
    "from matplotlib.pyplot import plot\n",
    "plot(roll_dice(8, 50))"
   ]
  },
  {
   "cell_type": "code",
   "execution_count": null,
   "id": "508b96bf-7058-4e3b-9615-3aa18685728a",
   "metadata": {},
   "outputs": [],
   "source": []
  }
 ],
 "metadata": {
  "kernelspec": {
   "display_name": "Python 3 (ipykernel)",
   "language": "python",
   "name": "python3"
  },
  "language_info": {
   "codemirror_mode": {
    "name": "ipython",
    "version": 3
   },
   "file_extension": ".py",
   "mimetype": "text/x-python",
   "name": "python",
   "nbconvert_exporter": "python",
   "pygments_lexer": "ipython3",
   "version": "3.10.9"
  }
 },
 "nbformat": 4,
 "nbformat_minor": 5
}
