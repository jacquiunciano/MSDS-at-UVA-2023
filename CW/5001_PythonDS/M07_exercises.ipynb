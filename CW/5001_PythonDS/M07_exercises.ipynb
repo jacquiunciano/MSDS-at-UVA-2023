{
 "cells": [
  {
   "cell_type": "code",
   "execution_count": 9,
   "id": "ef024c57-1d0e-48ff-a1d7-fc731d6292e6",
   "metadata": {
    "tags": []
   },
   "outputs": [],
   "source": [
    "import pandas as pd\n",
    "import numpy as np\n",
    "import matplotlib.pyplot as plt"
   ]
  },
  {
   "cell_type": "code",
   "execution_count": 2,
   "id": "ec3e9bd7-2285-486d-8a27-b7653d13764c",
   "metadata": {
    "tags": []
   },
   "outputs": [],
   "source": [
    "## exercise 7.1\n",
    "class MyOwn:\n",
    "    '''this a docstr'''\n",
    "    one = 0\n",
    "    two = 0\n",
    "    \n",
    "    def __init__(self, one, two, num):\n",
    "        self.one = one\n",
    "        self.two = two\n",
    "        self.three = num\n",
    "        \n",
    "    def static_thing(alist):\n",
    "        return sum(alist)\n",
    "    \n",
    "    def print_results(self):\n",
    "        return print(self.one, self.two, self.three)"
   ]
  },
  {
   "cell_type": "code",
   "execution_count": 3,
   "id": "9d044c7f-7bc1-4fcd-a76f-cac9ff3fe824",
   "metadata": {
    "tags": []
   },
   "outputs": [],
   "source": [
    "## exercise 7.2\n",
    "mynum = MyOwn(1,2,3)"
   ]
  },
  {
   "cell_type": "code",
   "execution_count": 8,
   "id": "f1b20ced-6246-425d-ba27-7c919ce98e95",
   "metadata": {
    "tags": []
   },
   "outputs": [
    {
     "data": {
      "text/plain": [
       "(1, 2)"
      ]
     },
     "execution_count": 8,
     "metadata": {},
     "output_type": "execute_result"
    }
   ],
   "source": [
    "mynum.one, mynum.two"
   ]
  },
  {
   "cell_type": "code",
   "execution_count": 6,
   "id": "64424a47-610e-4ab8-b678-f2638c1ec8e1",
   "metadata": {
    "tags": []
   },
   "outputs": [
    {
     "data": {
      "text/plain": [
       "3"
      ]
     },
     "execution_count": 6,
     "metadata": {},
     "output_type": "execute_result"
    }
   ],
   "source": [
    "mynum.three"
   ]
  },
  {
   "cell_type": "code",
   "execution_count": 7,
   "id": "af113545-9b1f-4c3d-9f6f-9c2c3aca7c8e",
   "metadata": {
    "tags": []
   },
   "outputs": [
    {
     "data": {
      "text/plain": [
       "6"
      ]
     },
     "execution_count": 7,
     "metadata": {},
     "output_type": "execute_result"
    }
   ],
   "source": [
    "MyOwn.static_thing([1,2,3])"
   ]
  },
  {
   "cell_type": "code",
   "execution_count": 21,
   "id": "de5e27f9-194d-4410-bc2c-b1faadb400e6",
   "metadata": {
    "tags": []
   },
   "outputs": [],
   "source": [
    "## exercise 7.3\n",
    "class Student:\n",
    "    '''stuff'''\n",
    "    name = ''\n",
    "    ID = 0\n",
    "    grades = pd.Series(dtype=float)\n",
    "    \n",
    "    def __init__(self, name, ID):\n",
    "        self.name = name\n",
    "        self.ID = ID\n",
    "        \n",
    "    def add_work(self, workname, workgrade):\n",
    "        self.grades.loc[workname] = workgrade\n",
    "        \n",
    "    def show_grades(self):\n",
    "        self.grades.plt.bar(title=f\"Grades for {self.name} ({self.id})\")"
   ]
  },
  {
   "cell_type": "code",
   "execution_count": 22,
   "id": "147280f6-5fbd-4bad-be62-52dd391ba267",
   "metadata": {
    "tags": []
   },
   "outputs": [],
   "source": [
    "mystudent = Student(\"Anna\", 2)"
   ]
  },
  {
   "cell_type": "code",
   "execution_count": 23,
   "id": "f20b23ba-582c-407d-a1b9-e6a18a4f0fbf",
   "metadata": {
    "tags": []
   },
   "outputs": [],
   "source": [
    "mystudent.add_work(\"hw01\", 87)\n",
    "mystudent.add_work(\"hw02\", 75)\n",
    "mystudent.add_work(\"hw03\", 99)\n",
    "mystudent.add_work(\"hw04\", 79)"
   ]
  },
  {
   "cell_type": "code",
   "execution_count": 24,
   "id": "26e19f5b-57f2-45b5-8e5a-83d0831a83bd",
   "metadata": {
    "tags": []
   },
   "outputs": [
    {
     "data": {
      "text/plain": [
       "hw01    87\n",
       "hw02    75\n",
       "hw03    99\n",
       "hw04    79\n",
       "dtype: int64"
      ]
     },
     "execution_count": 24,
     "metadata": {},
     "output_type": "execute_result"
    }
   ],
   "source": [
    "mystudent.grades"
   ]
  },
  {
   "cell_type": "code",
   "execution_count": 27,
   "id": "55f3dbee-f4b2-4137-82d6-6ef75b85f3bb",
   "metadata": {
    "tags": []
   },
   "outputs": [
    {
     "data": {
      "text/plain": [
       "<bound method Student.show_grades of <__main__.Student object at 0x000001A1C7EDF4C0>>"
      ]
     },
     "execution_count": 27,
     "metadata": {},
     "output_type": "execute_result"
    }
   ],
   "source": [
    "mystudent.show_grades"
   ]
  },
  {
   "cell_type": "code",
   "execution_count": null,
   "id": "01daaf64-7b40-4c23-9c63-bff4529e3868",
   "metadata": {},
   "outputs": [],
   "source": []
  }
 ],
 "metadata": {
  "kernelspec": {
   "display_name": "Python 3 (ipykernel)",
   "language": "python",
   "name": "python3"
  },
  "language_info": {
   "codemirror_mode": {
    "name": "ipython",
    "version": 3
   },
   "file_extension": ".py",
   "mimetype": "text/x-python",
   "name": "python",
   "nbconvert_exporter": "python",
   "pygments_lexer": "ipython3",
   "version": "3.10.9"
  }
 },
 "nbformat": 4,
 "nbformat_minor": 5
}
