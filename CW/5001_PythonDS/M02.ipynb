{
 "cells": [
  {
   "cell_type": "code",
   "execution_count": 1,
   "id": "7ac9477b-170c-4fe4-b32c-108e69dab564",
   "metadata": {},
   "outputs": [],
   "source": [
    "## example 2.1\n",
    "mystr = \"jacqueline\""
   ]
  },
  {
   "cell_type": "code",
   "execution_count": 2,
   "id": "26d5c53e-8706-4a04-82d0-3917cb81ebeb",
   "metadata": {},
   "outputs": [
    {
     "data": {
      "text/plain": [
       "'jac'"
      ]
     },
     "execution_count": 2,
     "metadata": {},
     "output_type": "execute_result"
    }
   ],
   "source": [
    "mystr[:3]"
   ]
  },
  {
   "cell_type": "code",
   "execution_count": 4,
   "id": "a027bf7c-0d2e-4be2-a2de-39fded2ed2f3",
   "metadata": {},
   "outputs": [
    {
     "data": {
      "text/plain": [
       "'ine'"
      ]
     },
     "execution_count": 4,
     "metadata": {},
     "output_type": "execute_result"
    }
   ],
   "source": [
    "mystr[-3:]"
   ]
  },
  {
   "cell_type": "code",
   "execution_count": 5,
   "id": "d6482e01-0f01-4701-851f-d04950d48c84",
   "metadata": {},
   "outputs": [],
   "source": [
    "## example 2.2\n",
    "newlist = [1,2,3]"
   ]
  },
  {
   "cell_type": "code",
   "execution_count": 7,
   "id": "342b6f7d-0664-4f5e-ab11-12cfff3c8ddf",
   "metadata": {},
   "outputs": [
    {
     "data": {
      "text/plain": [
       "2"
      ]
     },
     "execution_count": 7,
     "metadata": {},
     "output_type": "execute_result"
    }
   ],
   "source": [
    "newlist[1]"
   ]
  },
  {
   "cell_type": "code",
   "execution_count": 8,
   "id": "7261c1e5-1f6c-4a42-826d-ced12ae5e724",
   "metadata": {},
   "outputs": [],
   "source": [
    "## list.append() is a way to add to a list"
   ]
  },
  {
   "cell_type": "code",
   "execution_count": 9,
   "id": "9da75fc1-5245-40ab-a74d-97c32f0491c2",
   "metadata": {},
   "outputs": [],
   "source": [
    "## example 2.3\n",
    "mytup = (1,2,3)"
   ]
  },
  {
   "cell_type": "code",
   "execution_count": 10,
   "id": "06837ee5-9afb-40c6-be17-407b2e7387d0",
   "metadata": {},
   "outputs": [
    {
     "ename": "AttributeError",
     "evalue": "'tuple' object has no attribute 'append'",
     "output_type": "error",
     "traceback": [
      "\u001b[1;31m---------------------------------------------------------------------------\u001b[0m",
      "\u001b[1;31mAttributeError\u001b[0m                            Traceback (most recent call last)",
      "Cell \u001b[1;32mIn[10], line 1\u001b[0m\n\u001b[1;32m----> 1\u001b[0m \u001b[43mmytup\u001b[49m\u001b[38;5;241;43m.\u001b[39;49m\u001b[43mappend\u001b[49m(\u001b[38;5;241m4\u001b[39m)\n",
      "\u001b[1;31mAttributeError\u001b[0m: 'tuple' object has no attribute 'append'"
     ]
    }
   ],
   "source": [
    "mytup.append(4)"
   ]
  },
  {
   "cell_type": "code",
   "execution_count": 11,
   "id": "6c41e370-e704-487f-a295-8ef540ebf0fe",
   "metadata": {},
   "outputs": [],
   "source": [
    "## tuple([1,2,3])\n",
    "## tuples are immutable and therefore cannot append or change a value"
   ]
  },
  {
   "cell_type": "code",
   "execution_count": 12,
   "id": "00cd43bf-311f-44cb-858e-25279b472261",
   "metadata": {},
   "outputs": [],
   "source": [
    "## example 2.4\n",
    "value = \"ERROR\"\n",
    "levels = {\"WARN\",\"ERROR\",\"CRITICAL\"}"
   ]
  },
  {
   "cell_type": "code",
   "execution_count": 15,
   "id": "ac4b2f98-0fb5-4f07-a0e1-0f15e572cc41",
   "metadata": {},
   "outputs": [
    {
     "data": {
      "text/plain": [
       "True"
      ]
     },
     "execution_count": 15,
     "metadata": {},
     "output_type": "execute_result"
    }
   ],
   "source": [
    "## can ask if a word or char is in a str or list or thing\n",
    "value in levels"
   ]
  },
  {
   "cell_type": "code",
   "execution_count": 16,
   "id": "b2b7ac86-1347-4f50-a99a-9b6b40a3e2a6",
   "metadata": {},
   "outputs": [
    {
     "data": {
      "text/plain": [
       "False"
      ]
     },
     "execution_count": 16,
     "metadata": {},
     "output_type": "execute_result"
    }
   ],
   "source": [
    "nom = \"tree\"\n",
    "nom in levels"
   ]
  },
  {
   "cell_type": "code",
   "execution_count": 17,
   "id": "f94c6ee6-c27c-4286-897a-b239aaf59c6f",
   "metadata": {},
   "outputs": [
    {
     "data": {
      "text/plain": [
       "False"
      ]
     },
     "execution_count": 17,
     "metadata": {},
     "output_type": "execute_result"
    }
   ],
   "source": [
    "e = \"E\"\n",
    "e in levels"
   ]
  },
  {
   "cell_type": "code",
   "execution_count": 18,
   "id": "4ac3b650-8b0e-45be-b863-b3ea8aff58e5",
   "metadata": {},
   "outputs": [],
   "source": [
    "## example 2.5\n",
    "mydic = {1:2, 3:4, 5:6}"
   ]
  },
  {
   "cell_type": "code",
   "execution_count": 25,
   "id": "baf945c9-e484-4129-b719-6a57fb13881e",
   "metadata": {},
   "outputs": [
    {
     "data": {
      "text/plain": [
       "2"
      ]
     },
     "execution_count": 25,
     "metadata": {},
     "output_type": "execute_result"
    }
   ],
   "source": [
    "mydic.get(1)"
   ]
  },
  {
   "cell_type": "code",
   "execution_count": 30,
   "id": "6ef61132-cc1e-4ad7-9483-28d89cae9408",
   "metadata": {},
   "outputs": [
    {
     "data": {
      "text/plain": [
       "dict_values([2, 4, 6])"
      ]
     },
     "execution_count": 30,
     "metadata": {},
     "output_type": "execute_result"
    }
   ],
   "source": [
    "mydic.values()"
   ]
  },
  {
   "cell_type": "code",
   "execution_count": 31,
   "id": "57a4f32d-4b89-466e-8026-c00d3d74b8b6",
   "metadata": {},
   "outputs": [
    {
     "name": "stdout",
     "output_type": "stream",
     "text": [
      "[1, 3, 5]\n"
     ]
    }
   ],
   "source": [
    "mykeys = list(mydic.keys())\n",
    "print(mykeys)"
   ]
  },
  {
   "cell_type": "code",
   "execution_count": 45,
   "id": "6871bc46-09c2-495d-a966-c460e8b57b7d",
   "metadata": {},
   "outputs": [],
   "source": [
    "## example 2.6\n",
    "thestr = \"The quick brown fox jumped over the lazy dogs.\"\n",
    "newstr = thestr.lower().strip(\".\").split(\" \")"
   ]
  },
  {
   "cell_type": "code",
   "execution_count": 46,
   "id": "284dbb9c-dc0c-40ba-a8d2-d6297f962901",
   "metadata": {},
   "outputs": [
    {
     "data": {
      "text/plain": [
       "['the', 'quick', 'brown', 'fox', 'jumped', 'over', 'the', 'lazy', 'dogs']"
      ]
     },
     "execution_count": 46,
     "metadata": {},
     "output_type": "execute_result"
    }
   ],
   "source": [
    "newstr"
   ]
  },
  {
   "cell_type": "code",
   "execution_count": 47,
   "id": "0c28a3e3-7172-4cb5-817f-e15551d90fd4",
   "metadata": {},
   "outputs": [
    {
     "data": {
      "text/plain": [
       "{'brown', 'dogs', 'fox', 'jumped', 'lazy', 'over', 'quick', 'the'}"
      ]
     },
     "execution_count": 47,
     "metadata": {},
     "output_type": "execute_result"
    }
   ],
   "source": [
    "newset = set(newstr)\n",
    "newset"
   ]
  },
  {
   "cell_type": "code",
   "execution_count": null,
   "id": "0e1363ee-e4d8-4a14-a077-650c24bfadc8",
   "metadata": {},
   "outputs": [],
   "source": [
    "## str.replace(\".\", \"\")\n",
    "## sorted(list of str) will create a list"
   ]
  },
  {
   "cell_type": "code",
   "execution_count": 48,
   "id": "14601d71-0d2f-48af-947e-b2fe8849747d",
   "metadata": {},
   "outputs": [
    {
     "data": {
      "text/plain": [
       "['brown', 'dogs', 'fox', 'jumped', 'lazy', 'over', 'quick', 'the', 'the']"
      ]
     },
     "execution_count": 48,
     "metadata": {},
     "output_type": "execute_result"
    }
   ],
   "source": [
    "sorted(newstr)"
   ]
  }
 ],
 "metadata": {
  "kernelspec": {
   "display_name": "Python 3 (ipykernel)",
   "language": "python",
   "name": "python3"
  },
  "language_info": {
   "codemirror_mode": {
    "name": "ipython",
    "version": 3
   },
   "file_extension": ".py",
   "mimetype": "text/x-python",
   "name": "python",
   "nbconvert_exporter": "python",
   "pygments_lexer": "ipython3",
   "version": "3.10.9"
  }
 },
 "nbformat": 4,
 "nbformat_minor": 5
}
