{
 "cells": [
  {
   "cell_type": "markdown",
   "metadata": {
    "id": "QuxIic64foOd"
   },
   "source": [
    "## **Majority Element**\n",
    "\n",
    "Given an array nums of size n, return the majority element.\n",
    "\n",
    "The majority element is the element that appears more than ⌊n / 2⌋ times. You may assume that the majority element always exists in the array.\n",
    "\n",
    "(Optional) Analyze the complexity of your algorithm and compare it with your classmates'\n",
    "\n",
    "Example 1:\n",
    "\n",
    "*   Input: nums = [3,2,3]\n",
    "*   Output: 3\n",
    "\n",
    "Example 2:\n",
    "\n",
    "*   Input: nums = [2,2,1,1,1,2,2]\n",
    "*   Output: 2\n"
   ]
  },
  {
   "cell_type": "code",
   "execution_count": 1,
   "metadata": {
    "colab": {
     "base_uri": "https://localhost:8080/"
    },
    "id": "jYdW0TyOfqBO",
    "outputId": "86f13499-48ab-4495-d0e5-ce67eb15a6c6"
   },
   "outputs": [],
   "source": [
    "def maj(arr):\n",
    "    counts = {}  ## O(1)\n",
    "    for num in arr: ## O(n)\n",
    "        if num in counts: \n",
    "            counts[num] += 1 ## O(1)\n",
    "        else:\n",
    "            counts[num] = 1 ## O(1)\n",
    "\n",
    "    maj = None ## O(1)\n",
    "    max_count = 0 ## O(1)\n",
    "    for num, count in counts.items(): ## O(n)\n",
    "        if count > (len(arr)/2):\n",
    "            maj = num\n",
    "\n",
    "    return maj"
   ]
  },
  {
   "cell_type": "code",
   "execution_count": 2,
   "metadata": {},
   "outputs": [],
   "source": [
    "from collections import Counter"
   ]
  },
  {
   "cell_type": "code",
   "execution_count": 3,
   "metadata": {},
   "outputs": [],
   "source": [
    "def maj_element(arr):\n",
    "    freq = Counter(arr)\n",
    "    size = len(arr)\n",
    "    maj_element = False\n",
    "    for key in freq:\n",
    "        if freq[key] > (size/2):\n",
    "            maj_element = key\n",
    "    return maj_element"
   ]
  },
  {
   "cell_type": "markdown",
   "metadata": {
    "id": "1tAFWIwThqCj"
   },
   "source": [
    "## **Word Pattern**\n",
    "\n",
    "Given a pattern and a string s, find if s follows the same pattern.\n",
    "\n",
    "Here follow means a full match, such that there is a bijection between a letter in pattern and a non-empty word in s.\n",
    "\n",
    "(Optional) Analyze the complexity of your algorithm and compare it with your classmates'\n",
    "---\n",
    "\n",
    "**Example 1:**\n",
    "\n",
    "*   Input: pattern = \"abba\", s = \"dog cat cat dog\"\n",
    "*   Output: true\n",
    "\n",
    "Example 2:\n",
    "\n",
    "*   pattern = \"abba\", s = \"dog cat cat fish\"\n",
    "*   false\n",
    "\n",
    "Example 3:\n",
    "\n",
    "*   pattern = \"aaaa\", s = \"dog cat cat dog\"\n",
    "*   false"
   ]
  },
  {
   "cell_type": "code",
   "execution_count": 8,
   "metadata": {},
   "outputs": [
    {
     "name": "stdout",
     "output_type": "stream",
     "text": [
      "True\n",
      "False\n",
      "False\n"
     ]
    }
   ],
   "source": [
    "def pat_str(pattern, string):\n",
    "    words = string.lower().split()\n",
    "    char_to_word = {}\n",
    "    word_to_char = {}\n",
    "    \n",
    "    for char, word in zip(pattern, words):\n",
    "        if char in char_to_word:\n",
    "            if char_to_word[char] != word:\n",
    "                return False\n",
    "        else:\n",
    "            if word in word_to_char:\n",
    "                return False\n",
    "            char_to_word[char] = word\n",
    "            word_to_char[word] = char\n",
    "    \n",
    "    return True\n",
    "\n",
    "\n",
    "print(pat_str(\"abba\", \"dog cat cat dog\"))  # Output: True\n",
    "print(pat_str(\"abba\", \"dog cat cat fish\"))  # Output: False\n",
    "print(pat_str(\"aaaa\", \"dog cat cat dog\"))  # Output: False"
   ]
  },
  {
   "cell_type": "markdown",
   "metadata": {
    "id": "LOetDppKZHgG"
   },
   "source": [
    "## **Roman to Integer**\n",
    "\n",
    "Roman numerals are represented by seven different symbols: I, V, X, L, C, D and M.\n",
    "\n",
    "Symbol - Value: (I - 1), (V - 5), (X - 10), (L - 50), (C - 100), (D - 500), (M - 1000)\n",
    "\n",
    "For example, `2` is written as `II` in Roman numeral, just two ones added together. `12` is written as `XII`, which is simply `X + II`. The number `27` is written as `XXVII`, which is `XX + V + II`.\n",
    "\n",
    "Roman numerals are usually written largest to smallest from left to right.\n",
    "\n",
    "However, the numeral for `four` is not `IIII`. Instead, the number `four` is written as `IV`. Because the one is before the five we subtract it making `four`. The same principle applies to the number nine, which is written as `IX`. There are six instances where subtraction is used:\n",
    "\n",
    "`I` can be placed before `V (5)` and `X (10)` to make `4` and `9`.\n",
    "\n",
    "`X` can be placed before `L (50)` and `C (100)` to make `40` and `90`.\n",
    "\n",
    "`C` can be placed before `D (500)` and `M (1000)` to make `400` and `900`.\n",
    "\n",
    "Given a roman numeral, convert it to an integer.\n",
    "\n",
    "(Optional) Analyze the complexity of your algorithm and compare it with your classmates'\n",
    "\n",
    "---\n",
    "\n",
    "**Example 1:**\n",
    "\n",
    "*   Input: s = \"III\"\n",
    "*   Output: 3\n",
    "*   Explanation: III = 3.\n",
    "\n",
    "**Example 2:**\n",
    "\n",
    "*   Input: s = \"LVIII\"\n",
    "*   Output: 58\n",
    "*   Explanation: L = 50, V= 5, III = 3.\n",
    "\n",
    "**Example 3:**\n",
    "\n",
    "*   Input: s = \"MCMXCIV\"\n",
    "*   Output: 1994\n",
    "*   Explanation: M = 1000, CM = 900, XC = 90 and IV = 4.\n"
   ]
  },
  {
   "cell_type": "code",
   "execution_count": 14,
   "metadata": {
    "colab": {
     "base_uri": "https://localhost:8080/"
    },
    "id": "1HDhL5A-ccPp",
    "outputId": "347cd705-a842-44b7-80d5-34b57a578085"
   },
   "outputs": [
    {
     "name": "stdout",
     "output_type": "stream",
     "text": [
      "False\n",
      "4\n",
      "9\n",
      "False\n",
      "1994\n"
     ]
    }
   ],
   "source": [
    "def romanToInt(s):\n",
    "    roman_dict = {\n",
    "        'I': 1,\n",
    "        'V': 5,\n",
    "        'X': 10,\n",
    "        'L': 50,\n",
    "        'C': 100,\n",
    "        'D': 500,\n",
    "        'M': 1000\n",
    "    }\n",
    "\n",
    "    prev_value = 0\n",
    "    consecutive_count = 0 \n",
    "\n",
    "    for c in s[::-1]:  \n",
    "        current_value = roman_dict.get(c, 0)  \n",
    "\n",
    "        if current_value < prev_value:\n",
    "            consecutive_count = 0  \n",
    "        else:\n",
    "            consecutive_count += 1\n",
    "            if consecutive_count > 3:\n",
    "                return False  \n",
    "\n",
    "        if consecutive_count == 2 and (current_value * 10 != prev_value or c in \"VLD\"):\n",
    "            return False \n",
    "\n",
    "        prev_value = current_value\n",
    "\n",
    "    result = 0\n",
    "    prev_value = 0\n",
    "\n",
    "    for i in range(len(s) - 1, -1, -1):\n",
    "        current_value = roman_dict[s[i]]\n",
    "        \n",
    "        if current_value < prev_value:\n",
    "            result -= current_value\n",
    "        else:\n",
    "            result += current_value\n",
    "        \n",
    "        prev_value = current_value\n",
    "    \n",
    "    return result\n",
    "\n",
    "# Test cases\n",
    "print(romanToInt(\"III\"))  \n",
    "print(romanToInt(\"IV\"))   \n",
    "print(romanToInt(\"IX\"))   \n",
    "print(romanToInt(\"LVIII\"))  \n",
    "print(romanToInt(\"MCMXCIV\"))  "
   ]
  },
  {
   "cell_type": "markdown",
   "metadata": {
    "id": "H0z67LvMaAFE"
   },
   "source": [
    "## **Design a HashMap without using any built-in hash table libraries.**\n",
    "\n",
    "**Implement the MyHashMap class:**\n",
    "\n",
    "*   `MyHashMap(int table_size)` initializes the object with an empty map, and a data container of size `table_size`\n",
    "*   `put(int key, int value)` inserts a (key, value) pair into the HashMap.\n",
    "If the key already exists in the map, update the corresponding value.\n",
    "*   `get(int key)` returns the value to which the specified key is mapped, or -1 if this map contains no mapping for the key.\n",
    "*   `remove(key)` removes the key and its corresponding value if the map contains the mapping for the key.\n",
    "*   Handling collision using chaining, you can use python list to create the stored chain.\n",
    "\n",
    "(Optional) Analyze the complexity of your algorithm and compare it with your classmates'\n",
    "\n",
    "---\n",
    "\n",
    "\n",
    "**Example**\n",
    "\n",
    "Input:\n",
    "*   function: [\"MyHashMap\", \"put\", \"put\", \"get\", \"get\", \"put\", \"get\", \"remove\", \"get\"]\n",
    "*   input value: [[], [1, 1], [2, 2], [1], [3], [2, 1], [2], [2], [2]]\n",
    "\n",
    "Output:\n",
    "\n",
    "*   [null, null, null, 1, -1, null, 1, null, -1]\n",
    "\n",
    "*Explanation*\n",
    "```\n",
    "# This is formatted as code\n",
    "MyHashMap myHashMap = new MyHashMap();\n",
    "myHashMap.put(1, 1); // The map is now [[1,1]]\n",
    "myHashMap.put(2, 2); // The map is now [[1,1], [2,2]]\n",
    "myHashMap.get(1);    // return 1, The map is now [[1,1], [2,2]]\n",
    "myHashMap.get(3);    // return -1 (i.e., not found), The map is now [[1,1], [2,2]]\n",
    "myHashMap.put(2, 1); // The map is now [[1,1], [2,1]] (i.e., update the existing value)\n",
    "myHashMap.get(2);    // return 1, The map is now [[1,1], [2,1]]\n",
    "myHashMap.remove(2); // remove the mapping for 2, The map is now [[1,1]]\n",
    "myHashMap.get(2);    // return -1 (i.e., not found), The map is now [[1,1]]\n",
    "\n",
    "```\n",
    "\n"
   ]
  },
  {
   "cell_type": "code",
   "execution_count": null,
   "metadata": {
    "colab": {
     "base_uri": "https://localhost:8080/"
    },
    "id": "s-Jpt8H4cQo2",
    "outputId": "1194a60e-926f-4198-faa2-dd4e85294540"
   },
   "outputs": [
    {
     "name": "stdout",
     "output_type": "stream",
     "text": [
      "1\n",
      "-1\n",
      "-1\n"
     ]
    }
   ],
   "source": []
  }
 ],
 "metadata": {
  "colab": {
   "provenance": []
  },
  "kernelspec": {
   "display_name": "Python 3 (ipykernel)",
   "language": "python",
   "name": "python3"
  },
  "language_info": {
   "codemirror_mode": {
    "name": "ipython",
    "version": 3
   },
   "file_extension": ".py",
   "mimetype": "text/x-python",
   "name": "python",
   "nbconvert_exporter": "python",
   "pygments_lexer": "ipython3",
   "version": "3.11.4"
  }
 },
 "nbformat": 4,
 "nbformat_minor": 4
}
