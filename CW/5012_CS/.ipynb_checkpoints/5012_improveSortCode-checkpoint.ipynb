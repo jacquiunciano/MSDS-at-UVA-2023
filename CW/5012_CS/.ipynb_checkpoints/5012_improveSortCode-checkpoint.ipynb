{
  "nbformat": 4,
  "nbformat_minor": 0,
  "metadata": {
    "kernelspec": {
      "display_name": "Python 3",
      "language": "python",
      "name": "python3"
    },
    "language_info": {
      "codemirror_mode": {
        "name": "ipython",
        "version": 3
      },
      "file_extension": ".py",
      "mimetype": "text/x-python",
      "name": "python",
      "nbconvert_exporter": "python",
      "pygments_lexer": "ipython3",
      "version": "3.8.3"
    },
    "colab": {
      "name": "5012_improveSortCode.ipynb",
      "provenance": []
    }
  },
  "cells": [
    {
      "cell_type": "markdown",
      "metadata": {
        "id": "lroct7FNLQWf"
      },
      "source": [
        "# Improving Efficiency and Time Complexity Analysis: Sort Example\n",
        "\n",
        "In this example we leverage our understanding of computational complexity to assess and improve efficiency of existing code. The result is reduced time complexity and overall runtime.\n",
        "\n",
        "Time Complexity is shown in the comments and Step Count functions are derived for each algorithm."
      ]
    },
    {
      "cell_type": "code",
      "metadata": {
        "id": "jhU9PvP0LQWi"
      },
      "source": [
        "from itertools import chain\n",
        "import time\n",
        "import random\n",
        "import matplotlib.pyplot as plt\n",
        "import heapq as hq\n"
      ],
      "execution_count": 1,
      "outputs": []
    },
    {
      "cell_type": "code",
      "metadata": {
        "id": "Ax-YtNKyLQWj"
      },
      "source": [
        "def bubbleSortInefficient(myArray):\n",
        "    '''\n",
        "    Performs bubble sort (poorly ...)\n",
        "    \n",
        "    Arguments\n",
        "    ---------\n",
        "    myArray: list\n",
        "       list to be sorted\n",
        "    \n",
        "    Returns\n",
        "    --------\n",
        "    none: sorts in-place      \n",
        "    \n",
        "    Note: Computational Step Count Estimates (worst case) shown in comments\n",
        "    '''\n",
        "  \n",
        "    \n",
        "    n = len(myArray)    # c1: constant number of steps\n",
        "    for dummy in range(n):  # c2*n: a linear number of steps \n",
        "        for i in range(n-1): # c4*n(n-1): a quadratic number of steps\n",
        "            if myArray[i+1] < myArray[i]: # c5*n(n-1)\n",
        "                temp = myArray[i]  # c6*n(n-1) ... worst case\n",
        "                myArray[i] = myArray[i+1]  # c7*n(n-1)  ... worst case\n",
        "                myArray[i+1] = temp  # c8*n(n-1)  ... worst case\n",
        "            # else do nothing\n",
        "\n",
        "# Over all computational step count T(n) for insertions sort with list of size n:\n",
        "    # T(n) = c1 + c2*n + (c4 + c5 + c6 + c7 + c8)(n(n-1))\n",
        "    #      = c1 + c9*n + c10(n(n-1))                 \n"
      ],
      "execution_count": 2,
      "outputs": []
    },
    {
      "cell_type": "code",
      "metadata": {
        "id": "O-s0d2eWLQWk"
      },
      "source": [
        "def bubbleSort(myArray):\n",
        "    '''\n",
        "    Performs bubble sort\n",
        "    \n",
        "    Arguments\n",
        "    ---------\n",
        "    myArray: list\n",
        "       list to be sorted\n",
        "    \n",
        "    Returns\n",
        "    --------\n",
        "    none: sorts in-place      \n",
        "    \n",
        "    Note: Computational Step Count Estimates (worst case) shown in comments\n",
        "    '''\n",
        "    \n",
        "    \n",
        "    n = len(myArray)    # c1: constant number of steps\n",
        "    while n > 0:  # c2*n: a linear number of steps \n",
        "        #sortedArray = list(myArray)\n",
        "        alreadySorted = True  # c3 * n\n",
        "        for i in range(n-1): # c4*(1+2+3+...+n): a quadratic number of steps\n",
        "            if myArray[i+1] < myArray[i]: # c5*n(n-1)/2\n",
        "                temp = myArray[i]  # c6*n(n-1)/2\n",
        "                myArray[i] = myArray[i+1]  # c7*n(n-1)/2\n",
        "                myArray[i+1] = temp #c8*n(n-1)/2\n",
        "                alreadySorted = False #c9*n(n-1)/2\n",
        "        if alreadySorted: # assume part of c4\n",
        "            break  # 0 .... assume worst case\n",
        "        n = n-1  # assume part of c2\n",
        "           \n",
        "\n",
        "\n",
        "\n",
        "    # Over all computational step count T(n) for insertions sort with list of size n:\n",
        "        # T(n) = c1 + c2*n+ c3*n + (c4 + c5 + c6 + c7 + c8 + c9)(n(n-1)/2)\n",
        "        #      = c1 + c10*n + c11*(n(n-1)/2)\n",
        "        "
      ],
      "execution_count": 3,
      "outputs": []
    },
    {
      "cell_type": "markdown",
      "metadata": {
        "id": "vi6b_R9nLQWl"
      },
      "source": [
        "Observe the original (inefficient) version of the sorting algorithm has almost twice the number of computational steps. Recognizing that after each outer iteration, one new item is placed in the correct order allows us to reduce the number of iterations in the inner loop by one after each iteration."
      ]
    },
    {
      "cell_type": "markdown",
      "metadata": {
        "id": "c5hOChidLQWl"
      },
      "source": [
        "###Main: Run trials and record the runtimes of each sorting algorithm"
      ]
    },
    {
      "cell_type": "code",
      "metadata": {
        "id": "fxf2aefeLQWm",
        "colab": {
          "base_uri": "https://localhost:8080/",
          "height": 312
        },
        "outputId": "f88f2067-46ab-480c-e287-4185000faa41"
      },
      "source": [
        "## record the time results\n",
        "slowSort = []\n",
        "improvedSort  = []\n",
        "\n",
        "\n",
        "size = 10000\n",
        "stepSize = 1000\n",
        "## calculate the time required to sort various size lists\n",
        "for i in range(0, size, stepSize):\n",
        "    ## generate the random list\n",
        "    rList = random.sample(range(0, size), i)\n",
        "    rListCopy = rList.copy()\n",
        "    \n",
        "    \n",
        "    ## do the inefficient insertion sort\n",
        "    start = time.perf_counter()\n",
        "    bubbleSortInefficient(rListCopy)\n",
        "    slowSort.append(time.perf_counter() - start)\n",
        "    \n",
        "    ## do the insertion sort\n",
        "    start = time.perf_counter()\n",
        "    bubbleSort(rList)\n",
        "    improvedSort.append(time.perf_counter() - start)\n",
        "\n",
        "    \n",
        "\n",
        "## plot the results\n",
        "plt.plot(range(0, size, stepSize), slowSort, label = 'Slow Sort')\n",
        "plt.plot(range(0, size, stepSize), improvedSort, label = 'Improved Sort')\n",
        "#plt.plot(range(0, size, stepSize), defaultTime, label = 'Default')\n",
        "plt.legend(frameon = 'none')\n",
        "plt.title('Time Comparison of Sort Algos')\n",
        "plt.xlabel('List Size')\n",
        "plt.ylabel('Time')\n"
      ],
      "execution_count": 4,
      "outputs": [
        {
          "output_type": "execute_result",
          "data": {
            "text/plain": [
              "Text(0, 0.5, 'Time')"
            ]
          },
          "metadata": {
            "tags": []
          },
          "execution_count": 4
        },
        {
          "output_type": "display_data",
          "data": {
            "image/png": "[encoded data removed]",
            "text/plain": [
              "<Figure size 432x288 with 1 Axes>"
            ]
          },
          "metadata": {
            "tags": [],
            "needs_background": "light"
          }
        }
      ]
    },
    {
      "cell_type": "code",
      "metadata": {
        "id": "yXX-GyPqLQWs"
      },
      "source": [
        ""
      ],
      "execution_count": 4,
      "outputs": []
    }
  ]
}