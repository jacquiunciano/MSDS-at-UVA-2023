{
 "cells": [
  {
   "cell_type": "code",
   "execution_count": null,
   "id": "36f5a4b4-6ab3-4511-80eb-467afbaad7d2",
   "metadata": {},
   "outputs": [],
   "source": [
    "class Node:\n",
    "    \n",
    "\tdef __init__(self, key):\n",
    "\t\tself.left = None\n",
    "\t\tself.right = None\n",
    "\t\tself.val = key\n",
    "\n",
    "\n",
    "# Driver code\n",
    "if __name__ == '__main__':\n",
    "\troot = Node(3)\n",
    "\n",
    "\troot.left = Node(1)\n",
    "\troot.right = Node(6)\n",
    "\n",
    "\troot.left.left = Node(2)\n",
    "    root.left.right = Node(11)\n",
    "\n",
    "    root.right.right = Node(5)\n",
    "    root.right.left = Node(9)"
   ]
  },
  {
   "cell_type": "code",
   "execution_count": 2,
   "id": "5a449d2a-f65f-4efb-b223-8df9aadbe4dc",
   "metadata": {},
   "outputs": [],
   "source": [
    "class BinaryTree:\n",
    "    \n",
    "    def init (self, root=None):\n",
    "        if root is not None:\n",
    "            self.root = TreeNode(root)\n",
    "        else:\n",
    "            self.root = None\n",
    "\n",
    "    def insert(self, val):\n",
    "        if not self.root:\n",
    "            self.root = TreeNode(root)\n",
    "        else:\n",
    "            self.__insert__recursively(self.root, val)\n",
    "\n",
    "    def __insert__recursively(self, node, val):\n",
    "        if val < node.data:\n",
    "            if node.left is None:\n",
    "                node.left = TreeNode(val)\n",
    "\n",
    "            else:\n",
    "                self.__insert__recursively(node.left, val)\n",
    "        elif val > node.data:\n",
    "            if node.right is None:\n",
    "                node.right = TreeNode(val)\n",
    "            else:\n",
    "                self.__insert__recursively(node.right, val)\n",
    "        else:\n",
    "            pass\n",
    "\n",
    "    def tree(self):\n",
    "        if not self.root:\n",
    "            return\n",
    "\n",
    "        q = deque([self.root])\n",
    "        result = []\n",
    "\n",
    "        while q:\n",
    "            node = q.popleft()\n",
    "            result.append(node.data)\n",
    "\n",
    "            if node.left:\n",
    "                q.append(node.left)\n",
    "            if node.right:\n",
    "                q.append(node.right)\n",
    "\n",
    "        print(\" \".join(map(str,result)))"
   ]
  },
  {
   "cell_type": "code",
   "execution_count": 3,
   "id": "2666a8f3-9f04-435e-8841-2bd8573baedf",
   "metadata": {},
   "outputs": [],
   "source": [
    "# Could be an nternal class to BinaryTree class\n",
    "class TreeNode: # TreeNode class defining the node\n",
    "    def init (self, data, left=None,\n",
    "              right=None): \n",
    "        self.data = data\n",
    "        self.left = left\n",
    "        self.right = right"
   ]
  },
  {
   "cell_type": "code",
   "execution_count": null,
   "id": "624ad5e9-ee3b-4964-9a08-227de94f0452",
   "metadata": {},
   "outputs": [],
   "source": []
  }
 ],
 "metadata": {
  "kernelspec": {
   "display_name": "Python 3 (ipykernel)",
   "language": "python",
   "name": "python3"
  },
  "language_info": {
   "codemirror_mode": {
    "name": "ipython",
    "version": 3
   },
   "file_extension": ".py",
   "mimetype": "text/x-python",
   "name": "python",
   "nbconvert_exporter": "python",
   "pygments_lexer": "ipython3",
   "version": "3.11.4"
  }
 },
 "nbformat": 4,
 "nbformat_minor": 5
}
