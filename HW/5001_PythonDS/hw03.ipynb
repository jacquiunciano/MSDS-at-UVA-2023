{
 "cells": [
  {
   "cell_type": "markdown",
   "id": "7415318c",
   "metadata": {
    "tags": []
   },
   "source": [
    "# Metadata\n",
    "\n",
    "```yaml\n",
    "Course:   DS 5100\n",
    "Term:     Summer 2023\n",
    "Module:   M03 Homework\n",
    "Author:   R.C. Alvarado\n",
    "Date:     7 July 2023\n",
    "```"
   ]
  },
  {
   "cell_type": "markdown",
   "id": "28fe6d9d",
   "metadata": {},
   "source": [
    "# Student Info\n",
    "\n",
    "* Name: Jacqui Unciano\n",
    "* Net ID: jdu5sq\n",
    "* URL of this file in GitHub: https://github.com/jacquiunciano/DS5100-jdu5sq/blob/main/lessons/M03/hw03.ipynb"
   ]
  },
  {
   "cell_type": "markdown",
   "id": "5249ccc3",
   "metadata": {
    "jp-MarkdownHeadingCollapsed": true,
    "tags": []
   },
   "source": [
    "# Instructions\n",
    "\n",
    "In your **private course repo on Rivanna**, write a Jupyter notebook running Python that performs the numbered tasks below. \n",
    "\n",
    "For each task, create a code cell to perform the task.\n",
    "\n",
    "Save your notebook in the `M03` directory as `hw03.ipynb`. \n",
    "\n",
    "Add and commit these files to your repo. \n",
    "\n",
    "Then push your commits to your repo on GitHib.\n",
    "\n",
    "Be sure to fill out the **Student Info** block above.\n",
    "\n",
    "To submit your homework, save the notebook as a PDF and upload it to GradeScope, following the instructions."
   ]
  },
  {
   "cell_type": "markdown",
   "id": "4fba628a",
   "metadata": {},
   "source": [
    "# Task 1\n",
    "\n",
    "(6 points)\n",
    "\n",
    "Using the **for** loop and **if** statement control structures, \n",
    "write a script that generates the integers from $1$ to $100$ and does the following things:\n",
    "\n",
    "* If $3$ is a factor of the number, print `Wahoo`.\n",
    "* If $5$ is a factor of the number, print `wah!`.\n",
    "* If the number meets none of the above conditions, print nothing, not even a line break.\n",
    "* If the number meets both of the conditions, print the strings on the same line with no space between them.\n",
    "* Make sure that the line printed for each iteration in which a condition is met ends with a line break.\n",
    "* When the loop is finished, print the number of times either conidtion was met, i.e. the number of lines that were printed.\n",
    "\n",
    "Hint: You may not need to use **elif** and **else** to accomplish these tasks."
   ]
  },
  {
   "cell_type": "code",
   "execution_count": 13,
   "id": "4a047057",
   "metadata": {},
   "outputs": [
    {
     "name": "stdout",
     "output_type": "stream",
     "text": [
      "Wahoo\n",
      "\n",
      "wah!\n",
      "\n",
      "Wahoo\n",
      "\n",
      "Wahoo\n",
      "\n",
      "wah!\n",
      "\n",
      "Wahoo\n",
      "\n",
      "Wahoowah!\n",
      "\n",
      "Wahoo\n",
      "\n",
      "wah!\n",
      "\n",
      "Wahoo\n",
      "\n",
      "Wahoo\n",
      "\n",
      "wah!\n",
      "\n",
      "Wahoo\n",
      "\n",
      "Wahoowah!\n",
      "\n",
      "Wahoo\n",
      "\n",
      "wah!\n",
      "\n",
      "Wahoo\n",
      "\n",
      "Wahoo\n",
      "\n",
      "wah!\n",
      "\n",
      "Wahoo\n",
      "\n",
      "Wahoowah!\n",
      "\n",
      "Wahoo\n",
      "\n",
      "wah!\n",
      "\n",
      "Wahoo\n",
      "\n",
      "Wahoo\n",
      "\n",
      "wah!\n",
      "\n",
      "Wahoo\n",
      "\n",
      "Wahoowah!\n",
      "\n",
      "Wahoo\n",
      "\n",
      "wah!\n",
      "\n",
      "Wahoo\n",
      "\n",
      "Wahoo\n",
      "\n",
      "wah!\n",
      "\n",
      "Wahoo\n",
      "\n",
      "Wahoowah!\n",
      "\n",
      "Wahoo\n",
      "\n",
      "wah!\n",
      "\n",
      "Wahoo\n",
      "\n",
      "Wahoo\n",
      "\n",
      "wah!\n",
      "\n",
      "Wahoo\n",
      "\n",
      "Wahoowah!\n",
      "\n",
      "Wahoo\n",
      "\n",
      "wah!\n",
      "\n",
      "Wahoo\n",
      "\n",
      "Wahoo\n",
      "\n",
      "wah!\n",
      "\n"
     ]
    },
    {
     "data": {
      "text/plain": [
       "47"
      ]
     },
     "execution_count": 13,
     "metadata": {},
     "output_type": "execute_result"
    }
   ],
   "source": [
    "# CODE\n",
    "y = 0\n",
    "for x in range(1,101):\n",
    "    if x%3==0 and x%5==0:\n",
    "        y+=1\n",
    "        print(\"Wahoowah!\\n\")\n",
    "    elif x%3==0:\n",
    "        y+=1\n",
    "        print(\"Wahoo\\n\")\n",
    "    elif x%5==0:\n",
    "        y+=1\n",
    "        print(\"wah!\\n\")\n",
    "y"
   ]
  },
  {
   "cell_type": "markdown",
   "id": "9d636cdb",
   "metadata": {},
   "source": [
    "# Task 2\n",
    "\n",
    "(3 points)\n",
    "\n",
    "Rewrite the `for` loop as a `while` loop. \n",
    "\n",
    "This time, only print lines where both conditions are met. \n",
    "\n",
    "Include a final line which prints the number of times both conditions are met."
   ]
  },
  {
   "cell_type": "code",
   "execution_count": 15,
   "id": "8d8eec65",
   "metadata": {},
   "outputs": [
    {
     "name": "stdout",
     "output_type": "stream",
     "text": [
      "Wahoowah!\n",
      "\n",
      "Wahoowah!\n",
      "\n",
      "Wahoowah!\n",
      "\n",
      "Wahoowah!\n",
      "\n",
      "Wahoowah!\n",
      "\n",
      "Wahoowah!\n",
      "\n"
     ]
    },
    {
     "data": {
      "text/plain": [
       "6"
      ]
     },
     "execution_count": 15,
     "metadata": {},
     "output_type": "execute_result"
    }
   ],
   "source": [
    "# CODE\n",
    "y2 = 0\n",
    "x = 0\n",
    "while x<101:\n",
    "    x+=1\n",
    "    if x%3==0 and x%5==0:\n",
    "        print(\"Wahoowah!\\n\")\n",
    "        y2+=1\n",
    "y2"
   ]
  },
  {
   "cell_type": "markdown",
   "id": "ee995f1a",
   "metadata": {},
   "source": [
    "# Task 3\n",
    "\n",
    "(3 points)\n",
    "\n",
    "Write a list comprehension that iterates through the integers from $1$ to $100$ and returns a list containing the sum of the boolean values of the two conditions described in Task 1."
   ]
  },
  {
   "cell_type": "code",
   "execution_count": 8,
   "id": "11cd7c3d",
   "metadata": {},
   "outputs": [
    {
     "data": {
      "text/plain": [
       "47"
      ]
     },
     "execution_count": 8,
     "metadata": {},
     "output_type": "execute_result"
    }
   ],
   "source": [
    "# CODE: idk which method you want\n",
    "## this one is the sum of True (number of True)\n",
    "sum([True for x in range(1,101) if x%3==0 or x%5==0])"
   ]
  },
  {
   "cell_type": "code",
   "execution_count": 5,
   "id": "adaf10ac",
   "metadata": {
    "tags": []
   },
   "outputs": [
    {
     "data": {
      "text/plain": [
       "2418"
      ]
     },
     "execution_count": 5,
     "metadata": {},
     "output_type": "execute_result"
    }
   ],
   "source": [
    "## this is the sum of the numbers associated with True\n",
    "sum([x for x in range(1,101) if (x%3==0 or x%5==0)])"
   ]
  },
  {
   "cell_type": "code",
   "execution_count": 21,
   "id": "4d22183e",
   "metadata": {
    "tags": []
   },
   "outputs": [],
   "source": [
    "mynum = range(1,101)\n",
    "## manually coding in 1,2"
   ]
  },
  {
   "cell_type": "code",
   "execution_count": 22,
   "id": "7de23fc9",
   "metadata": {
    "tags": []
   },
   "outputs": [
    {
     "data": {
      "text/plain": [
       "[1,\n",
       " 1,\n",
       " 1,\n",
       " 1,\n",
       " 1,\n",
       " 1,\n",
       " 2,\n",
       " 1,\n",
       " 1,\n",
       " 1,\n",
       " 1,\n",
       " 1,\n",
       " 1,\n",
       " 2,\n",
       " 1,\n",
       " 1,\n",
       " 1,\n",
       " 1,\n",
       " 1,\n",
       " 1,\n",
       " 2,\n",
       " 1,\n",
       " 1,\n",
       " 1,\n",
       " 1,\n",
       " 1,\n",
       " 1,\n",
       " 2,\n",
       " 1,\n",
       " 1,\n",
       " 1,\n",
       " 1,\n",
       " 1,\n",
       " 1,\n",
       " 2,\n",
       " 1,\n",
       " 1,\n",
       " 1,\n",
       " 1,\n",
       " 1,\n",
       " 1,\n",
       " 2,\n",
       " 1,\n",
       " 1,\n",
       " 1,\n",
       " 1,\n",
       " 1]"
      ]
     },
     "execution_count": 22,
     "metadata": {},
     "output_type": "execute_result"
    }
   ],
   "source": [
    "[2 if (x%3==0) and (x%5==0) else 1 for x in mynum if (x%3==0) or (x%5==0)]"
   ]
  },
  {
   "cell_type": "code",
   "execution_count": 27,
   "id": "a383007d-4f6e-49dc-aa34-fa97cab4932f",
   "metadata": {
    "tags": []
   },
   "outputs": [
    {
     "data": {
      "text/plain": [
       "[0,\n",
       " 0,\n",
       " 1,\n",
       " 0,\n",
       " 1,\n",
       " 1,\n",
       " 0,\n",
       " 0,\n",
       " 1,\n",
       " 1,\n",
       " 0,\n",
       " 1,\n",
       " 0,\n",
       " 0,\n",
       " 2,\n",
       " 0,\n",
       " 0,\n",
       " 1,\n",
       " 0,\n",
       " 1,\n",
       " 1,\n",
       " 0,\n",
       " 0,\n",
       " 1,\n",
       " 1,\n",
       " 0,\n",
       " 1,\n",
       " 0,\n",
       " 0,\n",
       " 2,\n",
       " 0,\n",
       " 0,\n",
       " 1,\n",
       " 0,\n",
       " 1,\n",
       " 1,\n",
       " 0,\n",
       " 0,\n",
       " 1,\n",
       " 1,\n",
       " 0,\n",
       " 1,\n",
       " 0,\n",
       " 0,\n",
       " 2,\n",
       " 0,\n",
       " 0,\n",
       " 1,\n",
       " 0,\n",
       " 1,\n",
       " 1,\n",
       " 0,\n",
       " 0,\n",
       " 1,\n",
       " 1,\n",
       " 0,\n",
       " 1,\n",
       " 0,\n",
       " 0,\n",
       " 2,\n",
       " 0,\n",
       " 0,\n",
       " 1,\n",
       " 0,\n",
       " 1,\n",
       " 1,\n",
       " 0,\n",
       " 0,\n",
       " 1,\n",
       " 1,\n",
       " 0,\n",
       " 1,\n",
       " 0,\n",
       " 0,\n",
       " 2,\n",
       " 0,\n",
       " 0,\n",
       " 1,\n",
       " 0,\n",
       " 1,\n",
       " 1,\n",
       " 0,\n",
       " 0,\n",
       " 1,\n",
       " 1,\n",
       " 0,\n",
       " 1,\n",
       " 0,\n",
       " 0,\n",
       " 2,\n",
       " 0,\n",
       " 0,\n",
       " 1,\n",
       " 0,\n",
       " 1,\n",
       " 1,\n",
       " 0,\n",
       " 0,\n",
       " 1,\n",
       " 1]"
      ]
     },
     "execution_count": 27,
     "metadata": {},
     "output_type": "execute_result"
    }
   ],
   "source": [
    "## using zip to make a list of 0,1,2\n",
    "list3 = [1 if x%3==0 else 0 for x in mynum]\n",
    "list5 = [1 if x%5==0 else 0 for x in mynum]\n",
    "[x+y for x,y in zip(list3,list5)]"
   ]
  },
  {
   "cell_type": "code",
   "execution_count": null,
   "id": "f6e6e025-a890-40c7-a8e0-d98f6f92398b",
   "metadata": {
    "tags": []
   },
   "outputs": [],
   "source": []
  },
  {
   "cell_type": "code",
   "execution_count": null,
   "id": "20e8e61f-6fde-4a48-9ed2-22fe399f8771",
   "metadata": {},
   "outputs": [],
   "source": []
  }
 ],
 "metadata": {
  "kernelspec": {
   "display_name": "Python 3 (ipykernel)",
   "language": "python",
   "name": "python3"
  },
  "language_info": {
   "codemirror_mode": {
    "name": "ipython",
    "version": 3
   },
   "file_extension": ".py",
   "mimetype": "text/x-python",
   "name": "python",
   "nbconvert_exporter": "python",
   "pygments_lexer": "ipython3",
   "version": "3.10.9"
  },
  "widgets": {
   "application/vnd.jupyter.widget-state+json": {
    "state": {},
    "version_major": 2,
    "version_minor": 0
   }
  }
 },
 "nbformat": 4,
 "nbformat_minor": 5
}
