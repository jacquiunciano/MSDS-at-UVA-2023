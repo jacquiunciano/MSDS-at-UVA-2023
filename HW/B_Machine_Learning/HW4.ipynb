{
 "cells": [
  {
   "cell_type": "markdown",
   "id": "83115f6d-f814-45c3-8850-d73dc32ecf29",
   "metadata": {},
   "source": [
    "## HW 4\n",
    "### Bayesian Machine Learning\n",
    "#### Jacqui Unciano"
   ]
  },
  {
   "cell_type": "markdown",
   "id": "12d2b94b-ea8a-40a4-a3e4-852789bb2b9e",
   "metadata": {},
   "source": [
    "### Question 1\n",
    "\n",
    "(20) Build a model for the algae data set used in HW3. You model should\r\n",
    "include all 11 variables. Obtain estimates for the model parameters usin... TS). For each method show the estimated posterior\r\n",
    "distributions for the para...method."
   ]
  },
  {
   "cell_type": "code",
   "execution_count": null,
   "id": "7ba049eb-87f3-4abe-bf08-56239e8fea53",
   "metadata": {},
   "outputs": [],
   "source": []
  },
  {
   "cell_type": "markdown",
   "id": "85a81439-ed71-4bf2-a759-aa52413b15f0",
   "metadata": {},
   "source": [
    "a) variational approximation with Automatic Differentiation Variational\n",
    "Inference (ADVI);"
   ]
  },
  {
   "cell_type": "code",
   "execution_count": null,
   "id": "b43df50c-32c2-492a-9f6d-0e9996d85658",
   "metadata": {},
   "outputs": [],
   "source": []
  },
  {
   "cell_type": "markdown",
   "id": "85701ac0-ff86-42f1-bce7-d4edd74977cf",
   "metadata": {},
   "source": [
    "b) variational approximation with Stein Variational\n",
    "Gradient Descent (SVGD);"
   ]
  },
  {
   "cell_type": "code",
   "execution_count": null,
   "id": "17c99202-c4b7-42f8-b61f-9ee4737255a2",
   "metadata": {},
   "outputs": [],
   "source": []
  },
  {
   "cell_type": "markdown",
   "id": "feb45d84-1d0c-4822-8dbc-1f53102dd4e7",
   "metadata": {},
   "source": [
    "c) sampling approximation using the No\n",
    "U-turn Sampler (NUTS)"
   ]
  },
  {
   "cell_type": "code",
   "execution_count": null,
   "id": "30aa86d9-d1b2-44f7-a1ce-b3c1893d4dc4",
   "metadata": {},
   "outputs": [],
   "source": []
  },
  {
   "cell_type": "markdown",
   "id": "f5ee6e15-1a93-48b9-bc67-7a2c557517b8",
   "metadata": {},
   "source": [
    "Finally discuss similarities and differences in the estimates provided by each\n",
    "method."
   ]
  },
  {
   "cell_type": "code",
   "execution_count": null,
   "id": "b08e0e1f-cb10-423f-9d27-2c62965ac882",
   "metadata": {},
   "outputs": [],
   "source": []
  }
 ],
 "metadata": {
  "kernelspec": {
   "display_name": "Python 3 (ipykernel)",
   "language": "python",
   "name": "python3"
  },
  "language_info": {
   "codemirror_mode": {
    "name": "ipython",
    "version": 3
   },
   "file_extension": ".py",
   "mimetype": "text/x-python",
   "name": "python",
   "nbconvert_exporter": "python",
   "pygments_lexer": "ipython3",
   "version": "3.11.4"
  }
 },
 "nbformat": 4,
 "nbformat_minor": 5
}
