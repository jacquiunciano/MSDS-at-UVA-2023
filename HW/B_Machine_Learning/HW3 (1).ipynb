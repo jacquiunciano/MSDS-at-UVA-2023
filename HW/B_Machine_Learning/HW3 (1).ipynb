{
 "cells": [
  {
   "cell_type": "markdown",
   "id": "ff8f7f42-4b20-4d6d-9e10-10b0cc6e2f83",
   "metadata": {
    "id": "ff8f7f42-4b20-4d6d-9e10-10b0cc6e2f83"
   },
   "source": [
    "# Homework 3\n",
    "##### Bayesian Machine Learning; DS 6040\n",
    "##### Jacqueline Unciano"
   ]
  },
  {
   "cell_type": "code",
   "execution_count": 1,
   "id": "5b1924bf-cf07-4042-bb9b-0874d419abdb",
   "metadata": {
    "id": "5b1924bf-cf07-4042-bb9b-0874d419abdb"
   },
   "outputs": [
    {
     "name": "stderr",
     "output_type": "stream",
     "text": [
      "WARNING (pytensor.configdefaults): g++ not available, if using conda: `conda install m2w64-toolchain`\n",
      "WARNING (pytensor.configdefaults): g++ not detected!  PyTensor will be unable to compile C-implementations and will default to Python. Performance may be severely degraded. To remove this warning, set PyTensor flags cxx to an empty string.\n",
      "WARNING (pytensor.tensor.blas): Using NumPy C-API based implementation for BLAS functions.\n"
     ]
    },
    {
     "ename": "ModuleNotFoundError",
     "evalue": "No module named 'sklearn'",
     "output_type": "error",
     "traceback": [
      "\u001b[1;31m---------------------------------------------------------------------------\u001b[0m",
      "\u001b[1;31mModuleNotFoundError\u001b[0m                       Traceback (most recent call last)",
      "Cell \u001b[1;32mIn[1], line 5\u001b[0m\n\u001b[0;32m      3\u001b[0m \u001b[38;5;28;01mimport\u001b[39;00m \u001b[38;5;21;01mnumpy\u001b[39;00m \u001b[38;5;28;01mas\u001b[39;00m \u001b[38;5;21;01mnp\u001b[39;00m\n\u001b[0;32m      4\u001b[0m \u001b[38;5;28;01mimport\u001b[39;00m \u001b[38;5;21;01mpandas\u001b[39;00m \u001b[38;5;28;01mas\u001b[39;00m \u001b[38;5;21;01mpd\u001b[39;00m\n\u001b[1;32m----> 5\u001b[0m \u001b[38;5;28;01mfrom\u001b[39;00m \u001b[38;5;21;01msklearn\u001b[39;00m\u001b[38;5;21;01m.\u001b[39;00m\u001b[38;5;21;01mpreprocessing\u001b[39;00m \u001b[38;5;28;01mimport\u001b[39;00m StandardScaler\n\u001b[0;32m      6\u001b[0m \u001b[38;5;28;01mfrom\u001b[39;00m \u001b[38;5;21;01msklearn\u001b[39;00m\u001b[38;5;21;01m.\u001b[39;00m\u001b[38;5;21;01mmodel_selection\u001b[39;00m \u001b[38;5;28;01mimport\u001b[39;00m train_test_split\n\u001b[0;32m      7\u001b[0m \u001b[38;5;28;01mfrom\u001b[39;00m \u001b[38;5;21;01msklearn\u001b[39;00m\u001b[38;5;21;01m.\u001b[39;00m\u001b[38;5;21;01mmetrics\u001b[39;00m \u001b[38;5;28;01mimport\u001b[39;00m mean_squared_error\n",
      "\u001b[1;31mModuleNotFoundError\u001b[0m: No module named 'sklearn'"
     ]
    }
   ],
   "source": [
    "# Analytics and modeling\n",
    "import pymc as pm\n",
    "import numpy as np\n",
    "import pandas as pd\n",
    "from sklearn.preprocessing import StandardScaler\n",
    "from sklearn.model_selection import train_test_split\n",
    "from sklearn.metrics import mean_squared_error\n",
    "from sklearn.model_selection import cross_val_predict\n",
    "from sklearn import linear_model\n",
    "from sklearn.model_selection import cross_val_score\n",
    "from scipy import special, stats\n",
    "import statsmodels.api as sm\n",
    "\n",
    "\n",
    "# Graphics and visualization\n",
    "import matplotlib.pyplot as plt\n",
    "import seaborn as sns\n",
    "import arviz as az\n",
    "az.style.use('arviz-darkgrid')\n",
    "color = '#87ceeb'\n",
    "\n",
    "# Random seed\n",
    "random_seed = 730612"
   ]
  },
  {
   "cell_type": "markdown",
   "id": "H7CUFf0YCPu6",
   "metadata": {
    "id": "H7CUFf0YCPu6"
   },
   "source": [
    "### READ ME\n",
    "\n",
    "Hi Navya~~~ I gave up :)\n",
    "\n",
    "The code doesn't work and even when I copied the code from my peers to see if my code was just wrong... it still didn't work. I don't get it. How is it going to run ok once, and then the next time I run it, it throws me an error? Where was that error before? I'm at my wits end and so I gave up. Even my explanations don't really make any sense, I'm so... frustrated QAQ. I'm only turning this in because maybe I can get like 10% on it or something lmao."
   ]
  },
  {
   "cell_type": "markdown",
   "id": "yXGqv6EqC84r",
   "metadata": {
    "id": "yXGqv6EqC84r"
   },
   "source": [
    "### Honor Code\n",
    "\n",
    "I have neither given nor received any unauthorised aid on this assignment.\n",
    "\n",
    "--Jacqui Unciano"
   ]
  },
  {
   "cell_type": "markdown",
   "id": "dfe9622c-7e70-4523-9230-2cedaa9d4754",
   "metadata": {
    "id": "dfe9622c-7e70-4523-9230-2cedaa9d4754"
   },
   "source": [
    "## Question 1"
   ]
  },
  {
   "cell_type": "markdown",
   "id": "8693cbc8-2e8c-4c90-a58f-09e7ce3f3a13",
   "metadata": {
    "id": "8693cbc8-2e8c-4c90-a58f-09e7ce3f3a13"
   },
   "source": [
    "(10) Based on the analysis we did in class comparing systolic blood pressure among men in the South African study [1], you are now asked to\n",
    "extend this analysis by comparing low density lipoprotein (ldl) levels between the same two groups in the study: those with and without coronary\n",
    "heart disease. Perform this analysis and comment on whether you find a\n",
    "statistically significant difference between the groups for this variable. To\n",
    "do this analysis you will use the CHD data set (CHDdata.cv).\n"
   ]
  },
  {
   "cell_type": "raw",
   "id": "68fe9bbb-108f-444c-8923-33118692c241",
   "metadata": {
    "colab": {
     "base_uri": "https://localhost:8080/"
    },
    "id": "Zh95uTDGr1jB",
    "outputId": "9d475ddf-a329-4e3a-8f32-81476b56f651"
   },
   "source": [
    "from google.colab import drive\n",
    "drive.mount('/content/drive')"
   ]
  },
  {
   "cell_type": "raw",
   "id": "0240ac6a-2029-427a-ba5b-e21065016a8f",
   "metadata": {
    "id": "4d75729d-74e4-4a94-b5b3-f695c458763d"
   },
   "source": [
    "data1 = pd.read_csv(\"/content/drive/My Drive/Colab Notebooks/CHDdata.csv\")"
   ]
  },
  {
   "cell_type": "code",
   "execution_count": null,
   "id": "d23a17b2-b632-4af4-8c9a-9d06e2c9d502",
   "metadata": {},
   "outputs": [],
   "source": [
    "data1 = pd.read_csv(\"C:/Users/jacqu/Downloads/algae.csv\")"
   ]
  },
  {
   "cell_type": "code",
   "execution_count": null,
   "id": "4b29dfff-6dca-430b-b622-e056a3ef4f33",
   "metadata": {
    "colab": {
     "base_uri": "https://localhost:8080/",
     "height": 206
    },
    "id": "4b29dfff-6dca-430b-b622-e056a3ef4f33",
    "outputId": "ca062923-03ec-42d8-f56e-d5bc7d5a7bfb"
   },
   "outputs": [],
   "source": [
    "data1.head()"
   ]
  },
  {
   "cell_type": "code",
   "execution_count": null,
   "id": "87c6f8ca-53c5-4d1d-b4fb-1de74a9c9095",
   "metadata": {
    "colab": {
     "base_uri": "https://localhost:8080/",
     "height": 300
    },
    "id": "87c6f8ca-53c5-4d1d-b4fb-1de74a9c9095",
    "outputId": "3bf4ce5c-3ea0-4596-effa-bf2837bbda7d"
   },
   "outputs": [],
   "source": [
    "data1.describe()"
   ]
  },
  {
   "cell_type": "code",
   "execution_count": null,
   "id": "c2142dbb-2128-4d83-921f-40dd218341af",
   "metadata": {
    "colab": {
     "base_uri": "https://localhost:8080/",
     "height": 464
    },
    "id": "c2142dbb-2128-4d83-921f-40dd218341af",
    "outputId": "7be1b490-744d-4b67-e3c9-04cf5c0e5f2a"
   },
   "outputs": [],
   "source": [
    "df1 = data1[[\"ldl\", \"chd\"]]\n",
    "df1.hist(\"ldl\", by=\"chd\", figsize=(12, 4))"
   ]
  },
  {
   "cell_type": "code",
   "execution_count": null,
   "id": "43a05e24-8f8e-4998-82a2-0c885ee2a31e",
   "metadata": {
    "id": "43a05e24-8f8e-4998-82a2-0c885ee2a31e"
   },
   "outputs": [],
   "source": [
    "y0 = df1.loc[df1[\"chd\"]==0]['ldl']\n",
    "y1 = df1.loc[df1[\"chd\"]==1][\"ldl\"]"
   ]
  },
  {
   "cell_type": "code",
   "execution_count": null,
   "id": "1149abce-0077-415a-8328-ae6076df72a4",
   "metadata": {
    "colab": {
     "base_uri": "https://localhost:8080/",
     "height": 37
    },
    "id": "1149abce-0077-415a-8328-ae6076df72a4",
    "outputId": "b3e37cbb-6cd9-4164-884a-d0a1da12ff61"
   },
   "outputs": [],
   "source": [
    "random_seed = 134536\n",
    "cores = 4\n",
    "μ_prior = df1['ldl'].mean()\n",
    "σ_prior = df1['ldl'].std() * 2\n",
    "\n",
    "# prior for Std\n",
    "σ_low = 1\n",
    "σ_high = 100\n",
    "\n",
    "with pm.Model() as model:\n",
    "    CHD0_mean = pm.Normal(\"CHD0_mean\", mu=μ_prior, sigma=σ_prior)\n",
    "    CHD1_mean = pm.Normal(\"CHD1_mean\", mu=μ_prior, sigma=σ_prior)\n",
    "    CHD0_std = pm.Uniform(\"CHD0_std\", lower=σ_low, upper=σ_high)\n",
    "    CHD1_std = pm.Uniform(\"CHD1_std\", lower=σ_low, upper=σ_high)\n",
    "    ν = pm.Exponential(\"ν\", 1/29)\n",
    "    CHD0 = pm.StudentT(\"No_CHD\", nu=ν, mu=CHD0_mean, sigma=CHD0_std, observed=y0)\n",
    "    CHD1 = pm.StudentT(\"CHD\", nu=ν, mu=CHD1_mean, sigma=CHD1_std, observed=y1)\n",
    "    diff_of_means = pm.Deterministic(\"difference of means\", CHD0_mean - CHD1_mean)\n",
    "    diff_of_stds = pm.Deterministic(\"difference of stds\", CHD0_std - CHD1_std)\n",
    "    effect_size = pm.Deterministic(\n",
    "        \"effect size\", diff_of_means / np.sqrt((CHD0_std ** 2 + CHD1_std ** 2) / 2)\n",
    "    )\n",
    "\n",
    "    chd_trace=pm.sample(random_seed = random_seed, cores = cores)"
   ]
  },
  {
   "cell_type": "code",
   "execution_count": null,
   "id": "79373985-bc98-4a0d-b76d-4ece4b8e0252",
   "metadata": {
    "colab": {
     "base_uri": "https://localhost:8080/",
     "height": 1000
    },
    "id": "79373985-bc98-4a0d-b76d-4ece4b8e0252",
    "outputId": "cb79450a-df96-4821-919f-da2ea6e6c6a3"
   },
   "outputs": [],
   "source": [
    "az.plot_trace(chd_trace, kind = \"rank_bars\")"
   ]
  },
  {
   "cell_type": "code",
   "execution_count": null,
   "id": "73a77e8f-c940-40a6-bf76-9bfa20c46950",
   "metadata": {
    "colab": {
     "base_uri": "https://localhost:8080/",
     "height": 300
    },
    "id": "73a77e8f-c940-40a6-bf76-9bfa20c46950",
    "outputId": "b9317fc4-5114-4108-8fde-c6a859cd51c4"
   },
   "outputs": [],
   "source": [
    "az.summary(chd_trace)"
   ]
  },
  {
   "cell_type": "code",
   "execution_count": null,
   "id": "bac1e36a-1271-41cc-92a2-e3663600d60a",
   "metadata": {
    "colab": {
     "base_uri": "https://localhost:8080/",
     "height": 626
    },
    "id": "bac1e36a-1271-41cc-92a2-e3663600d60a",
    "outputId": "6158c900-a8f1-4464-9d43-59d534a766ed"
   },
   "outputs": [],
   "source": [
    "az.plot_forest(chd_trace, var_names = ['CHD0_mean','CHD1_mean'])"
   ]
  },
  {
   "cell_type": "markdown",
   "id": "v-2VUSNxkd4m",
   "metadata": {
    "id": "v-2VUSNxkd4m"
   },
   "source": [
    "### Answer 1\n",
    "\n",
    "Yes, there is a statistically significant difference in ldl between those with chd and those without chd."
   ]
  },
  {
   "cell_type": "markdown",
   "id": "0b9902bb-c749-48b8-a113-918f145d4f72",
   "metadata": {
    "id": "0b9902bb-c749-48b8-a113-918f145d4f72"
   },
   "source": [
    "## Question 2"
   ]
  },
  {
   "cell_type": "markdown",
   "id": "e0a3a280-97bb-4543-9216-623e487a25b6",
   "metadata": {
    "id": "e0a3a280-97bb-4543-9216-623e487a25b6"
   },
   "source": [
    "(30) High concentrations of certain types of algae can cause algae blooms\n",
    "in rivers and lakes. These blooms can have deleterious effects on the\n",
    "wildlife in the environment in the area to include infecting the drinking\n",
    "water used by human populations. The European Union has a goal to\n",
    "develop methods that can monitor water for harmful algae concentrations\n",
    "and predict algae blooms. They would like to do this using just chemical\n",
    "tests since these are quicker and cheaper than biological analysis which is\n",
    "more accurate. The data come from the COIL international data analysis\n",
    "competition (1999) and consist of 200 samples of water from the same\n",
    "river over a period of 4 months. There are 11 predictor variables that\n",
    "describe the season of the year when the samples were collected, the size\n",
    "and speed of the river at time of collection, and 8 chemical m.\n",
    "\n",
    "For each of these predictor variable observations, the data set also contains\n",
    "measurements of 7 different harmful algae, labeled a1-a7 but not named.\n",
    "For this work we will use the a1 measurements as the response variable.\n",
    "With algae.csv data and the stated goal of the EU perform the following\n",
    "tasks and answer the stated questions.asurements:"
   ]
  },
  {
   "cell_type": "code",
   "execution_count": null,
   "id": "f71f20dd-e30d-42ff-96eb-e715bef31911",
   "metadata": {},
   "outputs": [],
   "source": [
    "algae_df = pd.read_csv(\"C:\\Users\\jacqu\\Downloads\\algae.csv\")"
   ]
  },
  {
   "cell_type": "raw",
   "id": "c3ca688c-440b-4627-9f99-9ce234633da4",
   "metadata": {
    "id": "ac505672-0a6b-4706-ab18-4bb80d8a4313"
   },
   "source": [
    "algae_df = pd.read_csv(\"/content/drive/My Drive/Colab Notebooks/algae.csv\")"
   ]
  },
  {
   "cell_type": "code",
   "execution_count": null,
   "id": "248d47a0-c90d-4906-9956-fbaf17976366",
   "metadata": {
    "colab": {
     "base_uri": "https://localhost:8080/",
     "height": 206
    },
    "id": "248d47a0-c90d-4906-9956-fbaf17976366",
    "outputId": "63d879a0-85a4-4d1a-80df-df9cbef78728"
   },
   "outputs": [],
   "source": [
    "algae_df.head()"
   ]
  },
  {
   "cell_type": "markdown",
   "id": "8691228c-4a3f-4f3c-a696-4f3cc338c7f0",
   "metadata": {
    "id": "8691228c-4a3f-4f3c-a696-4f3cc338c7f0"
   },
   "source": [
    "(a) Perform exploratory data analysis (EDA) to include as minimum a\n",
    "review of the summary statistics for the data. Briefly explain how\n",
    "this EDA informs the next steps of your work."
   ]
  },
  {
   "cell_type": "code",
   "execution_count": null,
   "id": "c159ccf1-f639-4ae7-a0d8-34a532baf3f5",
   "metadata": {
    "colab": {
     "base_uri": "https://localhost:8080/"
    },
    "id": "c159ccf1-f639-4ae7-a0d8-34a532baf3f5",
    "outputId": "fdcb4b4f-d3a4-4a74-ee20-c4e4a4c6a133"
   },
   "outputs": [],
   "source": [
    "col_names = algae_df.columns\n",
    "col_names"
   ]
  },
  {
   "cell_type": "code",
   "execution_count": null,
   "id": "azdLRyxvFebt",
   "metadata": {
    "id": "azdLRyxvFebt"
   },
   "outputs": [],
   "source": [
    "algae_df = algae_df.loc[:,['season', 'size', 'speed', 'mxPH', 'mnO2', 'Cl', 'NO3', 'NH4', 'oPO4',\n",
    "       'PO4', 'Chla', 'a1']]"
   ]
  },
  {
   "cell_type": "code",
   "execution_count": null,
   "id": "a3c28d8e-6b89-4f9b-bc49-687fc5804762",
   "metadata": {
    "colab": {
     "base_uri": "https://localhost:8080/",
     "height": 300
    },
    "id": "a3c28d8e-6b89-4f9b-bc49-687fc5804762",
    "outputId": "d8d06a86-81e8-49d8-ce83-c7c8b58e49d1"
   },
   "outputs": [],
   "source": [
    "algae_df.describe()"
   ]
  },
  {
   "cell_type": "code",
   "execution_count": null,
   "id": "hZOx6lhzlvvP",
   "metadata": {
    "colab": {
     "base_uri": "https://localhost:8080/",
     "height": 1000
    },
    "id": "hZOx6lhzlvvP",
    "outputId": "4fe57c73-73c4-4cab-9da2-b3871112a850"
   },
   "outputs": [],
   "source": [
    "# Pair plots of the chemical predictors and the algae, a1\n",
    "\n",
    "#plt.hist(algae_clean_df['mxPH'])\n",
    "sns.pairplot(algae_df,vars= ['mxPH' ,'mnO2' ,'Cl' ,'NO3' ,'NH4' ,'oPO4' ,'PO4' ,'Chla', 'a1' ])"
   ]
  },
  {
   "cell_type": "code",
   "execution_count": null,
   "id": "Tp3FgzfCJR6S",
   "metadata": {
    "colab": {
     "base_uri": "https://localhost:8080/",
     "height": 846
    },
    "id": "Tp3FgzfCJR6S",
    "outputId": "4f3ad702-87dc-4565-a367-2456aa766899"
   },
   "outputs": [],
   "source": [
    "# Several nonlinear relationships - e.g., Chla\n",
    "# log transform\n",
    "\n",
    "fig, (ax1, ax2) = plt.subplots(1, 2, figsize = (10,8))\n",
    "ax1.scatter(algae_df['Chla'], algae_df['a1'])\n",
    "ax2.scatter(np.log(algae_df['Chla']+.1), np.log(algae_df['a1']+1))\n",
    "ax1.set_title(\"Raw Data\")\n",
    "ax2.set_title(\"Log transformed\")"
   ]
  },
  {
   "cell_type": "code",
   "execution_count": null,
   "id": "0e86cd62-b893-4996-9e03-9f57095fba07",
   "metadata": {
    "colab": {
     "base_uri": "https://localhost:8080/",
     "height": 526
    },
    "id": "0e86cd62-b893-4996-9e03-9f57095fba07",
    "outputId": "7135d019-520d-4263-e049-31fd485862e2"
   },
   "outputs": [],
   "source": [
    "# Exploratory analysis of categorical variables\n",
    "\n",
    "sns.boxplot(data=algae_df, x=\"season\", y=\"a1\", hue = 'size')"
   ]
  },
  {
   "cell_type": "code",
   "execution_count": null,
   "id": "91a1683c-45a7-4db5-b9fe-88ac78fdd5f2",
   "metadata": {
    "colab": {
     "base_uri": "https://localhost:8080/",
     "height": 634
    },
    "id": "91a1683c-45a7-4db5-b9fe-88ac78fdd5f2",
    "outputId": "b5374872-14f6-4f0c-d69d-e8b8c7c3a8bf"
   },
   "outputs": [],
   "source": [
    "df = algae_df[[\"speed\", \"a1\"]]\n",
    "print(df.groupby(\"speed\").agg(['mean', 'std', 'count']))\n",
    "sns.kdeplot(x=\"a1\", hue=\"speed\", data=df)"
   ]
  },
  {
   "cell_type": "code",
   "execution_count": null,
   "id": "f5M37TCtGew8",
   "metadata": {
    "colab": {
     "base_uri": "https://localhost:8080/",
     "height": 526
    },
    "id": "f5M37TCtGew8",
    "outputId": "df785eb2-430a-42e3-ff08-1adb246e5937"
   },
   "outputs": [],
   "source": [
    "# Focus just on a1 as response\n",
    "\n",
    "az.plot_dist(algae_df['a1'], kind = 'hist')"
   ]
  },
  {
   "cell_type": "code",
   "execution_count": null,
   "id": "YhP3rE22GkA9",
   "metadata": {
    "colab": {
     "base_uri": "https://localhost:8080/",
     "height": 526
    },
    "id": "YhP3rE22GkA9",
    "outputId": "067e9bea-c1a0-4b7d-90a0-2f0085407e3f"
   },
   "outputs": [],
   "source": [
    "az.plot_dist(np.log10(algae_df['a1']+.8), kind = 'hist')"
   ]
  },
  {
   "cell_type": "markdown",
   "id": "g7xcG6eskrnG",
   "metadata": {
    "id": "g7xcG6eskrnG"
   },
   "source": [
    "### Answer 2.A\n",
    "\n",
    "The graphs of the categorical variables show this distribution of the data for each category. Generally, the data follows the same distribution(I'm thinking normal or T distribution). Knowing the data's distribution will also help with choosing the prior parameters when building the model. The plots for the numericald variable helps with thinking about what kind of transformations we can do with the data (most likely log transformations since that would be easier to interpret concerning our model)."
   ]
  },
  {
   "cell_type": "markdown",
   "id": "96169ef2-4052-4b8f-89c9-e5d8aaada930",
   "metadata": {
    "id": "96169ef2-4052-4b8f-89c9-e5d8aaada930"
   },
   "source": [
    "(b) Clean the data by identifying missing values and use the following\n",
    "strategy to estimate missing values: 1. For continuous (real-valued)\n",
    "data use the mean; 2. For discrete (integer valued) use the median;\n",
    "and 3. For categorical or nominal data use the mode. Then scale the\n",
    "predictor variables (subtract the mean and divide by the standard\n",
    "deviation) and code the categorical variables. Explain why you are\n",
    "doing this. Reparameterize the response variable using a log transform and explain why you are doing this."
   ]
  },
  {
   "cell_type": "code",
   "execution_count": null,
   "id": "46c37b91-3d5e-459e-8d04-37995102f227",
   "metadata": {
    "colab": {
     "base_uri": "https://localhost:8080/"
    },
    "id": "46c37b91-3d5e-459e-8d04-37995102f227",
    "outputId": "54d69d9f-7f07-40d9-e995-00301e5d50c5"
   },
   "outputs": [],
   "source": [
    "algae_df.isna().sum()"
   ]
  },
  {
   "cell_type": "code",
   "execution_count": null,
   "id": "YqMHRaGwpzX8",
   "metadata": {
    "colab": {
     "base_uri": "https://localhost:8080/",
     "height": 320
    },
    "id": "YqMHRaGwpzX8",
    "outputId": "da5e6163-3de2-40f9-fe33-3b680af7fd6d"
   },
   "outputs": [],
   "source": [
    "# We need to code the categorical variables\n",
    "# Use one-hot encoding\n",
    "# Getting dummy variables for categorical variables\n",
    "\n",
    "log_a1 = np.log10(algae_df.a1+1)\n",
    "\n",
    "algae_df.drop(['a1'], axis = 1, inplace = True)\n",
    "\n",
    "algae_model_df = pd.get_dummies(algae_df, drop_first = False, dtype = float)\n",
    "algae_model_df.describe(include = 'all')"
   ]
  },
  {
   "cell_type": "code",
   "execution_count": null,
   "id": "777b202e-0adf-46a2-aac8-b1087cdf7ed8",
   "metadata": {
    "colab": {
     "base_uri": "https://localhost:8080/"
    },
    "id": "777b202e-0adf-46a2-aac8-b1087cdf7ed8",
    "outputId": "1905ac02-bf5d-4e50-b086-8512151755d6"
   },
   "outputs": [],
   "source": [
    "algae_df.isna().sum()"
   ]
  },
  {
   "cell_type": "code",
   "execution_count": null,
   "id": "Zxw_3Z8xKVsl",
   "metadata": {
    "id": "Zxw_3Z8xKVsl"
   },
   "outputs": [],
   "source": [
    "# This class imputes the missing values as\n",
    "# (1) most frequent if the variable is categorical\n",
    "# (2) mean if the variable is real (floating point)\n",
    "# (3) median if the variable is an integer\n",
    "\n",
    "# Here is a class that will provide imputation\n",
    "# This is an extension by D.Brown to sveitser, 2014 https://stackoverflow.com/users/469992/sveitser\n",
    "\n",
    "from sklearn.base import TransformerMixin\n",
    "\n",
    "class DataFrameImputer(TransformerMixin):\n",
    "\n",
    "    def __init__(self):\n",
    "        \"\"\"Impute missing values.\n",
    "\n",
    "        Columns of dtype object are imputed with the most frequent value\n",
    "        in column.\n",
    "\n",
    "        Columns of dtype floating point are imputed with the mean.\n",
    "\n",
    "        Columns of other types are imputed with median of the column.\n",
    "\n",
    "        \"\"\"\n",
    "    def fit(self, X, y=None):\n",
    "\n",
    "        self.fill = pd.Series([X[c].value_counts().index[0]\n",
    "            if X[c].dtype == np.dtype('O')\n",
    "                               else X[c].mean() if X[c].dtype == np.dtype('f')\n",
    "                                else X[c].median() for c in X],\n",
    "            index=X.columns)\n",
    "\n",
    "        return self\n",
    "\n",
    "    def transform(self, X, y=None):\n",
    "        return X.fillna(self.fill)"
   ]
  },
  {
   "cell_type": "code",
   "execution_count": null,
   "id": "dseftQYeKZfe",
   "metadata": {
    "colab": {
     "base_uri": "https://localhost:8080/"
    },
    "id": "dseftQYeKZfe",
    "outputId": "2f2ea558-6c56-4733-c362-38865321579d"
   },
   "outputs": [],
   "source": [
    "# Impute missing values\n",
    "\n",
    "algae_clean_df = DataFrameImputer().fit_transform(algae_model_df)\n",
    "algae_clean_df.isnull().sum()"
   ]
  },
  {
   "cell_type": "markdown",
   "id": "tYvNVYuQsFgz",
   "metadata": {
    "id": "tYvNVYuQsFgz"
   },
   "source": [
    "### Answer 2.B\n",
    "\n",
    "We are scaling the predictor variables because interpreting the model can be difficult if the predictors are all different scaling. So we normalise the predictors so that it's easier to interpret the results."
   ]
  },
  {
   "cell_type": "markdown",
   "id": "ce5a9c83-110b-493d-a3e8-af895a464c2d",
   "metadata": {
    "id": "ce5a9c83-110b-493d-a3e8-af895a464c2d"
   },
   "source": [
    "(c) Build a robust Bayesian regression model to predict the response and\n",
    "explain your choices for the priors."
   ]
  },
  {
   "cell_type": "code",
   "execution_count": null,
   "id": "0dbc683b-be7b-4f18-b840-5f9b760c1350",
   "metadata": {
    "colab": {
     "base_uri": "https://localhost:8080/",
     "height": 633
    },
    "id": "0dbc683b-be7b-4f18-b840-5f9b760c1350",
    "outputId": "6a0ff4dd-3b5f-41f9-af2d-3255bb05954e"
   },
   "outputs": [],
   "source": [
    "algae_clean_df.corr()"
   ]
  },
  {
   "cell_type": "code",
   "execution_count": null,
   "id": "5578a4c2-0502-4be1-8bc3-cc802e8f4b37",
   "metadata": {
    "id": "5578a4c2-0502-4be1-8bc3-cc802e8f4b37"
   },
   "outputs": [],
   "source": [
    "# Create log transformed predictors for a nonlinear model\n",
    "nl_set = ['Cl','PO4','Chla']\n",
    "nl_names = ['Cl_nl','PO4_nl','Chla_nl']\n",
    "\n",
    "for n,m in zip(nl_set,nl_names):\n",
    "    algae_clean_df[m] = np.log(algae_clean_df[n]+1)"
   ]
  },
  {
   "cell_type": "code",
   "execution_count": null,
   "id": "MztDMciJJzz3",
   "metadata": {
    "colab": {
     "base_uri": "https://localhost:8080/"
    },
    "id": "MztDMciJJzz3",
    "outputId": "490ef4d4-9cab-4976-c38c-ace656fd5800"
   },
   "outputs": [],
   "source": [
    "#Notice the values of the predictors imply the need for scaling\n",
    "# Use Z-scaling\n",
    "\n",
    "numeric_var = ['mxPH', 'mnO2', 'Cl', 'NO3', 'NH4', 'PO4', 'Chla']\n",
    "scaler = StandardScaler()\n",
    "X_scaled = scaler.fit_transform(algae_clean_df[numeric_var])\n",
    "stats.describe(X_scaled)"
   ]
  },
  {
   "cell_type": "code",
   "execution_count": null,
   "id": "9gaDAT50J3Vy",
   "metadata": {
    "colab": {
     "base_uri": "https://localhost:8080/"
    },
    "id": "9gaDAT50J3Vy",
    "outputId": "d0a5c99a-bad7-4251-e87d-9254522009c5"
   },
   "outputs": [],
   "source": [
    "#Nonlinear variable scaling\n",
    "# Use Z-scaling\n",
    "\n",
    "nl_numeric_var = ['mxPH', 'mnO2', 'Cl_nl', 'NO3', 'NH4', 'PO4_nl', 'Chla_nl']\n",
    "scaler = StandardScaler()\n",
    "XNL_scaled = scaler.fit_transform(algae_clean_df[nl_numeric_var])\n",
    "stats.describe(XNL_scaled)"
   ]
  },
  {
   "cell_type": "code",
   "execution_count": null,
   "id": "zFwwOJhJJ6BX",
   "metadata": {
    "colab": {
     "base_uri": "https://localhost:8080/"
    },
    "id": "zFwwOJhJJ6BX",
    "outputId": "55d1d95f-ac3a-4f63-f010-aa63c6c25db3"
   },
   "outputs": [],
   "source": [
    "algae_clean_df.columns"
   ]
  },
  {
   "cell_type": "code",
   "execution_count": null,
   "id": "HTloRoLsKmD_",
   "metadata": {
    "colab": {
     "base_uri": "https://localhost:8080/"
    },
    "id": "HTloRoLsKmD_",
    "outputId": "8bfee715-6673-43c2-ebb1-9e1baab08b5b"
   },
   "outputs": [],
   "source": [
    "categorical_var = algae_clean_df.iloc[:,7:17].columns\n",
    "\n",
    "algae_clean_df[categorical_var].to_numpy()\n",
    "X_algae = np.hstack((X_scaled, algae_clean_df[categorical_var].to_numpy()))\n",
    "\n",
    "# Data for linear regression\n",
    "\n",
    "categorical_var = algae_clean_df.iloc[:,7:17].columns\n",
    "X_algae = np.hstack((X_scaled, algae_clean_df[categorical_var].to_numpy()))\n",
    "\n",
    "# Data for nonlinear regression\n",
    "\n",
    "XNL_algae = np.hstack((XNL_scaled, algae_clean_df[categorical_var].to_numpy()))\n",
    "\n",
    "X_algae.shape"
   ]
  },
  {
   "cell_type": "code",
   "execution_count": null,
   "id": "pcCHNRO2KziR",
   "metadata": {
    "colab": {
     "base_uri": "https://localhost:8080/",
     "height": 206
    },
    "id": "pcCHNRO2KziR",
    "outputId": "6e3ec806-954a-4ccb-dac7-c1e59f97b80b"
   },
   "outputs": [],
   "source": [
    "pd.DataFrame(X_algae).head()"
   ]
  },
  {
   "cell_type": "code",
   "execution_count": null,
   "id": "R58MXUz_K2xZ",
   "metadata": {
    "colab": {
     "base_uri": "https://localhost:8080/"
    },
    "id": "R58MXUz_K2xZ",
    "outputId": "f0058fa6-af78-4662-c25f-b7acf885234e"
   },
   "outputs": [],
   "source": [
    "XNL_algae.shape"
   ]
  },
  {
   "cell_type": "code",
   "execution_count": null,
   "id": "WiLJyYEWK-Dk",
   "metadata": {
    "colab": {
     "base_uri": "https://localhost:8080/",
     "height": 206
    },
    "id": "WiLJyYEWK-Dk",
    "outputId": "cca63bcd-22c6-4ef0-e95a-26a8d000619b"
   },
   "outputs": [],
   "source": [
    "pd.DataFrame(XNL_algae).head()"
   ]
  },
  {
   "cell_type": "code",
   "execution_count": null,
   "id": "UNjVMnuALB7N",
   "metadata": {
    "colab": {
     "base_uri": "https://localhost:8080/",
     "height": 36
    },
    "id": "UNjVMnuALB7N",
    "outputId": "56bcbed9-604b-4d8a-a417-9f6a1c2584be"
   },
   "outputs": [],
   "source": [
    "# build the linear model\n",
    "\n",
    "graphics_path = '/Users/donaldbrown/Dropbox/department/Classes/Code4Classes/DS6040Code/ClassFigures/FiguresDS6040F23/'\n",
    "\n",
    "a1_mean = log_a1.mean()\n",
    "k = X_algae.shape[1]\n",
    "\n",
    "with pm.Model() as algae_lin_model:\n",
    "\n",
    "    #Data\n",
    "    X = pm.MutableData(\"X\", X_algae) # training data\n",
    "    y = pm.MutableData(\"y\", log_a1)\n",
    "\n",
    "    #Regression model parameters\n",
    "    α = pm.Normal('α', mu = a1_mean, sigma = 1) # informed prior\n",
    "    β = pm.MvNormal('β', mu=np.zeros(k), cov= np.eye(k), shape=k, dims ='Predictors') # informed prirs\n",
    "\n",
    "    #Likelihood parameters\n",
    "    nu = pm.Exponential('nu', 1/29.0)+ 1 # uninformed prior\n",
    "    # σ = pm.Gamma('σ', 2.0, 2.0)\n",
    "    σ = pm.HalfStudentT('σ',2,8)\n",
    "    μ = α + pm.math.dot(X,β)\n",
    "    log_algae = pm.StudentT('log_algae', nu=nu, mu=μ, sigma=σ, observed=y)\n",
    "\n",
    "g1 = pm.model_to_graphviz(algae_lin_model)\n",
    "g1.render(graphics_path+\"algae_lin_model\", format=\"png\", cleanup=True)"
   ]
  },
  {
   "cell_type": "code",
   "execution_count": null,
   "id": "Xw30aaY8LXDi",
   "metadata": {
    "colab": {
     "base_uri": "https://localhost:8080/",
     "height": 57
    },
    "id": "Xw30aaY8LXDi",
    "outputId": "8d7ec149-da6c-4bdb-e3e9-6111ff62d58c"
   },
   "outputs": [],
   "source": [
    "with algae_lin_model:\n",
    "    trace= pm.sample(random_seed = random_seed, return_inferencedata=False)\n",
    "    algae_lin_trace = pm.to_inference_data(trace=trace, log_likelihood=True)"
   ]
  },
  {
   "cell_type": "code",
   "execution_count": null,
   "id": "5JzGriRDLZas",
   "metadata": {
    "colab": {
     "base_uri": "https://localhost:8080/",
     "height": 1000
    },
    "id": "5JzGriRDLZas",
    "outputId": "3e93d6cc-6ab6-4862-b7a9-886728d8a521"
   },
   "outputs": [],
   "source": [
    "az.plot_trace(algae_lin_trace, kind = 'rank_bars', compact = False)"
   ]
  },
  {
   "cell_type": "code",
   "execution_count": null,
   "id": "tq94HIcNLizl",
   "metadata": {
    "colab": {
     "base_uri": "https://localhost:8080/",
     "height": 676
    },
    "id": "tq94HIcNLizl",
    "outputId": "9295872c-db53-40f5-8fc1-33988ca5f7d7"
   },
   "outputs": [],
   "source": [
    "az.summary(algae_lin_trace)"
   ]
  },
  {
   "cell_type": "code",
   "execution_count": null,
   "id": "xO8c4G3vNEex",
   "metadata": {
    "colab": {
     "base_uri": "https://localhost:8080/",
     "height": 36
    },
    "id": "xO8c4G3vNEex",
    "outputId": "b8e9570e-ddbd-4704-b635-ae04d7e551cc"
   },
   "outputs": [],
   "source": [
    "a1_mean = log_a1.mean()\n",
    "k = XNL_algae.shape[1]\n",
    "\n",
    "with pm.Model() as algae__model:\n",
    "\n",
    "    #Data\n",
    "    X = pm.MutableData(\"X\", X_algae) # training data\n",
    "    y = pm.MutableData(\"y\", log_a1)\n",
    "\n",
    "    #Regression model parameters\n",
    "    α = pm.Normal('α', mu = a1_mean, sigma = 1) # informed prior\n",
    "    β = pm.MvNormal('β', mu=np.zeros(k), cov= np.eye(k), shape=k, dims ='Predictors') # informed prirs\n",
    "\n",
    "    #Likelihood parameters\n",
    "    nu = pm.Exponential('nu', 1/29.0)+ 1 # uninformed prior\n",
    "    # σ = pm.Gamma('σ', 2.0, 2.0)\n",
    "    σ = pm.HalfStudentT('σ',2,8)\n",
    "    μ = α + pm.math.dot(X,β)\n",
    "    log_algae = pm.StudentT('log_algae', nu=nu, mu=μ, sigma=σ, observed=y)\n",
    "\n",
    "pm.model_to_graphviz(algae_lin_model)"
   ]
  },
  {
   "cell_type": "code",
   "execution_count": null,
   "id": "GgEcutU2NHxX",
   "metadata": {
    "colab": {
     "base_uri": "https://localhost:8080/",
     "height": 36
    },
    "id": "GgEcutU2NHxX",
    "outputId": "07de737f-3bbe-4387-9fa9-8bd15f9d42f1"
   },
   "outputs": [],
   "source": [
    "# build the nonlinear model\n",
    "\n",
    "a1_mean = log_a1.mean()\n",
    "k = XNL_algae.shape[1]\n",
    "\n",
    "with pm.Model() as algae_nl_model:\n",
    "\n",
    "    #Data\n",
    "    X = pm.MutableData(\"X\", XNL_algae) # training data\n",
    "    y = pm.MutableData(\"y\", log_a1)\n",
    "\n",
    "    #Regression model parameters\n",
    "    α = pm.Normal('α', mu = a1_mean, sigma = 1) # informed prior\n",
    "    β = pm.MvNormal('β', mu=np.zeros(k), cov= np.eye(k), shape=k, dims ='Predictors') # informed prirs\n",
    "\n",
    "    #Likelihood parameters\n",
    "    nu = pm.Exponential('nu', 1/29.0)+ 1 # uninformed prior\n",
    "    # σ = pm.Gamma('σ', 2.0, 2.0)\n",
    "    σ = pm.HalfStudentT('σ',2,8)\n",
    "    μ = α + pm.math.dot(X,β)\n",
    "    log_algae = pm.StudentT('log_algae', nu=nu, mu=μ, sigma=σ, observed=y)\n",
    "\n",
    "pm.model_to_graphviz(algae_nl_model)"
   ]
  },
  {
   "cell_type": "code",
   "execution_count": null,
   "id": "Gvc9zNMVNKc1",
   "metadata": {
    "colab": {
     "base_uri": "https://localhost:8080/",
     "height": 57
    },
    "id": "Gvc9zNMVNKc1",
    "outputId": "116c6304-d0b0-4465-e0ba-f72c79fc4b56"
   },
   "outputs": [],
   "source": [
    "with algae_nl_model:\n",
    "    trace= pm.sample(random_seed = random_seed, return_inferencedata=False)\n",
    "    algae_nl_trace = pm.to_inference_data(trace=trace, log_likelihood=True)"
   ]
  },
  {
   "cell_type": "code",
   "execution_count": null,
   "id": "KJ_4sUbwNN5Q",
   "metadata": {
    "colab": {
     "base_uri": "https://localhost:8080/",
     "height": 1000
    },
    "id": "KJ_4sUbwNN5Q",
    "outputId": "fcb50010-6d50-4a86-953a-866cf2e02d6b"
   },
   "outputs": [],
   "source": [
    "az.plot_trace(algae_nl_trace, kind = 'rank_bars', compact = False)"
   ]
  },
  {
   "cell_type": "code",
   "execution_count": null,
   "id": "-uih94zLNQos",
   "metadata": {
    "colab": {
     "base_uri": "https://localhost:8080/",
     "height": 676
    },
    "id": "-uih94zLNQos",
    "outputId": "006cb330-9fd7-40dc-84fc-1b6ded15467b"
   },
   "outputs": [],
   "source": [
    "az.summary(algae_nl_trace)"
   ]
  },
  {
   "cell_type": "code",
   "execution_count": null,
   "id": "PdDo43dqJZpj",
   "metadata": {
    "id": "PdDo43dqJZpj"
   },
   "outputs": [],
   "source": [
    "# random_seed = 135573\n",
    "\n",
    "# spring_obs = a.loc[:, \"spring\"]\n",
    "# summer_obs = a.loc[:, \"summer\"]\n",
    "# winter_obs = a.loc[:, \"winter\"]\n",
    "# medium_obs = a.loc[:, \"medium\"]\n",
    "# small_obs = a.loc[:, \"mxPH\"]\n",
    "# l_obs = a.loc[:, \"l\"]\n",
    "# m_obs = a.loc[:, \"m\"]\n",
    "# mxPH_obs = a.loc[:, \"mxPH\"]\n",
    "# mnO2_obs = a.loc[:, \"mnO2\"]\n",
    "# Cl_obs = a.loc[:, \"Cl\"]\n",
    "# NO3_obs = a.loc[:, \"NO3\"]\n",
    "# NH4_obs = a.loc[:, \"NH4\"]\n",
    "# oPO4_obs = a.loc[:, \"oPO4\"]\n",
    "# PO4_obs = a.loc[:, \"PO4\"]\n",
    "# Chla_obs = a.loc[:, \"Chla\"]\n",
    "# a1_obs = a.loc[:, \"a1\"]\n",
    "\n",
    "# with pm.Model() as a_model:\n",
    "\n",
    "#     spring = pm.Data(\"spring\", spring_obs)\n",
    "#     summer = pm.Data(\"summer\", summer_obs)\n",
    "#     winter = pm.Data(\"winter\", winter_obs)\n",
    "#     medium = pm.Data(\"medium\", medium_obs)\n",
    "#     small = pm.Data(\"small\", small_obs)\n",
    "#     l = pm.Data(\"l\", l_obs)\n",
    "#     m = pm.Data(\"m\", m_obs)\n",
    "#     mxPH = pm.Data(\"mxPH\", mxPH_obs)\n",
    "#     mnO2 = pm.Data(\"mnO2\", mnO2_obs)\n",
    "#     Cl = pm.Data(\"Cl\", Cl_obs)\n",
    "#     NO3 = pm.Data(\"NO3\", NO3_obs)\n",
    "#     NH4 = pm.Data(\"NH4\", NH4_obs)\n",
    "#     oPO4 = pm.Data(\"oPO4\", oPO4_obs)\n",
    "#     PO4 = pm.Data(\"PO4\", PO4_obs)\n",
    "#     Chla = pm.Data(\"Chla\", Chla_obs)\n",
    "\n",
    "#     nu = pm.Exponential(\"nu\", 1/20)\n",
    "#     sigma = pm.Uniform(\"sigma\", 0, 10)\n",
    "#     beta_0 = pm.Normal(\"beta_0\", 0, 10)\n",
    "#     beta_spring = pm.Normal(\"beta_spring\", 0, 10)\n",
    "#     beta_summer = pm.Normal(\"beta_summer\", 0, 10)\n",
    "#     beta_winter = pm.Normal(\"beta_winter\", 0, 10)\n",
    "#     beta_medium = pm.Normal(\"beta_medium\", 0, 10)\n",
    "#     beta_small = pm.Normal(\"beta_small\", 0, 10)\n",
    "#     beta_l = pm.Normal(\"beta_l\", 0, 10)\n",
    "#     beta_m = pm.Normal(\"beta_m\", 0, 10)\n",
    "#     beta_mxPH = pm.Normal(\"beta_mxPH\", 0, 10)\n",
    "#     beta_mnO2 = pm.Normal(\"beta_mnO2\", 0, 10)\n",
    "#     beta_Cl = pm.Normal(\"beta_Cl\", 0, 10)\n",
    "#     beta_NO3 = pm.Normal(\"beta_NO3\", 0, 10)\n",
    "#     beta_NH4 = pm.Normal(\"beta_NH4\", 0, 10)\n",
    "#     beta_oPO4 = pm.Normal(\"beta_oPO4\", 0, 10)\n",
    "#     beta_PO4 = pm.Normal(\"beta_PO4\", 0, 10)\n",
    "#     beta_Chla = pm.Normal(\"beta_Chla\", 0, 10)\n",
    "\n",
    "#     mu = pm.Deterministic(\"mu\", beta_0 + \\\n",
    "#                          beta_spring * spring + beta_summer * summer + \\\n",
    "#                          beta_winter * winter + \\\n",
    "#                          beta_medium * medium + beta_small * small + \\\n",
    "#                          beta_l * l + beta_m * m + \\\n",
    "#                          beta_mxPH * mxPH + beta_mnO2 * mnO2 + \\\n",
    "#                          beta_Cl * Cl + beta_NO3 * NO3 + beta_NH4 * NH4 + \\\n",
    "#                          beta_oPO4 * oPO4 + beta_PO4 * PO4 + beta_Chla * Chla)\n",
    "\n",
    "#     a1 = pm.StudentT(\"a1\", mu=mu, sigma=sigma, nu=nu, observed = a1_obs)\n",
    "\n",
    "#     a_trace = pm.sample(target_accept=0.9, random_seed=random_seed, return_inferencedata=False)"
   ]
  },
  {
   "cell_type": "markdown",
   "id": "Z1GeSlEd1B2k",
   "metadata": {
    "id": "Z1GeSlEd1B2k"
   },
   "source": [
    "### Answer 2.C\n",
    "\n",
    "I chose these priors with these parameters because the distribution plots in 2.A seemed to be fairly normal distributions."
   ]
  },
  {
   "cell_type": "markdown",
   "id": "9NEeqdCi0_Pu",
   "metadata": {
    "id": "9NEeqdCi0_Pu"
   },
   "source": [
    "(d) Evaluate the sampling and choice of priors using Bayesian p-value\n",
    "and posterior predictive plots. Briefly explain your results."
   ]
  },
  {
   "cell_type": "code",
   "execution_count": null,
   "id": "FC3TAqoXLjU8",
   "metadata": {
    "colab": {
     "base_uri": "https://localhost:8080/",
     "height": 37
    },
    "id": "FC3TAqoXLjU8",
    "outputId": "6434371e-c2cf-4f1f-8a49-c50aca87bb28"
   },
   "outputs": [],
   "source": [
    "algae_pp = pm.sample_posterior_predictive(algae_lin_trace,\n",
    "                                          model = algae_lin_model, random_seed = random_seed)"
   ]
  },
  {
   "cell_type": "code",
   "execution_count": null,
   "id": "XqYc4-oFNUq5",
   "metadata": {
    "colab": {
     "base_uri": "https://localhost:8080/",
     "height": 37
    },
    "id": "XqYc4-oFNUq5",
    "outputId": "21047f67-3657-45ea-8a01-e2b139eecbad"
   },
   "outputs": [],
   "source": [
    "algae_nl_pp = pm.sample_posterior_predictive(algae_nl_trace,\n",
    "                                          model = algae_nl_model, random_seed = random_seed)"
   ]
  },
  {
   "cell_type": "code",
   "execution_count": null,
   "id": "zu7e3rwkMCj_",
   "metadata": {
    "colab": {
     "base_uri": "https://localhost:8080/",
     "height": 526
    },
    "id": "zu7e3rwkMCj_",
    "outputId": "16ad0bfb-f875-4ca5-90b6-16b64c9865f3"
   },
   "outputs": [],
   "source": [
    "az.plot_bpv(algae_pp)"
   ]
  },
  {
   "cell_type": "code",
   "execution_count": null,
   "id": "1Iu2wYG8NWqr",
   "metadata": {
    "colab": {
     "base_uri": "https://localhost:8080/",
     "height": 526
    },
    "id": "1Iu2wYG8NWqr",
    "outputId": "0eb441b5-754e-4211-fd1c-a57531dbbd1f"
   },
   "outputs": [],
   "source": [
    "az.plot_bpv(algae_nl_pp)"
   ]
  },
  {
   "cell_type": "code",
   "execution_count": null,
   "id": "59kfR8TIMLOx",
   "metadata": {
    "colab": {
     "base_uri": "https://localhost:8080/",
     "height": 526
    },
    "id": "59kfR8TIMLOx",
    "outputId": "3e71495d-83ce-4559-bdea-bf4d657034d6"
   },
   "outputs": [],
   "source": [
    "az.plot_ppc(algae_pp)"
   ]
  },
  {
   "cell_type": "code",
   "execution_count": null,
   "id": "dxbDzGe4NZR3",
   "metadata": {
    "colab": {
     "base_uri": "https://localhost:8080/",
     "height": 526
    },
    "id": "dxbDzGe4NZR3",
    "outputId": "4fe64afa-e110-4600-8f3f-1c8ddaad4f6b"
   },
   "outputs": [],
   "source": [
    "az.plot_ppc(algae_nl_pp)"
   ]
  },
  {
   "cell_type": "code",
   "execution_count": null,
   "id": "59b7efee-cd95-4ab7-a4ff-086b20c7a196",
   "metadata": {
    "id": "59b7efee-cd95-4ab7-a4ff-086b20c7a196"
   },
   "outputs": [],
   "source": [
    "# a_pp = pm.sample_posterior_predictive(a_trace, model=a_model, random_seed=random_seed)\n",
    "# az.plot_bpv(a_pp)"
   ]
  },
  {
   "cell_type": "code",
   "execution_count": null,
   "id": "26009b07-8761-4d4b-bdf6-4ebcea946f60",
   "metadata": {
    "id": "26009b07-8761-4d4b-bdf6-4ebcea946f60"
   },
   "outputs": [],
   "source": [
    "# az.plot_ppc(a_pp)"
   ]
  },
  {
   "cell_type": "markdown",
   "id": "5PD6tdHW1gbo",
   "metadata": {
    "id": "5PD6tdHW1gbo"
   },
   "source": [
    "(e) Plot the posterior distributions for the parameters and discuss your\n",
    "results. Plot the response variable vs. one of the predictors using\n",
    "counterfactuals and discuss this plot."
   ]
  },
  {
   "cell_type": "code",
   "execution_count": null,
   "id": "PV-Mad0aMXaZ",
   "metadata": {
    "colab": {
     "base_uri": "https://localhost:8080/",
     "height": 508
    },
    "id": "PV-Mad0aMXaZ",
    "outputId": "d66d547f-b922-43d7-a9ba-81969e2044dc"
   },
   "outputs": [],
   "source": [
    "az.plot_posterior(\n",
    "    algae_lin_trace,\n",
    "    var_names= ['α'], ref_val = a1_mean\n",
    ");"
   ]
  },
  {
   "cell_type": "code",
   "execution_count": null,
   "id": "IuMxYnKrMYH9",
   "metadata": {
    "colab": {
     "base_uri": "https://localhost:8080/",
     "height": 1000
    },
    "id": "IuMxYnKrMYH9",
    "outputId": "9d5d4e2e-9c5a-4dfc-89cf-15f89655e075"
   },
   "outputs": [],
   "source": [
    "az.plot_posterior(\n",
    "    algae_lin_trace,\n",
    "    var_names= ['β'], ref_val = 0\n",
    ");"
   ]
  },
  {
   "cell_type": "code",
   "execution_count": null,
   "id": "AaIzGxuqM59S",
   "metadata": {
    "colab": {
     "base_uri": "https://localhost:8080/",
     "height": 786
    },
    "id": "AaIzGxuqM59S",
    "outputId": "79724b86-0cac-44f7-9d7f-a5614f38a842"
   },
   "outputs": [],
   "source": [
    "az.plot_forest(algae_lin_trace, var_names = ['β'] )"
   ]
  },
  {
   "cell_type": "code",
   "execution_count": null,
   "id": "jUFGCB7rNbQi",
   "metadata": {
    "colab": {
     "base_uri": "https://localhost:8080/",
     "height": 508
    },
    "id": "jUFGCB7rNbQi",
    "outputId": "daaabe22-c6f5-4884-e46e-8b89eb0392ae"
   },
   "outputs": [],
   "source": [
    "az.plot_posterior(\n",
    "    algae_nl_trace,\n",
    "    var_names= ['α'], ref_val = a1_mean\n",
    ");"
   ]
  },
  {
   "cell_type": "code",
   "execution_count": null,
   "id": "00wxf9RuNdNL",
   "metadata": {
    "colab": {
     "base_uri": "https://localhost:8080/",
     "height": 1000
    },
    "id": "00wxf9RuNdNL",
    "outputId": "eaad920c-c73d-415f-a7d1-0f6b9fd89d06"
   },
   "outputs": [],
   "source": [
    "az.plot_posterior(\n",
    "    algae_nl_trace,\n",
    "    var_names= ['β'], ref_val = 0\n",
    ");"
   ]
  },
  {
   "cell_type": "code",
   "execution_count": null,
   "id": "3n_zuMT-NfrT",
   "metadata": {
    "colab": {
     "base_uri": "https://localhost:8080/",
     "height": 786
    },
    "id": "3n_zuMT-NfrT",
    "outputId": "2709e548-b969-4bde-d43c-fc1348f4e83c"
   },
   "outputs": [],
   "source": [
    "az.plot_forest(algae_nl_trace, var_names = ['β'] )"
   ]
  },
  {
   "cell_type": "code",
   "execution_count": null,
   "id": "kJydvjzjNiE8",
   "metadata": {
    "colab": {
     "base_uri": "https://localhost:8080/",
     "height": 204
    },
    "id": "kJydvjzjNiE8",
    "outputId": "056367e6-b7a1-456d-85a8-7785bd876576"
   },
   "outputs": [],
   "source": [
    "cmp_loo = az.compare({'Linear':algae_lin_trace, 'Nonlinear':algae_nl_trace}, ic='loo')\n",
    "cmp_loo"
   ]
  },
  {
   "cell_type": "code",
   "execution_count": null,
   "id": "EpPSJXIvNkJG",
   "metadata": {
    "colab": {
     "base_uri": "https://localhost:8080/",
     "height": 204
    },
    "id": "EpPSJXIvNkJG",
    "outputId": "2133d09c-fbd2-45ba-9593-c8e7502e880f"
   },
   "outputs": [],
   "source": [
    "cmp_waic = az.compare({'Linear':algae_lin_trace, 'Nonlinear':algae_nl_trace}, ic='loo')\n",
    "cmp_waic"
   ]
  },
  {
   "cell_type": "code",
   "execution_count": null,
   "id": "f8099d75-7039-4aa1-aab9-f62f0e3a1415",
   "metadata": {
    "id": "f8099d75-7039-4aa1-aab9-f62f0e3a1415"
   },
   "outputs": [],
   "source": [
    "# with a_model:\n",
    "#     az.plot_posterior(trace_robust,\n",
    "#                       var_names = [\"beta_0\", \"beta_spring\",\n",
    "#                                    \"beta_summer\", \"beta_winter\",\n",
    "#                                    \"beta_medium\", \"beta_small\",\n",
    "#                                    \"beta_l\", \"beta_m\", \"beta_mxPH\", \"beta_mnO2\",\n",
    "#                                    \"beta_Cl\", \"beta_NO3\", \"beta_NH4\",\n",
    "#                                    \"beta_oPO4\", \"beta_Chla\"],\n",
    "#                       ref_val=0)"
   ]
  },
  {
   "cell_type": "code",
   "execution_count": null,
   "id": "2dJ8p6Azfg1B",
   "metadata": {
    "id": "2dJ8p6Azfg1B"
   },
   "outputs": [],
   "source": [
    "# with pm.Model() as a_pred_model:\n",
    "#   beta0 = pm.Normal('beta0', 0, 10)\n",
    "#   betaNO3 = pm.Normal('NO3', 0, 10)\n",
    "\n",
    "#   nu = pm.Exponential('nu', 1/30)\n",
    "#   sigma = pm.Uniform('sigma', 0, 10)\n",
    "\n",
    "#   zNO3 = pm.MutableData('zNO3', NO3_obs, dims='obs_id')\n",
    "\n",
    "#   mu = pm.Deterministic('mu', beta0+betaNO3*zNO3)\n",
    "\n",
    "#   a_zScores = pm.StudentT('a_zScores', nu=nu, mu=mu, sigma=sigma,\n",
    "#                           observed=a1_obs)\n",
    "\n",
    "#   a_pred_trace = pm.sample(random_seed=random_seed)"
   ]
  },
  {
   "cell_type": "code",
   "execution_count": null,
   "id": "LVU8H28UhnDH",
   "metadata": {
    "id": "LVU8H28UhnDH"
   },
   "outputs": [],
   "source": [
    "# with a_pred_model:\n",
    "#   a_ppc = pm.sample_posterior_predictive(a_pred_trace,\n",
    "#                                          var_names=['mu'],\n",
    "#                                          random_seed=random_seed)"
   ]
  },
  {
   "cell_type": "code",
   "execution_count": null,
   "id": "QXB7s1YcUzSh",
   "metadata": {
    "id": "QXB7s1YcUzSh"
   },
   "outputs": [],
   "source": [
    "# new_NO3 = np.linspace(-2, 2, num=200)"
   ]
  },
  {
   "cell_type": "code",
   "execution_count": null,
   "id": "433104a3-5ac7-4b6e-9dfe-57c71800bba8",
   "metadata": {
    "id": "433104a3-5ac7-4b6e-9dfe-57c71800bba8"
   },
   "outputs": [],
   "source": [
    "# with a_model:\n",
    "#   pm.set_data({'new_NO3':new_NO3})\n",
    "\n",
    "#   a_pp_pred = pm.sample_posterior_predictive(a_pred_trace,\n",
    "#                                              var_names=[\"mu\"],\n",
    "#                                              return_inferencedata=True,\n",
    "#                                              predictions=True,\n",
    "#                                              extend_interfacedata=True,\n",
    "#                                              random_seed=random_seed)"
   ]
  },
  {
   "cell_type": "code",
   "execution_count": null,
   "id": "ec31800f-614b-4b38-b2cd-f54aaf706b85",
   "metadata": {
    "id": "ec31800f-614b-4b38-b2cd-f54aaf706b85"
   },
   "outputs": [],
   "source": [
    "# _, ax = plt.subplots(figsize=(12,6))\n",
    "\n",
    "# preds_counterfactual = a_pp_pred.predictions_constant_data[\"new_NO3\"]\n",
    "# model_preds = a_pp_pred.predictions\n",
    "\n",
    "# ax.vlines(preds_counterfactual,\n",
    "#           *az.hdi(model_preds)[\"mu\"].transpose(\"hdi\", ...),\n",
    "#           alpha=0.5)\n",
    "\n",
    "# ax.plot(preds_counterfactual,\n",
    "#         model_preds['mu'].mean((\"chain\",\"draw\")),\n",
    "#         \"sigma\",\n",
    "#         ms=5,\n",
    "#         color=\"C1\",\n",
    "#         alpha=0.5,\n",
    "#         label=\"Expected prob.\")"
   ]
  },
  {
   "cell_type": "markdown",
   "id": "ZFckOnibBUks",
   "metadata": {
    "id": "ZFckOnibBUks"
   },
   "source": [
    "(f) The data set, algaetest.csv, contains a test set. Build a second model\n",
    "that may contain fewer predictors but should contain at least one\n",
    "nonlinear element. Evaluate both models using ROC curves for the\n",
    "test set. For the better performing model show the parameter posterior distributions."
   ]
  },
  {
   "cell_type": "code",
   "execution_count": null,
   "id": "J-OOB-PBOCLh",
   "metadata": {
    "id": "J-OOB-PBOCLh"
   },
   "outputs": [],
   "source": [
    "algae_new_df = pd.read_csv(\"/content/drive/My Drive/Colab Notebooks/algaeTest.csv\", header = None, names=col_names, na_values =['XXXXXXX'])"
   ]
  },
  {
   "cell_type": "code",
   "execution_count": null,
   "id": "T3sfX3ETOBfG",
   "metadata": {
    "id": "T3sfX3ETOBfG"
   },
   "outputs": [],
   "source": [
    "# Clean and process the test data\n",
    "# create the response variable and drop the other algae variables\n",
    "\n",
    "log_a1_test = np.log10(algae_new_df.a1+1)\n",
    "algae_new_df.drop(['a1','a2','a3','a4','a5','a6','a7'], axis = 1, inplace = True)\n",
    "\n",
    "# drop oPO4\n",
    "\n",
    "algae_new_df.drop(['oPO4'], axis = 1, inplace = True)\n",
    "\n",
    "# drop NO3\n",
    "\n",
    "# replace NO3 with 0's\n",
    "\n",
    "algae_new_df['NO3'] = np.zeros(algae_new_df.shape[0])"
   ]
  },
  {
   "cell_type": "code",
   "execution_count": null,
   "id": "V6yxh9isOl-z",
   "metadata": {
    "colab": {
     "base_uri": "https://localhost:8080/",
     "height": 320
    },
    "id": "V6yxh9isOl-z",
    "outputId": "a97c1f64-63a0-436a-d365-31d0392c6dc5"
   },
   "outputs": [],
   "source": [
    "# Code the categorical variables\n",
    "# Use one-hot encoding\n",
    "\n",
    "algae_test_df = pd.get_dummies(algae_new_df, columns=['season','size','speed'], drop_first = False, dtype = float)\n",
    "\n",
    "algae_test_df.describe(include = 'all')"
   ]
  },
  {
   "cell_type": "code",
   "execution_count": null,
   "id": "RPd3TeLbPaMx",
   "metadata": {
    "colab": {
     "base_uri": "https://localhost:8080/"
    },
    "id": "RPd3TeLbPaMx",
    "outputId": "6f6d1f13-4612-4822-9319-15116a801b2d"
   },
   "outputs": [],
   "source": [
    "# Impute missing values\n",
    "\n",
    "algae_test_df = DataFrameImputer().fit_transform(algae_test_df)\n",
    "algae_test_df.isnull().sum()"
   ]
  },
  {
   "cell_type": "code",
   "execution_count": null,
   "id": "nI7c0IZKPdwy",
   "metadata": {
    "id": "nI7c0IZKPdwy"
   },
   "outputs": [],
   "source": [
    "# Create log transformed predictors for a nonlinear model\n",
    "nl_set = ['Cl','PO4','Chla']\n",
    "nl_names = ['Cl_nl','PO4_nl','Chla_nl']\n",
    "\n",
    "for n,m in zip(nl_set,nl_names):\n",
    "    algae_test_df[m] = np.log(algae_test_df[n]+1)"
   ]
  },
  {
   "cell_type": "code",
   "execution_count": null,
   "id": "8M_iT4OTQ0CD",
   "metadata": {
    "colab": {
     "base_uri": "https://localhost:8080/"
    },
    "id": "8M_iT4OTQ0CD",
    "outputId": "a64ae4d2-e31a-466e-92af-3818ca6e1d98"
   },
   "outputs": [],
   "source": [
    "#Scale the test variable\n",
    "#linear model\n",
    "\n",
    "numeric_var = ['mxPH', 'mnO2', 'Cl', 'NO3', 'NH4', 'PO4', 'Chla']\n",
    "scaler = StandardScaler()\n",
    "X_test = scaler.fit_transform(algae_test_df[numeric_var])\n",
    "stats.describe(X_test)"
   ]
  },
  {
   "cell_type": "code",
   "execution_count": null,
   "id": "V_H7ucm1Q5FP",
   "metadata": {
    "colab": {
     "base_uri": "https://localhost:8080/"
    },
    "id": "V_H7ucm1Q5FP",
    "outputId": "7388e028-d45f-4fca-8402-5ec6164cc2b4"
   },
   "outputs": [],
   "source": [
    "#Nonlinear variable scaling\n",
    "# Use Z-scaling\n",
    "\n",
    "nl_numeric_var = ['mxPH', 'mnO2', 'Cl_nl', 'NO3', 'NH4', 'PO4_nl', 'Chla_nl']\n",
    "scaler = StandardScaler()\n",
    "XNL_test = scaler.fit_transform(algae_test_df[nl_numeric_var])\n",
    "stats.describe(XNL_test)"
   ]
  },
  {
   "cell_type": "code",
   "execution_count": null,
   "id": "nno3EbUTQ7gL",
   "metadata": {
    "id": "nno3EbUTQ7gL"
   },
   "outputs": [],
   "source": [
    "# Data for linear regression\n",
    "categorical_var = algae_test_df.iloc[:,7:17].columns\n",
    "X_algae_test = np.hstack((X_test, algae_test_df[categorical_var].to_numpy()))"
   ]
  },
  {
   "cell_type": "code",
   "execution_count": null,
   "id": "XG8qsTo6Q8HJ",
   "metadata": {
    "id": "XG8qsTo6Q8HJ"
   },
   "outputs": [],
   "source": [
    "# Data for nonlinear regression\n",
    "\n",
    "XNL_algae_test = np.hstack((XNL_test, algae_test_df[categorical_var].to_numpy()))"
   ]
  },
  {
   "cell_type": "code",
   "execution_count": null,
   "id": "CSpcDyx5RC0w",
   "metadata": {
    "colab": {
     "base_uri": "https://localhost:8080/",
     "height": 37
    },
    "id": "CSpcDyx5RC0w",
    "outputId": "d5d71c14-f9d0-4fcb-d02c-61ac2f6de33a"
   },
   "outputs": [],
   "source": [
    "# Test data predictions for the linear model\n",
    "\n",
    "with algae_lin_model:\n",
    "    # Test data\n",
    "    pm.set_data({\"X\": X_algae_test, \"y\":log_a1_test})\n",
    "    #Predict outcomes & probabilities\n",
    "    algae_lin_test_pp = pm.sample_posterior_predictive(\n",
    "        algae_lin_trace,\n",
    "        var_names = [\"log_algae\"],\n",
    "        return_inferencedata=True,\n",
    "        predictions=True,\n",
    "        extend_inferencedata=True,\n",
    "        random_seed = random_seed)"
   ]
  },
  {
   "cell_type": "code",
   "execution_count": null,
   "id": "lmJ9r_glRFJr",
   "metadata": {
    "colab": {
     "base_uri": "https://localhost:8080/",
     "height": 236
    },
    "id": "lmJ9r_glRFJr",
    "outputId": "5a5fd2f3-5663-4f60-fc43-c47f8c24682c"
   },
   "outputs": [],
   "source": [
    "algae_lin_test_pp"
   ]
  },
  {
   "cell_type": "code",
   "execution_count": null,
   "id": "6B-Kj49ARHEE",
   "metadata": {
    "colab": {
     "base_uri": "https://localhost:8080/"
    },
    "id": "6B-Kj49ARHEE",
    "outputId": "bf09fa20-464a-49eb-bce7-b2d0c23859d4"
   },
   "outputs": [],
   "source": [
    "# MSE for the linear model\n",
    "\n",
    "pred = algae_lin_test_pp.predictions[\"log_algae\"].mean(dim =['chain','draw'])\n",
    "mse = mean_squared_error(pred, log_a1_test)\n",
    "# nmse = norm_mse(y_pred, y_test)\n",
    "print(\"Mean Square Error: %0.2f\" % (mse))\n",
    "# print(\"Normalized Mean Square Error: %0.2f\" % (nmse))"
   ]
  },
  {
   "cell_type": "code",
   "execution_count": null,
   "id": "RUUmVMDgRJFm",
   "metadata": {
    "colab": {
     "base_uri": "https://localhost:8080/",
     "height": 37
    },
    "id": "RUUmVMDgRJFm",
    "outputId": "bb906215-df44-42e8-dbea-bb4911f1dec8"
   },
   "outputs": [],
   "source": [
    "# Test data predictions for the nonlinear model\n",
    "\n",
    "with algae_nl_model:\n",
    "    # Test data\n",
    "    pm.set_data({\"X\": XNL_algae_test, \"y\":log_a1_test})\n",
    "    #Predict outcomes & probabilities\n",
    "    algae_nl_test_pp = pm.sample_posterior_predictive(\n",
    "        algae_nl_trace,\n",
    "        var_names = [\"log_algae\"],\n",
    "        return_inferencedata=True,\n",
    "        predictions=True,\n",
    "        extend_inferencedata=True,\n",
    "        random_seed = random_seed)"
   ]
  },
  {
   "cell_type": "code",
   "execution_count": null,
   "id": "JzyjT9FzRMRY",
   "metadata": {
    "colab": {
     "base_uri": "https://localhost:8080/"
    },
    "id": "JzyjT9FzRMRY",
    "outputId": "c1cee187-c2c6-4522-c707-3263cc76046c"
   },
   "outputs": [],
   "source": [
    "# MSE for the nonlinear model\n",
    "\n",
    "pred = algae_nl_test_pp.predictions[\"log_algae\"].mean(dim =['chain','draw'])\n",
    "mse = mean_squared_error(pred, log_a1_test)\n",
    "# nmse = norm_mse(y_pred, y_test)\n",
    "print(\"Mean Square Error: %0.2f\" % (mse))\n",
    "# print(\"Normalized Mean Square Error: %0.2f\" % (nmse))"
   ]
  },
  {
   "cell_type": "code",
   "execution_count": null,
   "id": "22nICVPiRSOo",
   "metadata": {
    "colab": {
     "base_uri": "https://localhost:8080/",
     "height": 646
    },
    "id": "22nICVPiRSOo",
    "outputId": "69e7fb82-4e49-4c9a-f4e0-923d5e680721"
   },
   "outputs": [],
   "source": [
    "# Plot of predictions linear model\n",
    "\n",
    "_, ax = plt.subplots(figsize=(12, 6))\n",
    "\n",
    "pred_mean = algae_lin_test_pp.predictions[\"log_algae\"].mean(dim=[\"draw\", \"chain\"])\n",
    "ax.scatter(X_test[:,5],pred_mean, label = 'Predictions')\n",
    "ax.scatter(X_test[:,5], log_a1_test, label = 'Test Set')\n",
    "ax.vlines(\n",
    "    X_test[:,5],\n",
    "    *az.hdi(algae_lin_test_pp.predictions)[\"log_algae\"].transpose(\"hdi\", ...),\n",
    "    alpha=0.8,\n",
    ")\n",
    "ax.set_ylabel('Log a1 Algae')\n",
    "ax.set_xlabel('Z-scaled PO4')\n",
    "ax.set_title('Linear Model Predictions and Test Set Values')\n",
    "ax.legend(loc='upper right')"
   ]
  },
  {
   "cell_type": "code",
   "execution_count": null,
   "id": "pjVTaYAHRUbS",
   "metadata": {
    "colab": {
     "base_uri": "https://localhost:8080/",
     "height": 646
    },
    "id": "pjVTaYAHRUbS",
    "outputId": "ac99481d-9dd3-4a0f-9de3-6b83a1cf7d60"
   },
   "outputs": [],
   "source": [
    "_, ax = plt.subplots(figsize=(12, 6))\n",
    "\n",
    "pred_mean = algae_lin_test_pp.predictions[\"log_algae\"].mean(dim=[\"draw\", \"chain\"])\n",
    "plt.scatter(X_test[:,6],pred_mean, label='Predictions')\n",
    "plt.scatter(X_test[:,6], log_a1_test, label='Test Set')\n",
    "ax.vlines(\n",
    "    X_test[:,6],\n",
    "    *az.hdi(algae_lin_test_pp.predictions)[\"log_algae\"].transpose(\"hdi\", ...),\n",
    "    alpha=0.8,\n",
    ")\n",
    "\n",
    "ax.set_ylabel('Log a1 Algae')\n",
    "ax.set_xlabel('Z-scaled Chla')\n",
    "ax.set_title('Linear Model Predictions and Test Set Values')\n",
    "ax.legend(loc='upper right')"
   ]
  },
  {
   "cell_type": "code",
   "execution_count": null,
   "id": "6cw6WdS7RWpd",
   "metadata": {
    "colab": {
     "base_uri": "https://localhost:8080/",
     "height": 646
    },
    "id": "6cw6WdS7RWpd",
    "outputId": "9e11be1f-c3cd-4d21-ceaf-5013f9e56655"
   },
   "outputs": [],
   "source": [
    "# Plot of predictions NL Model\n",
    "\n",
    "_, ax = plt.subplots(figsize=(12, 6))\n",
    "\n",
    "pred_mean = algae_nl_test_pp.predictions[\"log_algae\"].mean(dim=[\"draw\", \"chain\"])\n",
    "ax.scatter(X_test[:,5],pred_mean, label = 'Predictions')\n",
    "ax.scatter(X_test[:,5], log_a1_test, label = 'Test Set')\n",
    "ax.vlines(\n",
    "    X_test[:,5],\n",
    "    *az.hdi(algae_nl_test_pp.predictions)[\"log_algae\"].transpose(\"hdi\", ...),\n",
    "    alpha=0.8,\n",
    ")\n",
    "ax.set_ylabel('Log a1 Algae')\n",
    "ax.set_xlabel('Z-scaled PO4')\n",
    "ax.set_title('Nonlinear Model Predictions and Test Set Values')\n",
    "ax.legend(loc='upper right')"
   ]
  },
  {
   "cell_type": "code",
   "execution_count": null,
   "id": "ARFIDQQBRZQd",
   "metadata": {
    "colab": {
     "base_uri": "https://localhost:8080/",
     "height": 646
    },
    "id": "ARFIDQQBRZQd",
    "outputId": "3520ec9d-5b39-4882-c786-873071c0619d"
   },
   "outputs": [],
   "source": [
    "# Plot of predictions NL Model Chla\n",
    "\n",
    "_, ax = plt.subplots(figsize=(12, 6))\n",
    "\n",
    "pred_mean = algae_nl_test_pp.predictions[\"log_algae\"].mean(dim=[\"draw\", \"chain\"])\n",
    "ax.scatter(X_test[:,6],pred_mean, label = 'Predictions')\n",
    "ax.scatter(X_test[:,6], log_a1_test, label = 'Test Set')\n",
    "ax.vlines(\n",
    "    X_test[:,6],\n",
    "    *az.hdi(algae_nl_test_pp.predictions)[\"log_algae\"].transpose(\"hdi\", ...),\n",
    "    alpha=0.8,\n",
    ")\n",
    "ax.set_ylabel('Log a1 Algae')\n",
    "ax.set_xlabel('Z-scaled Chla')\n",
    "ax.set_title('Nonlinear Model Predictions and Test Set Values')\n",
    "ax.legend(loc='upper right')"
   ]
  },
  {
   "cell_type": "code",
   "execution_count": null,
   "id": "-s45kaczkLtZ",
   "metadata": {
    "id": "-s45kaczkLtZ"
   },
   "outputs": [],
   "source": [
    "# random_seed = 135573\n",
    "\n",
    "# spring_obs = aT.loc[:, \"spring\"]\n",
    "# summer_obs = aT.loc[:, \"summer\"]\n",
    "# winter_obs = aT.loc[:, \"winter\"]\n",
    "# mxPH_obs = aT.loc[:, \"mxPH\"]\n",
    "# mnO2_obs = aT.loc[:, \"mnO2\"]\n",
    "# Cl_obs = aT.loc[:, \"Cl\"]\n",
    "# NO3_obs = aT.loc[:, \"NO3\"]\n",
    "# NH4_obs = aT.loc[:, \"NH4\"]\n",
    "# PO4_obs = aT.loc[:, \"PO4\"]\n",
    "# Chla_obs = aT.loc[:, \"Chla\"]\n",
    "# a1_obs = aT.loc[:, \"a1\"]\n",
    "\n",
    "# with pm.Model() as a_model:\n",
    "\n",
    "#     spring = pm.Data(\"spring\", spring_obs)\n",
    "#     summer = pm.Data(\"summer\", summer_obs)\n",
    "#     winter = pm.Data(\"winter\", winter_obs)\n",
    "#     mxPH = pm.Data(\"mxPH\", mxPH_obs)\n",
    "#     mnO2 = pm.Data(\"mnO2\", mnO2_obs)\n",
    "#     Cl = pm.Data(\"Cl\", Cl_obs)\n",
    "#     NO3 = pm.Data(\"NO3\", NO3_obs)\n",
    "#     NH4 = pm.Data(\"NH4\", NH4_obs)\n",
    "#     PO4 = pm.Data(\"PO4\", PO4_obs)\n",
    "#     Chla = pm.Data(\"Chla\", Chla_obs)\n",
    "\n",
    "#     nu = pm.Exponential(\"nu\", 1/20)\n",
    "#     sigma = pm.Uniform(\"sigma\", 0, 10)\n",
    "#     beta_0 = pm.Normal(\"beta_0\", 0, 10)\n",
    "#     beta_spring = pm.Normal(\"beta_spring\", 0, 10)\n",
    "#     beta_summer = pm.Normal(\"beta_summer\", 0, 10)\n",
    "#     beta_winter = pm.Normal(\"beta_winter\", 0, 10)\n",
    "#     beta_mxPH = pm.Normal(\"beta_mxPH\", 0, 10)\n",
    "#     beta_mnO2 = pm.Normal(\"beta_mnO2\", 0, 10)\n",
    "#     beta_Cl = pm.Normal(\"beta_Cl\", 0, 10)\n",
    "#     beta_NO3 = pm.Normal(\"beta_NO3\", 0, 10)\n",
    "#     beta_NH4 = pm.Normal(\"beta_NH4\", 0, 10)\n",
    "#     beta_PO4 = pm.Normal(\"beta_PO4\", 0, 10)\n",
    "#     beta_Chla = pm.Normal(\"beta_Chla\", 0, 10)\n",
    "\n",
    "#     mu = pm.Deterministic(\"mu\", beta_0 + \\\n",
    "#                          beta_spring * spring + beta_summer * summer + \\\n",
    "#                          beta_winter * winter + \\\n",
    "#                          beta_mxPH * mxPH + beta_mnO2 * mnO2 + \\\n",
    "#                          beta_Cl * Cl + beta_NO3 * NO3 + beta_NH4 * NH4 + \\\n",
    "#                          beta_PO4 * PO4 + beta_Chla * Chla)\n",
    "\n",
    "#     a1 = pm.StudentT(\"a1\", mu=mu, sigma=sigma, nu=nu, observed = a1_obs)\n",
    "\n",
    "#     a_trace = pm.sample(draws=2000, tune=4000, cores = 8,\n",
    "#                         random_seed=random_seed, return_inferencedata = False)\n",
    "\n",
    "#     trace_robust = pm.to_inference_data(trace=a_trace, log_likelihood=True)\n",
    "\n",
    "#     a_pp_sqrt = pm.sample_posterior_predictive(trace_robust,\n",
    "#                                            random_seed = random_seed)"
   ]
  },
  {
   "cell_type": "markdown",
   "id": "Vzc8FRwvkGje",
   "metadata": {
    "id": "Vzc8FRwvkGje"
   },
   "source": [
    "(g) Summarize your results and give your answer to the EU’s goal."
   ]
  },
  {
   "cell_type": "markdown",
   "id": "kkK3UjkbkGJ9",
   "metadata": {
    "id": "kkK3UjkbkGJ9"
   },
   "source": [
    "## Question 3\n",
    "\n",
    "(30) The South African Health Ministry is now asking you to to extend\n",
    "your work from problem 1 and perform a full analysis of the data in\n",
    "the coronary heart disease study [1]. Their goal is to understand factors\n",
    "that may be associate with coronary heart disease to inform further more focused research on those factors. For this work you will again use the\n",
    "CHD data set (CHDdata.csv ). Perform the following steps and answer\n",
    "the associated questions."
   ]
  },
  {
   "cell_type": "markdown",
   "id": "-EQyiQBj8Uoi",
   "metadata": {
    "id": "-EQyiQBj8Uoi"
   },
   "source": [
    "(a) Perform a simple exploratory analysis of the data by at least viewing\n",
    "summary statistics. Comment on what the EDA implies for your\n",
    "analysis."
   ]
  },
  {
   "cell_type": "code",
   "execution_count": null,
   "id": "HwRzxtGeCVz9",
   "metadata": {
    "colab": {
     "base_uri": "https://localhost:8080/",
     "height": 206
    },
    "id": "HwRzxtGeCVz9",
    "outputId": "e3c4a2ab-8124-4c97-8df9-d120f6966048"
   },
   "outputs": [],
   "source": [
    "data1.head()"
   ]
  },
  {
   "cell_type": "code",
   "execution_count": null,
   "id": "k3v6D-T6W_1b",
   "metadata": {
    "colab": {
     "base_uri": "https://localhost:8080/",
     "height": 300
    },
    "id": "k3v6D-T6W_1b",
    "outputId": "cc266f17-389a-443d-c0d2-4a4b05de39b2"
   },
   "outputs": [],
   "source": [
    "data1.describe()"
   ]
  },
  {
   "cell_type": "code",
   "execution_count": null,
   "id": "nYDfC7NgXCau",
   "metadata": {
    "colab": {
     "base_uri": "https://localhost:8080/",
     "height": 1000
    },
    "id": "nYDfC7NgXCau",
    "outputId": "9a5e7ad2-d1f8-4774-e3c6-7bba953a0b6d"
   },
   "outputs": [],
   "source": [
    "sns.pairplot(data1,vars= ['sbp', 'tobacco', 'ldl', 'adiposity', 'typea', 'obesity', 'alcohol', 'age'], hue='chd')"
   ]
  },
  {
   "cell_type": "code",
   "execution_count": null,
   "id": "nMmyXGHTXWtL",
   "metadata": {
    "colab": {
     "base_uri": "https://localhost:8080/",
     "height": 387
    },
    "id": "nMmyXGHTXWtL",
    "outputId": "68ca6f96-9f68-41f2-ec33-fe6fa8a853e2"
   },
   "outputs": [],
   "source": [
    "data1.corr()"
   ]
  },
  {
   "cell_type": "code",
   "execution_count": null,
   "id": "ehUat4CVXWhE",
   "metadata": {
    "colab": {
     "base_uri": "https://localhost:8080/",
     "height": 526
    },
    "id": "ehUat4CVXWhE",
    "outputId": "b301a39a-0cf4-43e5-994b-2c7cf16ec7c6"
   },
   "outputs": [],
   "source": [
    "az.plot_dist(data1.chd, kind = 'hist')"
   ]
  },
  {
   "cell_type": "code",
   "execution_count": null,
   "id": "mM4p2RV48Q_c",
   "metadata": {
    "id": "mM4p2RV48Q_c"
   },
   "outputs": [],
   "source": [
    "# summary_stats = (data1.loc[:, ['sbp', 'tobacco', 'ldl', 'adiposity', 'typea', 'obesity',\n",
    "#        'alcohol', 'age']]\n",
    "#                          .agg([\"mean\", \"std\", \"count\"]))\n",
    "# summary_stats"
   ]
  },
  {
   "cell_type": "code",
   "execution_count": null,
   "id": "NNVlbmiPRAGK",
   "metadata": {
    "id": "NNVlbmiPRAGK"
   },
   "outputs": [],
   "source": [
    "# df = data1.loc[:, ['sbp', 'tobacco', 'ldl', 'adiposity', 'typea', 'obesity',\n",
    "#        'alcohol', 'age']]\n",
    "# df = df.melt(var_name='cols',  value_name='vals')\n",
    "\n",
    "# sns.displot(kind='kde', data=df, col='cols', col_wrap=4, x='vals', hue=\"cols\", facet_kws={'sharey': False, 'sharex': False})"
   ]
  },
  {
   "cell_type": "code",
   "execution_count": null,
   "id": "p6OCAWT-LW1U",
   "metadata": {
    "id": "p6OCAWT-LW1U"
   },
   "outputs": [],
   "source": [
    "# df = data1[[\"famhist\", \"chd\"]]\n",
    "# sns.countplot(x=\"famhist\", hue=\"chd\", data=data1)"
   ]
  },
  {
   "cell_type": "markdown",
   "id": "isC9idL08WN-",
   "metadata": {
    "id": "isC9idL08WN-"
   },
   "source": [
    "(b) Preprocess the data by scaling the predictor variables using a ztransformation (subtract the mean divide by the standard deviation).\n",
    "Explain why this is appropriate. Code the categorical variables and\n",
    "explain your coding."
   ]
  },
  {
   "cell_type": "code",
   "execution_count": null,
   "id": "iUXAQihVOcEJ",
   "metadata": {
    "colab": {
     "base_uri": "https://localhost:8080/"
    },
    "id": "iUXAQihVOcEJ",
    "outputId": "37539bb8-4fd0-4b60-8f0c-24dae861e247"
   },
   "outputs": [],
   "source": [
    "# Impute missing values\n",
    "\n",
    "data1_model_df = pd.get_dummies(data1, drop_first = False, dtype = float)\n",
    "\n",
    "data1_clean_df = DataFrameImputer().fit_transform(data1_model_df)\n",
    "data1_clean_df.isnull().sum()"
   ]
  },
  {
   "cell_type": "code",
   "execution_count": null,
   "id": "YMD5Tt5XQpwy",
   "metadata": {
    "colab": {
     "base_uri": "https://localhost:8080/",
     "height": 300
    },
    "id": "YMD5Tt5XQpwy",
    "outputId": "6246c562-9efc-486a-90c5-38ce07fceafc"
   },
   "outputs": [],
   "source": [
    "data1_clean_df.describe()"
   ]
  },
  {
   "cell_type": "markdown",
   "id": "mwUXeCApQtzX",
   "metadata": {
    "id": "mwUXeCApQtzX"
   },
   "source": [
    "### Answer 3.B\n",
    "\n",
    "We can scale with this method because"
   ]
  },
  {
   "cell_type": "markdown",
   "id": "iuAguxJw8ZQI",
   "metadata": {
    "id": "iuAguxJw8ZQI"
   },
   "source": [
    "(c) Develop and use Bayesian GLM model with all the predictor variables. Explain your choice of priors and their parameters. Show the\n",
    "graphical representation of your model."
   ]
  },
  {
   "cell_type": "code",
   "execution_count": null,
   "id": "MqkIwYy10MrJ",
   "metadata": {
    "colab": {
     "base_uri": "https://localhost:8080/"
    },
    "id": "MqkIwYy10MrJ",
    "outputId": "ae7b2ec9-f5dc-4497-f539-4197119e5be2"
   },
   "outputs": [],
   "source": [
    "data1_clean_df.columns"
   ]
  },
  {
   "cell_type": "code",
   "execution_count": null,
   "id": "0p_plZCi5Fqk",
   "metadata": {
    "id": "0p_plZCi5Fqk"
   },
   "outputs": [],
   "source": [
    "# with pm.Model() as glm_model:\n",
    "#   Y = data1_clean_df[\"chd\"]\n",
    "#   X = data1_clean_df.loc[:,['sbp', 'tobacco', 'ldl', 'adiposity', 'typea', 'obesity', 'alcohol',\n",
    "#                              'age', 'famhist_Absent','famhist_Present']] #predictors\n",
    "#   k = X.shape[1] # no. of predictors\n",
    "#   alpha = pm.Normal('alpha', 0, 100)\n",
    "\n",
    "#   beta = pm.MvNormal('beta', mu=np.zeros(k), cov=100*np.eye(k), shape=k)\n",
    "#   mu = alpha + pm.math.dot(X,beta)\n",
    "#   p = pm.Deterministic('p', pm.invlogit(mu))\n",
    "#   Yl = pm.Bernoulli('Yl', p=p, observed=Y)\n",
    "\n",
    "# pm.model_to_graphviz(glm_model)"
   ]
  },
  {
   "cell_type": "code",
   "execution_count": null,
   "id": "G7tNilGtyabb",
   "metadata": {
    "colab": {
     "base_uri": "https://localhost:8080/",
     "height": 470
    },
    "id": "G7tNilGtyabb",
    "outputId": "3fcfc0f2-5b6d-4eac-ed78-5530a91c243a"
   },
   "outputs": [],
   "source": [
    "with pm.Model() as glm_model:\n",
    "  Y = data1_clean_df[\"chd\"]\n",
    "  alpha = pm.Normal('alpha', mu=0, sigma=5)\n",
    "  beta1 = pm.Normal('beta1', mu=0, sigma=5)\n",
    "  beta2 = pm.Normal('beta2', mu=0, sigma=5)\n",
    "  beta3 = pm.Normal('beta3', mu=0, sigma=5)\n",
    "  beta4 = pm.Normal('beta4', mu=0, sigma=5)\n",
    "  beta5 = pm.Normal('beta5', mu=0, sigma=5)\n",
    "  beta6 = pm.Normal('beta6', mu=0, sigma=5)\n",
    "  beta7 = pm.Normal('beta7', mu=0, sigma=5)\n",
    "  beta8 = pm.Normal('beta8', mu=0, sigma=5)\n",
    "  beta9 = pm.Normal('beta9', mu=0, sigma=5)\n",
    "  beta10 = pm.Normal('beta10', mu=0, sigma=5)\n",
    "\n",
    "  mu = alpha + beta1*data1_clean_df[\"sbp\"] + beta2*data1_clean_df['tobacco']+\\\n",
    "  beta3*data1_clean_df[\"ldl\"] + beta4*data1_clean_df[\"adiposity\"] + \\\n",
    "  beta5*data1_clean_df[\"typea\"] + beta6*data1_clean_df[\"obesity\"] + \\\n",
    "  beta7*data1_clean_df[\"alcohol\"] + beta8*data1_clean_df[\"age\"] + beta9*data1_clean_df[\"famhist_Absent\"] + \\\n",
    "  beta10*data1_clean_df[\"famhist_Present\"]\n",
    "\n",
    "  p = pm.Deterministic('p', pm.invlogit(mu))\n",
    "\n",
    "  Yl = pm.Bernoulli('Yl', p=p, observed=Y)\n",
    "\n",
    "pm.model_to_graphviz(glm_model)"
   ]
  },
  {
   "cell_type": "code",
   "execution_count": null,
   "id": "mXbNXNku1rTD",
   "metadata": {
    "colab": {
     "base_uri": "https://localhost:8080/",
     "height": 93
    },
    "id": "mXbNXNku1rTD",
    "outputId": "ed5ba483-6614-4ec3-ac67-87eeb6cccb26"
   },
   "outputs": [],
   "source": [
    "with glm_model:\n",
    "  glm_chd_trace = pm.sample(1000, tune=2000, random_seed = random_seed, cores = 8, target_accept=0.9)"
   ]
  },
  {
   "cell_type": "code",
   "execution_count": null,
   "id": "AfS_XDcs7kD3",
   "metadata": {
    "colab": {
     "base_uri": "https://localhost:8080/",
     "height": 1000
    },
    "id": "AfS_XDcs7kD3",
    "outputId": "5b5e1f8d-a751-431c-f21e-5f91407ac6b7"
   },
   "outputs": [],
   "source": [
    "az.plot_trace(glm_chd_trace, compact = False, var_names = ['alpha','beta1','beta2',\n",
    "                                                           'beta3','beta4','beta5',\n",
    "                                                           'beta6','beta7','beta8',\n",
    "                                                           'beta9','beta10'], figsize = (18,15))"
   ]
  },
  {
   "cell_type": "code",
   "execution_count": null,
   "id": "0oCFXZxv72lc",
   "metadata": {
    "colab": {
     "base_uri": "https://localhost:8080/",
     "height": 394
    },
    "id": "0oCFXZxv72lc",
    "outputId": "7e3955c3-efce-4b3b-c7f1-a2c486889471"
   },
   "outputs": [],
   "source": [
    "az.summary(glm_chd_trace, var_names= ['alpha','beta1','beta2',\n",
    "                                  'beta3','beta4','beta5',\n",
    "                                  'beta6','beta7','beta8',\n",
    "                                  'beta9','beta10'])"
   ]
  },
  {
   "cell_type": "markdown",
   "id": "K1yemhsH8chX",
   "metadata": {
    "id": "K1yemhsH8chX"
   },
   "source": [
    "(d) Evaluate both the sampling used by your model, as well as, the prior\n",
    "and posterior predictive results.\n"
   ]
  },
  {
   "cell_type": "code",
   "execution_count": null,
   "id": "kLVL1Eqt8KMW",
   "metadata": {
    "colab": {
     "base_uri": "https://localhost:8080/",
     "height": 37
    },
    "id": "kLVL1Eqt8KMW",
    "outputId": "dcb380b6-5ec4-4855-c4d1-012625518576"
   },
   "outputs": [],
   "source": [
    "glm_chd_pp = pm.sample_posterior_predictive(glm_chd_trace, model = glm_model, random_seed = random_seed)"
   ]
  },
  {
   "cell_type": "code",
   "execution_count": null,
   "id": "etZ6fPvi8ae9",
   "metadata": {
    "colab": {
     "base_uri": "https://localhost:8080/",
     "height": 526
    },
    "id": "etZ6fPvi8ae9",
    "outputId": "7069cb75-aa4b-4a22-f315-09a57daac9cb"
   },
   "outputs": [],
   "source": [
    "az.plot_bpv(glm_chd_pp)"
   ]
  },
  {
   "cell_type": "markdown",
   "id": "VVDtOgOL8elO",
   "metadata": {
    "id": "VVDtOgOL8elO"
   },
   "source": [
    "(e) Provide plots of the posterior distributions for the parameters and\n",
    "discuss what these results imply for the relevant predictor variables\n",
    "and the overall model. Show posterior analyses to include relevant\n",
    "odds ratio(s) and describe what this analysis means for the goal of\n",
    "your study."
   ]
  },
  {
   "cell_type": "code",
   "execution_count": null,
   "id": "QtgbsNaU8kd-",
   "metadata": {
    "colab": {
     "base_uri": "https://localhost:8080/",
     "height": 1000
    },
    "id": "QtgbsNaU8kd-",
    "outputId": "2a7ef928-f81e-400f-e6b7-45ae96edfe1c"
   },
   "outputs": [],
   "source": [
    "az.plot_posterior(glm_chd_trace,\n",
    "                  var_names=['alpha','beta1','beta2',\n",
    "                             'beta3','beta4','beta5',\n",
    "                             'beta6','beta7','beta8',\n",
    "                             'beta9','beta10'],\n",
    "                  ref_val = 0)"
   ]
  },
  {
   "cell_type": "code",
   "execution_count": null,
   "id": "fryMiYC481T1",
   "metadata": {
    "colab": {
     "base_uri": "https://localhost:8080/",
     "height": 875
    },
    "id": "fryMiYC481T1",
    "outputId": "8e6a9745-870c-4f0a-be71-69f0a30cec75"
   },
   "outputs": [],
   "source": [
    "all_predictors = ['sbp', 'tobacco', 'ldl', 'adiposity', 'typea', 'obesity', 'alcohol',\n",
    "                  'age', 'famhist_Absent', 'famhist_Present']\n",
    "parameters = ['alpha','beta1','beta2','beta3','beta4','beta5',\n",
    "              'beta6','beta7','beta8','beta9','beta10']\n",
    "\n",
    "fig, axes = plt.subplots(3,2, figsize=(12,8), dpi=150)\n",
    "\n",
    "for ax, estimate, title, xlabel in zip(fig.axes, (glm_chd_trace.posterior[i] for i in parameters),\n",
    " ['Intercept'] + all_predictors, ['Intercept'] + all_predictors):\n",
    "\n",
    "  pm.plot_posterior(estimate, point_estimate='mode', ax=ax)\n",
    "  ax.set_title(title, fontsize=12)\n",
    "  ax.set_xlabel(xlabel, fontsize=12)\n",
    "\n",
    "fig.delaxes(axes[2,1])\n",
    "plt.tight_layout()"
   ]
  },
  {
   "cell_type": "code",
   "execution_count": null,
   "id": "o948Xclj9zOA",
   "metadata": {
    "colab": {
     "base_uri": "https://localhost:8080/",
     "height": 1000
    },
    "id": "o948Xclj9zOA",
    "outputId": "db229d70-df69-4694-e835-3c938a580a3c"
   },
   "outputs": [],
   "source": [
    "for i in parameters:\n",
    "  az.plot_posterior(glm_chd_trace.posterior[i], ref_val = 0)"
   ]
  },
  {
   "cell_type": "code",
   "execution_count": null,
   "id": "Gcw9Jt7795-2",
   "metadata": {
    "colab": {
     "base_uri": "https://localhost:8080/",
     "height": 1000
    },
    "id": "Gcw9Jt7795-2",
    "outputId": "1c977f84-8c20-4693-a4eb-d6f718745fd6"
   },
   "outputs": [],
   "source": [
    "az.plot_forest(glm_chd_trace, var_names=parameters)"
   ]
  },
  {
   "cell_type": "code",
   "execution_count": null,
   "id": "l4mYG0SU-OBz",
   "metadata": {
    "colab": {
     "base_uri": "https://localhost:8080/",
     "height": 526
    },
    "id": "l4mYG0SU-OBz",
    "outputId": "0934eff2-fc46-44fb-e656-8be63ff5962c"
   },
   "outputs": [],
   "source": [
    "az.plot_ppc(glm_chd_pp)"
   ]
  },
  {
   "cell_type": "code",
   "execution_count": null,
   "id": "gS5vCSNV-cOA",
   "metadata": {
    "colab": {
     "base_uri": "https://localhost:8080/",
     "height": 646
    },
    "id": "gS5vCSNV-cOA",
    "outputId": "ca0cb2b4-e10f-46a3-ff58-89a6f6501ebd"
   },
   "outputs": [],
   "source": [
    "_, ax = plt.subplots(figsize=(12, 6))\n",
    "\n",
    "b = glm_chd_trace.posterior[\"beta3\"]\n",
    "OR = np.mean(b, axis =0)\n",
    "lb, ub = np.percentile(OR, 2.5), np.percentile(OR, 97.5)\n",
    "plt.hist(np.exp(OR), bins=20, density=True)\n",
    "plt.axvline(np.exp(lb), color = 'r')\n",
    "plt.axvline(np.exp(ub), color = 'r')\n",
    "plt.xlabel(\"Odds Ratio\")\n",
    "plt.title(\"LDL Odds Ratio with 95% CI\")"
   ]
  },
  {
   "cell_type": "markdown",
   "id": "dGqpWutR8gsF",
   "metadata": {
    "id": "dGqpWutR8gsF"
   },
   "source": [
    "(f) Develop a second model to help in your study of this problem. This\n",
    "new model can use fewer predictor variables but must contain at\n",
    "least one nonlinear component. Explain your choice of priors and\n",
    "their parameters, and show the graphical representation of your new\n",
    "model.\n"
   ]
  },
  {
   "cell_type": "code",
   "execution_count": null,
   "id": "Ey6vXzwi_iZB",
   "metadata": {
    "id": "Ey6vXzwi_iZB"
   },
   "outputs": [],
   "source": [
    "data1_clean_df[\"age_sq\"] = data1_clean_df.age**2"
   ]
  },
  {
   "cell_type": "code",
   "execution_count": null,
   "id": "Cr5BmfB8AVoS",
   "metadata": {
    "colab": {
     "base_uri": "https://localhost:8080/",
     "height": 457
    },
    "id": "Cr5BmfB8AVoS",
    "outputId": "7a0fefb5-b359-4d15-d7d5-85d2eb1f7a12"
   },
   "outputs": [],
   "source": [
    "with pm.Model() as nl_model:\n",
    "  Y = data1_clean_df[\"chd\"]\n",
    "  alpha = pm.Normal('alpha', 0, 100)\n",
    "  beta1 = pm.Normal('beta1', mu=0, sigma=10)\n",
    "  beta2 = pm.Normal('beta2', mu=0, sigma=10)\n",
    "  beta3 = pm.Normal('beta3', mu=0, sigma=10)\n",
    "\n",
    "  mu = alpha + data1_clean_df['adiposity']*beta1 + data1_clean_df['age']*beta2 + data1_clean_df['age_sq']*beta3\n",
    "  p = pm.Deterministic('p', pm.invlogit(mu))\n",
    "  Yl = pm.Bernoulli('Yl', p=p, observed=Y)\n",
    "\n",
    "pm.model_to_graphviz(nl_model)"
   ]
  },
  {
   "cell_type": "code",
   "execution_count": null,
   "id": "qJMN0a-qBULw",
   "metadata": {
    "id": "qJMN0a-qBULw"
   },
   "outputs": [],
   "source": [
    "with nl_model:\n",
    "  nl_chd_trace = pm.sample(1000, tune=2000, random_seed = random_seed, cores = 8)"
   ]
  },
  {
   "cell_type": "code",
   "execution_count": null,
   "id": "4IJNlkYNBcFU",
   "metadata": {
    "id": "4IJNlkYNBcFU"
   },
   "outputs": [],
   "source": [
    "az.plot_trace(nl_chd_trace, compact = False, var_names = ['alpha','beta1','beta2',\n",
    "                                                       'beta3'], figsize = (18,15))"
   ]
  },
  {
   "cell_type": "code",
   "execution_count": null,
   "id": "3u_sP0wFBidR",
   "metadata": {
    "id": "3u_sP0wFBidR"
   },
   "outputs": [],
   "source": [
    "az.summary(nl_chd_trace, var_names= ['alpha','beta1','beta2',\n",
    "                                  'beta3'])"
   ]
  },
  {
   "cell_type": "markdown",
   "id": "9jS0rN7U8iwd",
   "metadata": {
    "id": "9jS0rN7U8iwd"
   },
   "source": [
    "(g) For the second model evaluate the sampling and choice of priors using\n",
    "Bayesian p-value and posterior predictive plots. Briefly explain your\n",
    "results."
   ]
  },
  {
   "cell_type": "code",
   "execution_count": null,
   "id": "9lZM0z0jBmVl",
   "metadata": {
    "id": "9lZM0z0jBmVl"
   },
   "outputs": [],
   "source": [
    "nl_chd_pp = pm.sample_posterior_predictive(nl_chd_trace, model = nl_model, random_seed = random_seed)"
   ]
  },
  {
   "cell_type": "code",
   "execution_count": null,
   "id": "hGjFozJfBq9T",
   "metadata": {
    "id": "hGjFozJfBq9T"
   },
   "outputs": [],
   "source": [
    "az.plot_bpv(nl_chd_pp)"
   ]
  },
  {
   "cell_type": "markdown",
   "id": "e0-gS3aS8lhN",
   "metadata": {
    "id": "e0-gS3aS8lhN"
   },
   "source": [
    "(h) For the second model provide plots of the posterior distributions for\n",
    "the parameters and discuss what these results imply for the relevant\n",
    "predictor variables and the overall model. Show posterior analyses to\n",
    "include relevant odds ratio(s) and describe what this analysis means\n",
    "for the goal of your study.\n"
   ]
  },
  {
   "cell_type": "code",
   "execution_count": null,
   "id": "lZiDY_-tBvDz",
   "metadata": {
    "id": "lZiDY_-tBvDz"
   },
   "outputs": [],
   "source": [
    "az.plot_posterior(nl_chd_trace,\n",
    "                  var_names=['alpha','beta1','beta2',\n",
    "                             'beta3'],\n",
    "                  ref_val = 0)"
   ]
  },
  {
   "cell_type": "code",
   "execution_count": null,
   "id": "Zh7FMcSpB0jr",
   "metadata": {
    "id": "Zh7FMcSpB0jr"
   },
   "outputs": [],
   "source": [
    "all_predictors = ['adiposity',\n",
    "                  'age', 'age_sq']\n",
    "parameters = ['alpha','beta1','beta2','beta3']\n",
    "\n",
    "fig, axes = plt.subplots(3,2, figsize=(12,8), dpi=150)\n",
    "\n",
    "for ax, estimate, title, xlabel in zip(fig.axes, (nl_chd_trace.posterior[i] for i in parameters),\n",
    " ['Intercept'] + all_predictors, ['Intercept'] + all_predictors):\n",
    "\n",
    "  pm.plot_posterior(estimate, point_estimate='mode', ax=ax)\n",
    "  ax.set_title(title, fontsize=12)\n",
    "  ax.set_xlabel(xlabel, fontsize=12)\n",
    "\n",
    "fig.delaxes(axes[2,1])\n",
    "plt.tight_layout()"
   ]
  },
  {
   "cell_type": "code",
   "execution_count": null,
   "id": "fe8K6y0YCC-E",
   "metadata": {
    "id": "fe8K6y0YCC-E"
   },
   "outputs": [],
   "source": [
    "for i in parameters:\n",
    "  az.plot_posterior(nl_chd_trace.posterior[i], ref_val = 0)"
   ]
  },
  {
   "cell_type": "code",
   "execution_count": null,
   "id": "mzU0uhuRCDrH",
   "metadata": {
    "id": "mzU0uhuRCDrH"
   },
   "outputs": [],
   "source": [
    "az.plot_forest(nl_chd_trace, var_names=parameters)"
   ]
  },
  {
   "cell_type": "code",
   "execution_count": null,
   "id": "ro7XurYRCD7A",
   "metadata": {
    "id": "ro7XurYRCD7A"
   },
   "outputs": [],
   "source": [
    "az.plot_ppc(nl_chd_pp)"
   ]
  },
  {
   "cell_type": "code",
   "execution_count": null,
   "id": "Kj-etRi4CKLa",
   "metadata": {
    "id": "Kj-etRi4CKLa"
   },
   "outputs": [],
   "source": [
    "_, ax = plt.subplots(figsize=(12, 6))\n",
    "\n",
    "b = nl_chd_trace.posterior[\"3\"]\n",
    "OR = np.mean(b, axis =0)\n",
    "lb, ub = np.percentile(OR, 2.5), np.percentile(OR, 97.5)\n",
    "plt.hist(np.exp(OR), bins=20, density=True)\n",
    "plt.axvline(np.exp(lb), color = 'r')\n",
    "plt.axvline(np.exp(ub), color = 'r')\n",
    "plt.xlabel(\"Odds Ratio\")\n",
    "plt.title(\"LDL Odds Ratio with 95% CI\")"
   ]
  },
  {
   "cell_type": "markdown",
   "id": "Rv40CvWB8nRF",
   "metadata": {
    "id": "Rv40CvWB8nRF"
   },
   "source": [
    "(i) Compare the two models using leave-one-out cross validation"
   ]
  },
  {
   "cell_type": "code",
   "execution_count": null,
   "id": "ovGfbVK_CPw3",
   "metadata": {
    "id": "ovGfbVK_CPw3"
   },
   "outputs": [],
   "source": [
    "cmp_loo = az.compare({'Linear':glm_chd_trace, 'Nonlinear':nl_chd_trace}, ic='loo')\n",
    "cmp_loo"
   ]
  },
  {
   "cell_type": "markdown",
   "id": "WHGAoJ-y8pbs",
   "metadata": {
    "id": "WHGAoJ-y8pbs"
   },
   "source": [
    "(j) Briefly summarize your analysis and provide an answer to the South\n",
    "African Health ministry to the question implied by their goal statement."
   ]
  },
  {
   "cell_type": "markdown",
   "id": "SVjWLuwq8rl3",
   "metadata": {
    "id": "SVjWLuwq8rl3"
   },
   "source": [
    "## Question 4\n",
    "\n",
    "(30) You have been asked by the government of Bangladesh to determine\n",
    "whether the use of contraceptives by women in Bangladesh varies by district. The data come from surveys conducted in Bangladesh."
   ]
  },
  {
   "cell_type": "code",
   "execution_count": null,
   "id": "q0XNJnVsFZOY",
   "metadata": {
    "id": "q0XNJnVsFZOY"
   },
   "outputs": [],
   "source": [
    "bang_df = pd.read_csv(\"/content/drive/My Drive/Colab Notebooks/bangladesh.csv\")"
   ]
  },
  {
   "cell_type": "code",
   "execution_count": null,
   "id": "hZzE_hFsiiSg",
   "metadata": {
    "colab": {
     "base_uri": "https://localhost:8080/",
     "height": 206
    },
    "id": "hZzE_hFsiiSg",
    "outputId": "d18b4bdc-814b-4afe-a6c6-b02678796f27"
   },
   "outputs": [],
   "source": [
    "bang_df.head()"
   ]
  },
  {
   "cell_type": "code",
   "execution_count": null,
   "id": "P8Cq6bAyjF8s",
   "metadata": {
    "id": "P8Cq6bAyjF8s"
   },
   "outputs": [],
   "source": [
    "woman = bang_df.woman.values\n",
    "district = bang_df.district.values\n",
    "cont = bang_df['use.contraception'].values\n",
    "children = bang_df['living.children'].values\n",
    "age = bang_df['age.centered'].values\n",
    "urban = bang_df.urban.values"
   ]
  },
  {
   "cell_type": "markdown",
   "id": "ugA2RdChEnDJ",
   "metadata": {
    "id": "ugA2RdChEnDJ"
   },
   "source": [
    "(a) Develop three models for these data: pooled, unpooled, and hierarchical for all districts to predict usage of contraceptives. Use only district and age.centered as predictor variables. For each model briefly\n",
    "explain your choice of priors."
   ]
  },
  {
   "cell_type": "code",
   "execution_count": null,
   "id": "U37f39UVlQ-l",
   "metadata": {
    "colab": {
     "base_uri": "https://localhost:8080/"
    },
    "id": "U37f39UVlQ-l",
    "outputId": "0a6b815a-da5d-4c3e-debd-9c7aa17e82ed"
   },
   "outputs": [],
   "source": [
    "bang_df['use.contraception'].value_counts()"
   ]
  },
  {
   "cell_type": "code",
   "execution_count": null,
   "id": "3msLyXdPjytt",
   "metadata": {
    "colab": {
     "base_uri": "https://localhost:8080/",
     "height": 450
    },
    "id": "3msLyXdPjytt",
    "outputId": "e1abcd35-5a05-4cdf-f8eb-34e1d8215315"
   },
   "outputs": [],
   "source": [
    "# Complete pooling model\n",
    "\n",
    "with pm.Model() as pooled_model:\n",
    "    beta0 = pm.Normal(\"beta0\", 0, 10)\n",
    "    beta1 = pm.Normal(\"beta1\", 0, 10)\n",
    "\n",
    "    theta = beta0 + beta1*age\n",
    "    p = pm.Deterministic('p', pm.invlogit(theta))\n",
    "    Yl = pm.Bernoulli('Yl', p=p, observed=cont)\n",
    "\n",
    "pm.model_to_graphviz(pooled_model)"
   ]
  },
  {
   "cell_type": "code",
   "execution_count": null,
   "id": "w-DVEQzRubxe",
   "metadata": {
    "colab": {
     "base_uri": "https://localhost:8080/",
     "height": 486
    },
    "id": "w-DVEQzRubxe",
    "outputId": "b6ec54f9-37ec-4762-ea4d-b8a7e0881abd"
   },
   "outputs": [],
   "source": [
    "# Unpooled model\n",
    "\n",
    "district_idx =  bang_df.district.astype(\"category\").cat.codes.values\n",
    "district_code = bang_df.district.astype(\"category\").cat.categories\n",
    "n_districts = district_code.size\n",
    "\n",
    "with pm.Model() as unpooled_model:\n",
    "  beta0 = pm.Normal(\"beta0\", 0, 10, shape=n_districts)\n",
    "  beta1 = pm.Normal(\"beta1\", 0, 10, shape=n_districts)\n",
    "\n",
    "  theta = beta0[district_idx] + beta1[district_idx]*age\n",
    "  p = pm.Deterministic('p', pm.invlogit(theta))\n",
    "  Yl = pm.Bernoulli('Yl', p=p, observed=cont)\n",
    "\n",
    "pm.model_to_graphviz(unpooled_model)"
   ]
  },
  {
   "cell_type": "code",
   "execution_count": null,
   "id": "mvlSDUw3nNIp",
   "metadata": {
    "colab": {
     "base_uri": "https://localhost:8080/",
     "height": 613
    },
    "id": "mvlSDUw3nNIp",
    "outputId": "f5446534-e681-467b-85b9-679d7b323cd7"
   },
   "outputs": [],
   "source": [
    "with pm.Model() as hierarchical_model:\n",
    "  mu1 = pm.Normal(\"mu1\", 0, 10)\n",
    "  mu2 = pm.Normal(\"mu2\", 0, 10)\n",
    "\n",
    "  sigma1 = pm.HalfStudentT(\"sigma1\", 1, 10)\n",
    "  sigma2 = pm.HalfStudentT(\"sigma2\", 1, 10)\n",
    "\n",
    "  beta0 = pm.Normal(\"beta0\", mu1, sigma1, shape=n_districts)\n",
    "  beta1 = pm.Normal(\"beta1\", mu1, sigma1, shape=n_districts)\n",
    "\n",
    "  theta = beta0[district_idx] + beta1[district_idx]*age\n",
    "  p = pm.Deterministic('p', pm.invlogit(theta))\n",
    "  Yl = pm.Bernoulli('Yl', p=p, observed=cont)\n",
    "\n",
    "pm.model_to_graphviz(hierarchical_model)"
   ]
  },
  {
   "cell_type": "markdown",
   "id": "vw7tKpnCEqKF",
   "metadata": {
    "id": "vw7tKpnCEqKF"
   },
   "source": [
    "(b) For each model evaluate the sampling performance and discuss your\n",
    "findings."
   ]
  },
  {
   "cell_type": "code",
   "execution_count": null,
   "id": "ywPtekKFyEmg",
   "metadata": {
    "id": "ywPtekKFyEmg"
   },
   "outputs": [],
   "source": [
    "# # Prior checks\n",
    "# pooled_ppc = pm.sample_prior_predictive(model = pooled_model)"
   ]
  },
  {
   "cell_type": "code",
   "execution_count": null,
   "id": "f_FSQkjRySf6",
   "metadata": {
    "id": "f_FSQkjRySf6"
   },
   "outputs": [],
   "source": [
    "# az.plot_dist(pooled_ppc.prior_predictive['y'].mean(dim=['chain','draw']))"
   ]
  },
  {
   "cell_type": "code",
   "execution_count": null,
   "id": "8hnQbx4HyFGH",
   "metadata": {
    "id": "8hnQbx4HyFGH"
   },
   "outputs": [],
   "source": [
    "# az.plot_dist(pooled_ppc.observed_data['y'])"
   ]
  },
  {
   "cell_type": "code",
   "execution_count": null,
   "id": "N9Y-dE9lypHJ",
   "metadata": {
    "colab": {
     "base_uri": "https://localhost:8080/",
     "height": 37
    },
    "id": "N9Y-dE9lypHJ",
    "outputId": "627e3d12-7061-4c5c-b552-b393353330a0"
   },
   "outputs": [],
   "source": [
    "with pooled_model:\n",
    "    pooled_trace = pm.sample(1000, cores = 8, tune=1000, random_seed=random_seed)"
   ]
  },
  {
   "cell_type": "code",
   "execution_count": null,
   "id": "rwHVIrsByv5P",
   "metadata": {
    "colab": {
     "base_uri": "https://localhost:8080/",
     "height": 736
    },
    "id": "rwHVIrsByv5P",
    "outputId": "59fee98b-ccc6-4b8b-9715-9de71fa1d358"
   },
   "outputs": [],
   "source": [
    "az.plot_trace(pooled_trace)"
   ]
  },
  {
   "cell_type": "code",
   "execution_count": null,
   "id": "9KqTRqrFyylP",
   "metadata": {
    "colab": {
     "base_uri": "https://localhost:8080/",
     "height": 57
    },
    "id": "9KqTRqrFyylP",
    "outputId": "78fa4136-773d-41b2-cf89-4cb08ae1e298"
   },
   "outputs": [],
   "source": [
    "# posterior predictions\n",
    "pooled_pp = pm.sample_posterior_predictive(pooled_trace, model = pooled_model)"
   ]
  },
  {
   "cell_type": "code",
   "execution_count": null,
   "id": "rXcbI4CYy0kd",
   "metadata": {
    "colab": {
     "base_uri": "https://localhost:8080/",
     "height": 526
    },
    "id": "rXcbI4CYy0kd",
    "outputId": "98aff6cf-f386-45ad-ae86-6127367b0d82"
   },
   "outputs": [],
   "source": [
    "az.plot_bpv(pooled_pp)"
   ]
  },
  {
   "cell_type": "code",
   "execution_count": null,
   "id": "KwkMYNEDy3Lm",
   "metadata": {
    "colab": {
     "base_uri": "https://localhost:8080/",
     "height": 526
    },
    "id": "KwkMYNEDy3Lm",
    "outputId": "92d70342-7cf4-4735-83be-8676154cdba1"
   },
   "outputs": [],
   "source": [
    "az.plot_ppc(pooled_pp)"
   ]
  },
  {
   "cell_type": "code",
   "execution_count": null,
   "id": "VIz0mfXny75F",
   "metadata": {
    "colab": {
     "base_uri": "https://localhost:8080/",
     "height": 37
    },
    "id": "VIz0mfXny75F",
    "outputId": "c1d6b127-41a3-4c77-a57a-40c10c634db3"
   },
   "outputs": [],
   "source": [
    "with unpooled_model:\n",
    "    unpooled_trace = pm.sample(1000, cores = 8, tune=1000, random_seed=random_seed)"
   ]
  },
  {
   "cell_type": "code",
   "execution_count": null,
   "id": "18rBfl0py8SV",
   "metadata": {
    "id": "18rBfl0py8SV"
   },
   "outputs": [],
   "source": [
    "pm.plot_trace(unpooled_trace, figsize = (10,8))"
   ]
  },
  {
   "cell_type": "code",
   "execution_count": null,
   "id": "zZGw-i65y-d8",
   "metadata": {
    "id": "zZGw-i65y-d8"
   },
   "outputs": [],
   "source": [
    "unpooled_pp = pm.sample_posterior_predictive(unpooled_trace, model = unpooled_model)"
   ]
  },
  {
   "cell_type": "code",
   "execution_count": null,
   "id": "OKfj79GFzDmC",
   "metadata": {
    "id": "OKfj79GFzDmC"
   },
   "outputs": [],
   "source": [
    "az.plot_bpv(unpooled_pp)"
   ]
  },
  {
   "cell_type": "code",
   "execution_count": null,
   "id": "kYPw8J6-zFUJ",
   "metadata": {
    "id": "kYPw8J6-zFUJ"
   },
   "outputs": [],
   "source": [
    "az.plot_ppc(unpooled_pp)"
   ]
  },
  {
   "cell_type": "code",
   "execution_count": null,
   "id": "a31vbmcgzMtP",
   "metadata": {
    "id": "a31vbmcgzMtP"
   },
   "outputs": [],
   "source": [
    "with hierarchical_model:\n",
    "    h_trace = pm.sample(1000, cores = 8, tune=1000, random_seed=random_seed)"
   ]
  },
  {
   "cell_type": "code",
   "execution_count": null,
   "id": "t7XCsktEzRwn",
   "metadata": {
    "id": "t7XCsktEzRwn"
   },
   "outputs": [],
   "source": [
    "pm.plot_trace(h_trace, figsize = (10,8))"
   ]
  },
  {
   "cell_type": "code",
   "execution_count": null,
   "id": "R6B_CDEkzUUE",
   "metadata": {
    "id": "R6B_CDEkzUUE"
   },
   "outputs": [],
   "source": [
    "h_pp = pm.sample_posterior_predictive(h_trace, model = hierarchical_model)"
   ]
  },
  {
   "cell_type": "code",
   "execution_count": null,
   "id": "zz0sOOLXzaXD",
   "metadata": {
    "id": "zz0sOOLXzaXD"
   },
   "outputs": [],
   "source": [
    "az.plot_bpv(h_pp)"
   ]
  },
  {
   "cell_type": "code",
   "execution_count": null,
   "id": "qGQKtFuLza-a",
   "metadata": {
    "id": "qGQKtFuLza-a"
   },
   "outputs": [],
   "source": [
    "az.plot_ppc(h_pp)"
   ]
  },
  {
   "cell_type": "markdown",
   "id": "A32uqA34EsPD",
   "metadata": {
    "id": "A32uqA34EsPD"
   },
   "source": [
    "(c) Plot the posterior distributions for the parameters for each model\n",
    "and discuss what they show regarding the question posed by WHO."
   ]
  },
  {
   "cell_type": "markdown",
   "id": "fh99-K0KEu_4",
   "metadata": {
    "id": "fh99-K0KEu_4"
   },
   "source": [
    "(d) Plot each of the predictions with age.centered on the x-axis and the\n",
    "expected proportion of women using contraception on the y-Axis with\n",
    "overlaid plots for each of the districts, as appropriate. Briefly explain these results as you will report them to the government of\n",
    "Bangladesh."
   ]
  }
 ],
 "metadata": {
  "colab": {
   "provenance": []
  },
  "kernelspec": {
   "display_name": "Python 3 (ipykernel)",
   "language": "python",
   "name": "python3"
  },
  "language_info": {
   "codemirror_mode": {
    "name": "ipython",
    "version": 3
   },
   "file_extension": ".py",
   "mimetype": "text/x-python",
   "name": "python",
   "nbconvert_exporter": "python",
   "pygments_lexer": "ipython3",
   "version": "3.11.4"
  }
 },
 "nbformat": 4,
 "nbformat_minor": 5
}
