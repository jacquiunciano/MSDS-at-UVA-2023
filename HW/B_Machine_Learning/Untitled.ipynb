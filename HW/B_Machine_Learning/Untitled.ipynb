{
 "cells": [
  {
   "cell_type": "code",
   "execution_count": 1,
   "id": "2af242de-566b-466b-9117-b5c18c1e55bb",
   "metadata": {},
   "outputs": [
    {
     "name": "stderr",
     "output_type": "stream",
     "text": [
      "WARNING (pytensor.configdefaults): g++ not available, if using conda: `conda install m2w64-toolchain`\n",
      "WARNING (pytensor.configdefaults): g++ not detected!  PyTensor will be unable to compile C-implementations and will default to Python. Performance may be severely degraded. To remove this warning, set PyTensor flags cxx to an empty string.\n",
      "WARNING (pytensor.tensor.blas): Using NumPy C-API based implementation for BLAS functions.\n"
     ]
    }
   ],
   "source": [
    "import pymc as pm\n",
    "import matplotlib.pyplot as plt\n",
    "import arviz as az\n",
    "import pandas as pd\n",
    "from scipy import special, stats\n",
    "import numpy as np\n",
    "import seaborn as sns "
   ]
  },
  {
   "cell_type": "code",
   "execution_count": 2,
   "id": "110c99c1-0eb0-45ca-b0d2-16542420351d",
   "metadata": {},
   "outputs": [],
   "source": [
    "a = pd.read_csv(\"C:/Users/jacqu/Downloads/algae.csv\")"
   ]
  },
  {
   "cell_type": "code",
   "execution_count": 3,
   "id": "b5e95c18-1daa-47d2-87b4-11fdab4e5344",
   "metadata": {},
   "outputs": [],
   "source": [
    "a.mxPH = a.mxPH.replace(np.NAN, a.mxPH.mean())\n",
    "a.mnO2 = a.mnO2.replace(np.NAN, a.mnO2.mean())\n",
    "a.Cl = a.Cl.replace(np.NAN, a.Cl.mean())\n",
    "a.NO3 = a.NO3.replace(np.NAN, a.NO3.mean())\n",
    "a.NH4 = a.NH4.replace(np.NAN, a.NH4.mean())\n",
    "a.oPO4 = a.oPO4.replace(np.NAN, a.oPO4.mean())\n",
    "a.PO4 = a.PO4.replace(np.NAN, a.PO4.mean())\n",
    "a.Chla = a.Chla.replace(np.NAN, a.Chla.mean())\n",
    "\n",
    "a.mxPH = (a.mxPH-a.mxPH.mean())/a.mxPH.std()\n",
    "a.mnO2 = (a.mnO2-a.mnO2.mean())/a.mnO2.std()\n",
    "a.Cl = (a.Cl-a.Cl.mean())/a.Cl.std()\n",
    "a.NO3 = (a.NO3-a.NO3.mean())/a.NO3.std()\n",
    "a.NH4 = (a.NH4-a.NH4.mean())/a.NH4.std()\n",
    "a.oPO4 = (a.oPO4-a.oPO4.mean())/a.oPO4.std()\n",
    "a.PO4 = (a.PO4-a.PO4.mean())/a.PO4.std()\n",
    "a.Chla = (a.Chla-a.Chla.mean())/a.Chla.std()\n",
    "\n",
    "a[['spring', 'summer', 'winter']] = pd.get_dummies(a.season, dtype=int, drop_first=True)\n",
    "a[['medium','small']] = pd.get_dummies(a['size'], dtype=int, drop_first=True)\n",
    "a[['l' ,'m']] = pd.get_dummies(a.speed, dtype=int, drop_first=True)\n",
    "\n",
    "a.a1 = np.log(a.a1+1)"
   ]
  },
  {
   "cell_type": "code",
   "execution_count": 4,
   "id": "8581d455-398e-4fbf-9209-9bfd12390ffc",
   "metadata": {},
   "outputs": [
    {
     "name": "stderr",
     "output_type": "stream",
     "text": [
      "C:\\Users\\jacqu\\AppData\\Local\\Programs\\Python\\Python311\\Lib\\site-packages\\pymc\\data.py:433: UserWarning: The `mutable` kwarg was not specified. Before v4.1.0 it defaulted to `pm.Data(mutable=True)`, which is equivalent to using `pm.MutableData()`. In v4.1.0 the default changed to `pm.Data(mutable=False)`, equivalent to `pm.ConstantData`. Use `pm.ConstantData`/`pm.MutableData` or pass `pm.Data(..., mutable=False/True)` to avoid this warning.\n",
      "  warnings.warn(\n",
      "C:\\Users\\jacqu\\AppData\\Local\\Programs\\Python\\Python311\\Lib\\site-packages\\pytensor\\tensor\\rewriting\\elemwise.py:1028: UserWarning: Loop fusion failed because the resulting node would exceed the kernel argument limit.\n",
      "  warn(\n",
      "Auto-assigning NUTS sampler...\n",
      "Initializing NUTS using jitter+adapt_diag...\n",
      "C:\\Users\\jacqu\\AppData\\Local\\Programs\\Python\\Python311\\Lib\\site-packages\\pytensor\\tensor\\rewriting\\elemwise.py:1028: UserWarning: Loop fusion failed because the resulting node would exceed the kernel argument limit.\n",
      "  warn(\n",
      "C:\\Users\\jacqu\\AppData\\Local\\Programs\\Python\\Python311\\Lib\\site-packages\\pytensor\\tensor\\rewriting\\elemwise.py:1028: UserWarning: Loop fusion failed because the resulting node would exceed the kernel argument limit.\n",
      "  warn(\n",
      "C:\\Users\\jacqu\\AppData\\Local\\Programs\\Python\\Python311\\Lib\\site-packages\\pytensor\\tensor\\rewriting\\elemwise.py:1028: UserWarning: Loop fusion failed because the resulting node would exceed the kernel argument limit.\n",
      "  warn(\n",
      "C:\\Users\\jacqu\\AppData\\Local\\Programs\\Python\\Python311\\Lib\\site-packages\\pytensor\\tensor\\rewriting\\elemwise.py:1028: UserWarning: Loop fusion failed because the resulting node would exceed the kernel argument limit.\n",
      "  warn(\n",
      "C:\\Users\\jacqu\\AppData\\Local\\Programs\\Python\\Python311\\Lib\\site-packages\\pytensor\\tensor\\rewriting\\elemwise.py:1028: UserWarning: Loop fusion failed because the resulting node would exceed the kernel argument limit.\n",
      "  warn(\n",
      "C:\\Users\\jacqu\\AppData\\Local\\Programs\\Python\\Python311\\Lib\\site-packages\\pytensor\\tensor\\rewriting\\elemwise.py:1028: UserWarning: Loop fusion failed because the resulting node would exceed the kernel argument limit.\n",
      "  warn(\n",
      "C:\\Users\\jacqu\\AppData\\Local\\Programs\\Python\\Python311\\Lib\\site-packages\\pytensor\\tensor\\rewriting\\elemwise.py:1028: UserWarning: Loop fusion failed because the resulting node would exceed the kernel argument limit.\n",
      "  warn(\n",
      "C:\\Users\\jacqu\\AppData\\Local\\Programs\\Python\\Python311\\Lib\\site-packages\\pytensor\\tensor\\rewriting\\elemwise.py:1028: UserWarning: Loop fusion failed because the resulting node would exceed the kernel argument limit.\n",
      "  warn(\n",
      "C:\\Users\\jacqu\\AppData\\Local\\Programs\\Python\\Python311\\Lib\\site-packages\\pytensor\\tensor\\rewriting\\elemwise.py:1028: UserWarning: Loop fusion failed because the resulting node would exceed the kernel argument limit.\n",
      "  warn(\n",
      "Multiprocess sampling (4 chains in 4 jobs)\n",
      "NUTS: [nu, sigma, beta_0, beta_spring, beta_summer, beta_winter, beta_medium, beta_small, beta_l, beta_m, beta_mxPH, beta_mnO2, beta_Cl, beta_NO3, beta_NH4, beta_oPO4, beta_PO4, beta_Chla]\n"
     ]
    },
    {
     "data": {
      "text/html": [
       "\n",
       "<style>\n",
       "    /* Turns off some styling */\n",
       "    progress {\n",
       "        /* gets rid of default border in Firefox and Opera. */\n",
       "        border: none;\n",
       "        /* Needs to be in here for Safari polyfill so background images work as expected. */\n",
       "        background-size: auto;\n",
       "    }\n",
       "    progress:not([value]), progress:not([value])::-webkit-progress-bar {\n",
       "        background: repeating-linear-gradient(45deg, #7e7e7e, #7e7e7e 10px, #5c5c5c 10px, #5c5c5c 20px);\n",
       "    }\n",
       "    .progress-bar-interrupted, .progress-bar-interrupted::-webkit-progress-bar {\n",
       "        background: #F44336;\n",
       "    }\n",
       "</style>\n"
      ],
      "text/plain": [
       "<IPython.core.display.HTML object>"
      ]
     },
     "metadata": {},
     "output_type": "display_data"
    },
    {
     "data": {
      "text/html": [
       "\n",
       "    <div>\n",
       "      <progress value='8000' class='' max='8000' style='width:300px; height:20px; vertical-align: middle;'></progress>\n",
       "      100.00% [8000/8000 13:15:57&lt;00:00 Sampling 4 chains, 0 divergences]\n",
       "    </div>\n",
       "    "
      ],
      "text/plain": [
       "<IPython.core.display.HTML object>"
      ]
     },
     "metadata": {},
     "output_type": "display_data"
    },
    {
     "name": "stderr",
     "output_type": "stream",
     "text": [
      "Sampling 4 chains for 1_000 tune and 1_000 draw iterations (4_000 + 4_000 draws total) took 47767 seconds.\n"
     ]
    }
   ],
   "source": [
    "random_seed = 135573\n",
    "\n",
    "spring_obs = a.loc[:, \"spring\"]\n",
    "summer_obs = a.loc[:, \"summer\"]\n",
    "winter_obs = a.loc[:, \"winter\"]\n",
    "medium_obs = a.loc[:, \"medium\"]\n",
    "small_obs = a.loc[:, \"mxPH\"]\n",
    "l_obs = a.loc[:, \"l\"]\n",
    "m_obs = a.loc[:, \"m\"]\n",
    "mxPH_obs = a.loc[:, \"mxPH\"]\n",
    "mnO2_obs = a.loc[:, \"mnO2\"]\n",
    "Cl_obs = a.loc[:, \"Cl\"]\n",
    "NO3_obs = a.loc[:, \"NO3\"]\n",
    "NH4_obs = a.loc[:, \"NH4\"]\n",
    "oPO4_obs = a.loc[:, \"oPO4\"]\n",
    "PO4_obs = a.loc[:, \"PO4\"]\n",
    "Chla_obs = a.loc[:, \"Chla\"]\n",
    "a1_obs = a.loc[:, \"a1\"]\n",
    "\n",
    "with pm.Model() as a_model:\n",
    "    \n",
    "    spring = pm.Data(\"spring\", spring_obs)\n",
    "    summer = pm.Data(\"summer\", summer_obs)\n",
    "    winter = pm.Data(\"winter\", winter_obs)\n",
    "    medium = pm.Data(\"medium\", medium_obs)\n",
    "    small = pm.Data(\"small\", small_obs)\n",
    "    l = pm.Data(\"l\", l_obs)\n",
    "    m = pm.Data(\"m\", m_obs)\n",
    "    mxPH = pm.Data(\"mxPH\", mxPH_obs)\n",
    "    mnO2 = pm.Data(\"mnO2\", mnO2_obs)\n",
    "    Cl = pm.Data(\"Cl\", Cl_obs)\n",
    "    NO3 = pm.Data(\"NO3\", NO3_obs)\n",
    "    NH4 = pm.Data(\"NH4\", NH4_obs)\n",
    "    oPO4 = pm.Data(\"oPO4\", oPO4_obs)\n",
    "    PO4 = pm.Data(\"PO4\", PO4_obs)\n",
    "    Chla = pm.Data(\"Chla\", Chla_obs)\n",
    "\n",
    "    nu = pm.Exponential(\"nu\", 1/20)\n",
    "    sigma = pm.Uniform(\"sigma\", 0, 10)\n",
    "    beta_0 = pm.Normal(\"beta_0\", 0, 10)\n",
    "    beta_spring = pm.Normal(\"beta_spring\", 0, 10)\n",
    "    beta_summer = pm.Normal(\"beta_summer\", 0, 10)\n",
    "    beta_winter = pm.Normal(\"beta_winter\", 0, 10)\n",
    "    beta_medium = pm.Normal(\"beta_medium\", 0, 10)\n",
    "    beta_small = pm.Normal(\"beta_small\", 0, 10)\n",
    "    beta_l = pm.Normal(\"beta_l\", 0, 10)\n",
    "    beta_m = pm.Normal(\"beta_m\", 0, 10)\n",
    "    beta_mxPH = pm.Normal(\"beta_mxPH\", 0, 10)\n",
    "    beta_mnO2 = pm.Normal(\"beta_mnO2\", 0, 10)\n",
    "    beta_Cl = pm.Normal(\"beta_Cl\", 0, 10)\n",
    "    beta_NO3 = pm.Normal(\"beta_NO3\", 0, 10)\n",
    "    beta_NH4 = pm.Normal(\"beta_NH4\", 0, 10)\n",
    "    beta_oPO4 = pm.Normal(\"beta_oPO4\", 0, 10)\n",
    "    beta_PO4 = pm.Normal(\"beta_PO4\", 0, 10)\n",
    "    beta_Chla = pm.Normal(\"beta_Chla\", 0, 10)\n",
    "    \n",
    "    mu = pm.Deterministic(\"mu\", beta_0 + \\\n",
    "                         beta_spring * spring + beta_summer * summer + \\\n",
    "                         beta_winter * winter + \\\n",
    "                         beta_medium * medium + beta_small * small + \\\n",
    "                         beta_l * l + beta_m * m + \\\n",
    "                         beta_mxPH * mxPH + beta_mnO2 * mnO2 + \\\n",
    "                         beta_Cl * Cl + beta_NO3 * NO3 + beta_NH4 * NH4 + \\\n",
    "                         beta_oPO4 * oPO4 + beta_PO4 * PO4 + beta_Chla * Chla)\n",
    "\n",
    "    a1 = pm.StudentT(\"a1\", mu=mu, sigma=sigma, nu=nu, observed = a1_obs)\n",
    "\n",
    "    a_trace = pm.sample(target_accept=0.9, random_seed=random_seed, return_inferencedata=False)"
   ]
  },
  {
   "cell_type": "code",
   "execution_count": null,
   "id": "4a791a70-c36d-41d6-8355-3f80be821ac2",
   "metadata": {},
   "outputs": [],
   "source": []
  }
 ],
 "metadata": {
  "kernelspec": {
   "display_name": "Python 3 (ipykernel)",
   "language": "python",
   "name": "python3"
  },
  "language_info": {
   "codemirror_mode": {
    "name": "ipython",
    "version": 3
   },
   "file_extension": ".py",
   "mimetype": "text/x-python",
   "name": "python",
   "nbconvert_exporter": "python",
   "pygments_lexer": "ipython3",
   "version": "3.11.4"
  }
 },
 "nbformat": 4,
 "nbformat_minor": 5
}
