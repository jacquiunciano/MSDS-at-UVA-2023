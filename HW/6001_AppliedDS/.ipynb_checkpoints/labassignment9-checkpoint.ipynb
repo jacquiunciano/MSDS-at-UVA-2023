{
 "cells": [
  {
   "cell_type": "markdown",
   "metadata": {},
   "source": [
    "# Lab Assignment 9: Data Management Using `pandas`, Part 2\n",
    "## DS 6001: Practice and Application of Data Science\n",
    "\n",
    "### Instructions\n",
    "Please answer the following questions as completely as possible using text, code, and the results of code as needed. Format your answers in a Jupyter notebook. To receive full credit, make sure you address every part of the problem, and make sure your document is formatted in a clean and professional way.\n",
    "\n",
    "## Problem 0\n",
    "Import the following libraries:"
   ]
  },
  {
   "cell_type": "code",
   "execution_count": 1,
   "metadata": {
    "tags": []
   },
   "outputs": [],
   "source": [
    "import numpy as np\n",
    "import pandas as pd"
   ]
  },
  {
   "cell_type": "markdown",
   "metadata": {},
   "source": [
    "## Problem 1\n",
    "In the first part of this lab, the goal is to merge data from the United Nations World Health Organization (https://www.who.int/who-un/en/) with data from the Varieties of Democracy Project (https://www.v-dem.net/en/). The UN-WHO studies health outcomes in a cross-national context, and V-Dem studies the quality of democracy as it changes across countries and over time. We would want to merge these two datasets together if we wanted to study whether democratic quality can predict health outcomes.\n",
    "\n",
    "The UN data contains cross-national time series data from the United Nations and World Health Organization, and includes three features:\n",
    "\n",
    "* The number of physicians per 1000 people\n",
    "* The percent of the population that is malnourished\n",
    "* Health expenditure per capita\n",
    "\n",
    "The VDem data comes from the Varieties of Democracy project, which aims to measure the quality of democracy and the amount of corruption in different countries over time (https://www.v-dem.net/en/data/data-version-8/). This data file contains indices regarding a country’s democractic quality, level of civil liberites, and corruption. It also contains a binary indicator that separates countries into democratic and nondemocratic states, and it includes a categorizaton of the corruption scale.\n",
    "\n",
    "The URLs for the two datasets are:"
   ]
  },
  {
   "cell_type": "code",
   "execution_count": 2,
   "metadata": {
    "tags": []
   },
   "outputs": [],
   "source": [
    "undata_url = \"https://github.com/jkropko/DS-6001/raw/master/localdata/UNdata.csv\"\n",
    "VDem_url = \"https://github.com/jkropko/DS-6001/raw/master/localdata/vdem.csv\""
   ]
  },
  {
   "cell_type": "markdown",
   "metadata": {},
   "source": [
    "### Part a\n",
    "Load both CSV files. Make sure to check whether there are rows that should not be included in the dataframe, and whether there are missing codes that should be replaced with `NaN`. Fix these problems at the data loading stage, if you can. (Don't worry about column names or category labels yet.) Also, the UN data covers the years 1960-2014, and the VDem data covers the years 1960-2015. To make the timeframe match up, delete rows in the VDem data from 2015. (1 point)"
   ]
  },
  {
   "cell_type": "code",
   "execution_count": 3,
   "metadata": {
    "tags": []
   },
   "outputs": [
    {
     "data": {
      "text/html": [
       "<div>\n",
       "<style scoped>\n",
       "    .dataframe tbody tr th:only-of-type {\n",
       "        vertical-align: middle;\n",
       "    }\n",
       "\n",
       "    .dataframe tbody tr th {\n",
       "        vertical-align: top;\n",
       "    }\n",
       "\n",
       "    .dataframe thead th {\n",
       "        text-align: right;\n",
       "    }\n",
       "</style>\n",
       "<table border=\"1\" class=\"dataframe\">\n",
       "  <thead>\n",
       "    <tr style=\"text-align: right;\">\n",
       "      <th></th>\n",
       "      <th>Series Name</th>\n",
       "      <th>Series Code</th>\n",
       "      <th>Country Name</th>\n",
       "      <th>Country Code</th>\n",
       "      <th>1960 [YR1960]</th>\n",
       "      <th>1961 [YR1961]</th>\n",
       "      <th>1962 [YR1962]</th>\n",
       "      <th>1963 [YR1963]</th>\n",
       "      <th>1964 [YR1964]</th>\n",
       "      <th>1965 [YR1965]</th>\n",
       "      <th>...</th>\n",
       "      <th>2006 [YR2006]</th>\n",
       "      <th>2007 [YR2007]</th>\n",
       "      <th>2008 [YR2008]</th>\n",
       "      <th>2009 [YR2009]</th>\n",
       "      <th>2010 [YR2010]</th>\n",
       "      <th>2011 [YR2011]</th>\n",
       "      <th>2012 [YR2012]</th>\n",
       "      <th>2013 [YR2013]</th>\n",
       "      <th>2014 [YR2014]</th>\n",
       "      <th>2015 [YR2015]</th>\n",
       "    </tr>\n",
       "  </thead>\n",
       "  <tbody>\n",
       "    <tr>\n",
       "      <th>0</th>\n",
       "      <td>Physicians (per 1,000 people)</td>\n",
       "      <td>SH.MED.PHYS.ZS</td>\n",
       "      <td>Afghanistan</td>\n",
       "      <td>AFG</td>\n",
       "      <td>0.0348442494869232</td>\n",
       "      <td>NaN</td>\n",
       "      <td>NaN</td>\n",
       "      <td>NaN</td>\n",
       "      <td>NaN</td>\n",
       "      <td>0.0634277984499931</td>\n",
       "      <td>...</td>\n",
       "      <td>0.136</td>\n",
       "      <td>0.146</td>\n",
       "      <td>0.145</td>\n",
       "      <td>0.175</td>\n",
       "      <td>0.194</td>\n",
       "      <td>0.234</td>\n",
       "      <td>0.225</td>\n",
       "      <td>0.266</td>\n",
       "      <td>NaN</td>\n",
       "      <td>NaN</td>\n",
       "    </tr>\n",
       "    <tr>\n",
       "      <th>1</th>\n",
       "      <td>Physicians (per 1,000 people)</td>\n",
       "      <td>SH.MED.PHYS.ZS</td>\n",
       "      <td>Albania</td>\n",
       "      <td>ALB</td>\n",
       "      <td>0.276291221380234</td>\n",
       "      <td>NaN</td>\n",
       "      <td>NaN</td>\n",
       "      <td>NaN</td>\n",
       "      <td>NaN</td>\n",
       "      <td>0.48128342628479</td>\n",
       "      <td>...</td>\n",
       "      <td>1.15</td>\n",
       "      <td>1.146</td>\n",
       "      <td>NaN</td>\n",
       "      <td>1.144</td>\n",
       "      <td>1.132</td>\n",
       "      <td>1.113</td>\n",
       "      <td>1.145</td>\n",
       "      <td>1.145</td>\n",
       "      <td>NaN</td>\n",
       "      <td>NaN</td>\n",
       "    </tr>\n",
       "    <tr>\n",
       "      <th>2</th>\n",
       "      <td>Physicians (per 1,000 people)</td>\n",
       "      <td>SH.MED.PHYS.ZS</td>\n",
       "      <td>Algeria</td>\n",
       "      <td>DZA</td>\n",
       "      <td>0.173148155212402</td>\n",
       "      <td>NaN</td>\n",
       "      <td>NaN</td>\n",
       "      <td>NaN</td>\n",
       "      <td>NaN</td>\n",
       "      <td>0.116413652896881</td>\n",
       "      <td>...</td>\n",
       "      <td>NaN</td>\n",
       "      <td>1.207</td>\n",
       "      <td>NaN</td>\n",
       "      <td>NaN</td>\n",
       "      <td>1.207</td>\n",
       "      <td>NaN</td>\n",
       "      <td>NaN</td>\n",
       "      <td>NaN</td>\n",
       "      <td>NaN</td>\n",
       "      <td>NaN</td>\n",
       "    </tr>\n",
       "    <tr>\n",
       "      <th>3</th>\n",
       "      <td>Physicians (per 1,000 people)</td>\n",
       "      <td>SH.MED.PHYS.ZS</td>\n",
       "      <td>American Samoa</td>\n",
       "      <td>ASM</td>\n",
       "      <td>NaN</td>\n",
       "      <td>NaN</td>\n",
       "      <td>NaN</td>\n",
       "      <td>NaN</td>\n",
       "      <td>NaN</td>\n",
       "      <td>NaN</td>\n",
       "      <td>...</td>\n",
       "      <td>NaN</td>\n",
       "      <td>NaN</td>\n",
       "      <td>NaN</td>\n",
       "      <td>NaN</td>\n",
       "      <td>NaN</td>\n",
       "      <td>NaN</td>\n",
       "      <td>NaN</td>\n",
       "      <td>NaN</td>\n",
       "      <td>NaN</td>\n",
       "      <td>NaN</td>\n",
       "    </tr>\n",
       "    <tr>\n",
       "      <th>4</th>\n",
       "      <td>Physicians (per 1,000 people)</td>\n",
       "      <td>SH.MED.PHYS.ZS</td>\n",
       "      <td>Andorra</td>\n",
       "      <td>ADO</td>\n",
       "      <td>NaN</td>\n",
       "      <td>NaN</td>\n",
       "      <td>NaN</td>\n",
       "      <td>NaN</td>\n",
       "      <td>NaN</td>\n",
       "      <td>NaN</td>\n",
       "      <td>...</td>\n",
       "      <td>3.64</td>\n",
       "      <td>3.716</td>\n",
       "      <td>NaN</td>\n",
       "      <td>3.912</td>\n",
       "      <td>4</td>\n",
       "      <td>NaN</td>\n",
       "      <td>NaN</td>\n",
       "      <td>NaN</td>\n",
       "      <td>NaN</td>\n",
       "      <td>NaN</td>\n",
       "    </tr>\n",
       "  </tbody>\n",
       "</table>\n",
       "<p>5 rows × 60 columns</p>\n",
       "</div>"
      ],
      "text/plain": [
       "                     Series Name     Series Code    Country Name Country Code  \\\n",
       "0  Physicians (per 1,000 people)  SH.MED.PHYS.ZS     Afghanistan          AFG   \n",
       "1  Physicians (per 1,000 people)  SH.MED.PHYS.ZS         Albania          ALB   \n",
       "2  Physicians (per 1,000 people)  SH.MED.PHYS.ZS         Algeria          DZA   \n",
       "3  Physicians (per 1,000 people)  SH.MED.PHYS.ZS  American Samoa          ASM   \n",
       "4  Physicians (per 1,000 people)  SH.MED.PHYS.ZS         Andorra          ADO   \n",
       "\n",
       "        1960 [YR1960] 1961 [YR1961] 1962 [YR1962] 1963 [YR1963] 1964 [YR1964]  \\\n",
       "0  0.0348442494869232           NaN           NaN           NaN           NaN   \n",
       "1   0.276291221380234           NaN           NaN           NaN           NaN   \n",
       "2   0.173148155212402           NaN           NaN           NaN           NaN   \n",
       "3                 NaN           NaN           NaN           NaN           NaN   \n",
       "4                 NaN           NaN           NaN           NaN           NaN   \n",
       "\n",
       "        1965 [YR1965]  ... 2006 [YR2006] 2007 [YR2007] 2008 [YR2008]  \\\n",
       "0  0.0634277984499931  ...         0.136         0.146         0.145   \n",
       "1    0.48128342628479  ...          1.15         1.146           NaN   \n",
       "2   0.116413652896881  ...           NaN         1.207           NaN   \n",
       "3                 NaN  ...           NaN           NaN           NaN   \n",
       "4                 NaN  ...          3.64         3.716           NaN   \n",
       "\n",
       "  2009 [YR2009] 2010 [YR2010] 2011 [YR2011] 2012 [YR2012] 2013 [YR2013]  \\\n",
       "0         0.175         0.194         0.234         0.225         0.266   \n",
       "1         1.144         1.132         1.113         1.145         1.145   \n",
       "2           NaN         1.207           NaN           NaN           NaN   \n",
       "3           NaN           NaN           NaN           NaN           NaN   \n",
       "4         3.912             4           NaN           NaN           NaN   \n",
       "\n",
       "  2014 [YR2014] 2015 [YR2015]  \n",
       "0           NaN           NaN  \n",
       "1           NaN           NaN  \n",
       "2           NaN           NaN  \n",
       "3           NaN           NaN  \n",
       "4           NaN           NaN  \n",
       "\n",
       "[5 rows x 60 columns]"
      ]
     },
     "execution_count": 3,
     "metadata": {},
     "output_type": "execute_result"
    }
   ],
   "source": [
    "ud = pd.read_csv(undata_url).replace(\"..\",np.nan).iloc[:-5,:]\n",
    "ud.head(5)"
   ]
  },
  {
   "cell_type": "code",
   "execution_count": 4,
   "metadata": {
    "tags": []
   },
   "outputs": [],
   "source": [
    "# ud.dtypes"
   ]
  },
  {
   "cell_type": "code",
   "execution_count": 5,
   "metadata": {
    "tags": []
   },
   "outputs": [
    {
     "data": {
      "text/html": [
       "<div>\n",
       "<style scoped>\n",
       "    .dataframe tbody tr th:only-of-type {\n",
       "        vertical-align: middle;\n",
       "    }\n",
       "\n",
       "    .dataframe tbody tr th {\n",
       "        vertical-align: top;\n",
       "    }\n",
       "\n",
       "    .dataframe thead th {\n",
       "        text-align: right;\n",
       "    }\n",
       "</style>\n",
       "<table border=\"1\" class=\"dataframe\">\n",
       "  <thead>\n",
       "    <tr style=\"text-align: right;\">\n",
       "      <th></th>\n",
       "      <th>country_name</th>\n",
       "      <th>country_id</th>\n",
       "      <th>country_text_id</th>\n",
       "      <th>year</th>\n",
       "      <th>historical_date</th>\n",
       "      <th>codingstart</th>\n",
       "      <th>gapstart</th>\n",
       "      <th>gapend</th>\n",
       "      <th>codingend</th>\n",
       "      <th>COWcode</th>\n",
       "      <th>...</th>\n",
       "      <th>v2xcs_ccsi_codehigh</th>\n",
       "      <th>v2xcs_ccsi_codelow</th>\n",
       "      <th>v2xps_party</th>\n",
       "      <th>v2xps_party_codehigh</th>\n",
       "      <th>v2xps_party_codelow</th>\n",
       "      <th>v2x_gender</th>\n",
       "      <th>v2x_gender_codehigh</th>\n",
       "      <th>v2x_gender_codelow</th>\n",
       "      <th>v2x_gencl</th>\n",
       "      <th>v2x_gencl_codehigh</th>\n",
       "    </tr>\n",
       "  </thead>\n",
       "  <tbody>\n",
       "    <tr>\n",
       "      <th>0</th>\n",
       "      <td>Mexico</td>\n",
       "      <td>3</td>\n",
       "      <td>MEX</td>\n",
       "      <td>1960</td>\n",
       "      <td>1960-01-01</td>\n",
       "      <td>1900</td>\n",
       "      <td>NaN</td>\n",
       "      <td>NaN</td>\n",
       "      <td>2014</td>\n",
       "      <td>70.0</td>\n",
       "      <td>...</td>\n",
       "      <td>0.451123</td>\n",
       "      <td>0.170201</td>\n",
       "      <td>0.681416</td>\n",
       "      <td>0.811379</td>\n",
       "      <td>0.524055</td>\n",
       "      <td>0.347498</td>\n",
       "      <td>0.421270</td>\n",
       "      <td>0.273726</td>\n",
       "      <td>0.555367</td>\n",
       "      <td>0.714971</td>\n",
       "    </tr>\n",
       "    <tr>\n",
       "      <th>1</th>\n",
       "      <td>Mexico</td>\n",
       "      <td>3</td>\n",
       "      <td>MEX</td>\n",
       "      <td>1961</td>\n",
       "      <td>1961-01-01</td>\n",
       "      <td>1900</td>\n",
       "      <td>NaN</td>\n",
       "      <td>NaN</td>\n",
       "      <td>2014</td>\n",
       "      <td>70.0</td>\n",
       "      <td>...</td>\n",
       "      <td>0.461693</td>\n",
       "      <td>0.175715</td>\n",
       "      <td>0.681416</td>\n",
       "      <td>0.811379</td>\n",
       "      <td>0.524055</td>\n",
       "      <td>0.344214</td>\n",
       "      <td>0.417813</td>\n",
       "      <td>0.270614</td>\n",
       "      <td>0.555367</td>\n",
       "      <td>0.714971</td>\n",
       "    </tr>\n",
       "    <tr>\n",
       "      <th>2</th>\n",
       "      <td>Mexico</td>\n",
       "      <td>3</td>\n",
       "      <td>MEX</td>\n",
       "      <td>1962</td>\n",
       "      <td>1962-01-01</td>\n",
       "      <td>1900</td>\n",
       "      <td>NaN</td>\n",
       "      <td>NaN</td>\n",
       "      <td>2014</td>\n",
       "      <td>70.0</td>\n",
       "      <td>...</td>\n",
       "      <td>0.461693</td>\n",
       "      <td>0.175715</td>\n",
       "      <td>0.681416</td>\n",
       "      <td>0.811379</td>\n",
       "      <td>0.524055</td>\n",
       "      <td>0.344214</td>\n",
       "      <td>0.417813</td>\n",
       "      <td>0.270614</td>\n",
       "      <td>0.555367</td>\n",
       "      <td>0.714971</td>\n",
       "    </tr>\n",
       "    <tr>\n",
       "      <th>3</th>\n",
       "      <td>Mexico</td>\n",
       "      <td>3</td>\n",
       "      <td>MEX</td>\n",
       "      <td>1963</td>\n",
       "      <td>1963-01-01</td>\n",
       "      <td>1900</td>\n",
       "      <td>NaN</td>\n",
       "      <td>NaN</td>\n",
       "      <td>2014</td>\n",
       "      <td>70.0</td>\n",
       "      <td>...</td>\n",
       "      <td>0.461693</td>\n",
       "      <td>0.175715</td>\n",
       "      <td>0.681416</td>\n",
       "      <td>0.811379</td>\n",
       "      <td>0.524055</td>\n",
       "      <td>0.344214</td>\n",
       "      <td>0.417813</td>\n",
       "      <td>0.270614</td>\n",
       "      <td>0.555367</td>\n",
       "      <td>0.714971</td>\n",
       "    </tr>\n",
       "    <tr>\n",
       "      <th>4</th>\n",
       "      <td>Mexico</td>\n",
       "      <td>3</td>\n",
       "      <td>MEX</td>\n",
       "      <td>1964</td>\n",
       "      <td>1964-01-01</td>\n",
       "      <td>1900</td>\n",
       "      <td>NaN</td>\n",
       "      <td>NaN</td>\n",
       "      <td>2014</td>\n",
       "      <td>70.0</td>\n",
       "      <td>...</td>\n",
       "      <td>0.461693</td>\n",
       "      <td>0.175715</td>\n",
       "      <td>0.681416</td>\n",
       "      <td>0.811379</td>\n",
       "      <td>0.524055</td>\n",
       "      <td>0.356873</td>\n",
       "      <td>0.428861</td>\n",
       "      <td>0.284885</td>\n",
       "      <td>0.555367</td>\n",
       "      <td>0.714971</td>\n",
       "    </tr>\n",
       "  </tbody>\n",
       "</table>\n",
       "<p>5 rows × 99 columns</p>\n",
       "</div>"
      ],
      "text/plain": [
       "  country_name  country_id country_text_id  year historical_date  codingstart  \\\n",
       "0       Mexico           3             MEX  1960      1960-01-01         1900   \n",
       "1       Mexico           3             MEX  1961      1961-01-01         1900   \n",
       "2       Mexico           3             MEX  1962      1962-01-01         1900   \n",
       "3       Mexico           3             MEX  1963      1963-01-01         1900   \n",
       "4       Mexico           3             MEX  1964      1964-01-01         1900   \n",
       "\n",
       "   gapstart  gapend  codingend  COWcode  ...  v2xcs_ccsi_codehigh  \\\n",
       "0       NaN     NaN       2014     70.0  ...             0.451123   \n",
       "1       NaN     NaN       2014     70.0  ...             0.461693   \n",
       "2       NaN     NaN       2014     70.0  ...             0.461693   \n",
       "3       NaN     NaN       2014     70.0  ...             0.461693   \n",
       "4       NaN     NaN       2014     70.0  ...             0.461693   \n",
       "\n",
       "   v2xcs_ccsi_codelow  v2xps_party  v2xps_party_codehigh  v2xps_party_codelow  \\\n",
       "0            0.170201     0.681416              0.811379             0.524055   \n",
       "1            0.175715     0.681416              0.811379             0.524055   \n",
       "2            0.175715     0.681416              0.811379             0.524055   \n",
       "3            0.175715     0.681416              0.811379             0.524055   \n",
       "4            0.175715     0.681416              0.811379             0.524055   \n",
       "\n",
       "   v2x_gender  v2x_gender_codehigh  v2x_gender_codelow  v2x_gencl  \\\n",
       "0    0.347498             0.421270            0.273726   0.555367   \n",
       "1    0.344214             0.417813            0.270614   0.555367   \n",
       "2    0.344214             0.417813            0.270614   0.555367   \n",
       "3    0.344214             0.417813            0.270614   0.555367   \n",
       "4    0.356873             0.428861            0.284885   0.555367   \n",
       "\n",
       "   v2x_gencl_codehigh  \n",
       "0            0.714971  \n",
       "1            0.714971  \n",
       "2            0.714971  \n",
       "3            0.714971  \n",
       "4            0.714971  \n",
       "\n",
       "[5 rows x 99 columns]"
      ]
     },
     "execution_count": 5,
     "metadata": {},
     "output_type": "execute_result"
    }
   ],
   "source": [
    "vd = pd.read_csv(VDem_url).iloc[:,1:]\n",
    "vd = vd[vd[\"year\"]!=2015]\n",
    "vd.head(5)"
   ]
  },
  {
   "cell_type": "code",
   "execution_count": 6,
   "metadata": {
    "tags": []
   },
   "outputs": [],
   "source": [
    "# pd.set_option('display.max_rows', None)\n",
    "# vd.dtypes"
   ]
  },
  {
   "cell_type": "code",
   "execution_count": 7,
   "metadata": {
    "tags": []
   },
   "outputs": [],
   "source": [
    "# pd.reset_option('display.max_rows', None)"
   ]
  },
  {
   "cell_type": "markdown",
   "metadata": {},
   "source": [
    "### Part b\n",
    "The UN data contain certain rows that refer to groups of countries instead of to individual countries. Here’s a list of these non-countries:"
   ]
  },
  {
   "cell_type": "code",
   "execution_count": 8,
   "metadata": {
    "tags": []
   },
   "outputs": [],
   "source": [
    "noncountries = ['Arab World',  'Caribbean small states',  'Central Europe and the Baltics', \n",
    "    'Early-demographic dividend',  'East Asia & Pacific', 'East Asia & Pacific (excluding high income)', \n",
    "    'East Asia & Pacific (IDA & IBRD countries)', 'Euro area', 'Europe & Central Asia', \n",
    "    'Europe & Central Asia (excluding high income)', 'Europe & Central Asia (IDA & IBRD countries)', 'European Union', \n",
    "    'Fragile and conflict affected situations', 'Heavily indebted poor countries (HIPC)', \n",
    "    'High income', 'Late-demographic dividend', 'Latin America & Caribbean', \n",
    "    'Latin America & Caribbean (excluding high income)', \n",
    "    'Latin America & the Caribbean (IDA & IBRD countries)', 'Least developed countries: UN classification', \n",
    "    'Low & middle income', 'Low income', 'Lower middle income', \n",
    "    'Middle East & North Africa', 'Middle East & North Africa (excluding high income)',\n",
    "    'Middle East & North Africa (IDA & IBRD countries)', \n",
    "    'Middle income', 'North America', 'OECD members', \n",
    "    'Other small states', 'Pacific island small states', 'Post-demographic dividend', \n",
    "    'Pre-demographic dividend', 'Small states', 'South Asia', \n",
    "    'South Asia (IDA & IBRD)', 'Sub-Saharan Africa', 'Sub-Saharan Africa (excluding high income)', \n",
    "    'Sub-Saharan Africa (IDA & IBRD countries)', 'Upper middle income', 'World']"
   ]
  },
  {
   "cell_type": "markdown",
   "metadata": {},
   "source": [
    "We can use `.query()` to remove the non-countries from the data, but in this case there are complications due to the space in the name of the column `Country Name` and the use of an external list. So here let's use an alternative method:\n",
    "\n",
    "First, apply the `.isin(noncountries)` method to the `Country Name` column of the UN data to create a series of values that are `True` if the `Country Name` on a row is one of the non-countries, and `False` otherwise. Second, use the `~` operator to negate the logical values: turn `True` to `False` and vice versa. Finally, pass this logical series to the `.loc[]` attribute of the dataframe to drop the rows that refer to these noncountries from the UN data. (1 point)\n",
    "\n",
    "(If you wanted to use `.query()`, you would first need to rename `Country Name` to remove the space, then you can use an `@` in front of `noncountries` to refer to the external list. But for this problem follow the instructions listed above.)"
   ]
  },
  {
   "cell_type": "code",
   "execution_count": 9,
   "metadata": {
    "tags": []
   },
   "outputs": [
    {
     "data": {
      "text/html": [
       "<div>\n",
       "<style scoped>\n",
       "    .dataframe tbody tr th:only-of-type {\n",
       "        vertical-align: middle;\n",
       "    }\n",
       "\n",
       "    .dataframe tbody tr th {\n",
       "        vertical-align: top;\n",
       "    }\n",
       "\n",
       "    .dataframe thead th {\n",
       "        text-align: right;\n",
       "    }\n",
       "</style>\n",
       "<table border=\"1\" class=\"dataframe\">\n",
       "  <thead>\n",
       "    <tr style=\"text-align: right;\">\n",
       "      <th></th>\n",
       "      <th>Series Name</th>\n",
       "      <th>Series Code</th>\n",
       "      <th>Country Name</th>\n",
       "      <th>Country Code</th>\n",
       "      <th>1960 [YR1960]</th>\n",
       "      <th>1961 [YR1961]</th>\n",
       "      <th>1962 [YR1962]</th>\n",
       "      <th>1963 [YR1963]</th>\n",
       "      <th>1964 [YR1964]</th>\n",
       "      <th>1965 [YR1965]</th>\n",
       "      <th>...</th>\n",
       "      <th>2006 [YR2006]</th>\n",
       "      <th>2007 [YR2007]</th>\n",
       "      <th>2008 [YR2008]</th>\n",
       "      <th>2009 [YR2009]</th>\n",
       "      <th>2010 [YR2010]</th>\n",
       "      <th>2011 [YR2011]</th>\n",
       "      <th>2012 [YR2012]</th>\n",
       "      <th>2013 [YR2013]</th>\n",
       "      <th>2014 [YR2014]</th>\n",
       "      <th>2015 [YR2015]</th>\n",
       "    </tr>\n",
       "  </thead>\n",
       "  <tbody>\n",
       "    <tr>\n",
       "      <th>0</th>\n",
       "      <td>Physicians (per 1,000 people)</td>\n",
       "      <td>SH.MED.PHYS.ZS</td>\n",
       "      <td>Afghanistan</td>\n",
       "      <td>AFG</td>\n",
       "      <td>0.0348442494869232</td>\n",
       "      <td>NaN</td>\n",
       "      <td>NaN</td>\n",
       "      <td>NaN</td>\n",
       "      <td>NaN</td>\n",
       "      <td>0.0634277984499931</td>\n",
       "      <td>...</td>\n",
       "      <td>0.136</td>\n",
       "      <td>0.146</td>\n",
       "      <td>0.145</td>\n",
       "      <td>0.175</td>\n",
       "      <td>0.194</td>\n",
       "      <td>0.234</td>\n",
       "      <td>0.225</td>\n",
       "      <td>0.266</td>\n",
       "      <td>NaN</td>\n",
       "      <td>NaN</td>\n",
       "    </tr>\n",
       "    <tr>\n",
       "      <th>1</th>\n",
       "      <td>Physicians (per 1,000 people)</td>\n",
       "      <td>SH.MED.PHYS.ZS</td>\n",
       "      <td>Albania</td>\n",
       "      <td>ALB</td>\n",
       "      <td>0.276291221380234</td>\n",
       "      <td>NaN</td>\n",
       "      <td>NaN</td>\n",
       "      <td>NaN</td>\n",
       "      <td>NaN</td>\n",
       "      <td>0.48128342628479</td>\n",
       "      <td>...</td>\n",
       "      <td>1.15</td>\n",
       "      <td>1.146</td>\n",
       "      <td>NaN</td>\n",
       "      <td>1.144</td>\n",
       "      <td>1.132</td>\n",
       "      <td>1.113</td>\n",
       "      <td>1.145</td>\n",
       "      <td>1.145</td>\n",
       "      <td>NaN</td>\n",
       "      <td>NaN</td>\n",
       "    </tr>\n",
       "    <tr>\n",
       "      <th>2</th>\n",
       "      <td>Physicians (per 1,000 people)</td>\n",
       "      <td>SH.MED.PHYS.ZS</td>\n",
       "      <td>Algeria</td>\n",
       "      <td>DZA</td>\n",
       "      <td>0.173148155212402</td>\n",
       "      <td>NaN</td>\n",
       "      <td>NaN</td>\n",
       "      <td>NaN</td>\n",
       "      <td>NaN</td>\n",
       "      <td>0.116413652896881</td>\n",
       "      <td>...</td>\n",
       "      <td>NaN</td>\n",
       "      <td>1.207</td>\n",
       "      <td>NaN</td>\n",
       "      <td>NaN</td>\n",
       "      <td>1.207</td>\n",
       "      <td>NaN</td>\n",
       "      <td>NaN</td>\n",
       "      <td>NaN</td>\n",
       "      <td>NaN</td>\n",
       "      <td>NaN</td>\n",
       "    </tr>\n",
       "    <tr>\n",
       "      <th>3</th>\n",
       "      <td>Physicians (per 1,000 people)</td>\n",
       "      <td>SH.MED.PHYS.ZS</td>\n",
       "      <td>American Samoa</td>\n",
       "      <td>ASM</td>\n",
       "      <td>NaN</td>\n",
       "      <td>NaN</td>\n",
       "      <td>NaN</td>\n",
       "      <td>NaN</td>\n",
       "      <td>NaN</td>\n",
       "      <td>NaN</td>\n",
       "      <td>...</td>\n",
       "      <td>NaN</td>\n",
       "      <td>NaN</td>\n",
       "      <td>NaN</td>\n",
       "      <td>NaN</td>\n",
       "      <td>NaN</td>\n",
       "      <td>NaN</td>\n",
       "      <td>NaN</td>\n",
       "      <td>NaN</td>\n",
       "      <td>NaN</td>\n",
       "      <td>NaN</td>\n",
       "    </tr>\n",
       "    <tr>\n",
       "      <th>4</th>\n",
       "      <td>Physicians (per 1,000 people)</td>\n",
       "      <td>SH.MED.PHYS.ZS</td>\n",
       "      <td>Andorra</td>\n",
       "      <td>ADO</td>\n",
       "      <td>NaN</td>\n",
       "      <td>NaN</td>\n",
       "      <td>NaN</td>\n",
       "      <td>NaN</td>\n",
       "      <td>NaN</td>\n",
       "      <td>NaN</td>\n",
       "      <td>...</td>\n",
       "      <td>3.64</td>\n",
       "      <td>3.716</td>\n",
       "      <td>NaN</td>\n",
       "      <td>3.912</td>\n",
       "      <td>4</td>\n",
       "      <td>NaN</td>\n",
       "      <td>NaN</td>\n",
       "      <td>NaN</td>\n",
       "      <td>NaN</td>\n",
       "      <td>NaN</td>\n",
       "    </tr>\n",
       "  </tbody>\n",
       "</table>\n",
       "<p>5 rows × 60 columns</p>\n",
       "</div>"
      ],
      "text/plain": [
       "                     Series Name     Series Code    Country Name Country Code  \\\n",
       "0  Physicians (per 1,000 people)  SH.MED.PHYS.ZS     Afghanistan          AFG   \n",
       "1  Physicians (per 1,000 people)  SH.MED.PHYS.ZS         Albania          ALB   \n",
       "2  Physicians (per 1,000 people)  SH.MED.PHYS.ZS         Algeria          DZA   \n",
       "3  Physicians (per 1,000 people)  SH.MED.PHYS.ZS  American Samoa          ASM   \n",
       "4  Physicians (per 1,000 people)  SH.MED.PHYS.ZS         Andorra          ADO   \n",
       "\n",
       "        1960 [YR1960] 1961 [YR1961] 1962 [YR1962] 1963 [YR1963] 1964 [YR1964]  \\\n",
       "0  0.0348442494869232           NaN           NaN           NaN           NaN   \n",
       "1   0.276291221380234           NaN           NaN           NaN           NaN   \n",
       "2   0.173148155212402           NaN           NaN           NaN           NaN   \n",
       "3                 NaN           NaN           NaN           NaN           NaN   \n",
       "4                 NaN           NaN           NaN           NaN           NaN   \n",
       "\n",
       "        1965 [YR1965]  ... 2006 [YR2006] 2007 [YR2007] 2008 [YR2008]  \\\n",
       "0  0.0634277984499931  ...         0.136         0.146         0.145   \n",
       "1    0.48128342628479  ...          1.15         1.146           NaN   \n",
       "2   0.116413652896881  ...           NaN         1.207           NaN   \n",
       "3                 NaN  ...           NaN           NaN           NaN   \n",
       "4                 NaN  ...          3.64         3.716           NaN   \n",
       "\n",
       "  2009 [YR2009] 2010 [YR2010] 2011 [YR2011] 2012 [YR2012] 2013 [YR2013]  \\\n",
       "0         0.175         0.194         0.234         0.225         0.266   \n",
       "1         1.144         1.132         1.113         1.145         1.145   \n",
       "2           NaN         1.207           NaN           NaN           NaN   \n",
       "3           NaN           NaN           NaN           NaN           NaN   \n",
       "4         3.912             4           NaN           NaN           NaN   \n",
       "\n",
       "  2014 [YR2014] 2015 [YR2015]  \n",
       "0           NaN           NaN  \n",
       "1           NaN           NaN  \n",
       "2           NaN           NaN  \n",
       "3           NaN           NaN  \n",
       "4           NaN           NaN  \n",
       "\n",
       "[5 rows x 60 columns]"
      ]
     },
     "execution_count": 9,
     "metadata": {},
     "output_type": "execute_result"
    }
   ],
   "source": [
    "ud = ud.loc[~ud[\"Country Name\"].isin(noncountries)]\n",
    "ud.head(5)"
   ]
  },
  {
   "cell_type": "markdown",
   "metadata": {},
   "source": [
    "### Part c\n",
    "Reshape the UN data to move the years from the columns to the rows. (Once the years are in the rows, they will have values such as \"1960 [YR1960]\".) (2 points)"
   ]
  },
  {
   "cell_type": "code",
   "execution_count": 10,
   "metadata": {
    "tags": []
   },
   "outputs": [
    {
     "data": {
      "text/html": [
       "<div>\n",
       "<style scoped>\n",
       "    .dataframe tbody tr th:only-of-type {\n",
       "        vertical-align: middle;\n",
       "    }\n",
       "\n",
       "    .dataframe tbody tr th {\n",
       "        vertical-align: top;\n",
       "    }\n",
       "\n",
       "    .dataframe thead th {\n",
       "        text-align: right;\n",
       "    }\n",
       "</style>\n",
       "<table border=\"1\" class=\"dataframe\">\n",
       "  <thead>\n",
       "    <tr style=\"text-align: right;\">\n",
       "      <th></th>\n",
       "      <th>Series Name</th>\n",
       "      <th>Series Code</th>\n",
       "      <th>Country Name</th>\n",
       "      <th>Country Code</th>\n",
       "      <th>Year</th>\n",
       "      <th>data</th>\n",
       "    </tr>\n",
       "  </thead>\n",
       "  <tbody>\n",
       "    <tr>\n",
       "      <th>0</th>\n",
       "      <td>Physicians (per 1,000 people)</td>\n",
       "      <td>SH.MED.PHYS.ZS</td>\n",
       "      <td>Afghanistan</td>\n",
       "      <td>AFG</td>\n",
       "      <td>1960 [YR1960]</td>\n",
       "      <td>0.0348442494869232</td>\n",
       "    </tr>\n",
       "    <tr>\n",
       "      <th>1</th>\n",
       "      <td>Physicians (per 1,000 people)</td>\n",
       "      <td>SH.MED.PHYS.ZS</td>\n",
       "      <td>Albania</td>\n",
       "      <td>ALB</td>\n",
       "      <td>1960 [YR1960]</td>\n",
       "      <td>0.276291221380234</td>\n",
       "    </tr>\n",
       "    <tr>\n",
       "      <th>2</th>\n",
       "      <td>Physicians (per 1,000 people)</td>\n",
       "      <td>SH.MED.PHYS.ZS</td>\n",
       "      <td>Algeria</td>\n",
       "      <td>DZA</td>\n",
       "      <td>1960 [YR1960]</td>\n",
       "      <td>0.173148155212402</td>\n",
       "    </tr>\n",
       "    <tr>\n",
       "      <th>3</th>\n",
       "      <td>Physicians (per 1,000 people)</td>\n",
       "      <td>SH.MED.PHYS.ZS</td>\n",
       "      <td>American Samoa</td>\n",
       "      <td>ASM</td>\n",
       "      <td>1960 [YR1960]</td>\n",
       "      <td>NaN</td>\n",
       "    </tr>\n",
       "    <tr>\n",
       "      <th>4</th>\n",
       "      <td>Physicians (per 1,000 people)</td>\n",
       "      <td>SH.MED.PHYS.ZS</td>\n",
       "      <td>Andorra</td>\n",
       "      <td>ADO</td>\n",
       "      <td>1960 [YR1960]</td>\n",
       "      <td>NaN</td>\n",
       "    </tr>\n",
       "  </tbody>\n",
       "</table>\n",
       "</div>"
      ],
      "text/plain": [
       "                     Series Name     Series Code    Country Name Country Code  \\\n",
       "0  Physicians (per 1,000 people)  SH.MED.PHYS.ZS     Afghanistan          AFG   \n",
       "1  Physicians (per 1,000 people)  SH.MED.PHYS.ZS         Albania          ALB   \n",
       "2  Physicians (per 1,000 people)  SH.MED.PHYS.ZS         Algeria          DZA   \n",
       "3  Physicians (per 1,000 people)  SH.MED.PHYS.ZS  American Samoa          ASM   \n",
       "4  Physicians (per 1,000 people)  SH.MED.PHYS.ZS         Andorra          ADO   \n",
       "\n",
       "            Year                data  \n",
       "0  1960 [YR1960]  0.0348442494869232  \n",
       "1  1960 [YR1960]   0.276291221380234  \n",
       "2  1960 [YR1960]   0.173148155212402  \n",
       "3  1960 [YR1960]                 NaN  \n",
       "4  1960 [YR1960]                 NaN  "
      ]
     },
     "execution_count": 10,
     "metadata": {},
     "output_type": "execute_result"
    }
   ],
   "source": [
    "ud = pd.melt(ud, \n",
    "              id_vars=['Series Name', 'Series Code', 'Country Name', 'Country Code'], \n",
    "              var_name='Year', \n",
    "              value_name='data')\n",
    "ud.head(5)"
   ]
  },
  {
   "cell_type": "code",
   "execution_count": 11,
   "metadata": {
    "tags": []
   },
   "outputs": [
    {
     "data": {
      "text/plain": [
       "36456"
      ]
     },
     "execution_count": 11,
     "metadata": {},
     "output_type": "execute_result"
    }
   ],
   "source": [
    "len(ud)"
   ]
  },
  {
   "cell_type": "markdown",
   "metadata": {},
   "source": [
    "### Part d\n",
    "Rename the `variable` column to `year`. Then use string methods to remove the ends such as \"[YR1960]\" from the values of the new `year` column and convert the column to an integer data type.\n",
    "\n",
    "Also, for whatever reason, real world data often contains multiple variables that are just different representations of the same information. In this case, the `Series Name` and `Series Code` variables tell us exactly the same thing, and the `Country Name` and `Country Code` variables tell us exactly the same thing. Unless I have a very good reason to keep both, I generally prefer to drop variables that are redundant and coded in a less helpful way. So drop `Series Code` and `Country Code`. (2 points)"
   ]
  },
  {
   "cell_type": "code",
   "execution_count": 12,
   "metadata": {
    "tags": []
   },
   "outputs": [],
   "source": [
    "ud = ud.rename(columns={\"Year\":\"year\"})"
   ]
  },
  {
   "cell_type": "code",
   "execution_count": 13,
   "metadata": {
    "tags": []
   },
   "outputs": [
    {
     "data": {
      "text/plain": [
       "0        1960\n",
       "1        1960\n",
       "2        1960\n",
       "3        1960\n",
       "4        1960\n",
       "         ... \n",
       "36451    2015\n",
       "36452    2015\n",
       "36453    2015\n",
       "36454    2015\n",
       "36455    2015\n",
       "Name: year, Length: 36456, dtype: int32"
      ]
     },
     "execution_count": 13,
     "metadata": {},
     "output_type": "execute_result"
    }
   ],
   "source": [
    "ud.year = [x[0] for x in ud.year.str.strip().str.split(\" \")]\n",
    "ud.year.astype(int)"
   ]
  },
  {
   "cell_type": "code",
   "execution_count": 14,
   "metadata": {
    "tags": []
   },
   "outputs": [
    {
     "data": {
      "text/html": [
       "<div>\n",
       "<style scoped>\n",
       "    .dataframe tbody tr th:only-of-type {\n",
       "        vertical-align: middle;\n",
       "    }\n",
       "\n",
       "    .dataframe tbody tr th {\n",
       "        vertical-align: top;\n",
       "    }\n",
       "\n",
       "    .dataframe thead th {\n",
       "        text-align: right;\n",
       "    }\n",
       "</style>\n",
       "<table border=\"1\" class=\"dataframe\">\n",
       "  <thead>\n",
       "    <tr style=\"text-align: right;\">\n",
       "      <th></th>\n",
       "      <th>Series Name</th>\n",
       "      <th>Country Name</th>\n",
       "      <th>year</th>\n",
       "      <th>data</th>\n",
       "    </tr>\n",
       "  </thead>\n",
       "  <tbody>\n",
       "    <tr>\n",
       "      <th>0</th>\n",
       "      <td>Physicians (per 1,000 people)</td>\n",
       "      <td>Afghanistan</td>\n",
       "      <td>1960</td>\n",
       "      <td>0.0348442494869232</td>\n",
       "    </tr>\n",
       "    <tr>\n",
       "      <th>1</th>\n",
       "      <td>Physicians (per 1,000 people)</td>\n",
       "      <td>Albania</td>\n",
       "      <td>1960</td>\n",
       "      <td>0.276291221380234</td>\n",
       "    </tr>\n",
       "    <tr>\n",
       "      <th>2</th>\n",
       "      <td>Physicians (per 1,000 people)</td>\n",
       "      <td>Algeria</td>\n",
       "      <td>1960</td>\n",
       "      <td>0.173148155212402</td>\n",
       "    </tr>\n",
       "    <tr>\n",
       "      <th>3</th>\n",
       "      <td>Physicians (per 1,000 people)</td>\n",
       "      <td>American Samoa</td>\n",
       "      <td>1960</td>\n",
       "      <td>NaN</td>\n",
       "    </tr>\n",
       "    <tr>\n",
       "      <th>4</th>\n",
       "      <td>Physicians (per 1,000 people)</td>\n",
       "      <td>Andorra</td>\n",
       "      <td>1960</td>\n",
       "      <td>NaN</td>\n",
       "    </tr>\n",
       "  </tbody>\n",
       "</table>\n",
       "</div>"
      ],
      "text/plain": [
       "                     Series Name    Country Name  year                data\n",
       "0  Physicians (per 1,000 people)     Afghanistan  1960  0.0348442494869232\n",
       "1  Physicians (per 1,000 people)         Albania  1960   0.276291221380234\n",
       "2  Physicians (per 1,000 people)         Algeria  1960   0.173148155212402\n",
       "3  Physicians (per 1,000 people)  American Samoa  1960                 NaN\n",
       "4  Physicians (per 1,000 people)         Andorra  1960                 NaN"
      ]
     },
     "execution_count": 14,
     "metadata": {},
     "output_type": "execute_result"
    }
   ],
   "source": [
    "ud = ud.iloc[:,[0,2,4,5]]\n",
    "ud.head(5)"
   ]
  },
  {
   "cell_type": "code",
   "execution_count": 15,
   "metadata": {
    "tags": []
   },
   "outputs": [
    {
     "data": {
      "text/plain": [
       "36456"
      ]
     },
     "execution_count": 15,
     "metadata": {},
     "output_type": "execute_result"
    }
   ],
   "source": [
    "len(ud)"
   ]
  },
  {
   "cell_type": "markdown",
   "metadata": {},
   "source": [
    "### Part e\n",
    "Reshape the data to move the values of `Series Name` to separate columns. Make sure all of the columns exist in the dataframe after reshaping and are not stored in a row index or multi-index. Then rename the columns so that all of the columns have concise and descriptive names. (2 points)"
   ]
  },
  {
   "cell_type": "code",
   "execution_count": 16,
   "metadata": {
    "tags": []
   },
   "outputs": [
    {
     "data": {
      "text/html": [
       "<div>\n",
       "<style scoped>\n",
       "    .dataframe tbody tr th:only-of-type {\n",
       "        vertical-align: middle;\n",
       "    }\n",
       "\n",
       "    .dataframe tbody tr th {\n",
       "        vertical-align: top;\n",
       "    }\n",
       "\n",
       "    .dataframe thead tr th {\n",
       "        text-align: left;\n",
       "    }\n",
       "</style>\n",
       "<table border=\"1\" class=\"dataframe\">\n",
       "  <thead>\n",
       "    <tr>\n",
       "      <th></th>\n",
       "      <th>Country Name</th>\n",
       "      <th>year</th>\n",
       "      <th colspan=\"3\" halign=\"left\">data</th>\n",
       "    </tr>\n",
       "    <tr>\n",
       "      <th>Series Name</th>\n",
       "      <th></th>\n",
       "      <th></th>\n",
       "      <th>Health expenditure per capita (current US$)</th>\n",
       "      <th>Physicians (per 1,000 people)</th>\n",
       "      <th>Prevalence of undernourishment (% of population)</th>\n",
       "    </tr>\n",
       "  </thead>\n",
       "  <tbody>\n",
       "    <tr>\n",
       "      <th>0</th>\n",
       "      <td>Afghanistan</td>\n",
       "      <td>1960</td>\n",
       "      <td>NaN</td>\n",
       "      <td>0.034844</td>\n",
       "      <td>NaN</td>\n",
       "    </tr>\n",
       "    <tr>\n",
       "      <th>1</th>\n",
       "      <td>Afghanistan</td>\n",
       "      <td>1965</td>\n",
       "      <td>NaN</td>\n",
       "      <td>0.063428</td>\n",
       "      <td>NaN</td>\n",
       "    </tr>\n",
       "    <tr>\n",
       "      <th>2</th>\n",
       "      <td>Afghanistan</td>\n",
       "      <td>1970</td>\n",
       "      <td>NaN</td>\n",
       "      <td>0.0649</td>\n",
       "      <td>NaN</td>\n",
       "    </tr>\n",
       "    <tr>\n",
       "      <th>3</th>\n",
       "      <td>Afghanistan</td>\n",
       "      <td>1981</td>\n",
       "      <td>NaN</td>\n",
       "      <td>0.077</td>\n",
       "      <td>NaN</td>\n",
       "    </tr>\n",
       "    <tr>\n",
       "      <th>4</th>\n",
       "      <td>Afghanistan</td>\n",
       "      <td>1986</td>\n",
       "      <td>NaN</td>\n",
       "      <td>0.1831</td>\n",
       "      <td>NaN</td>\n",
       "    </tr>\n",
       "    <tr>\n",
       "      <th>...</th>\n",
       "      <td>...</td>\n",
       "      <td>...</td>\n",
       "      <td>...</td>\n",
       "      <td>...</td>\n",
       "      <td>...</td>\n",
       "    </tr>\n",
       "    <tr>\n",
       "      <th>6396</th>\n",
       "      <td>Zimbabwe</td>\n",
       "      <td>2011</td>\n",
       "      <td>48.46958</td>\n",
       "      <td>0.083</td>\n",
       "      <td>33.5</td>\n",
       "    </tr>\n",
       "    <tr>\n",
       "      <th>6397</th>\n",
       "      <td>Zimbabwe</td>\n",
       "      <td>2012</td>\n",
       "      <td>57.253763</td>\n",
       "      <td>NaN</td>\n",
       "      <td>33.2</td>\n",
       "    </tr>\n",
       "    <tr>\n",
       "      <th>6398</th>\n",
       "      <td>Zimbabwe</td>\n",
       "      <td>2013</td>\n",
       "      <td>62.309228</td>\n",
       "      <td>NaN</td>\n",
       "      <td>33.5</td>\n",
       "    </tr>\n",
       "    <tr>\n",
       "      <th>6399</th>\n",
       "      <td>Zimbabwe</td>\n",
       "      <td>2014</td>\n",
       "      <td>57.710452</td>\n",
       "      <td>NaN</td>\n",
       "      <td>34.0</td>\n",
       "    </tr>\n",
       "    <tr>\n",
       "      <th>6400</th>\n",
       "      <td>Zimbabwe</td>\n",
       "      <td>2015</td>\n",
       "      <td>NaN</td>\n",
       "      <td>NaN</td>\n",
       "      <td>33.4</td>\n",
       "    </tr>\n",
       "  </tbody>\n",
       "</table>\n",
       "<p>6401 rows × 5 columns</p>\n",
       "</div>"
      ],
      "text/plain": [
       "            Country Name  year                                        data  \\\n",
       "Series Name                    Health expenditure per capita (current US$)   \n",
       "0            Afghanistan  1960                                         NaN   \n",
       "1            Afghanistan  1965                                         NaN   \n",
       "2            Afghanistan  1970                                         NaN   \n",
       "3            Afghanistan  1981                                         NaN   \n",
       "4            Afghanistan  1986                                         NaN   \n",
       "...                  ...   ...                                         ...   \n",
       "6396            Zimbabwe  2011                                    48.46958   \n",
       "6397            Zimbabwe  2012                                   57.253763   \n",
       "6398            Zimbabwe  2013                                   62.309228   \n",
       "6399            Zimbabwe  2014                                   57.710452   \n",
       "6400            Zimbabwe  2015                                         NaN   \n",
       "\n",
       "                                           \\\n",
       "Series Name Physicians (per 1,000 people)   \n",
       "0                                0.034844   \n",
       "1                                0.063428   \n",
       "2                                  0.0649   \n",
       "3                                   0.077   \n",
       "4                                  0.1831   \n",
       "...                                   ...   \n",
       "6396                                0.083   \n",
       "6397                                  NaN   \n",
       "6398                                  NaN   \n",
       "6399                                  NaN   \n",
       "6400                                  NaN   \n",
       "\n",
       "                                                              \n",
       "Series Name Prevalence of undernourishment (% of population)  \n",
       "0                                                        NaN  \n",
       "1                                                        NaN  \n",
       "2                                                        NaN  \n",
       "3                                                        NaN  \n",
       "4                                                        NaN  \n",
       "...                                                      ...  \n",
       "6396                                                    33.5  \n",
       "6397                                                    33.2  \n",
       "6398                                                    33.5  \n",
       "6399                                                    34.0  \n",
       "6400                                                    33.4  \n",
       "\n",
       "[6401 rows x 5 columns]"
      ]
     },
     "execution_count": 16,
     "metadata": {},
     "output_type": "execute_result"
    }
   ],
   "source": [
    "ud = pd.pivot_table(ud,\n",
    "                     index = [\"Country Name\", \"year\"],\n",
    "                     columns = [\"Series Name\"],\n",
    "                     values = [\"data\"]).reset_index()\n",
    "ud"
   ]
  },
  {
   "cell_type": "code",
   "execution_count": 17,
   "metadata": {
    "tags": []
   },
   "outputs": [
    {
     "data": {
      "text/plain": [
       "Index(['country_name', 'year', 'health_exp', 'pys_p1000', 'perc_malnourished'], dtype='object')"
      ]
     },
     "execution_count": 17,
     "metadata": {},
     "output_type": "execute_result"
    }
   ],
   "source": [
    "ud.columns = [\"country_name\", \"year\", \"health_exp\", \"pys_p1000\", \"perc_malnourished\"]\n",
    "ud.columns"
   ]
  },
  {
   "cell_type": "code",
   "execution_count": 18,
   "metadata": {
    "tags": []
   },
   "outputs": [
    {
     "data": {
      "text/html": [
       "<div>\n",
       "<style scoped>\n",
       "    .dataframe tbody tr th:only-of-type {\n",
       "        vertical-align: middle;\n",
       "    }\n",
       "\n",
       "    .dataframe tbody tr th {\n",
       "        vertical-align: top;\n",
       "    }\n",
       "\n",
       "    .dataframe thead th {\n",
       "        text-align: right;\n",
       "    }\n",
       "</style>\n",
       "<table border=\"1\" class=\"dataframe\">\n",
       "  <thead>\n",
       "    <tr style=\"text-align: right;\">\n",
       "      <th></th>\n",
       "      <th>country_name</th>\n",
       "      <th>year</th>\n",
       "      <th>health_exp</th>\n",
       "      <th>pys_p1000</th>\n",
       "      <th>perc_malnourished</th>\n",
       "    </tr>\n",
       "  </thead>\n",
       "  <tbody>\n",
       "    <tr>\n",
       "      <th>0</th>\n",
       "      <td>Afghanistan</td>\n",
       "      <td>1960</td>\n",
       "      <td>NaN</td>\n",
       "      <td>0.034844</td>\n",
       "      <td>NaN</td>\n",
       "    </tr>\n",
       "    <tr>\n",
       "      <th>1</th>\n",
       "      <td>Afghanistan</td>\n",
       "      <td>1965</td>\n",
       "      <td>NaN</td>\n",
       "      <td>0.063428</td>\n",
       "      <td>NaN</td>\n",
       "    </tr>\n",
       "    <tr>\n",
       "      <th>2</th>\n",
       "      <td>Afghanistan</td>\n",
       "      <td>1970</td>\n",
       "      <td>NaN</td>\n",
       "      <td>0.0649</td>\n",
       "      <td>NaN</td>\n",
       "    </tr>\n",
       "    <tr>\n",
       "      <th>3</th>\n",
       "      <td>Afghanistan</td>\n",
       "      <td>1981</td>\n",
       "      <td>NaN</td>\n",
       "      <td>0.077</td>\n",
       "      <td>NaN</td>\n",
       "    </tr>\n",
       "    <tr>\n",
       "      <th>4</th>\n",
       "      <td>Afghanistan</td>\n",
       "      <td>1986</td>\n",
       "      <td>NaN</td>\n",
       "      <td>0.1831</td>\n",
       "      <td>NaN</td>\n",
       "    </tr>\n",
       "  </tbody>\n",
       "</table>\n",
       "</div>"
      ],
      "text/plain": [
       "  country_name  year health_exp pys_p1000 perc_malnourished\n",
       "0  Afghanistan  1960        NaN  0.034844               NaN\n",
       "1  Afghanistan  1965        NaN  0.063428               NaN\n",
       "2  Afghanistan  1970        NaN    0.0649               NaN\n",
       "3  Afghanistan  1981        NaN     0.077               NaN\n",
       "4  Afghanistan  1986        NaN    0.1831               NaN"
      ]
     },
     "execution_count": 18,
     "metadata": {},
     "output_type": "execute_result"
    }
   ],
   "source": [
    "ud.head()"
   ]
  },
  {
   "cell_type": "code",
   "execution_count": 19,
   "metadata": {
    "tags": []
   },
   "outputs": [
    {
     "data": {
      "text/plain": [
       "6401"
      ]
     },
     "execution_count": 19,
     "metadata": {},
     "output_type": "execute_result"
    }
   ],
   "source": [
    "len(ud)"
   ]
  },
  {
   "cell_type": "markdown",
   "metadata": {},
   "source": [
    "### Part f\n",
    "Next we are going to join the cleaned UN data with the VDem data. In a perfect world, both datasets would include a shared numeric country ID field that we can use to match countries in one dataset to countries in the other. Unfortunately the UN data identifies the countries only by name. Worse still, while there is a big overlap the two datasets cover different sets of countries.\n",
    "\n",
    "First decide whether this merge is a one-to-one, one-to-many, many-to-one, or many-to-many merge and describe your rationale in words.\n",
    "\n",
    "Then perform a test merge that checks whether your expectation that the merge is one-to-one, one-to-many, many-to-one, or many-to-many is confirmed, and reports whether each row is matched, appears only in the UN data, or appears only in the VDem data. Use the `.unique()` or `.value_counts()` method to display the names of the countries that are not matched. (2 points)"
   ]
  },
  {
   "cell_type": "markdown",
   "metadata": {},
   "source": [
    "#### Deciding type of merge\n",
    "assumption: left-ud, right vd\n",
    "\n",
    "\n",
    "I would do many-to-many because the ud data might have countries that the vd data doesn't and vice versa."
   ]
  },
  {
   "cell_type": "code",
   "execution_count": 20,
   "metadata": {
    "tags": []
   },
   "outputs": [],
   "source": [
    "testdf = pd.merge(ud, vd,\n",
    "                  on=\"country_name\",\n",
    "                  how=\"outer\",\n",
    "                  validate=\"many_to_many\",\n",
    "                  indicator=\"matched\")"
   ]
  },
  {
   "cell_type": "code",
   "execution_count": 21,
   "metadata": {
    "tags": []
   },
   "outputs": [
    {
     "data": {
      "text/plain": [
       "True"
      ]
     },
     "execution_count": 21,
     "metadata": {},
     "output_type": "execute_result"
    }
   ],
   "source": [
    "not testdf.duplicated().any()"
   ]
  },
  {
   "cell_type": "code",
   "execution_count": 22,
   "metadata": {
    "tags": []
   },
   "outputs": [
    {
     "data": {
      "text/plain": [
       "matched\n",
       "both          250774\n",
       "left_only       1462\n",
       "right_only      1220\n",
       "Name: count, dtype: int64"
      ]
     },
     "execution_count": 22,
     "metadata": {},
     "output_type": "execute_result"
    }
   ],
   "source": [
    "testdf[\"matched\"].value_counts()"
   ]
  },
  {
   "cell_type": "code",
   "execution_count": 23,
   "metadata": {
    "tags": []
   },
   "outputs": [
    {
     "data": {
      "text/plain": [
       "array(['American Samoa', 'Andorra', 'Antigua and Barbuda', 'Aruba',\n",
       "       'Bahamas, The', 'Bahrain', 'Belize', 'Bermuda',\n",
       "       'Brunei Darussalam', 'Cabo Verde', 'Cayman Islands',\n",
       "       'Channel Islands', 'Congo, Dem. Rep.', 'Congo, Rep.',\n",
       "       \"Cote d'Ivoire\", 'Dominica', 'Egypt, Arab Rep.',\n",
       "       'Equatorial Guinea', 'French Polynesia', 'Gambia, The',\n",
       "       'Greenland', 'Grenada', 'Guam', 'Hong Kong SAR, China',\n",
       "       'Iran, Islamic Rep.', 'Kiribati', 'Korea, Dem. People’s Rep.',\n",
       "       'Korea, Rep.', 'Kuwait', 'Kyrgyz Republic', 'Lao PDR',\n",
       "       'Luxembourg', 'Macao SAR, China', 'Macedonia, FYR', 'Malta',\n",
       "       'Marshall Islands', 'Micronesia, Fed. Sts.', 'Monaco', 'Myanmar',\n",
       "       'Nauru', 'New Caledonia', 'Northern Mariana Islands', 'Oman',\n",
       "       'Palau', 'Puerto Rico', 'Russian Federation', 'Samoa',\n",
       "       'San Marino', 'Singapore', 'Slovak Republic',\n",
       "       'St. Kitts and Nevis', 'St. Lucia',\n",
       "       'St. Vincent and the Grenadines', 'Syrian Arab Republic',\n",
       "       'Timor-Leste', 'Tonga', 'Tuvalu', 'United Arab Emirates',\n",
       "       'Venezuela, RB', 'Vietnam', 'Virgin Islands (U.S.)',\n",
       "       'West Bank and Gaza', 'Yemen, Rep.'], dtype=object)"
      ]
     },
     "execution_count": 23,
     "metadata": {},
     "output_type": "execute_result"
    }
   ],
   "source": [
    "## country names present in ud data that's not in vd\n",
    "testdf.query(\"matched=='left_only'\")[\"country_name\"].unique()"
   ]
  },
  {
   "cell_type": "code",
   "execution_count": 24,
   "metadata": {
    "tags": []
   },
   "outputs": [
    {
     "data": {
      "text/plain": [
       "array(['Burma_Myanmar', 'Russia', 'Egypt', 'Yemen', 'South Yemen',\n",
       "       'Vietnam_Democratic Republic of', 'Vietnam_Republic of',\n",
       "       'Korea_North', 'Korea_South', 'Kosovo', 'Taiwan', 'Venezuela',\n",
       "       'Ivory Coast', 'Cape Verde', 'East Timor', 'Iran', 'Syria',\n",
       "       'Congo_Democratic Republic of', 'Congo_Republic of the', 'Gambia',\n",
       "       'Kyrgyzstan', 'Laos', 'Palestine_West_Bank',\n",
       "       'German Democratic Republic', 'Palestine_Gaza', 'Somaliland',\n",
       "       'Macedonia', 'Slovakia'], dtype=object)"
      ]
     },
     "execution_count": 24,
     "metadata": {},
     "output_type": "execute_result"
    }
   ],
   "source": [
    "## country names present in vd data that's not in ud data\n",
    "testdf.query(\"matched=='right_only'\")[\"country_name\"].unique()"
   ]
  },
  {
   "cell_type": "code",
   "execution_count": 25,
   "metadata": {
    "tags": []
   },
   "outputs": [
    {
     "data": {
      "text/plain": [
       "253456"
      ]
     },
     "execution_count": 25,
     "metadata": {},
     "output_type": "execute_result"
    }
   ],
   "source": [
    "len(testdf)"
   ]
  },
  {
   "cell_type": "markdown",
   "metadata": {},
   "source": [
    "### Part g\n",
    "There are many unmatched rows in this merge. There are three reasons why rows failed to match:\n",
    "* Differences in geographical coverage: for example, the VDem data includes Taiwan, but the UN data does not\n",
    "* Differences in time coverage: for example, the UN data includes records for France every year from 1970 through 2014, and VDem includes rows for France from 1960 to 2012, leaving 12 rows for France without matching years\n",
    "* Differences in spelling: for example, South Korea is called \"Korea, Rep.\" in the UN data and \"Korea_South\" in the VDem data.\n",
    "\n",
    "We can't do anything about differences in geographic or temporal coverage. But we can recode some country names to account for differences in spelling and to match more rows that should match. Here is a list of differently spelled countries:\n",
    "\n",
    "* \"Burma_Myanmar\" in VDem is \"Myanmar\" in the UN data\n",
    "* \"Cape Verde\" in VDem is \"Cabo Verde\" in the UN data\n",
    "* \"Congo_Democratic Republic of\" in VDem is \"Congo, Dem. Rep.\" in the UN data\n",
    "* \"Congo_Republic of the\" in VDem is \"Congo, Rep.\" in the UN data\n",
    "* \"East Timor\" in VDem is \"Timor-Leste\" in the UN data\n",
    "* \"Egypt\" in VDem is \"Egypt, Arab Rep.\" in the UN data\n",
    "* \"Gambia\" in VDem is \"Gambia, The\" in the UN data\n",
    "* \"Iran\" in VDem is \"Iran, Islamic Rep.\" in the UN data\n",
    "* \"Ivory Coast\" in VDem is \"Cote d’Ivoire\" in the UN data\n",
    "* \"Korea_North\" in VDem is \"Korea, Dem. People’s Rep.\" in the UN data\n",
    "* \"Korea_South\" in VDem is \"Korea, Rep.\" in the UN data\n",
    "* \"Kyrgyzstan\" in VDem is \"Kyrgyz Republic\" in the UN data\n",
    "* \"Laos\" in VDem is \"Lao PDR\" in the UN data\n",
    "* \"Macedonia\" in VDem is \"Macedonia, FYR\" in the UN data\n",
    "* \"Palestine_West_Bank\" in VDem is \"West Bank and Gaza\" in the UN Data (there is also \"Palestine_Gaza\" in VDem, but since the UN combines data for the West Bank and Gaza, let's just use \"Palestine_West_Bank\" for this assignment)\n",
    "* \"Russia\" in VDem is \"Russian Federation\" in the UN data\n",
    "* \"Slovakia\" in VDem is \"Slovak Republic\" in the UN data\n",
    "* \"Syria\" in VDem is \"Syrian Arab Republic\" in the UN data\n",
    "* \"Venezuela\" in VDem is \"Venezuela, RB\" in the UN data\n",
    "* \"Vietnam_Democratic Republic of\" in VDem is \"Vietnam\" in the UN data\n",
    "* \"Yemen\" in VDem is \"Yemen, Rep.\" in the UN data\n",
    "\n",
    "Recode the country names listed above in one of the two dataframes to match the names in the other dataframe. Then perform an inner join of the two dataframes. Some rows will be dropped because of differences in coverage, but no rows will be dropped because of differences in spelling. (2 points)"
   ]
  },
  {
   "cell_type": "code",
   "execution_count": 26,
   "metadata": {
    "tags": []
   },
   "outputs": [],
   "source": [
    "redo_countries = {\n",
    "    \"Burma_Myanmar\": \"Myanmar\",\n",
    "    \"Cape Verde\": \"Cabo Verde\",\n",
    "    \"Congo_Democratic Republic of\": \"Congo, Dem. Rep.\",\n",
    "    \"Congo_Republic of the\": \"Congo, Rep.\",\n",
    "    \"East Timor\": \"Timor-Leste\",\n",
    "    \"Egypt\": \"Egypt, Arab Rep.\",\n",
    "    \"Gambia\": \"Gambia, The\",\n",
    "    \"Iran\": \"Iran, Islamic Rep.\",\n",
    "    \"Ivory Coast\": \"Cote d’Ivoire\",\n",
    "    \"Korea_North\": \"Korea, Dem. People’s Rep.\",\n",
    "    \"Korea_South\": \"Korea, Rep.\",\n",
    "    \"Kyrgyzstan\": \"Kyrgyz Republic\",\n",
    "    \"Laos\": \"Lao PDR\",\n",
    "    \"Macedonia\": \"Macedonia, FYR\",\n",
    "    \"Palestine_West_Bank\": \"West Bank and Gaza\",\n",
    "    \"Palestine_Gaza\": \"West Bank and Gaza\",\n",
    "    \"Russia\": \"Russian Federation\",\n",
    "    \"Slovakia\": \"Slovak Republic\",\n",
    "    \"Syria\": \"Syrian Arab Republic\",\n",
    "    \"Venezuela\": \"Venezuela, RB\",\n",
    "    \"Vietnam_Democratic Republic of\": \"Vietnam\",\n",
    "    \"Yemen\": \"Yemen, Rep.\"\n",
    "}"
   ]
  },
  {
   "cell_type": "code",
   "execution_count": 27,
   "metadata": {
    "tags": []
   },
   "outputs": [
    {
     "data": {
      "text/plain": [
       "array(['Mexico', 'Suriname', 'Sweden', 'Switzerland', 'Ghana',\n",
       "       'South Africa', 'Japan', 'Myanmar', 'Russian Federation',\n",
       "       'Albania', 'Egypt, Arab Rep.', 'Yemen, Rep.', 'Colombia', 'Poland',\n",
       "       'Brazil', 'United States', 'Portugal', 'El Salvador',\n",
       "       'South Yemen', 'Bangladesh', 'Bolivia', 'Haiti', 'Honduras',\n",
       "       'Mali', 'Pakistan', 'Peru', 'Senegal', 'South Sudan', 'Sudan',\n",
       "       'Vietnam', 'Vietnam_Republic of', 'Afghanistan', 'Argentina',\n",
       "       'Ethiopia', 'India', 'Kenya', 'Korea, Dem. People’s Rep.',\n",
       "       'Korea, Rep.', 'Kosovo', 'Lebanon', 'Nigeria', 'Philippines',\n",
       "       'Tanzania', 'Taiwan', 'Thailand', 'Uganda', 'Venezuela, RB',\n",
       "       'Benin', 'Bhutan', 'Burkina Faso', 'Cambodia', 'Indonesia',\n",
       "       'Mozambique', 'Nepal', 'Nicaragua', 'Niger', 'Zambia', 'Zimbabwe',\n",
       "       'Guinea', 'Cote d’Ivoire', 'Mauritania', 'Canada', 'Australia',\n",
       "       'Botswana', 'Burundi', 'Cabo Verde', 'Central African Republic',\n",
       "       'Chile', 'Costa Rica', 'Timor-Leste', 'Ecuador', 'France',\n",
       "       'Germany', 'Guatemala', 'Iran, Islamic Rep.', 'Iraq', 'Ireland',\n",
       "       'Italy', 'Jordan', 'Latvia', 'Lesotho', 'Liberia', 'Malawi',\n",
       "       'Maldives', 'Mongolia', 'Morocco', 'Netherlands', 'Panama',\n",
       "       'Papua New Guinea', 'Qatar', 'Sierra Leone', 'Spain',\n",
       "       'Syrian Arab Republic', 'Tunisia', 'Turkey', 'Ukraine',\n",
       "       'United Kingdom', 'Uruguay', 'Algeria', 'Angola', 'Armenia',\n",
       "       'Azerbaijan', 'Belarus', 'Cameroon', 'Chad', 'China',\n",
       "       'Congo, Dem. Rep.', 'Congo, Rep.', 'Djibouti',\n",
       "       'Dominican Republic', 'Eritrea', 'Gabon', 'Gambia, The', 'Georgia',\n",
       "       'Guinea-Bissau', 'Jamaica', 'Kazakhstan', 'Kyrgyz Republic',\n",
       "       'Lao PDR', 'Libya', 'Madagascar', 'Moldova', 'Namibia',\n",
       "       'West Bank and Gaza', 'Rwanda', 'Somalia', 'Sri Lanka',\n",
       "       'Swaziland', 'Tajikistan', 'Togo', 'Trinidad and Tobago',\n",
       "       'Turkmenistan', 'German Democratic Republic', 'Somaliland',\n",
       "       'Uzbekistan', 'Austria', 'Barbados', 'Belgium',\n",
       "       'Bosnia and Herzegovina', 'Bulgaria', 'Comoros', 'Croatia', 'Cuba',\n",
       "       'Cyprus', 'Czech Republic', 'Denmark', 'Estonia', 'Fiji',\n",
       "       'Finland', 'Greece', 'Guyana', 'Iceland', 'Israel', 'Lithuania',\n",
       "       'Macedonia, FYR', 'Malaysia', 'Mauritius', 'Montenegro',\n",
       "       'New Zealand', 'Norway', 'Paraguay', 'Romania',\n",
       "       'Sao Tome and Principe', 'Saudi Arabia', 'Serbia', 'Seychelles',\n",
       "       'Slovak Republic', 'Slovenia', 'Solomon Islands', 'Vanuatu',\n",
       "       'Hungary'], dtype=object)"
      ]
     },
     "execution_count": 27,
     "metadata": {},
     "output_type": "execute_result"
    }
   ],
   "source": [
    "vd.country_name = vd.country_name.replace(redo_countries)\n",
    "vd.country_name.unique()"
   ]
  },
  {
   "cell_type": "code",
   "execution_count": 28,
   "metadata": {
    "tags": []
   },
   "outputs": [],
   "source": [
    "mergedf = pd.merge(ud, vd,\n",
    "                  on=\"country_name\",\n",
    "                  how=\"inner\",\n",
    "                  validate=\"many_to_many\",\n",
    "                  indicator=\"matched\")"
   ]
  },
  {
   "cell_type": "code",
   "execution_count": 29,
   "metadata": {
    "tags": []
   },
   "outputs": [
    {
     "data": {
      "text/plain": [
       "matched\n",
       "both          280210\n",
       "left_only          0\n",
       "right_only         0\n",
       "Name: count, dtype: int64"
      ]
     },
     "execution_count": 29,
     "metadata": {},
     "output_type": "execute_result"
    }
   ],
   "source": [
    "mergedf[\"matched\"].value_counts()"
   ]
  },
  {
   "cell_type": "code",
   "execution_count": 30,
   "metadata": {
    "tags": []
   },
   "outputs": [],
   "source": [
    "mdf = pd.merge(ud, vd,\n",
    "                  on=\"country_name\",\n",
    "                  how=\"inner\")"
   ]
  },
  {
   "cell_type": "code",
   "execution_count": 31,
   "metadata": {
    "tags": []
   },
   "outputs": [
    {
     "data": {
      "text/plain": [
       "280210"
      ]
     },
     "execution_count": 31,
     "metadata": {},
     "output_type": "execute_result"
    }
   ],
   "source": [
    "len(mdf)"
   ]
  },
  {
   "cell_type": "markdown",
   "metadata": {},
   "source": [
    "## Problem 2\n",
    "[Kickstarter](https://www.kickstarter.com/) is a website in which people can pledge financial support for creative projects. Patrons are only charged if a project raises enough money to meet a pre-specified goal, and projects can offer items as \"rewards\" for patrons who contribute at particular levels. One interesting aspect of Kickstarter is the ability to [search projects by \"ending soon\"](https://www.kickstarter.com/discover/advanced?sort=end_date). If you have a few dollars to spare and want to feel like a hero, you can swoop in at the last minute to contribute enough for a project to meet its goal.\n",
    "\n",
    "Cathie So created a project on Kaggle in which she [scraped Kickstarter](https://www.kaggle.com/socathie/kickstarter-project-statistics/data?select=live.csv) and collected data on 4000 live projects (projects that were currently collecting pledges from patrons) as of October 10, 2016, at 5pm Pacific time. The data are here:"
   ]
  },
  {
   "cell_type": "code",
   "execution_count": 32,
   "metadata": {},
   "outputs": [
    {
     "data": {
      "text/html": [
       "<div>\n",
       "<style scoped>\n",
       "    .dataframe tbody tr th:only-of-type {\n",
       "        vertical-align: middle;\n",
       "    }\n",
       "\n",
       "    .dataframe tbody tr th {\n",
       "        vertical-align: top;\n",
       "    }\n",
       "\n",
       "    .dataframe thead th {\n",
       "        text-align: right;\n",
       "    }\n",
       "</style>\n",
       "<table border=\"1\" class=\"dataframe\">\n",
       "  <thead>\n",
       "    <tr style=\"text-align: right;\">\n",
       "      <th></th>\n",
       "      <th>0</th>\n",
       "      <th>1</th>\n",
       "    </tr>\n",
       "  </thead>\n",
       "  <tbody>\n",
       "    <tr>\n",
       "      <th>Unnamed: 0</th>\n",
       "      <td>0</td>\n",
       "      <td>1</td>\n",
       "    </tr>\n",
       "    <tr>\n",
       "      <th>amt.pledged</th>\n",
       "      <td>15823.0</td>\n",
       "      <td>6859.0</td>\n",
       "    </tr>\n",
       "    <tr>\n",
       "      <th>blurb</th>\n",
       "      <td>\\n'Catalysts, Explorers &amp; Secret Keepers: Wome...</td>\n",
       "      <td>\\nA unique handmade picture book for kids &amp; ar...</td>\n",
       "    </tr>\n",
       "    <tr>\n",
       "      <th>by</th>\n",
       "      <td>Museum of Science Fiction</td>\n",
       "      <td>Tyrone Wells &amp; Broken Eagle, LLC</td>\n",
       "    </tr>\n",
       "    <tr>\n",
       "      <th>country</th>\n",
       "      <td>US</td>\n",
       "      <td>US</td>\n",
       "    </tr>\n",
       "    <tr>\n",
       "      <th>currency</th>\n",
       "      <td>usd</td>\n",
       "      <td>usd</td>\n",
       "    </tr>\n",
       "    <tr>\n",
       "      <th>end.time</th>\n",
       "      <td>2016-11-01T23:59:00-04:00</td>\n",
       "      <td>2016-11-25T01:13:33-05:00</td>\n",
       "    </tr>\n",
       "    <tr>\n",
       "      <th>location</th>\n",
       "      <td>Washington, DC</td>\n",
       "      <td>Portland, OR</td>\n",
       "    </tr>\n",
       "    <tr>\n",
       "      <th>percentage.funded</th>\n",
       "      <td>186</td>\n",
       "      <td>8</td>\n",
       "    </tr>\n",
       "    <tr>\n",
       "      <th>state</th>\n",
       "      <td>DC</td>\n",
       "      <td>OR</td>\n",
       "    </tr>\n",
       "    <tr>\n",
       "      <th>title</th>\n",
       "      <td>Catalysts, Explorers &amp; Secret Keepers: Women o...</td>\n",
       "      <td>The Whatamagump (a hand-crafted story picture ...</td>\n",
       "    </tr>\n",
       "    <tr>\n",
       "      <th>type</th>\n",
       "      <td>Town</td>\n",
       "      <td>Town</td>\n",
       "    </tr>\n",
       "    <tr>\n",
       "      <th>url</th>\n",
       "      <td>/projects/1608905146/catalysts-explorers-and-s...</td>\n",
       "      <td>/projects/thewhatamagump/the-whatamagump-a-han...</td>\n",
       "    </tr>\n",
       "  </tbody>\n",
       "</table>\n",
       "</div>"
      ],
      "text/plain": [
       "                                                                   0  \\\n",
       "Unnamed: 0                                                         0   \n",
       "amt.pledged                                                  15823.0   \n",
       "blurb              \\n'Catalysts, Explorers & Secret Keepers: Wome...   \n",
       "by                                         Museum of Science Fiction   \n",
       "country                                                           US   \n",
       "currency                                                         usd   \n",
       "end.time                                   2016-11-01T23:59:00-04:00   \n",
       "location                                              Washington, DC   \n",
       "percentage.funded                                                186   \n",
       "state                                                             DC   \n",
       "title              Catalysts, Explorers & Secret Keepers: Women o...   \n",
       "type                                                            Town   \n",
       "url                /projects/1608905146/catalysts-explorers-and-s...   \n",
       "\n",
       "                                                                   1  \n",
       "Unnamed: 0                                                         1  \n",
       "amt.pledged                                                   6859.0  \n",
       "blurb              \\nA unique handmade picture book for kids & ar...  \n",
       "by                                  Tyrone Wells & Broken Eagle, LLC  \n",
       "country                                                           US  \n",
       "currency                                                         usd  \n",
       "end.time                                   2016-11-25T01:13:33-05:00  \n",
       "location                                                Portland, OR  \n",
       "percentage.funded                                                  8  \n",
       "state                                                             OR  \n",
       "title              The Whatamagump (a hand-crafted story picture ...  \n",
       "type                                                            Town  \n",
       "url                /projects/thewhatamagump/the-whatamagump-a-han...  "
      ]
     },
     "execution_count": 32,
     "metadata": {},
     "output_type": "execute_result"
    }
   ],
   "source": [
    "kickstarter = pd.read_csv(\"https://github.com/jkropko/DS-6001/raw/master/localdata/live.csv\")\n",
    "kickstarter.head(2).T"
   ]
  },
  {
   "cell_type": "markdown",
   "metadata": {},
   "source": [
    "### Part a\n",
    "Notice that the `end.time` column, the date and time at which the project stops accepting pledges, is formatted as follows:\n",
    "```\n",
    "2016-11-01T23:59:00-04:00\n",
    "```\n",
    "This formatting is \"YYYY-MM-DDThh:mm:ss-TZD\": four digits for the year, a dash, two digits for the month, another dash, and two digits for the day; the \"T\" separates the dates from the time; two digits for the hour, minute and second, separated by colons; and the time zone expressed as hours difference from Greenwich mean time (also called UTC), and -04:00 is four hours earlier than UTC, for example.\n",
    "\n",
    "But `end.time` is also currently read as a string, with `object` data type:"
   ]
  },
  {
   "cell_type": "code",
   "execution_count": 33,
   "metadata": {},
   "outputs": [
    {
     "data": {
      "text/plain": [
       "Unnamed: 0             int64\n",
       "amt.pledged          float64\n",
       "blurb                 object\n",
       "by                    object\n",
       "country               object\n",
       "currency              object\n",
       "end.time              object\n",
       "location              object\n",
       "percentage.funded      int64\n",
       "state                 object\n",
       "title                 object\n",
       "type                  object\n",
       "url                   object\n",
       "dtype: object"
      ]
     },
     "execution_count": 33,
     "metadata": {},
     "output_type": "execute_result"
    }
   ],
   "source": [
    "kickstarter.dtypes"
   ]
  },
  {
   "cell_type": "markdown",
   "metadata": {},
   "source": [
    "Convert `end.time` to a timestamp, and extract the month, day, year, hour, minute, and second of the end time. To allow the `pd.to_datetime()` function to read timezones, use the `utc=True` argument. (2 points)"
   ]
  },
  {
   "cell_type": "code",
   "execution_count": 34,
   "metadata": {
    "tags": []
   },
   "outputs": [
    {
     "data": {
      "text/plain": [
       "Unnamed: 0                    int64\n",
       "amt.pledged                 float64\n",
       "blurb                        object\n",
       "by                           object\n",
       "country                      object\n",
       "currency                     object\n",
       "end.time             datetime64[ns]\n",
       "location                     object\n",
       "percentage.funded             int64\n",
       "state                        object\n",
       "title                        object\n",
       "type                         object\n",
       "url                          object\n",
       "dtype: object"
      ]
     },
     "execution_count": 34,
     "metadata": {},
     "output_type": "execute_result"
    }
   ],
   "source": [
    "kickstarter[\"end.time\"] = pd.to_datetime(kickstarter[\"end.time\"], utc=True).dt.strftime(\"%m-%d-%Y %H:%M:%S\")\n",
    "kickstarter[\"end.time\"] = pd.to_datetime(kickstarter[\"end.time\"])\n",
    "kickstarter.dtypes"
   ]
  },
  {
   "cell_type": "code",
   "execution_count": 35,
   "metadata": {
    "tags": []
   },
   "outputs": [
    {
     "data": {
      "text/plain": [
       "0      2016-11-02 03:59:00\n",
       "1      2016-11-25 06:13:33\n",
       "2      2016-11-24 04:00:00\n",
       "3      2016-11-02 03:50:00\n",
       "4      2016-11-19 04:05:48\n",
       "               ...        \n",
       "3995   2016-11-20 06:10:00\n",
       "3996   2016-11-15 21:00:00\n",
       "3997   2016-10-30 13:36:06\n",
       "3998   2016-11-17 17:11:26\n",
       "3999   2016-12-11 05:11:01\n",
       "Name: end.time, Length: 4000, dtype: datetime64[ns]"
      ]
     },
     "execution_count": 35,
     "metadata": {},
     "output_type": "execute_result"
    }
   ],
   "source": [
    "kickstarter[\"end.time\"]"
   ]
  },
  {
   "cell_type": "markdown",
   "metadata": {},
   "source": [
    "### Part b\n",
    "Create a dataframe with one row for every ending day in the `kickstarter` data that reports the average amount pledged (`amt.pledged`) on each day. Sort the rows in descending order by average amount pledged, and display the five days with the highest averages. (2 points)"
   ]
  },
  {
   "cell_type": "code",
   "execution_count": 36,
   "metadata": {
    "tags": []
   },
   "outputs": [],
   "source": [
    "dfb = kickstarter.groupby(pd.Grouper(key='end.time', freq='D'))\\\n",
    ".agg({\"amt.pledged\":\"mean\"}).sort_values(by=\"amt.pledged\", ascending=False)"
   ]
  },
  {
   "cell_type": "code",
   "execution_count": 37,
   "metadata": {
    "tags": []
   },
   "outputs": [
    {
     "data": {
      "text/html": [
       "<div>\n",
       "<style scoped>\n",
       "    .dataframe tbody tr th:only-of-type {\n",
       "        vertical-align: middle;\n",
       "    }\n",
       "\n",
       "    .dataframe tbody tr th {\n",
       "        vertical-align: top;\n",
       "    }\n",
       "\n",
       "    .dataframe thead th {\n",
       "        text-align: right;\n",
       "    }\n",
       "</style>\n",
       "<table border=\"1\" class=\"dataframe\">\n",
       "  <thead>\n",
       "    <tr style=\"text-align: right;\">\n",
       "      <th></th>\n",
       "      <th>amt.pledged</th>\n",
       "    </tr>\n",
       "    <tr>\n",
       "      <th>end.time</th>\n",
       "      <th></th>\n",
       "    </tr>\n",
       "  </thead>\n",
       "  <tbody>\n",
       "    <tr>\n",
       "      <th>2016-12-14</th>\n",
       "      <td>47938.375000</td>\n",
       "    </tr>\n",
       "    <tr>\n",
       "      <th>2016-11-04</th>\n",
       "      <td>26975.388889</td>\n",
       "    </tr>\n",
       "    <tr>\n",
       "      <th>2016-11-11</th>\n",
       "      <td>24990.669065</td>\n",
       "    </tr>\n",
       "    <tr>\n",
       "      <th>2016-12-17</th>\n",
       "      <td>22160.230769</td>\n",
       "    </tr>\n",
       "    <tr>\n",
       "      <th>2016-11-18</th>\n",
       "      <td>21016.234043</td>\n",
       "    </tr>\n",
       "  </tbody>\n",
       "</table>\n",
       "</div>"
      ],
      "text/plain": [
       "             amt.pledged\n",
       "end.time                \n",
       "2016-12-14  47938.375000\n",
       "2016-11-04  26975.388889\n",
       "2016-11-11  24990.669065\n",
       "2016-12-17  22160.230769\n",
       "2016-11-18  21016.234043"
      ]
     },
     "execution_count": 37,
     "metadata": {},
     "output_type": "execute_result"
    }
   ],
   "source": [
    "dfb.head(5)"
   ]
  },
  {
   "cell_type": "markdown",
   "metadata": {},
   "source": [
    "### Part c\n",
    "Display the text of the longest `blurb` in the data. (2 points)"
   ]
  },
  {
   "cell_type": "code",
   "execution_count": 39,
   "metadata": {
    "tags": []
   },
   "outputs": [
    {
     "data": {
      "text/plain": [
       "2413    \\nWe are charismatic anti-rock band hailing from Winnipeg, Manitoba and we are determined to release a debut album by the summer of 2017!\\n\n",
       "Name: blurb, dtype: object"
      ]
     },
     "execution_count": 39,
     "metadata": {},
     "output_type": "execute_result"
    }
   ],
   "source": [
    "kickstarter['len'] = kickstarter.blurb.str.len()\n",
    "pd.options.display.max_colwidth = None\n",
    "kickstarter.sort_values(by = 'len', ascending = False).blurb.head(1)"
   ]
  },
  {
   "cell_type": "markdown",
   "metadata": {},
   "source": [
    "### Part d\n",
    "How many blurbs for projects with end dates between November 15, 2016 and December 7, 2016 contain the phrase \"science fiction\"? [Hint: Don't forget to make this search case-insensitive and to sort the `kickstarter` dataframe by `end.time` before setting `end.time` as the index.] (2 points)\n",
    "\n",
    "### answer\n",
    "5"
   ]
  },
  {
   "cell_type": "code",
   "execution_count": 40,
   "metadata": {
    "tags": []
   },
   "outputs": [
    {
     "data": {
      "text/html": [
       "<div>\n",
       "<style scoped>\n",
       "    .dataframe tbody tr th:only-of-type {\n",
       "        vertical-align: middle;\n",
       "    }\n",
       "\n",
       "    .dataframe tbody tr th {\n",
       "        vertical-align: top;\n",
       "    }\n",
       "\n",
       "    .dataframe thead th {\n",
       "        text-align: right;\n",
       "    }\n",
       "</style>\n",
       "<table border=\"1\" class=\"dataframe\">\n",
       "  <thead>\n",
       "    <tr style=\"text-align: right;\">\n",
       "      <th></th>\n",
       "      <th>0</th>\n",
       "      <th>214</th>\n",
       "      <th>576</th>\n",
       "      <th>604</th>\n",
       "      <th>991</th>\n",
       "    </tr>\n",
       "  </thead>\n",
       "  <tbody>\n",
       "    <tr>\n",
       "      <th>Unnamed: 0</th>\n",
       "      <td>0</td>\n",
       "      <td>214</td>\n",
       "      <td>576</td>\n",
       "      <td>604</td>\n",
       "      <td>991</td>\n",
       "    </tr>\n",
       "    <tr>\n",
       "      <th>amt.pledged</th>\n",
       "      <td>15823.0</td>\n",
       "      <td>5781.0</td>\n",
       "      <td>21364.0</td>\n",
       "      <td>5299.0</td>\n",
       "      <td>3642.0</td>\n",
       "    </tr>\n",
       "    <tr>\n",
       "      <th>blurb</th>\n",
       "      <td>\\n'Catalysts, Explorers &amp; Secret Keepers: Women of Science Fiction' is a take-home exhibit &amp; anthology by the Museum of Science Fiction.\\n</td>\n",
       "      <td>\\nLegendary science fiction authors and the makers of Takamo Universe have joined forces to transform the game universe into written word\\n</td>\n",
       "      <td>\\nSpruitje makes futuristic designs with light and living ecosystems. Inspired by 70's design, science fiction movies but mainly nature.\\n</td>\n",
       "      <td>\\nA Science Fiction film filled with entertainment and Excitement\\n#sciencefiction #popularity #magic\\n</td>\n",
       "      <td>\\nLatest Edition of Science Fiction Gaming Maps from The Adventurers Atlas. 8 New Maps, including massive desert city \\nspaceport.\\n</td>\n",
       "    </tr>\n",
       "    <tr>\n",
       "      <th>by</th>\n",
       "      <td>Museum of Science Fiction</td>\n",
       "      <td>Randy Ritnour</td>\n",
       "      <td>Spruitje</td>\n",
       "      <td>Chris</td>\n",
       "      <td>Matt Francella</td>\n",
       "    </tr>\n",
       "    <tr>\n",
       "      <th>country</th>\n",
       "      <td>US</td>\n",
       "      <td>US</td>\n",
       "      <td>NL</td>\n",
       "      <td>US</td>\n",
       "      <td>US</td>\n",
       "    </tr>\n",
       "    <tr>\n",
       "      <th>currency</th>\n",
       "      <td>usd</td>\n",
       "      <td>usd</td>\n",
       "      <td>eur</td>\n",
       "      <td>usd</td>\n",
       "      <td>usd</td>\n",
       "    </tr>\n",
       "    <tr>\n",
       "      <th>end.time</th>\n",
       "      <td>2016-11-02 03:59:00</td>\n",
       "      <td>2016-11-29 01:00:00</td>\n",
       "      <td>2016-11-18 07:31:01</td>\n",
       "      <td>2016-12-07 03:25:01</td>\n",
       "      <td>2016-10-30 17:54:26</td>\n",
       "    </tr>\n",
       "    <tr>\n",
       "      <th>location</th>\n",
       "      <td>Washington, DC</td>\n",
       "      <td>Lincoln, NE</td>\n",
       "      <td>Amsterdam, Netherlands</td>\n",
       "      <td>Chicago, IL</td>\n",
       "      <td>Hampton, VA</td>\n",
       "    </tr>\n",
       "    <tr>\n",
       "      <th>percentage.funded</th>\n",
       "      <td>186</td>\n",
       "      <td>165</td>\n",
       "      <td>28</td>\n",
       "      <td>529</td>\n",
       "      <td>72</td>\n",
       "    </tr>\n",
       "    <tr>\n",
       "      <th>state</th>\n",
       "      <td>DC</td>\n",
       "      <td>NE</td>\n",
       "      <td>North Holland</td>\n",
       "      <td>IL</td>\n",
       "      <td>VA</td>\n",
       "    </tr>\n",
       "    <tr>\n",
       "      <th>title</th>\n",
       "      <td>Catalysts, Explorers &amp; Secret Keepers: Women of SF</td>\n",
       "      <td>Kevin J. Anderson Presents Empire's Rift by Steve Rzasa</td>\n",
       "      <td>Sustainable worlds</td>\n",
       "      <td>Ralphi3 The Movie</td>\n",
       "      <td>Armored Cartographers: Desert Spaceport Invasion</td>\n",
       "    </tr>\n",
       "    <tr>\n",
       "      <th>type</th>\n",
       "      <td>Town</td>\n",
       "      <td>Town</td>\n",
       "      <td>Town</td>\n",
       "      <td>Town</td>\n",
       "      <td>Town</td>\n",
       "    </tr>\n",
       "    <tr>\n",
       "      <th>url</th>\n",
       "      <td>/projects/1608905146/catalysts-explorers-and-secret-keepers-women-of-sf?ref=discovery</td>\n",
       "      <td>/projects/takamo/kevin-j-anderson-presents-empires-rift-by-steve-rz?ref=discovery</td>\n",
       "      <td>/projects/1321031547/sustainable-worlds?ref=discovery</td>\n",
       "      <td>/projects/257483623/ralphi3-the-movie?ref=discovery</td>\n",
       "      <td>/projects/1165033900/armored-cartographers-desert-spaceport-invasion?ref=discovery</td>\n",
       "    </tr>\n",
       "    <tr>\n",
       "      <th>len</th>\n",
       "      <td>136</td>\n",
       "      <td>137</td>\n",
       "      <td>136</td>\n",
       "      <td>100</td>\n",
       "      <td>129</td>\n",
       "    </tr>\n",
       "  </tbody>\n",
       "</table>\n",
       "</div>"
      ],
      "text/plain": [
       "                                                                                                                                                          0    \\\n",
       "Unnamed: 0                                                                                                                                                  0   \n",
       "amt.pledged                                                                                                                                           15823.0   \n",
       "blurb              \\n'Catalysts, Explorers & Secret Keepers: Women of Science Fiction' is a take-home exhibit & anthology by the Museum of Science Fiction.\\n   \n",
       "by                                                                                                                                  Museum of Science Fiction   \n",
       "country                                                                                                                                                    US   \n",
       "currency                                                                                                                                                  usd   \n",
       "end.time                                                                                                                                  2016-11-02 03:59:00   \n",
       "location                                                                                                                                       Washington, DC   \n",
       "percentage.funded                                                                                                                                         186   \n",
       "state                                                                                                                                                      DC   \n",
       "title                                                                                                      Catalysts, Explorers & Secret Keepers: Women of SF   \n",
       "type                                                                                                                                                     Town   \n",
       "url                                                                     /projects/1608905146/catalysts-explorers-and-secret-keepers-women-of-sf?ref=discovery   \n",
       "len                                                                                                                                                       136   \n",
       "\n",
       "                                                                                                                                                           214  \\\n",
       "Unnamed: 0                                                                                                                                                 214   \n",
       "amt.pledged                                                                                                                                             5781.0   \n",
       "blurb              \\nLegendary science fiction authors and the makers of Takamo Universe have joined forces to transform the game universe into written word\\n   \n",
       "by                                                                                                                                               Randy Ritnour   \n",
       "country                                                                                                                                                     US   \n",
       "currency                                                                                                                                                   usd   \n",
       "end.time                                                                                                                                   2016-11-29 01:00:00   \n",
       "location                                                                                                                                           Lincoln, NE   \n",
       "percentage.funded                                                                                                                                          165   \n",
       "state                                                                                                                                                       NE   \n",
       "title                                                                                                  Kevin J. Anderson Presents Empire's Rift by Steve Rzasa   \n",
       "type                                                                                                                                                      Town   \n",
       "url                                                                          /projects/takamo/kevin-j-anderson-presents-empires-rift-by-steve-rz?ref=discovery   \n",
       "len                                                                                                                                                        137   \n",
       "\n",
       "                                                                                                                                                          576  \\\n",
       "Unnamed: 0                                                                                                                                                576   \n",
       "amt.pledged                                                                                                                                           21364.0   \n",
       "blurb              \\nSpruitje makes futuristic designs with light and living ecosystems. Inspired by 70's design, science fiction movies but mainly nature.\\n   \n",
       "by                                                                                                                                                   Spruitje   \n",
       "country                                                                                                                                                    NL   \n",
       "currency                                                                                                                                                  eur   \n",
       "end.time                                                                                                                                  2016-11-18 07:31:01   \n",
       "location                                                                                                                               Amsterdam, Netherlands   \n",
       "percentage.funded                                                                                                                                          28   \n",
       "state                                                                                                                                           North Holland   \n",
       "title                                                                                                                                      Sustainable worlds   \n",
       "type                                                                                                                                                     Town   \n",
       "url                                                                                                     /projects/1321031547/sustainable-worlds?ref=discovery   \n",
       "len                                                                                                                                                       136   \n",
       "\n",
       "                                                                                                                       604  \\\n",
       "Unnamed: 0                                                                                                             604   \n",
       "amt.pledged                                                                                                         5299.0   \n",
       "blurb              \\nA Science Fiction film filled with entertainment and Excitement\\n#sciencefiction #popularity #magic\\n   \n",
       "by                                                                                                                   Chris   \n",
       "country                                                                                                                 US   \n",
       "currency                                                                                                               usd   \n",
       "end.time                                                                                               2016-12-07 03:25:01   \n",
       "location                                                                                                       Chicago, IL   \n",
       "percentage.funded                                                                                                      529   \n",
       "state                                                                                                                   IL   \n",
       "title                                                                                                    Ralphi3 The Movie   \n",
       "type                                                                                                                  Town   \n",
       "url                                                                    /projects/257483623/ralphi3-the-movie?ref=discovery   \n",
       "len                                                                                                                    100   \n",
       "\n",
       "                                                                                                                                                    991  \n",
       "Unnamed: 0                                                                                                                                          991  \n",
       "amt.pledged                                                                                                                                      3642.0  \n",
       "blurb              \\nLatest Edition of Science Fiction Gaming Maps from The Adventurers Atlas. 8 New Maps, including massive desert city \\nspaceport.\\n  \n",
       "by                                                                                                                                       Matt Francella  \n",
       "country                                                                                                                                              US  \n",
       "currency                                                                                                                                            usd  \n",
       "end.time                                                                                                                            2016-10-30 17:54:26  \n",
       "location                                                                                                                                    Hampton, VA  \n",
       "percentage.funded                                                                                                                                    72  \n",
       "state                                                                                                                                                VA  \n",
       "title                                                                                                  Armored Cartographers: Desert Spaceport Invasion  \n",
       "type                                                                                                                                               Town  \n",
       "url                                                                  /projects/1165033900/armored-cartographers-desert-spaceport-invasion?ref=discovery  \n",
       "len                                                                                                                                                 129  "
      ]
     },
     "execution_count": 40,
     "metadata": {},
     "output_type": "execute_result"
    }
   ],
   "source": [
    "# kickstarter.head(2).T\n",
    "scifi = kickstarter[kickstarter[\"blurb\"].str.lower().str.contains(\"science fiction\")]\n",
    "scifi.head().T"
   ]
  },
  {
   "cell_type": "code",
   "execution_count": 41,
   "metadata": {
    "tags": []
   },
   "outputs": [],
   "source": [
    "scifi.columns = ['Unnamed: 0', 'amt.pledged', 'blurb', 'by', 'country', 'currency',\n",
    "       'end_time', 'location', 'percentage.funded', 'state', 'title', 'type',\n",
    "       'url', 'len']"
   ]
  },
  {
   "cell_type": "code",
   "execution_count": 42,
   "metadata": {
    "tags": []
   },
   "outputs": [
    {
     "data": {
      "text/plain": [
       "end_time\n",
       "2016-11-02 03:59:00    1\n",
       "2016-11-29 01:00:00    1\n",
       "2016-11-18 07:31:01    1\n",
       "2016-12-07 03:25:01    1\n",
       "2016-10-30 17:54:26    1\n",
       "2016-12-23 04:19:54    1\n",
       "2016-10-30 17:21:58    1\n",
       "2016-11-06 21:18:56    1\n",
       "2016-11-12 00:59:09    1\n",
       "2016-11-30 22:00:00    1\n",
       "2016-10-31 22:59:00    1\n",
       "2016-11-18 06:15:00    1\n",
       "2016-11-17 19:57:17    1\n",
       "Name: count, dtype: int64"
      ]
     },
     "execution_count": 42,
     "metadata": {},
     "output_type": "execute_result"
    }
   ],
   "source": [
    "scifi.end_time.value_counts()"
   ]
  },
  {
   "cell_type": "code",
   "execution_count": 43,
   "metadata": {
    "tags": []
   },
   "outputs": [
    {
     "data": {
      "text/plain": [
       "13"
      ]
     },
     "execution_count": 43,
     "metadata": {},
     "output_type": "execute_result"
    }
   ],
   "source": [
    "len(scifi)"
   ]
  },
  {
   "cell_type": "code",
   "execution_count": 44,
   "metadata": {
    "tags": []
   },
   "outputs": [],
   "source": [
    "proj = scifi.query(\"'2016-11-15' <= end_time <= '2016-12-07'\")"
   ]
  },
  {
   "cell_type": "code",
   "execution_count": 45,
   "metadata": {
    "tags": []
   },
   "outputs": [
    {
     "data": {
      "text/plain": [
       "3406   2016-11-17 19:57:17\n",
       "3386   2016-11-18 06:15:00\n",
       "576    2016-11-18 07:31:01\n",
       "214    2016-11-29 01:00:00\n",
       "2500   2016-11-30 22:00:00\n",
       "Name: end_time, dtype: datetime64[ns]"
      ]
     },
     "execution_count": 45,
     "metadata": {},
     "output_type": "execute_result"
    }
   ],
   "source": [
    "proj.end_time.sort_values()"
   ]
  },
  {
   "cell_type": "code",
   "execution_count": 46,
   "metadata": {
    "tags": []
   },
   "outputs": [
    {
     "data": {
      "text/plain": [
       "5"
      ]
     },
     "execution_count": 46,
     "metadata": {},
     "output_type": "execute_result"
    }
   ],
   "source": [
    "len(proj)"
   ]
  },
  {
   "cell_type": "code",
   "execution_count": null,
   "metadata": {},
   "outputs": [],
   "source": []
  }
 ],
 "metadata": {
  "kernelspec": {
   "display_name": "Python 3 (ipykernel)",
   "language": "python",
   "name": "python3"
  },
  "language_info": {
   "codemirror_mode": {
    "name": "ipython",
    "version": 3
   },
   "file_extension": ".py",
   "mimetype": "text/x-python",
   "name": "python",
   "nbconvert_exporter": "python",
   "pygments_lexer": "ipython3",
   "version": "3.10.9"
  }
 },
 "nbformat": 4,
 "nbformat_minor": 4
}
