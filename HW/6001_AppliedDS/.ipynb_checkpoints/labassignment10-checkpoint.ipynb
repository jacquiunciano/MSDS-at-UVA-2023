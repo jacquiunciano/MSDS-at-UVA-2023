{
 "cells": [
  {
   "cell_type": "markdown",
   "metadata": {},
   "source": [
    "# Lab Assignment 10: Exploratory Data Analysis, Part 1\n",
    "## DS 6001: Practice and Application of Data Science\n",
    "\n",
    "### Instructions\n",
    "Please answer the following questions as completely as possible using text, code, and the results of code as needed. Format your answers in a Jupyter notebook. To receive full credit, make sure you address every part of the problem, and make sure your document is formatted in a clean and professional way.\n",
    "\n",
    "In this lab, you will be working with the 2018 [General Social Survey (GSS)](http://www.gss.norc.org/). The GSS is a sociological survey created and regularly collected since 1972 by the National Opinion Research Center at the University of Chicago. It is funded by the National Science Foundation. The GSS collects information and keeps a historical record of the concerns, experiences, attitudes, and practices of residents of the United States, and it is one of the most important data sources for the social sciences. \n",
    "\n",
    "The data includes features that measure concepts that are notoriously difficult to ask about directly, such as religion, racism, and sexism. The data also include many different metrics of how successful a person is in his or her profession, including income, socioeconomic status, and occupational prestige. These occupational prestige scores are coded separately by the GSS.  The full description of their methodology for measuring prestige is available here: http://gss.norc.org/Documents/reports/methodological-reports/MR122%20Occupational%20Prestige.pdf Here's a quote to give you an idea about how these scores are calculated:\n",
    "\n",
    "> Respondents then were given small cards which each had a single occupational titles listed on it. Cards were in English or Spanish. They were given one card at a time in the preordained order. The interviewer then asked the respondent to \"please put the card in the box at the top of the ladder if you think that occupation has the highest possible social standing. Put it in the box of the bottom of the ladder if you think it has the lowest possible social standing. If it belongs somewhere in between, just put it in the box that matches the social standing of the occupation.\"\n",
    "\n",
    "The prestige scores are calculated from the aggregated rankings according to the method described above."
   ]
  },
  {
   "cell_type": "markdown",
   "metadata": {},
   "source": [
    "### Problem 0\n",
    "Import the following packages:"
   ]
  },
  {
   "cell_type": "code",
   "execution_count": 1,
   "metadata": {
    "tags": []
   },
   "outputs": [
    {
     "name": "stderr",
     "output_type": "stream",
     "text": [
      "C:\\Users\\jacqu\\AppData\\Local\\Temp\\ipykernel_14080\\3521480416.py:9: DeprecationWarning: `import pandas_profiling` is going to be deprecated by April 1st. Please use `import ydata_profiling` instead.\n",
      "  from pandas_profiling import ProfileReport\n"
     ]
    }
   ],
   "source": [
    "import numpy as np\n",
    "import pandas as pd\n",
    "import sidetable\n",
    "import weighted # this is a module of wquantiles, so type pip install wquantiles or conda install wquantiles to get access to it\n",
    "from scipy import stats \n",
    "from sklearn import manifold\n",
    "from sklearn import metrics\n",
    "import prince\n",
    "from pandas_profiling import ProfileReport\n",
    "pd.options.display.max_columns = None"
   ]
  },
  {
   "cell_type": "markdown",
   "metadata": {},
   "source": [
    "Then load the GSS data with the following code:"
   ]
  },
  {
   "cell_type": "code",
   "execution_count": 2,
   "metadata": {
    "tags": []
   },
   "outputs": [],
   "source": [
    "%%capture\n",
    "gss = pd.read_csv(\"https://github.com/jkropko/DS-6001/raw/master/localdata/gss2018.csv\",\n",
    "                 encoding='cp1252', na_values=['IAP','IAP,DK,NA,uncodeable', 'NOT SURE',\n",
    "                                               'DK', 'IAP, DK, NA, uncodeable', '.a', \"CAN'T CHOOSE\"])"
   ]
  },
  {
   "cell_type": "markdown",
   "metadata": {},
   "source": [
    "### Problem 1\n",
    "Drop all columns except for the following:\n",
    "* `id` - a numeric unique ID for each person who responded to the survey\n",
    "* `wtss` - survey sample weights\n",
    "* `sex` - male or female\n",
    "* `educ` - years of formal education\n",
    "* `region` - region of the country where the respondent lives\n",
    "* `age` - age\n",
    "* `coninc` - the respondent's personal annual income\n",
    "* `prestg10` - the respondent's occupational prestige score, as measured by the GSS using the methodology described above\n",
    "* `mapres10` - the respondent's mother's occupational prestige score, as measured by the GSS using the methodology described above\n",
    "* `papres10` -the respondent's father's occupational prestige score, as measured by the GSS using the methodology described above\n",
    "* `sei10` - an index measuring the respondent's socioeconomic status\n",
    "* `satjob` - responses to \"On the whole, how satisfied are you with the work you do?\"\n",
    "* `fechld` - agree or disagree with: \"A working mother can establish just as warm and secure a relationship with her children as a mother who does not work.\"\n",
    "* `fefam` - agree or disagree with: \"It is much better for everyone involved if the man is the achiever outside the home and the woman takes care of the home and family.\"\n",
    "* `fepol` - agree or disagree with: \"Most men are better suited emotionally for politics than are most women.\"\n",
    "* `fepresch` - agree or disagree with: \"A preschool child is likely to suffer if his or her mother works.\"\n",
    "* `meovrwrk` - agree or disagree with: \"Family life often suffers because men concentrate too much on their work.\"\n",
    "\n",
    "Then rename any columns with names that are non-intuitive to you to more intuitive and descriptive ones. Finally, replace the \"89 or older\" values of `age` with 89, and convert `age` to a float data type. [1 point]"
   ]
  },
  {
   "cell_type": "code",
   "execution_count": 3,
   "metadata": {
    "tags": []
   },
   "outputs": [
    {
     "data": {
      "text/html": [
       "<div>\n",
       "<style scoped>\n",
       "    .dataframe tbody tr th:only-of-type {\n",
       "        vertical-align: middle;\n",
       "    }\n",
       "\n",
       "    .dataframe tbody tr th {\n",
       "        vertical-align: top;\n",
       "    }\n",
       "\n",
       "    .dataframe thead th {\n",
       "        text-align: right;\n",
       "    }\n",
       "</style>\n",
       "<table border=\"1\" class=\"dataframe\">\n",
       "  <thead>\n",
       "    <tr style=\"text-align: right;\">\n",
       "      <th></th>\n",
       "      <th>id</th>\n",
       "      <th>wtss</th>\n",
       "      <th>sex</th>\n",
       "      <th>educ</th>\n",
       "      <th>region</th>\n",
       "      <th>age</th>\n",
       "      <th>coninc</th>\n",
       "      <th>prestg10</th>\n",
       "      <th>mapres10</th>\n",
       "      <th>papres10</th>\n",
       "      <th>sei10</th>\n",
       "      <th>satjob</th>\n",
       "      <th>fechld</th>\n",
       "      <th>fefam</th>\n",
       "      <th>fepol</th>\n",
       "      <th>fepresch</th>\n",
       "      <th>meovrwrk</th>\n",
       "    </tr>\n",
       "  </thead>\n",
       "  <tbody>\n",
       "    <tr>\n",
       "      <th>0</th>\n",
       "      <td>1</td>\n",
       "      <td>2.357493</td>\n",
       "      <td>male</td>\n",
       "      <td>14.0</td>\n",
       "      <td>new england</td>\n",
       "      <td>43</td>\n",
       "      <td>NaN</td>\n",
       "      <td>47.0</td>\n",
       "      <td>31.0</td>\n",
       "      <td>45.0</td>\n",
       "      <td>65.3</td>\n",
       "      <td>very satisfied</td>\n",
       "      <td>strongly agree</td>\n",
       "      <td>disagree</td>\n",
       "      <td>agree</td>\n",
       "      <td>strongly disagree</td>\n",
       "      <td>agree</td>\n",
       "    </tr>\n",
       "    <tr>\n",
       "      <th>1</th>\n",
       "      <td>2</td>\n",
       "      <td>0.942997</td>\n",
       "      <td>female</td>\n",
       "      <td>10.0</td>\n",
       "      <td>new england</td>\n",
       "      <td>74</td>\n",
       "      <td>22782.5</td>\n",
       "      <td>22.0</td>\n",
       "      <td>32.0</td>\n",
       "      <td>39.0</td>\n",
       "      <td>14.8</td>\n",
       "      <td>NaN</td>\n",
       "      <td>NaN</td>\n",
       "      <td>NaN</td>\n",
       "      <td>NaN</td>\n",
       "      <td>NaN</td>\n",
       "      <td>NaN</td>\n",
       "    </tr>\n",
       "  </tbody>\n",
       "</table>\n",
       "</div>"
      ],
      "text/plain": [
       "   id      wtss     sex  educ       region age   coninc  prestg10  mapres10  \\\n",
       "0   1  2.357493    male  14.0  new england  43      NaN      47.0      31.0   \n",
       "1   2  0.942997  female  10.0  new england  74  22782.5      22.0      32.0   \n",
       "\n",
       "   papres10  sei10          satjob          fechld     fefam  fepol  \\\n",
       "0      45.0   65.3  very satisfied  strongly agree  disagree  agree   \n",
       "1      39.0   14.8             NaN             NaN       NaN    NaN   \n",
       "\n",
       "            fepresch meovrwrk  \n",
       "0  strongly disagree    agree  \n",
       "1                NaN      NaN  "
      ]
     },
     "execution_count": 3,
     "metadata": {},
     "output_type": "execute_result"
    }
   ],
   "source": [
    "gss = gss.loc[:,[\"id\", \"wtss\", \"sex\", \n",
    "              \"educ\", \"region\", \"age\",\n",
    "              \"coninc\", \"prestg10\", \"mapres10\",\n",
    "              \"papres10\", \"sei10\", \"satjob\",\n",
    "              \"fechld\", \"fefam\", \"fepol\", \n",
    "              \"fepresch\", \"meovrwrk\"]]\n",
    "gss.head(2)"
   ]
  },
  {
   "cell_type": "code",
   "execution_count": 4,
   "metadata": {
    "tags": []
   },
   "outputs": [],
   "source": [
    "gss.columns = ['id', 'samp_wt', 'sex', 'educ', 'region', 'age', 'annual_income', 'pres10',\n",
    "       'mapres10', 'papres10', 'socecon', 'satjob', 'sahm_con', 'trad_household', 'trad_poli',\n",
    "       'sahm_preschool', 'abs_father']"
   ]
  },
  {
   "cell_type": "code",
   "execution_count": 5,
   "metadata": {
    "tags": []
   },
   "outputs": [
    {
     "data": {
      "text/plain": [
       "array(['43', '74', '42', '63', '71', '67', '59', '62', '55', '34', '61',\n",
       "       '44', '41', '75', '30', '40', '29', '37', '56', '82', '68', '20',\n",
       "       '89 or older', '60', '65', '45', '50', '52', '46', '53', '22',\n",
       "       '33', '23', '28', '27', '64', '79', '32', '35', '21', '47', '70',\n",
       "       '77', '69', '48', '81', '78', '54', '58', '76', '39', '38', '25',\n",
       "       '49', '18', '19', '26', '57', '51', '36', '72', '24', '88', '66',\n",
       "       '84', '80', '31', '83', '73', '86', nan, '85', '87'], dtype=object)"
      ]
     },
     "execution_count": 5,
     "metadata": {},
     "output_type": "execute_result"
    }
   ],
   "source": [
    "gss.age.unique()"
   ]
  },
  {
   "cell_type": "code",
   "execution_count": 6,
   "metadata": {
    "tags": []
   },
   "outputs": [
    {
     "data": {
      "text/plain": [
       "array([43., 74., 42., 63., 71., 67., 59., 62., 55., 34., 61., 44., 41.,\n",
       "       75., 30., 40., 29., 37., 56., 82., 68., 20., 89., 60., 65., 45.,\n",
       "       50., 52., 46., 53., 22., 33., 23., 28., 27., 64., 79., 32., 35.,\n",
       "       21., 47., 70., 77., 69., 48., 81., 78., 54., 58., 76., 39., 38.,\n",
       "       25., 49., 18., 19., 26., 57., 51., 36., 72., 24., 88., 66., 84.,\n",
       "       80., 31., 83., 73., 86., nan, 85., 87.])"
      ]
     },
     "execution_count": 6,
     "metadata": {},
     "output_type": "execute_result"
    }
   ],
   "source": [
    "gss.age = gss.age.replace('89 or older', '89').astype(float)\n",
    "gss.age.unique()"
   ]
  },
  {
   "cell_type": "markdown",
   "metadata": {},
   "source": [
    "### Problem 2\n",
    "#### Part a\n",
    "Use the `ProfileReport()` function to generate and embed an HTML formatted exploratory data analysis report in your notebook. Make sure that it includes a \"Correlations\" report along with \"Overview\" and \"Variables\". [1 point]"
   ]
  },
  {
   "cell_type": "markdown",
   "metadata": {
    "tags": []
   },
   "source": [
    "prof = ProfileReport(gss, \n",
    "                       title = 'General Social Survey EDA',\n",
    "                       html = {'style': {'full_width': True}},\n",
    "                       minimal = False)\n",
    "prof.to_notebook_iframe()"
   ]
  },
  {
   "cell_type": "markdown",
   "metadata": {},
   "source": [
    "#### Part b\n",
    "Looking through the HTML report you displayed in part a, how many people in the data are from New England? [1 point]"
   ]
  },
  {
   "cell_type": "markdown",
   "metadata": {},
   "source": [
    "#### Answer\n",
    "124 ppl or 5.3% of the ppl responding have selected New England as their region."
   ]
  },
  {
   "cell_type": "markdown",
   "metadata": {},
   "source": [
    "#### Part c\n",
    "Looking through the HTML report you displayed in part a, which feature in the data has the highest number of missing values, and what percent of the values are missing for this feature? [1 point]"
   ]
  },
  {
   "cell_type": "markdown",
   "metadata": {},
   "source": [
    "#### Answer\n",
    "The trad_poli feature has the highest number of missing values with 36.2% of the values missing."
   ]
  },
  {
   "cell_type": "markdown",
   "metadata": {},
   "source": [
    "#### Part d\n",
    "Looking through the HTML report you displayed in part a, which two distinct features in the data have the highest correlation? [1 point]"
   ]
  },
  {
   "cell_type": "markdown",
   "metadata": {},
   "source": [
    "#### Answer\n",
    "The two features, socecon and pres10, have the highest correlation."
   ]
  },
  {
   "cell_type": "markdown",
   "metadata": {},
   "source": [
    "### Problem 3\n",
    "On a primetime show on a 24-hour cable news network, two unpleasant-looking men in suits sit across a table from each other, scowling. One says \"This economy is failing the middle-class. The average American today is making less than \\\\$48,000 a year.\" The other screams \"Fake news! The typical American makes more than \\$55,000 a year!\" Explain, using words and code, how the data can support both of their arguments. Use the sample weights to calculate descriptive statistics that are more representative of the American adult population as a whole. [1 point]"
   ]
  },
  {
   "cell_type": "markdown",
   "metadata": {},
   "source": [
    "#### Answer"
   ]
  },
  {
   "cell_type": "markdown",
   "metadata": {},
   "source": [
    "For the first man, \"This economy is failing the middle-class. The average American today is making less than $48,000 a year.\":"
   ]
  },
  {
   "cell_type": "code",
   "execution_count": 15,
   "metadata": {
    "tags": []
   },
   "outputs": [
    {
     "data": {
      "text/plain": [
       "46657.47656697627"
      ]
     },
     "execution_count": 15,
     "metadata": {},
     "output_type": "execute_result"
    }
   ],
   "source": [
    "stats.trim_mean(gss[\"annual_income\"].dropna(), 0.05)"
   ]
  },
  {
   "cell_type": "markdown",
   "metadata": {},
   "source": [
    "If we calculate the mean excluding the top 5% and bottom 5% (theoretically excluding the extremely rich and poor and theoretically emcompasses the 'average American' supposedly represented in the dataset), it shows that the 'average American' is making about 46K-47K USD annually, which would support the first man's statement."
   ]
  },
  {
   "cell_type": "markdown",
   "metadata": {},
   "source": [
    "For the second man, \"Fake news! The typical American makes more than $55,000 a year!\":"
   ]
  },
  {
   "cell_type": "code",
   "execution_count": 31,
   "metadata": {
    "tags": []
   },
   "outputs": [
    {
     "data": {
      "text/plain": [
       "55158.96280421564"
      ]
     },
     "execution_count": 31,
     "metadata": {},
     "output_type": "execute_result"
    }
   ],
   "source": [
    "# df.groupby(df.index).apply(lambda x: np.average(x.wt, weights=x.value))\n",
    "np.average(gss.annual_income.dropna(), weights=gss.dropna(subset='annual_income').samp_wt)"
   ]
  },
  {
   "cell_type": "markdown",
   "metadata": {},
   "source": [
    "If we calculate the mean based on the weight of the sample, then we can have a more balanced/representative view of the average annual income. Calculating the average annual income using sample weights can allow us to balance out groups that are either over represented or underepresented. It shows that the 'average AMerican' is making about 55-56k USD annually, which would support the second man's statement."
   ]
  },
  {
   "cell_type": "markdown",
   "metadata": {},
   "source": [
    "### Problem 4\n",
    "For each of the following parts, \n",
    "* generate a table that provides evidence about the relationship between the two features in the data that are relevant to each question, \n",
    "* interpret the table in words, \n",
    "* use a hypothesis test to assess the strength of the evidence in the table, \n",
    "* and provide a **specific and accurate** intepretation of the $p$-value associated with this hypothesis test beyond \"significant or not\". \n",
    "\n",
    "#### Part a\n",
    "Is there a gender wage gap? That is, is there a difference between the average incomes of men and women? [2 points]"
   ]
  },
  {
   "cell_type": "code",
   "execution_count": 70,
   "metadata": {
    "tags": []
   },
   "outputs": [
    {
     "data": {
      "text/html": [
       "<div>\n",
       "<style scoped>\n",
       "    .dataframe tbody tr th:only-of-type {\n",
       "        vertical-align: middle;\n",
       "    }\n",
       "\n",
       "    .dataframe tbody tr th {\n",
       "        vertical-align: top;\n",
       "    }\n",
       "\n",
       "    .dataframe thead th {\n",
       "        text-align: right;\n",
       "    }\n",
       "</style>\n",
       "<table border=\"1\" class=\"dataframe\">\n",
       "  <thead>\n",
       "    <tr style=\"text-align: right;\">\n",
       "      <th></th>\n",
       "      <th>annual_income</th>\n",
       "    </tr>\n",
       "    <tr>\n",
       "      <th>sex</th>\n",
       "      <th></th>\n",
       "    </tr>\n",
       "  </thead>\n",
       "  <tbody>\n",
       "    <tr>\n",
       "      <th>female</th>\n",
       "      <td>47191.021452</td>\n",
       "    </tr>\n",
       "    <tr>\n",
       "      <th>male</th>\n",
       "      <td>53314.626187</td>\n",
       "    </tr>\n",
       "  </tbody>\n",
       "</table>\n",
       "</div>"
      ],
      "text/plain": [
       "        annual_income\n",
       "sex                  \n",
       "female   47191.021452\n",
       "male     53314.626187"
      ]
     },
     "execution_count": 70,
     "metadata": {},
     "output_type": "execute_result"
    }
   ],
   "source": [
    "## table\n",
    "gss.groupby('sex').agg({'annual_income':'mean'})"
   ]
  },
  {
   "cell_type": "markdown",
   "metadata": {},
   "source": [
    "#### Interpretation\n",
    "If we look at the average anuual income for females and compare it to male average income, there seems to be a difference between incomes. Females seem to earn a lower income compared to males, providing support that there is probably a gender wage gap."
   ]
  },
  {
   "cell_type": "code",
   "execution_count": 74,
   "metadata": {
    "tags": []
   },
   "outputs": [
    {
     "data": {
      "text/plain": [
       "TtestResult(statistic=-3.332824087618215, pvalue=0.0008749557881530089, df=2053.1579577339658)"
      ]
     },
     "execution_count": 74,
     "metadata": {},
     "output_type": "execute_result"
    }
   ],
   "source": [
    "#hypo test\n",
    "anovat = gss[[\"sex\", \"annual_income\"]].dropna()\n",
    "stats.ttest_ind(anovat.annual_income[anovat.sex=='female'], \n",
    "                anovat.annual_income[anovat.sex=='male'],\n",
    "               equal_var=False)"
   ]
  },
  {
   "cell_type": "markdown",
   "metadata": {},
   "source": [
    "#### Interpretation of p-val, 0.0008749557881530089\n",
    "H0: The difference between wages is not different based on gender\n",
    "\n",
    "HA: The difference between wages is different based on gender\n",
    "\n",
    "Conclusion: There is enough evidence to suggest that there is a statistically significant difference in wage between genders. That means that the probability of encountering a sample where the wages between gender are statistically equal (close enough to not matter) is very small. "
   ]
  },
  {
   "cell_type": "markdown",
   "metadata": {},
   "source": [
    "#### Part b\n",
    "Are there different average values of occupational prestige for different levels of job satisfaction? [2 points]"
   ]
  },
  {
   "cell_type": "code",
   "execution_count": 78,
   "metadata": {
    "tags": []
   },
   "outputs": [
    {
     "data": {
      "text/html": [
       "<div>\n",
       "<style scoped>\n",
       "    .dataframe tbody tr th:only-of-type {\n",
       "        vertical-align: middle;\n",
       "    }\n",
       "\n",
       "    .dataframe tbody tr th {\n",
       "        vertical-align: top;\n",
       "    }\n",
       "\n",
       "    .dataframe thead th {\n",
       "        text-align: right;\n",
       "    }\n",
       "</style>\n",
       "<table border=\"1\" class=\"dataframe\">\n",
       "  <thead>\n",
       "    <tr style=\"text-align: right;\">\n",
       "      <th></th>\n",
       "      <th>pres10</th>\n",
       "    </tr>\n",
       "    <tr>\n",
       "      <th>satjob</th>\n",
       "      <th></th>\n",
       "    </tr>\n",
       "  </thead>\n",
       "  <tbody>\n",
       "    <tr>\n",
       "      <th>a little dissat</th>\n",
       "      <td>40.946429</td>\n",
       "    </tr>\n",
       "    <tr>\n",
       "      <th>mod. satisfied</th>\n",
       "      <td>42.589984</td>\n",
       "    </tr>\n",
       "    <tr>\n",
       "      <th>very dissatisfied</th>\n",
       "      <td>43.000000</td>\n",
       "    </tr>\n",
       "    <tr>\n",
       "      <th>very satisfied</th>\n",
       "      <td>46.189320</td>\n",
       "    </tr>\n",
       "  </tbody>\n",
       "</table>\n",
       "</div>"
      ],
      "text/plain": [
       "                      pres10\n",
       "satjob                      \n",
       "a little dissat    40.946429\n",
       "mod. satisfied     42.589984\n",
       "very dissatisfied  43.000000\n",
       "very satisfied     46.189320"
      ]
     },
     "execution_count": 78,
     "metadata": {},
     "output_type": "execute_result"
    }
   ],
   "source": [
    "gss.groupby('satjob').agg({'pres10':'mean'})"
   ]
  },
  {
   "cell_type": "markdown",
   "metadata": {},
   "source": [
    "#### Interpretation\n",
    "If we look at the average prestige score between levels of job satisfaction, there seems to be a difference between scores. This provides support that there may be differences between prestige scores and satisfaction levels."
   ]
  },
  {
   "cell_type": "code",
   "execution_count": 79,
   "metadata": {
    "tags": []
   },
   "outputs": [
    {
     "data": {
      "text/plain": [
       "F_onewayResult(statistic=12.205403153509732, pvalue=6.676686425029878e-08)"
      ]
     },
     "execution_count": 79,
     "metadata": {},
     "output_type": "execute_result"
    }
   ],
   "source": [
    "# hypo test\n",
    "stats.f_oneway(gss.query(\"satjob=='a little dissat'\").pres10.dropna(),\n",
    "               gss.query(\"satjob=='mod. satisfied'\").pres10.dropna(),\n",
    "               gss.query(\"satjob=='very dissatisfied'\").pres10.dropna(),\n",
    "              gss.query(\"satjob=='very satisfied'\").pres10.dropna())"
   ]
  },
  {
   "cell_type": "markdown",
   "metadata": {},
   "source": [
    "#### Interpretation of p-val, 6.676686425029878e-08\n",
    "H0: The difference between prestige is not different based on job satisfaction level\n",
    "\n",
    "HA: The difference between prestige is different based on job satisfaction level\n",
    "\n",
    "Conclusion: There is enough evidence to suggest that there is a statistically significant difference in prestige between job satisfaction levels. That means that the probability of encountering a sample where the presitge between levels are statistically equal (close enough to not matter) is very small. "
   ]
  },
  {
   "cell_type": "markdown",
   "metadata": {},
   "source": [
    "### Problem 5\n",
    "Report the Pearson's correlation between years of education, socioeconomic status, income, occupational prestige, and a person's mother's and father's occupational prestige? Then perform a hypothesis test for the correlation between years of education and socioeconomic status and provide a **specific and accurate** intepretation of the $p$-value associated with this hypothesis test beyond \"significant or not\". [2 points]"
   ]
  },
  {
   "cell_type": "code",
   "execution_count": 81,
   "metadata": {
    "tags": []
   },
   "outputs": [
    {
     "data": {
      "text/html": [
       "<div>\n",
       "<style scoped>\n",
       "    .dataframe tbody tr th:only-of-type {\n",
       "        vertical-align: middle;\n",
       "    }\n",
       "\n",
       "    .dataframe tbody tr th {\n",
       "        vertical-align: top;\n",
       "    }\n",
       "\n",
       "    .dataframe thead th {\n",
       "        text-align: right;\n",
       "    }\n",
       "</style>\n",
       "<table border=\"1\" class=\"dataframe\">\n",
       "  <thead>\n",
       "    <tr style=\"text-align: right;\">\n",
       "      <th></th>\n",
       "      <th>educ</th>\n",
       "      <th>socecon</th>\n",
       "      <th>annual_income</th>\n",
       "      <th>pres10</th>\n",
       "      <th>mapres10</th>\n",
       "      <th>papres10</th>\n",
       "    </tr>\n",
       "  </thead>\n",
       "  <tbody>\n",
       "    <tr>\n",
       "      <th>educ</th>\n",
       "      <td>1.000000</td>\n",
       "      <td>0.558169</td>\n",
       "      <td>0.389245</td>\n",
       "      <td>0.479933</td>\n",
       "      <td>0.269115</td>\n",
       "      <td>0.261417</td>\n",
       "    </tr>\n",
       "    <tr>\n",
       "      <th>socecon</th>\n",
       "      <td>0.558169</td>\n",
       "      <td>1.000000</td>\n",
       "      <td>0.417210</td>\n",
       "      <td>0.835515</td>\n",
       "      <td>0.203486</td>\n",
       "      <td>0.210451</td>\n",
       "    </tr>\n",
       "    <tr>\n",
       "      <th>annual_income</th>\n",
       "      <td>0.389245</td>\n",
       "      <td>0.417210</td>\n",
       "      <td>1.000000</td>\n",
       "      <td>0.340995</td>\n",
       "      <td>0.164881</td>\n",
       "      <td>0.171048</td>\n",
       "    </tr>\n",
       "    <tr>\n",
       "      <th>pres10</th>\n",
       "      <td>0.479933</td>\n",
       "      <td>0.835515</td>\n",
       "      <td>0.340995</td>\n",
       "      <td>1.000000</td>\n",
       "      <td>0.189262</td>\n",
       "      <td>0.192180</td>\n",
       "    </tr>\n",
       "    <tr>\n",
       "      <th>mapres10</th>\n",
       "      <td>0.269115</td>\n",
       "      <td>0.203486</td>\n",
       "      <td>0.164881</td>\n",
       "      <td>0.189262</td>\n",
       "      <td>1.000000</td>\n",
       "      <td>0.235750</td>\n",
       "    </tr>\n",
       "    <tr>\n",
       "      <th>papres10</th>\n",
       "      <td>0.261417</td>\n",
       "      <td>0.210451</td>\n",
       "      <td>0.171048</td>\n",
       "      <td>0.192180</td>\n",
       "      <td>0.235750</td>\n",
       "      <td>1.000000</td>\n",
       "    </tr>\n",
       "  </tbody>\n",
       "</table>\n",
       "</div>"
      ],
      "text/plain": [
       "                   educ   socecon  annual_income    pres10  mapres10  papres10\n",
       "educ           1.000000  0.558169       0.389245  0.479933  0.269115  0.261417\n",
       "socecon        0.558169  1.000000       0.417210  0.835515  0.203486  0.210451\n",
       "annual_income  0.389245  0.417210       1.000000  0.340995  0.164881  0.171048\n",
       "pres10         0.479933  0.835515       0.340995  1.000000  0.189262  0.192180\n",
       "mapres10       0.269115  0.203486       0.164881  0.189262  1.000000  0.235750\n",
       "papres10       0.261417  0.210451       0.171048  0.192180  0.235750  1.000000"
      ]
     },
     "execution_count": 81,
     "metadata": {},
     "output_type": "execute_result"
    }
   ],
   "source": [
    "# correlation\n",
    "gss[[\"educ\",\"socecon\",\"annual_income\",\"pres10\",\"mapres10\",\"papres10\"]].corr()"
   ]
  },
  {
   "cell_type": "code",
   "execution_count": 85,
   "metadata": {
    "tags": []
   },
   "outputs": [
    {
     "data": {
      "text/plain": [
       "PearsonRResult(statistic=0.558168600462678, pvalue=3.7194488100312476e-184)"
      ]
     },
     "execution_count": 85,
     "metadata": {},
     "output_type": "execute_result"
    }
   ],
   "source": [
    "# hypo test\n",
    "gss_corr = gss[[\"educ\",\"socecon\"]].dropna()\n",
    "stats.pearsonr(gss_corr['educ'], gss_corr['socecon'])"
   ]
  },
  {
   "cell_type": "markdown",
   "metadata": {},
   "source": [
    "#### Interpretation of p-val, 3.7194488100312476e-184\n",
    "H0: The correlation between years of education and socioeconomic status is 0\n",
    "\n",
    "HA: The correlation between years of education and socioeconomic status is not 0\n",
    "\n",
    "Conclusion: There is enough evidence to suggest that there is a nonzero correlation between years of education and socioeconomic status."
   ]
  },
  {
   "cell_type": "markdown",
   "metadata": {},
   "source": [
    "### Problem 6\n",
    "Create a new categorical feature for age groups, with categories for 18-35, 36-49, 50-69, and 70 and older (see the module 8 notebook for an example of how to do this). \n",
    "\n",
    "Then create a cross-tabulation in which the rows represent age groups and the columns represent responses to the statement that \"It is much better for everyone involved if the man is the achiever outside the home and the woman takes care of the home and family.\" Rearrange the columns so that they are in the following order: strongly agree, agree, disagree, strongly disagree. Place row percents in the cells of this table.\n",
    "\n",
    "Finally, use a hypothesis test that can tell use whether there is enough evidence to conclude that these two features have a relationship, and provide a specific and accurate intepretation of the $p$-value. [2 points]"
   ]
  },
  {
   "cell_type": "code",
   "execution_count": 86,
   "metadata": {
    "tags": []
   },
   "outputs": [
    {
     "data": {
      "text/plain": [
       "array([18., 19., 20., 21., 22., 23., 24., 25., 26., 27., 28., 29., 30.,\n",
       "       31., 32., 33., 34., 35., 36., 37., 38., 39., 40., 41., 42., 43.,\n",
       "       44., 45., 46., 47., 48., 49., 50., 51., 52., 53., 54., 55., 56.,\n",
       "       57., 58., 59., 60., 61., 62., 63., 64., 65., 66., 67., 68., 69.,\n",
       "       70., 71., 72., 73., 74., 75., 76., 77., 78., 79., 80., 81., 82.,\n",
       "       83., 84., 85., 86., 87., 88., 89., nan])"
      ]
     },
     "execution_count": 86,
     "metadata": {},
     "output_type": "execute_result"
    }
   ],
   "source": [
    "gss.age.sort_values().unique()"
   ]
  },
  {
   "cell_type": "code",
   "execution_count": 87,
   "metadata": {
    "tags": []
   },
   "outputs": [],
   "source": [
    "gss[\"age_cate\"] = gss.age.replace([[18., 19., 20., 21., 22., 23., 24., 25., 26., 27., 28., 29., 30.,\n",
    "       31., 32., 33., 34., 35.], [36., 37., 38., 39., 40., 41., 42., 43.,\n",
    "       44., 45., 46., 47., 48., 49.], [50., 51., 52., 53., 54., 55., 56.,\n",
    "       57., 58., 59., 60., 61., 62., 63., 64., 65., 66., 67., 68., 69.], [70., 71., 72., 73., 74., 75., 76., 77., 78., 79., 80., 81., 82.,\n",
    "       83., 84., 85., 86., 87., 88., 89.], np.nan],\n",
    "                                 [\"18-35\", \"36-49\", \"50-69\", \"70_over\", np.nan])"
   ]
  },
  {
   "cell_type": "code",
   "execution_count": 88,
   "metadata": {
    "tags": []
   },
   "outputs": [
    {
     "data": {
      "text/plain": [
       "age_cate\n",
       "50-69      771\n",
       "18-35      672\n",
       "36-49      541\n",
       "70_over    357\n",
       "Name: count, dtype: int64"
      ]
     },
     "execution_count": 88,
     "metadata": {},
     "output_type": "execute_result"
    }
   ],
   "source": [
    "gss.age_cate.value_counts()"
   ]
  },
  {
   "cell_type": "code",
   "execution_count": 90,
   "metadata": {
    "tags": []
   },
   "outputs": [],
   "source": [
    "gss[\"trad_household\"] = gss.trad_household.astype('category').cat.reorder_categories([\"strongly agree\",\n",
    "                                                                                     \"agree\",\n",
    "                                                                                     \"disagree\",\n",
    "                                                                                     \"strongly disagree\"])"
   ]
  },
  {
   "cell_type": "code",
   "execution_count": 92,
   "metadata": {
    "tags": []
   },
   "outputs": [
    {
     "data": {
      "text/html": [
       "<div>\n",
       "<style scoped>\n",
       "    .dataframe tbody tr th:only-of-type {\n",
       "        vertical-align: middle;\n",
       "    }\n",
       "\n",
       "    .dataframe tbody tr th {\n",
       "        vertical-align: top;\n",
       "    }\n",
       "\n",
       "    .dataframe thead th {\n",
       "        text-align: right;\n",
       "    }\n",
       "</style>\n",
       "<table border=\"1\" class=\"dataframe\">\n",
       "  <thead>\n",
       "    <tr style=\"text-align: right;\">\n",
       "      <th>trad_household</th>\n",
       "      <th>strongly agree</th>\n",
       "      <th>agree</th>\n",
       "      <th>disagree</th>\n",
       "      <th>strongly disagree</th>\n",
       "    </tr>\n",
       "    <tr>\n",
       "      <th>age_cate</th>\n",
       "      <th></th>\n",
       "      <th></th>\n",
       "      <th></th>\n",
       "      <th></th>\n",
       "    </tr>\n",
       "  </thead>\n",
       "  <tbody>\n",
       "    <tr>\n",
       "      <th>18-35</th>\n",
       "      <td>3.94</td>\n",
       "      <td>14.04</td>\n",
       "      <td>47.54</td>\n",
       "      <td>34.48</td>\n",
       "    </tr>\n",
       "    <tr>\n",
       "      <th>36-49</th>\n",
       "      <td>4.79</td>\n",
       "      <td>17.46</td>\n",
       "      <td>46.48</td>\n",
       "      <td>31.27</td>\n",
       "    </tr>\n",
       "    <tr>\n",
       "      <th>50-69</th>\n",
       "      <td>4.63</td>\n",
       "      <td>20.85</td>\n",
       "      <td>48.07</td>\n",
       "      <td>26.45</td>\n",
       "    </tr>\n",
       "    <tr>\n",
       "      <th>70_over</th>\n",
       "      <td>11.97</td>\n",
       "      <td>31.66</td>\n",
       "      <td>39.00</td>\n",
       "      <td>17.37</td>\n",
       "    </tr>\n",
       "  </tbody>\n",
       "</table>\n",
       "</div>"
      ],
      "text/plain": [
       "trad_household  strongly agree  agree  disagree  strongly disagree\n",
       "age_cate                                                          \n",
       "18-35                     3.94  14.04     47.54              34.48\n",
       "36-49                     4.79  17.46     46.48              31.27\n",
       "50-69                     4.63  20.85     48.07              26.45\n",
       "70_over                  11.97  31.66     39.00              17.37"
      ]
     },
     "execution_count": 92,
     "metadata": {},
     "output_type": "execute_result"
    }
   ],
   "source": [
    "(pd.crosstab(gss.age_cate, gss.trad_household, normalize='index')*100).round(2)"
   ]
  },
  {
   "cell_type": "code",
   "execution_count": 93,
   "metadata": {
    "tags": []
   },
   "outputs": [
    {
     "data": {
      "text/plain": [
       "Chi2ContingencyResult(statistic=69.24381761791811, pvalue=2.1419004733989943e-11, dof=9, expected_freq=array([[ 23.23016905,  81.56957087, 186.89726918, 114.3029909 ],\n",
       "       [ 20.31209363,  71.32314694, 163.42002601,  99.94473342],\n",
       "       [ 29.63849155, 104.07152146, 238.45513654, 145.83485046],\n",
       "       [ 14.81924577,  52.03576073, 119.22756827,  72.91742523]]))"
      ]
     },
     "execution_count": 93,
     "metadata": {},
     "output_type": "execute_result"
    }
   ],
   "source": [
    "# hypo test\n",
    "stats.chi2_contingency(pd.crosstab(gss.age_cate, gss.trad_household))"
   ]
  },
  {
   "cell_type": "markdown",
   "metadata": {},
   "source": [
    "#### Interpretation of p-val, 2.1419004733989943e-11\n",
    "H0: A group's sentiments of a traditional household does not depend on the age range of the group\n",
    "\n",
    "HA: A group's sentiments of a traditional household does depend on the age range of the group\n",
    "\n",
    "Conclusion: There is enough evidence to suggest that there is significant difference in sentiments of a traditional household depending on age range. This means that there is evidences of a relationship between age and the ideology of traditional households."
   ]
  },
  {
   "cell_type": "markdown",
   "metadata": {},
   "source": [
    "### Problem 7\n",
    "For this problem, you will conduct and interpret a correspondence analysis on the categorical features that ask respondents to state the extent to which they agree or disagree with the statements:\n",
    "* \"A working mother can establish just as warm and secure a relationship with her children as a mother who does not work.\"\n",
    "* \"It is much better for everyone involved if the man is the achiever outside the home and the woman takes care of the home and family.\"\n",
    "* \"Most men are better suited emotionally for politics than are most women.\"\n",
    "* \"A preschool child is likely to suffer if his or her mother works.\"\n",
    "* \"Family life often suffers because men concentrate too much on their work.\""
   ]
  },
  {
   "cell_type": "markdown",
   "metadata": {},
   "source": [
    "#### Part a\n",
    "Conduct a correspondence analysis using the observed features listed above that measures two latent features. Plot the two latent categories for each category in each of the features used in the analysis. [2 points]"
   ]
  },
  {
   "cell_type": "markdown",
   "metadata": {},
   "source": [
    "#### Part b\n",
    "Display the latent features for every category in the observed features, sorted by the first latent feature. Describe in words what concept this feature is attempting to measure, and give the feature a name. [2 points]"
   ]
  },
  {
   "cell_type": "markdown",
   "metadata": {},
   "source": [
    "#### Part c\n",
    "We can use the results of the MCA model to conduct some cool EDA. For one example, follow these steps:\n",
    "\n",
    "1. Use the `.row_coordinates()` method to calculate values of the latent feature for every row in the data you passed to the MCA in part a. Extract the first column and store it in its own dataframe.\n",
    "\n",
    "2. To join it with the full, cleaned GSS data based on row numbers (instead of on a primary key), use the `.join()` method. For example, if we named the cleaned GSS data `gss_clean` and if we named the dataframe in step 1 `latentfeature`, we can type\n",
    "```\n",
    "gss_clean = gss_clean.join(latentfeature, how=\"outer\")\n",
    "```\n",
    "3. Create a cross-tabuation with age categories (that you constructed in problem 5) in the rows and sex in the columns. Instead of a frequency, place the mean value of the latent feature in the cells. \n",
    "\n",
    "What does this table tell you about the relationship between sex, age, and the latent feature? [2 points]"
   ]
  }
 ],
 "metadata": {
  "kernelspec": {
   "display_name": "Python 3 (ipykernel)",
   "language": "python",
   "name": "python3"
  },
  "language_info": {
   "codemirror_mode": {
    "name": "ipython",
    "version": 3
   },
   "file_extension": ".py",
   "mimetype": "text/x-python",
   "name": "python",
   "nbconvert_exporter": "python",
   "pygments_lexer": "ipython3",
   "version": "3.10.9"
  }
 },
 "nbformat": 4,
 "nbformat_minor": 4
}
