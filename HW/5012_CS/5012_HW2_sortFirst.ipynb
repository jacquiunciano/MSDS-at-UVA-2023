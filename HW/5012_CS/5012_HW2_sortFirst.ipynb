{
 "cells": [
  {
   "cell_type": "markdown",
   "metadata": {
    "id": "YgaqXBYJDx0D"
   },
   "source": [
    "# 5012 HW #2. Improve code Efficiency: Sort First!\n",
    "\n",
    "## Scenario. \n",
    "\n",
    "In a two class, classification problem, it is common to use a classifier that outputs confidences (rather than simply class labels). A good example of this is a Support Vector Machine. A pro for using such a classifier is that you gain more information -- specifically the confidence in the classification result. A con is that in order to make a final classification decision, a threshold value must be determined. For example, if a threshold of 0.75 is chosen, the class label 1 would be assigned for confidences greater than 0.75 and for confidences less than 0.75 a class label of 0 would be assigned. However, this begs the question: how is the threshold chosen?\n",
    "\n",
    "Many data scientists will choose a threshold based on the experimental results and/or operational constraints. In this code example, we assume that we have confidences and true labels for a large data set. To determine a good threshold we will compute the true positive rates (TPRs) and false positive rates (FPRs) at all relevant thresholds. The relevant thresholds are considered those that would change the TPRs and FPRs. \n",
    "\n",
    "In the code below, a function is defined to compute the TPR and FPR at all relevant thresholds. However, the code is not very efficient and can be improved. (Note there are tips and hints found in the comments.) \n",
    "\n",
    "Your task is the following:\n",
    "\n",
    "## Question 1\n",
    "**40 POINTS**  \n",
    "Assess the time complexity of the method computeAllTPRs(...). Provide a line-by-line assessment in comments identifying the proportional number of steps (bounding notation is sufficient) per line: eg, O(1), O(log n), O(n), etc. Also, derive a time step function T(n) for the entire method (where n is the size of input true_label).\n",
    "\n",
    "## Question 2\n",
    "**30 POINTS**  \n",
    "Implement a new function computeAllTPRs_improved(...) which performs the same task as computeAllTPRs but has a significantly reduced time complexity. Also provide a line-by-line assessment in comments identifying the proportional number of steps per line, and derive a time step function T(n) for the entire method (where n is the size of input true_label).\n",
    "\n",
    "## Question 3\n",
    "**30 POINTS**  \n",
    "Compare the theoretical time complexities of both methods and predict which is more efficient. Next, test your prediction by timing both methods on sample inputs of varying sizes. Create a plot of inputSize vs runtime (as done in similar class examples).  \n",
    "\n",
    "**NOTE: Do not include runtimes for graphing**\n",
    "\n",
    "**TOTAL POINTS: 100**\n",
    "\n",
    "---"
   ]
  },
  {
   "cell_type": "code",
   "execution_count": 1,
   "metadata": {
    "id": "tQs8b3ccEskN"
   },
   "outputs": [],
   "source": [
    "import matplotlib.pyplot as plt\n",
    "import random\n",
    "from copy import deepcopy\n",
    "from numpy import argmax\n",
    "import time\n",
    "import random\n",
    "import numpy as np"
   ]
  },
  {
   "cell_type": "markdown",
   "metadata": {
    "id": "l4t6Gd-XNWdr"
   },
   "source": [
    "Answer Question #1 in the comments of the code chunk below. "
   ]
  },
  {
   "cell_type": "code",
   "execution_count": 2,
   "metadata": {
    "id": "IFu90tkjEORa"
   },
   "outputs": [],
   "source": [
    "    def computeAllTPRs(true_label, confs): ## O(1), c1\n",
    "        '''\n",
    "\n",
    "        inputs:\n",
    "         - true_label: list of labels, assumed to be 0 or 1 (a two class problem)\n",
    "         - confs: list of confidences\n",
    "\n",
    "        This method computes the True Positive Rate (TPRs) and FPRs for all relevant\n",
    "        thresholds given true_label and confs. Relevant thresholds are considered\n",
    "        all different values found in confs.\n",
    "        '''\n",
    "\n",
    "        # Define / initialize  variables\n",
    "        sentinelValue = -1 # used to replace max value found thus far ## O(1), c2\n",
    "        totalPositives = sum(true_label) ## O(1), c3\n",
    "        totalNegatives = len(true_label) - totalPositives ## O(1), c4\n",
    "        #print(true_label)\n",
    "        truePositives = 0 ## O(1), c5\n",
    "        falsePositives = 0 ## O(1), c6\n",
    "        # Hint: Consider Memory Management\n",
    "        truePositiveRate = [] ## O(1), c7\n",
    "        falsePositiveRate = [] ## O(1), c8\n",
    "\n",
    "        #Hint: Although not explicitly clear, the loop structure below is an \n",
    "            #embeded loop ie, O(n^2) ... do you see why??\n",
    "        #Hint: If you sort the confidences first you can improve the iteration scheme.\n",
    "        \n",
    "        # Iterate over all relevant thresholds. Compute TPR and FPR for each and \n",
    "        # append to truePositiveRate , falsePositiveRate lists. \n",
    "\n",
    "        for i in range(len(confs)): ## O(n), c9*n\n",
    "          maxVal = max(confs)  # Hint: the max method does NOT run in O(1) ## O(n^2), c10*n*n\n",
    "          argMax = argmax(confs) ## O(n^2), c11*n*n\n",
    "          confs[argMax] = sentinelValue ## O(1), c12*n\n",
    "          #print(argMax)\n",
    "          if true_label[argMax]==1: \n",
    "            truePositives += 1 ## O(1), c13*n\n",
    "          else:\n",
    "            falsePositives += 1 ## O(1), c14*n\n",
    "\n",
    "          truePositiveRate.append(truePositives/totalPositives) ## O(1), c15*n\n",
    "          falsePositiveRate.append(falsePositives/totalNegatives) ## O(1), c16*n\n",
    "          #print(truePositiveRate)\n",
    "\n",
    "        # Plot FPR vs TPR for all possible thresholds \n",
    "        plt.plot(falsePositiveRate,truePositiveRate, label ='class ' + str(i) + ' to all') ## O(1), c17\n",
    "        plt.legend() ## O(1), c18\n",
    "        plt.title(\"Inefficient\")\n",
    "        plt.xlabel('False Positive Rate') ## O(1), c19\n",
    "        plt.ylabel('True Positive Rate') ## O(1), c20\n",
    "        plt.show() ## O(1), c21\n"
   ]
  },
  {
   "cell_type": "markdown",
   "metadata": {},
   "source": [
    "T(n) = c1 + c2 + c3 + c4 + c5 + c6 + c7 + c8 + (c9n + c10n2 + c11n2 + c12n + c13n + c14n + c15n + c16n) + c17 + c18 + c20 + c21\n",
    "     \n",
    "     = c1 + c2 + c3 + c4 + c5 + c6 + c7 + c8 + c17 + c18 + c20 + c21 + ((c10 + c11)n2 + (c9 + c12 + c13 + c14 + c15 + c16)n))\n",
    "     \n",
    "     = c22 + (c23n2 + c24n)\n",
    "So T(n) is O(n^2)"
   ]
  },
  {
   "cell_type": "markdown",
   "metadata": {
    "id": "J0aNsuFFMzLt"
   },
   "source": [
    "Below, provide your implementation for Question #2."
   ]
  },
  {
   "cell_type": "code",
   "execution_count": 3,
   "metadata": {},
   "outputs": [],
   "source": [
    "    def computeAllTPRs_improved(true_label, confs): ## O(1), c1\n",
    "        '''\n",
    "\n",
    "        inputs:\n",
    "         - true_label: list of labels, assumed to be 0 or 1 (a two class problem)\n",
    "         - confs: list of confidences\n",
    "\n",
    "        This method computes the True Positive Rate (TPRs) and FPRs for all relevant\n",
    "        thresholds given true_label and confs. Relevant thresholds are considered\n",
    "        all different values found in confs.\n",
    "        '''\n",
    "\n",
    "        # Define / initialize  variables\n",
    "        sentinelValue = -1 # used to replace max value found thus far ## O(1), c2\n",
    "        totalPositives = sum(true_label) ## O(1), c3\n",
    "        totalNegatives = len(true_label) - totalPositives ## O(1), c4\n",
    "        #print(true_label)\n",
    "        truePositives = 0 ## O(1), c5\n",
    "        falsePositives = 0 ## O(1), c6\n",
    "        # Hint: Consider Memory Management\n",
    "        truePositiveRate = [] ## O(1), c7\n",
    "        falsePositiveRate = [] ## O(1), c8\n",
    "\n",
    "        #Hint: Although not explicitly clear, the loop structure below is an \n",
    "            #embeded loop ie, O(n^2) ... do you see why??\n",
    "        #Hint: If you sort the confidences first you can improve the iteration scheme.\n",
    "        \n",
    "        # Iterate over all relevant thresholds. Compute TPR and FPR for each and \n",
    "        # append to truePositiveRate , falsePositiveRate lists. \n",
    "        confs.sort(reverse=True) ## O(n*logn), c9*n*logn\n",
    "        true_label.sort(reverse=True) ## O(n*logn), c10*n*logn\n",
    "\n",
    "        for i in range(len(confs)): ## O(n), c11*n\n",
    "          argMax = i ## O(1), c12*n\n",
    "          confs[argMax] = sentinelValue ## O(1), c13*n\n",
    "          #print(argMax)\n",
    "          if true_label[argMax]==1: \n",
    "            truePositives += 1 ## O(1), c14*n\n",
    "          else:\n",
    "            falsePositives += 1 ## O(1), c15*n\n",
    "\n",
    "          truePositiveRate.append(truePositives/totalPositives) ## O(1), c16*n\n",
    "          falsePositiveRate.append(falsePositives/totalNegatives) ## O(1), c17*n\n",
    "          #print(truePositiveRate)\n",
    "\n",
    "        # Plot FPR vs TPR for all possible thresholds \n",
    "        plt.plot(falsePositiveRate,truePositiveRate, label ='class ' + str(i) + ' to all') ## O(1), c18\n",
    "        plt.legend() ## O(1), c19\n",
    "        plt.title(\"Improved\")\n",
    "        plt.xlabel('False Positive Rate') ## O(1), c20\n",
    "        plt.ylabel('True Positive Rate') ## O(1), c21\n",
    "        plt.show() ## O(1), c22\n"
   ]
  },
  {
   "cell_type": "markdown",
   "metadata": {},
   "source": [
    "T(n) = c1+c2+c3+c4+c5+c6+c7+c8+c9n(logn)+c10n(logn)+(c11+c12+c13+c14+c15+c16+c17)n+c18+c19+c20+c21+c22\n",
    "\n",
    "     = c23+c4n*logn+c25n\n",
    "\n",
    "Therefore, the T(n) is nlogn."
   ]
  },
  {
   "cell_type": "markdown",
   "metadata": {
    "id": "lP72j3GqM6AH"
   },
   "source": [
    "Question #3. Below, provide your code which records and plots the runtime for the original and improved methods. "
   ]
  },
  {
   "cell_type": "code",
   "execution_count": 4,
   "metadata": {},
   "outputs": [],
   "source": [
    "def testComputeAllTPRs_improved(numSamples):\n",
    "\n",
    "  confList = []\n",
    "  labels = []\n",
    "  maxVal = 10000\n",
    "  #numSamples = 10000\n",
    "  for i in range(0,numSamples):\n",
    "    n = random.randint(1,maxVal)\n",
    "    confList.append(n/maxVal)\n",
    "    if n/maxVal > .5: \n",
    "      lab = 1 \n",
    "    else: \n",
    "      lab = 0\n",
    "    labels.append(lab)\n",
    "  #print(labels)\n",
    "  computeAllTPRs_improved(labels, deepcopy(confList))  # Why a deepcopy here?"
   ]
  },
  {
   "cell_type": "code",
   "execution_count": 5,
   "metadata": {},
   "outputs": [],
   "source": [
    "def testComputeAllTPRs(numSamples):\n",
    "\n",
    "  confList = []\n",
    "  labels = []\n",
    "  maxVal = 10000\n",
    "  #numSamples = 10000\n",
    "  for i in range(0,numSamples):\n",
    "    n = random.randint(1,maxVal)\n",
    "    confList.append(n/maxVal)\n",
    "    if n/maxVal > .5: \n",
    "      lab = 1 \n",
    "    else: \n",
    "      lab = 0\n",
    "    labels.append(lab)\n",
    "  #print(labels)\n",
    "  computeAllTPRs(labels, deepcopy(confList))  # Why a deepcopy here?"
   ]
  },
  {
   "cell_type": "code",
   "execution_count": 6,
   "metadata": {
    "id": "I4SoYMYBMyzA"
   },
   "outputs": [
    {
     "data": {
      "image/png": "[encoded data removed]",
      "text/plain": [
       "<Figure size 640x480 with 1 Axes>"
      ]
     },
     "metadata": {},
     "output_type": "display_data"
    },
    {
     "name": "stdout",
     "output_type": "stream",
     "text": [
      "12.976861299946904\n"
     ]
    },
    {
     "data": {
      "image/png": "[encoded data removed]",
      "text/plain": [
       "<Figure size 640x480 with 1 Axes>"
      ]
     },
     "metadata": {},
     "output_type": "display_data"
    },
    {
     "name": "stdout",
     "output_type": "stream",
     "text": [
      "0.3397446000017226\n"
     ]
    }
   ],
   "source": [
    "## record the time results\n",
    "slow = []\n",
    "improved  = []\n",
    "\n",
    "numSamps = 10000\n",
    "start = time.perf_counter()\n",
    "testComputeAllTPRs(numSamps)\n",
    "print(time.perf_counter() - start)\n",
    "    \n",
    "## do the improved compute\n",
    "start = time.perf_counter()\n",
    "testComputeAllTPRs_improved(numSamps)\n",
    "print(time.perf_counter() - start)"
   ]
  },
  {
   "cell_type": "markdown",
   "metadata": {},
   "source": [
    "If I run both multiple times ..."
   ]
  },
  {
   "cell_type": "code",
   "execution_count": 7,
   "metadata": {},
   "outputs": [],
   "source": [
    "    def computeAllTPRs(true_label, confs): ## O(1), c1\n",
    "        '''\n",
    "\n",
    "        inputs:\n",
    "         - true_label: list of labels, assumed to be 0 or 1 (a two class problem)\n",
    "         - confs: list of confidences\n",
    "\n",
    "        This method computes the True Positive Rate (TPRs) and FPRs for all relevant\n",
    "        thresholds given true_label and confs. Relevant thresholds are considered\n",
    "        all different values found in confs.\n",
    "        '''\n",
    "\n",
    "        # Define / initialize  variables\n",
    "        sentinelValue = -1 # used to replace max value found thus far ## O(1), c2\n",
    "        totalPositives = sum(true_label) ## O(1), c3\n",
    "        totalNegatives = len(true_label) - totalPositives ## O(1), c4\n",
    "        #print(true_label)\n",
    "        truePositives = 0 ## O(1), c5\n",
    "        falsePositives = 0 ## O(1), c6\n",
    "        # Hint: Consider Memory Management\n",
    "        truePositiveRate = [] ## O(1), c7\n",
    "        falsePositiveRate = [] ## O(1), c8\n",
    "\n",
    "        #Hint: Although not explicitly clear, the loop structure below is an \n",
    "            #embeded loop ie, O(n^2) ... do you see why??\n",
    "        #Hint: If you sort the confidences first you can improve the iteration scheme.\n",
    "        \n",
    "        # Iterate over all relevant thresholds. Compute TPR and FPR for each and \n",
    "        # append to truePositiveRate , falsePositiveRate lists. \n",
    "\n",
    "        for i in range(len(confs)): ## O(n), c9*n\n",
    "          maxVal = max(confs)  # Hint: the max method does NOT run in O(1) ## O(n^2), c10*n*n\n",
    "          argMax = argmax(confs) ## O(n^2), c11*n*n\n",
    "          confs[argMax] = sentinelValue ## O(1), c12*n\n",
    "          #print(argMax)\n",
    "          if true_label[argMax]==1: \n",
    "            truePositives += 1 ## O(1), c13*n\n",
    "          else:\n",
    "            falsePositives += 1 ## O(1), c14*n\n",
    "\n",
    "          truePositiveRate.append(truePositives/totalPositives) ## O(1), c15*n\n",
    "          falsePositiveRate.append(falsePositives/totalNegatives) ## O(1), c16*n"
   ]
  },
  {
   "cell_type": "code",
   "execution_count": 8,
   "metadata": {},
   "outputs": [],
   "source": [
    "    def computeAllTPRs_improved(true_label, confs): ## O(1), c1\n",
    "        '''\n",
    "\n",
    "        inputs:\n",
    "         - true_label: list of labels, assumed to be 0 or 1 (a two class problem)\n",
    "         - confs: list of confidences\n",
    "\n",
    "        This method computes the True Positive Rate (TPRs) and FPRs for all relevant\n",
    "        thresholds given true_label and confs. Relevant thresholds are considered\n",
    "        all different values found in confs.\n",
    "        '''\n",
    "\n",
    "        # Define / initialize  variables\n",
    "        sentinelValue = -1 # used to replace max value found thus far ## O(1), c2\n",
    "        totalPositives = sum(true_label) ## O(1), c3\n",
    "        totalNegatives = len(true_label) - totalPositives ## O(1), c4\n",
    "        #print(true_label)\n",
    "        truePositives = 0 ## O(1), c5\n",
    "        falsePositives = 0 ## O(1), c6\n",
    "        # Hint: Consider Memory Management\n",
    "        truePositiveRate = [] ## O(1), c7\n",
    "        falsePositiveRate = [] ## O(1), c8\n",
    "\n",
    "        #Hint: Although not explicitly clear, the loop structure below is an \n",
    "            #embeded loop ie, O(n^2) ... do you see why??\n",
    "        #Hint: If you sort the confidences first you can improve the iteration scheme.\n",
    "        \n",
    "        # Iterate over all relevant thresholds. Compute TPR and FPR for each and \n",
    "        # append to truePositiveRate , falsePositiveRate lists. \n",
    "        confs.sort(reverse=True) ## O(n*logn), c9*n*logn\n",
    "        true_label.sort(reverse=True) ## O(n*logn), c10*n*logn\n",
    "\n",
    "        for i in range(len(confs)): ## O(n), c10*n\n",
    "          argMax = i ## O(1), c12*n\n",
    "          confs[argMax] = sentinelValue ## O(1), c13*n\n",
    "          #print(argMax)\n",
    "          if true_label[argMax]==1: \n",
    "            truePositives += 1 ## O(1), c14*n\n",
    "          else:\n",
    "            falsePositives += 1 ## O(1), c15*n\n",
    "\n",
    "          truePositiveRate.append(truePositives/totalPositives) ## O(1), c16*n\n",
    "          falsePositiveRate.append(falsePositives/totalNegatives) ## O(1), c17*n"
   ]
  },
  {
   "cell_type": "code",
   "execution_count": 9,
   "metadata": {},
   "outputs": [
    {
     "data": {
      "text/plain": [
       "Text(0, 0.5, 'Time')"
      ]
     },
     "execution_count": 9,
     "metadata": {},
     "output_type": "execute_result"
    },
    {
     "data": {
      "image/png": "[encoded data removed]",
      "text/plain": [
       "<Figure size 640x480 with 1 Axes>"
      ]
     },
     "metadata": {},
     "output_type": "display_data"
    }
   ],
   "source": [
    "slow = []\n",
    "improved  = []\n",
    "\n",
    "numSamps = np.random.randint(10,10000,size=100, dtype=int)\n",
    "size = 100\n",
    "## calculate the time required to sort various size lists\n",
    "for i in range(0, size):\n",
    "    numSamp = numSamps[i]\n",
    "    ## do the inefficient method\n",
    "    start = time.perf_counter()\n",
    "    testComputeAllTPRs(numSamp)\n",
    "    slow.append(time.perf_counter() - start)\n",
    "    \n",
    "    ## do the improved method\n",
    "    start = time.perf_counter()\n",
    "    testComputeAllTPRs_improved(numSamp)\n",
    "    improved.append(time.perf_counter() - start)\n",
    "\n",
    "    \n",
    "\n",
    "stepSize = 10\n",
    "slow.sort()\n",
    "improved.sort()\n",
    "## plot the results\n",
    "plt.plot(range(0, size), slow, label = 'Slow')\n",
    "plt.plot(range(0, size), improved, label = 'Improved')\n",
    "#plt.plot(range(0, size, stepSize), defaultTime, label = 'Default')\n",
    "plt.legend(frameon = 'none')\n",
    "plt.title('Time Comparison of Algos')\n",
    "plt.xlabel('Sample Number')\n",
    "plt.ylabel('Time')"
   ]
  },
  {
   "cell_type": "code",
   "execution_count": null,
   "metadata": {},
   "outputs": [],
   "source": []
  }
 ],
 "metadata": {
  "colab": {
   "collapsed_sections": [],
   "name": "5012_HW2_sortFirst.ipynb",
   "provenance": []
  },
  "kernelspec": {
   "display_name": "Python 3 (ipykernel)",
   "language": "python",
   "name": "python3"
  },
  "language_info": {
   "codemirror_mode": {
    "name": "ipython",
    "version": 3
   },
   "file_extension": ".py",
   "mimetype": "text/x-python",
   "name": "python",
   "nbconvert_exporter": "python",
   "pygments_lexer": "ipython3",
   "version": "3.11.4"
  }
 },
 "nbformat": 4,
 "nbformat_minor": 4
}
