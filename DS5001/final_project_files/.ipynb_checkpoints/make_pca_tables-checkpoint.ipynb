{
 "cells": [
  {
   "cell_type": "code",
   "execution_count": null,
   "id": "0d87ba3f-15ed-444c-9e40-2496aba8e97d",
   "metadata": {},
   "outputs": [],
   "source": []
  },
  {
   "cell_type": "markdown",
   "id": "e9712778-767e-45a8-ad0e-d16c7b694f50",
   "metadata": {},
   "source": [
    "### PCA Components"
   ]
  },
  {
   "cell_type": "code",
   "execution_count": null,
   "id": "86d09e30-af2a-4195-a870-fbbd46804439",
   "metadata": {},
   "outputs": [],
   "source": []
  },
  {
   "cell_type": "markdown",
   "id": "b6a4d285-bd65-46b2-941e-3da3a5d101e2",
   "metadata": {},
   "source": [
    "### PCA DCM"
   ]
  },
  {
   "cell_type": "code",
   "execution_count": null,
   "id": "8d5b6dad-26e6-4d6d-86a0-998797f19ca6",
   "metadata": {},
   "outputs": [],
   "source": []
  },
  {
   "cell_type": "markdown",
   "id": "055f81be-e69c-429e-ab46-3f97e67e7200",
   "metadata": {},
   "source": [
    "### PCA Loadings"
   ]
  },
  {
   "cell_type": "code",
   "execution_count": null,
   "id": "a3a503ad-2196-4aac-aed2-c9dfa3d20b78",
   "metadata": {},
   "outputs": [],
   "source": []
  },
  {
   "cell_type": "markdown",
   "id": "267848c3-2a35-4c90-b7cc-6ac663ff0136",
   "metadata": {},
   "source": [
    "### PCA Visualizations Pt 1"
   ]
  },
  {
   "cell_type": "code",
   "execution_count": null,
   "id": "62e92131-b33f-4816-b502-af52e63d4b7a",
   "metadata": {},
   "outputs": [],
   "source": []
  },
  {
   "cell_type": "markdown",
   "id": "6c8d37a1-9158-4eda-846c-944bd0ad016c",
   "metadata": {},
   "source": [
    "### PCA Visualizations Pt 2"
   ]
  },
  {
   "cell_type": "code",
   "execution_count": null,
   "id": "78c7d6d6-a2b9-474c-a658-bc19b6aeeae2",
   "metadata": {},
   "outputs": [],
   "source": []
  }
 ],
 "metadata": {
  "kernelspec": {
   "display_name": "Python 3 (ipykernel)",
   "language": "python",
   "name": "python3"
  },
  "language_info": {
   "codemirror_mode": {
    "name": "ipython",
    "version": 3
   },
   "file_extension": ".py",
   "mimetype": "text/x-python",
   "name": "python",
   "nbconvert_exporter": "python",
   "pygments_lexer": "ipython3",
   "version": "3.11.4"
  }
 },
 "nbformat": 4,
 "nbformat_minor": 5
}
