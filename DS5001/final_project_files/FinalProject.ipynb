{
 "cells": [
  {
   "cell_type": "markdown",
   "id": "979923b5-0493-4768-ad1a-06db54f0bc7a",
   "metadata": {},
   "source": [
    "# Final Project Notebook\n",
    "\n",
    "DS 5001 Exploratory Text Analytics | Spring 2024"
   ]
  },
  {
   "cell_type": "markdown",
   "id": "7046f57f-12ed-4259-be3d-60cb67b8d044",
   "metadata": {},
   "source": [
    "# Metadata\n",
    "\n",
    "- Full Name: Jacqui Unciano\n",
    "- Userid: jdu5sq\n",
    "- GitHub Repo URL: https://github.com/jacquiunciano/MSDS-at-UVA-2023/tree/main/DS5001/final_project_files\n",
    "- UVA Box URL: https://virginia.box.com/s/0bhf4ws7qbcdktkk2aknw8vp7yn5y0l6"
   ]
  },
  {
   "cell_type": "markdown",
   "id": "57acd11d-eb04-4bcc-b115-f205f367de49",
   "metadata": {},
   "source": [
    "# Overview\n",
    "\n",
    "The goal of the final project is for you to create a **digital analytical edition** of a corpus using the tools, practices, and perspectives you’ve learning in this course. You will select a corpus that has already been digitized and transcribed, parse that into an F-compliant set of tables, and then generate and visualize the results of a series of fitted models. You will also draw some tentative conclusions regarding the linguistic, cultural, psychological, or historical features represented by your corpus. The point of the exercise is to have you work with a corpus through the entire pipeline from ingestion to interpretation. \n",
    "\n",
    "Specifically, you will acquire a collection of long-form texts and perform the following operations:\n",
    "\n",
    "- **Convert** the collection from their source formats (F0) into a set of tables that conform to the Standard Text Analytic Data Model (F2).\n",
    "- **Annotate** these tables with statistical and linguistic features using NLP libraries such as NLTK (F3).\n",
    "- **Produce** a vector representation of the corpus to generate TFIDF values to add to the TOKEN (aka CORPUS) and VOCAB tables (F4).\n",
    "- **Model** the annotated and vectorized model with tables and features derived from the application of unsupervised methods, including PCA, LDA, and word2vec (F5).\n",
    "- **Explore** your results using statistical and visual methods.\n",
    "- **Present** conclusions about patterns observed in the corpus by means of these operations.\n",
    "\n",
    "When you are finished, you will make the results of your work available in GitHub (for code) and UVA Box (for data). You will submit to Gradescope (via Canvas) a PDF version of a Jupyter notebook that contains the information listed below.\n",
    "\n",
    "# Some Details\n",
    "\n",
    "- Please fill out your answers in each task below by editing the markdown cell. \n",
    "- Replace text that asks you to insert something with the thing, i.e. replace `(INSERT IMAGE HERE)` with an image element, e.g. `![](image.png)`.\n",
    "- For URLs, just paste the raw URL directly into the text area. Don't worry about providing link labels using `[label](link)`.\n",
    "- Please do not alter the structure of the document or cell, i.e. the bulleted lists. \n",
    "- You may add explanatory paragraphs below the bulleted lists.\n",
    "- Please name your tables as they are named in each task below.\n",
    "- Tasks are indicated by headers with point values in parentheses."
   ]
  },
  {
   "cell_type": "markdown",
   "id": "568b6d68-e039-4612-858b-29510eeb5365",
   "metadata": {},
   "source": [
    "# Raw Data"
   ]
  },
  {
   "cell_type": "markdown",
   "id": "cb0889de-cd53-4aa5-80b2-a2a39060776a",
   "metadata": {},
   "source": [
    "## Source Description (1)"
   ]
  },
  {
   "cell_type": "markdown",
   "id": "aa9e395a-4b0b-4ba3-9112-80c733998dbe",
   "metadata": {},
   "source": [
    "Provide a brief description of your source material, including its provenance and content. Tell us where you found it and what kind of content it contains.\n",
    "\n",
    "The source materials are three book series, 1 series that I've read from my childhood (age 5-7), 1 series that I've read in my pre-teens (age 10-12), and 1 series that I've read in my late teens (age 16-18). They come in a mix of pdf or txt files, depending on how easy it was to parse through the text (i.e. finding chapters, paragraphs) with the entire book contents in them. They were found on the [Internet Archives](https://archive.org/) using the following Google search scheme: \"\\<book title>\" \"\\<author name>\" internet archive. However, Warrior Cats books where obtained on [Weebly](https://readwarriorbooks.weebly.com/warriors.html) using the Google search scheme: into the wild erin hunter free pdf. Then finding the link that has the pdf and/or txt file available for download.\n",
    "\n",
    "The first series is Warrior Cats written between the years 2003 and 2004 under a collective pseudonym, Erin Hunter. The first series is The Last Dragon Chronicles written between the years 2001 and 2013 by Chris D'Lacey. The last series is A Song of Ice and Fire (ASOIAF) written by George R.R. Martin, with the first novel being published in 1996 and the most recent novel in 2011. It is currently incomplete, so I have only obtained the works that have been completed and published (Book 1-5)."
   ]
  },
  {
   "cell_type": "markdown",
   "id": "89b507c1-6dc2-44f7-b74c-790d84a48e8c",
   "metadata": {
    "tags": []
   },
   "source": [
    "## Source Features (1)\n",
    "\n",
    "Add values for the following items. (Do this for all following bulleted lists.)\n",
    "\n",
    "- Source URL\n",
    "  \n",
    "Warrior Cats:\n",
    "<ol>\n",
    "    <li>https://readwarriorbooks.weebly.com/warriors.html</li>\n",
    "</ol>\n",
    "The Last Dragon Chronicles:\n",
    "<ol>\n",
    "    <li>search terms on Internet Archive: creator: (chris d'lacey)</li>\n",
    "    <li>https://archive.org/search?query=creator%3A%28Chris+D%27Lacey%29&page=2</li>\n",
    "</ol>\n",
    "A Song if Ice and Fire:\n",
    "<ol>\n",
    "    <li>search terms on Internet Archive: a game of thrones AND creator:(george r.r. martin)</li>\n",
    "    <li>https://archive.org/search?query=a+game+of+thrones+AND+creator%3A%28george+r.r.+martin%29&sin=TXT</li>\n",
    "</ol>\n",
    "\n",
    "- UVA Box URL: https://virginia.box.com/s/0bhf4ws7qbcdktkk2aknw8vp7yn5y0l6\n",
    "- Number of raw documents: 18 documents (6 Warrior Cats, 7 Dragon Chronicles, 5 Song of Ice and Fire)\n",
    "- Total size of raw documents (e.g. in MB): ~54.7 MB\n",
    "- File format(s), e.g. XML, plaintext, etc.: \n",
    "\n",
    "<ol>\n",
    "    <li>Warrior Cats: 6 pdfs</li>\n",
    "    <li>The Last Dragon Chronicles: 6 pdfs, 1 txt</li>\n",
    "    <li>A Song if Ice and Fire: 5 txt</li>\n",
    "</ol>"
   ]
  },
  {
   "cell_type": "markdown",
   "id": "590e81b1-9f70-47b5-bb25-49be4e76b98b",
   "metadata": {
    "tags": []
   },
   "source": [
    "## Source Document Structure (1)\n",
    "\n",
    "Provide a brief description of the internal structure of each document. That, describe the typical elements found in document and their relation to each other. For example, a corpus of letters might be described as having a date, an addressee, a salutation, a set of content paragraphs, and closing. If they are various structures, state that.\n",
    "\n",
    "Each document has a table and contents and chapters with paragraphs in each chapter. Most had prologues and epilogues to open and close the novels, which were treated as additional chapters since they contained content related to the story. Some of the pdfs had drawings of maps at the beginning, and if I remember correctly, both ASOIAF and Warrior Cats also had an index of character names and associations. ASOIAF was at the end under Appendix and Warrior Cats was at the beginning under Allegiences. Most of them also had About the Author sections at the end which was not included in anaylsis. "
   ]
  },
  {
   "cell_type": "markdown",
   "id": "10ec4c9f-e101-46fe-ac59-a35a1b148a4b",
   "metadata": {},
   "source": [
    "# Parsed and Annotated Data\n",
    "\n",
    "Parse the raw data into the three core tables of your addition: the `LIB`, `CORPUS`, and `VOCAB` tables.\n",
    "\n",
    "These tables will be stored as CSV files with header rows.\n",
    "\n",
    "You may consider using `|` as a delimitter.\n",
    "\n",
    "Provide the following information for each."
   ]
  },
  {
   "cell_type": "markdown",
   "id": "e9d05ce4-ac5c-43ea-a07b-c4626338f80e",
   "metadata": {},
   "source": [
    "## LIB (2)\n",
    "\n",
    "The source documents the corpus comprises. These may be books, plays, newspaper articles, abstracts, blog posts, etc. \n",
    "\n",
    "Note that these are *not* documents in the sense used to describe a bag-of-words representation of a text, e.g. chapter.\n",
    "\n",
    "- UVA Box URL: https://virginia.box.com/s/pi0zdnmifnj5risjq0a70erc5wsaj41c\n",
    "- GitHub URL for notebook used to create: https://github.com/jacquiunciano/MSDS-at-UVA-2023/blob/main/DS5001/final_project_files/make_starter_tables.ipynb\n",
    "- Delimitter: comma\n",
    "- Number of observations: 18\n",
    "- List of features, including at least three that may be used for model summarization (e.g. date, author, etc.):\n",
    "<ol>\n",
    "    <li>the title of the book (book_title)</li>\n",
    "    <li>the number of terms in the book (book_length)</li>\n",
    "    <li>the number of chapters in the book (n_chaps)</li>\n",
    "    <li>the series the book belongs to (series)</li>\n",
    "    <li>the year the book was published (year)</li>\n",
    "    <li>the author of the book (author)</li>\n",
    "</ol>\n",
    "- Average length of each document in characters: The average length was calculated by taking the .mean() of the book_length column, ~155327 terms per book."
   ]
  },
  {
   "cell_type": "markdown",
   "id": "304204a5-00be-46ad-b98b-0d10a9c8ca4b",
   "metadata": {},
   "source": [
    "## CORPUS (2)\n",
    "\n",
    "The sequence of word tokens in the corpus, indexed by their location in the corpus and document structures.\n",
    "\n",
    "- UVA Box URL: https://virginia.box.com/s/pi0zdnmifnj5risjq0a70erc5wsaj41c\n",
    "- GitHub URL for notebook used to create: https://github.com/jacquiunciano/MSDS-at-UVA-2023/blob/main/DS5001/final_project_files/make_starter_tables.ipynb\n",
    "- Delimitter: comma\n",
    "- Number of observations Between (should be >= 500,000 and <= 2,000,000 observations.): 2795883\n",
    "- OHCO Structure (as delimitted column names): book_title', 'chap_num', 'para_num', 'sent_num', 'token_num'\n",
    "- Columns (as delimitted column names, including `token_str`, `term_str`, `pos`, and `pos_group`): \t'token_str', 'term_str', 'pos',\t'pos_group'"
   ]
  },
  {
   "cell_type": "markdown",
   "id": "2767f025-75c0-4616-a997-62741c88222f",
   "metadata": {},
   "source": [
    "## VOCAB (2)\n",
    "\n",
    "The unique word types (terms) in the corpus.\n",
    "\n",
    "- UVA Box URL: https://virginia.box.com/s/pi0zdnmifnj5risjq0a70erc5wsaj41c\n",
    "- GitHub URL for notebook used to create: https://github.com/jacquiunciano/MSDS-at-UVA-2023/blob/main/DS5001/final_project_files/make_starter_tables.ipynb\n",
    "- Delimitter: comma\n",
    "- Number of observations: 2086493\n",
    "- Columns (as delimitted names, including `n`, `p`', `i`, `dfidf`, `porter_stem`, `max_pos` and `max_pos_group`, `stop`): 'df', 'dfidf', 'n', 'p', 'i', 'pos_tag', 'max_pos', 'pos_group', 'max_pos_group', 'stop', 'stem_porter', 'ngram_length'\n",
    "- Note: Your VOCAB may contain ngrams. If so, add a feature for `ngram_length`.\n",
    "- List the top 20 significant words in the corpus by DFIDF.\n",
    "<ol>\n",
    "    <li>thirsty\t9.537991</li>\n",
    "    <li>ungrateful 9.537991</li>\n",
    "    <li>alerted\t9.537991</li>\n",
    "    <li>veiled 9.537991</li>\n",
    "    <li>gulp air 9.537991</li>\n",
    "    <li>sat bolt 9.537991</li>\n",
    "    <li>feet said 9.537991</li>\n",
    "    <li>sat bolt upright 9.537991</li>\n",
    "    <li>glided 9.537991</li>\n",
    "    <li>squatted 9.537991</li>\n",
    "    <li>broke apart 9.537991</li>\n",
    "    <li>shoving\t9.537991</li>\n",
    "    <li>hope ll\t9.537991</li>\n",
    "    <li>veil 9.537991</li>\n",
    "    <li>said meant 9.537991</li>\n",
    "    <li>men like 9.537991</li>\n",
    "    <li>old days 9.537991</li>\n",
    "    <li>scent prey 9.537991</li>\n",
    "    <li>crops 9.537991</li>\n",
    "    <li>making sure 9.537991</li>\n",
    "</ol>"
   ]
  },
  {
   "cell_type": "markdown",
   "id": "b40dabdc-baae-4408-95bc-2f735824d59b",
   "metadata": {},
   "source": [
    "# Derived Tables"
   ]
  },
  {
   "cell_type": "markdown",
   "id": "c1995e86-0d3a-4b35-a5e0-4de35bcb16bf",
   "metadata": {},
   "source": [
    "## BOW (3)\n",
    "\n",
    "A bag-of-words representation of the CORPUS.\n",
    "\n",
    "- UVA Box URL: https://virginia.box.com/s/pi0zdnmifnj5risjq0a70erc5wsaj41c\n",
    "- GitHub URL for notebook used to create: https://github.com/jacquiunciano/MSDS-at-UVA-2023/blob/main/DS5001/final_project_files/make_ana_tables.ipynb\n",
    "- Delimitter: comma\n",
    "- Bag (expressed in terms of OHCO levels): BOOKS and CHAPS\n",
    "- Number of observations: 34790 for bag=BOOKS and 34790 for bag=CHAPS\n",
    "- Columns (as delimitted names, including `n`, `tfidf`): n, max_pos, dfidf, mean_tfidf"
   ]
  },
  {
   "cell_type": "markdown",
   "id": "28d5fee3-223a-4717-8387-cc045afa8b7f",
   "metadata": {},
   "source": [
    "## DTM (3)\n",
    "\n",
    "A represenation of the BOW as a sparse count matrix.\n",
    "\n",
    "- UVA Box URL: https://virginia.box.com/s/pi0zdnmifnj5risjq0a70erc5wsaj41c\n",
    "- UVA Box URL of BOW used to generate (if applicable): https://virginia.box.com/s/pi0zdnmifnj5risjq0a70erc5wsaj41c\n",
    "- GitHub URL for notebook used to create: https://github.com/jacquiunciano/MSDS-at-UVA-2023/blob/main/DS5001/final_project_files/make_ana_tables.ipynb\n",
    "- Delimitter: comma\n",
    "- Bag (expressed in terms of OHCO levels): BOOKS and CHAPS"
   ]
  },
  {
   "cell_type": "markdown",
   "id": "af5802c7-62ef-4f4f-86c0-8ab075c0deac",
   "metadata": {
    "jp-MarkdownHeadingCollapsed": true
   },
   "source": [
    "## TFIDF (3)\n",
    "\n",
    "A Document-Term matrix with TFIDF values.\n",
    "\n",
    "- UVA Box URL: https://virginia.box.com/s/pi0zdnmifnj5risjq0a70erc5wsaj41c\n",
    "- UVA Box URL of BOW used to generate (if applicable): https://virginia.box.com/s/pi0zdnmifnj5risjq0a70erc5wsaj41c\n",
    "- GitHub URL for notebook used to create: https://github.com/jacquiunciano/MSDS-at-UVA-2023/blob/main/DS5001/final_project_files/make_ana_tables.ipynb\n",
    "- Delimitter: comma\n",
    "- Description of TFIDIF formula ($\\LaTeX$ OK):\n",
    "\n",
    "<ol>\n",
    "    <li>Applied log scaling to the term frequency: TF = (np.log2(1 + DTCM.T)).T</li>\n",
    "    <li>Applied smoothing factor to the sklearn IDF method = np.log2((N_docs + 1)/(DF + 1)) + 1</li>\n",
    "</ol>"
   ]
  },
  {
   "cell_type": "markdown",
   "id": "fd34f5ca-5361-4701-b9dd-9da66859b40b",
   "metadata": {
    "tags": []
   },
   "source": [
    "## Reduced and Normalized TFIDF_L2 (3)"
   ]
  },
  {
   "cell_type": "markdown",
   "id": "5c548dd2-f692-4365-936c-39c84df79b90",
   "metadata": {
    "tags": []
   },
   "source": [
    "A Document-Term matrix with L2 normalized TFIDF values.\n",
    "\n",
    "- UVA Box URL: https://virginia.box.com/s/pi0zdnmifnj5risjq0a70erc5wsaj41c\n",
    "- UVA Box URL of BOW used to generate (if applicable): https://virginia.box.com/s/pi0zdnmifnj5risjq0a70erc5wsaj41c\n",
    "- GitHub URL for notebook used to create: https://github.com/jacquiunciano/MSDS-at-UVA-2023/blob/main/DS5001/final_project_files/make_ana_tables.ipynb\n",
    "- Delimitter: comma\n",
    "- Number of features (i.e. significant words): 1000\n",
    "- Principle of significant word selection: used dfidf"
   ]
  },
  {
   "cell_type": "markdown",
   "id": "7c50da94-af36-4e8d-b1a7-24dbcf431880",
   "metadata": {},
   "source": [
    "# Models"
   ]
  },
  {
   "cell_type": "markdown",
   "id": "9df79264-dd93-4199-be38-db31579b7ce8",
   "metadata": {},
   "source": [
    "## PCA Components (4)\n",
    "\n",
    "- UVA Box URL:\n",
    "- UVA Box URL of the source TFIDF_L2 table:\n",
    "- GitHub URL for notebook used to create:\n",
    "- Delimitter:\n",
    "- Number of components:\n",
    "- Library used to generate:\n",
    "- Top 5 positive terms for first component:\n",
    "- Top 5 negative terms for second component:"
   ]
  },
  {
   "cell_type": "markdown",
   "id": "73adc882-cbce-4d24-9923-5d36ac609f43",
   "metadata": {
    "tags": []
   },
   "source": [
    "## PCA DCM (4)\n",
    "\n",
    "The document-component matrix generated.\n",
    "\n",
    "- UVA Box URL:\n",
    "- GitHub URL for notebook used to create:\n",
    "- Delimitter:"
   ]
  },
  {
   "cell_type": "markdown",
   "id": "b3fd2a4a-7f2f-4259-a5c4-063168cb1b14",
   "metadata": {
    "tags": []
   },
   "source": [
    "## PCA Loadings (4)\n",
    "\n",
    "The component-term matrix generated.\n",
    "\n",
    "- UVA Box URL:\n",
    "- GitHub URL for notebook used to create:\n",
    "- Delimitter:"
   ]
  },
  {
   "cell_type": "markdown",
   "id": "84fff42f-6665-4941-ba3d-034627dc0124",
   "metadata": {},
   "source": [
    "## PCA Visualization 1 (4)\n",
    "\n",
    "Include a scatterplot of documents in the space created by the first two components.\n",
    "\n",
    "Color the points based on a metadata feature associated with the documents.\n",
    "\n",
    "Also include a scatterplot of the loadings for the same two components. (This does not need a feature mapped onto color.)\n",
    "\n",
    "(INSERT IMAGE HERE)\n",
    "\n",
    "(INSERT IMAGE HERE)\n",
    "\n",
    "Briefly describe the nature of the polarity you see in the first component:\n",
    "\n",
    "(INSERT DESCRIPTION HERE)"
   ]
  },
  {
   "cell_type": "markdown",
   "id": "2eb54565-7669-4a2f-90b2-a4c283277c02",
   "metadata": {},
   "source": [
    "## PCA Visualization 2 (4)\n",
    "\n",
    "Include a scatterplot of documents in the space created by the second two components.\n",
    "\n",
    "Color the points based on a metadata feature associated with the documents.\n",
    "\n",
    "Also include a scatterplot of the loadings for the same two components. (This does not need a feature mapped onto color.)\n",
    "\n",
    "(INSERT IMAGE HERE)\n",
    "\n",
    "(INSERT IMAGE HERE)\n",
    "\n",
    "Briefly describe the nature of the polarity you see in the second component:\n",
    "\n",
    "(INSERT DESCRIPTION HERE)"
   ]
  },
  {
   "cell_type": "markdown",
   "id": "d3ee23b2-25d1-4226-bf31-1607e5ed4677",
   "metadata": {
    "tags": []
   },
   "source": [
    "## LDA TOPIC (4)\n",
    "\n",
    "- UVA Box URL:\n",
    "- UVA Box URL of count matrix used to create:\n",
    "- GitHub URL for notebook used to create:\n",
    "- Delimitter:\n",
    "- Libary used to compute:\n",
    "- A description of any filtering, e.g. POS (Nouns and Verbs only):\n",
    "- Number of components:\n",
    "- Any other parameters used:\n",
    "- Top 5 words and best-guess labels for topic five topics by mean document weight:\n",
    "  - T00:\n",
    "  - T01:\n",
    "  - T02:\n",
    "  - T03:\n",
    "  - T04:"
   ]
  },
  {
   "cell_type": "markdown",
   "id": "a518d520-4a5c-48fa-836d-f8ea3e3c2f06",
   "metadata": {
    "tags": []
   },
   "source": [
    "## LDA THETA (4)\n",
    "\n",
    "- UVA Box URL:\n",
    "- GitHub URL for notebook used to create:\n",
    "- Delimitter:"
   ]
  },
  {
   "cell_type": "markdown",
   "id": "f8808b30-64f4-4249-95d5-d7c0925ce432",
   "metadata": {
    "tags": []
   },
   "source": [
    "## LDA PHI (4)\n",
    "\n",
    "- UVA Box URL:\n",
    "- GitHub URL for notebook used to create:\n",
    "- Delimitter:"
   ]
  },
  {
   "cell_type": "markdown",
   "id": "18e404bf-8a2a-4eb4-ba89-0c708c8f359d",
   "metadata": {},
   "source": [
    "## LDA + PCA Visualization (4)\n",
    "\n",
    "Apply PCA to the PHI table and plot the topics in the space opened by the first two components.\n",
    "\n",
    "Size the points based on the mean document weight of each topic (using the THETA table).\n",
    "\n",
    "Color the points basd on a metadata feature from the LIB table.\n",
    "\n",
    "Provide a brief interpretation of what you see.\n",
    "\n",
    "(INSERT IMAGE HERE)\n",
    "\n",
    "(INSERT INTERPRETATION HERE)"
   ]
  },
  {
   "cell_type": "markdown",
   "id": "a7e1f327-a386-476a-8d94-2ab7a63afa7a",
   "metadata": {},
   "source": [
    "## Sentiment VOCAB_SENT (4)\n",
    "\n",
    "Sentiment values associated with a subset of the VOCAB from a curated sentiment lexicon.\n",
    "\n",
    "- UVA Box URL:\n",
    "- UVA Box URL for source lexicon:\n",
    "- GitHub URL for notebook used to create:\n",
    "- Delimitter:"
   ]
  },
  {
   "cell_type": "markdown",
   "id": "fa8a9d67-1560-4be9-b82a-b99a60b5c93e",
   "metadata": {
    "tags": []
   },
   "source": [
    "## Sentiment BOW_SENT (4)\n",
    "\n",
    "Sentiment values from VOCAB_SENT mapped onto BOW.\n",
    "\n",
    "- UVA Box URL:\n",
    "- GitHub URL for notebook used to create:\n",
    "- Delimitter:"
   ]
  },
  {
   "cell_type": "markdown",
   "id": "d6ee6837-b12e-453d-96c1-59eaa4b28883",
   "metadata": {},
   "source": [
    "## Sentiment DOC_SENT (4)\n",
    "\n",
    "Computed sentiment per bag computed from BOW_SENT.\n",
    "\n",
    "- UVA Box URL:\n",
    "- GitHub URL for notebook used to create:\n",
    "- Delimitter:\n",
    "- Document bag expressed in terms of OHCO levels:"
   ]
  },
  {
   "cell_type": "markdown",
   "id": "7e4cba13-e60a-4940-a06d-02479f002c3c",
   "metadata": {},
   "source": [
    "## Sentiment Plot (4)\n",
    "\n",
    "Plot sentiment over some metric space, such as time.\n",
    "\n",
    "If you don't have a metric metadata features, plot sentiment over a feature of your choice.\n",
    "\n",
    "You may use a bar chart or a line graph.\n",
    "\n",
    "(INSERT IMAGE HERE)"
   ]
  },
  {
   "cell_type": "markdown",
   "id": "4f5d2316-317b-4d95-a804-aff98242e411",
   "metadata": {},
   "source": [
    "## VOCAB_W2V (4)\n",
    "\n",
    "A table of word2vec features associated with terms in the VOCAB table.\n",
    "\n",
    "- UVA Box URL:\n",
    "- GitHub URL for notebook used to create:\n",
    "- Delimitter:\n",
    "- Document bag expressed in terms of OHCO levels:\n",
    "- Number of features generated:\n",
    "- The library used to generate the embeddings:"
   ]
  },
  {
   "cell_type": "markdown",
   "id": "833c1974-047b-4285-9f4d-7f3314f39542",
   "metadata": {},
   "source": [
    "## Word2vec tSNE Plot (4)\n",
    "\n",
    "Plot word embedding featues in two-dimensions using t-SNE.\n",
    "\n",
    "Describe a cluster in the plot that captures your attention.\n",
    "\n",
    "(INSERT IMAGE HERE)\n",
    "\n",
    "(INSERT DESCRIPTION HERE)"
   ]
  },
  {
   "cell_type": "markdown",
   "id": "75878341-7fe8-4e22-b908-36029f9818e8",
   "metadata": {},
   "source": [
    "# Riffs\n",
    "\n",
    "Provde at least three visualizations that combine the preceding model data in interesting ways.\n",
    "\n",
    "These should provide insight into how features in the LIB table are related. \n",
    "\n",
    "The nature of this relationship is left open to you -- it may be correlation, or mutual information, or something less well defined. \n",
    "\n",
    "In doing so, consider the following visualization types:\n",
    "\n",
    "- Hierarchical cluster diagrams\n",
    "- Heatmaps\n",
    "- Scatter plots\n",
    "- KDE plots\n",
    "- Dispersion plots\n",
    "- t-SNE plots\n",
    "- etc."
   ]
  },
  {
   "cell_type": "markdown",
   "id": "1c62acf1-6bb0-45d0-aed2-863b285f8cad",
   "metadata": {
    "tags": []
   },
   "source": [
    "## Riff 1 (5)\n",
    "\n",
    "(INSERT IMAGE HERE)\n",
    "\n",
    "(INSERT INTERPRETATION HERE)"
   ]
  },
  {
   "cell_type": "markdown",
   "id": "2155a072-02b3-4aa8-b9f1-e43a59e9a85d",
   "metadata": {
    "tags": []
   },
   "source": [
    "## Riff 2 (5)\n",
    "\n",
    "(INSERT IMAGE HERE)\n",
    "\n",
    "(INSERT INTERPRETATION HERE)"
   ]
  },
  {
   "cell_type": "markdown",
   "id": "5067c59b-8983-4acc-972a-1ecd852ded57",
   "metadata": {
    "tags": []
   },
   "source": [
    "## Riff 3 (5)\n",
    "\n",
    "(INSERT IMAGE HERE)\n",
    "\n",
    "(INSERT INTERPRETATION HERE)"
   ]
  },
  {
   "cell_type": "markdown",
   "id": "68e25c6e-2624-4899-829e-e7d60c878685",
   "metadata": {},
   "source": [
    "# Interpretation (4)\n",
    "\n",
    "Describe something interesting about your corpus that you discovered during the process of completing this assignment.\n",
    "\n",
    "At a minumum, use 250 words, but you may use more. You may also add images if you'd like.\n",
    "\n",
    "(INSERT INTERPRETATION HERE)"
   ]
  },
  {
   "cell_type": "code",
   "execution_count": null,
   "id": "800d056b-2bca-4724-be9c-91ea640b8129",
   "metadata": {},
   "outputs": [],
   "source": []
  }
 ],
 "metadata": {
  "kernelspec": {
   "display_name": "Python 3 (ipykernel)",
   "language": "python",
   "name": "python3"
  },
  "language_info": {
   "codemirror_mode": {
    "name": "ipython",
    "version": 3
   },
   "file_extension": ".py",
   "mimetype": "text/x-python",
   "name": "python",
   "nbconvert_exporter": "python",
   "pygments_lexer": "ipython3",
   "version": "3.11.4"
  },
  "toc-autonumbering": true,
  "toc-showmarkdowntxt": false
 },
 "nbformat": 4,
 "nbformat_minor": 5
}
