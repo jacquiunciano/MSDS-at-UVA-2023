{
 "cells": [
  {
   "cell_type": "markdown",
   "id": "45762487-d33f-486d-8e38-2cdea04e3528",
   "metadata": {},
   "source": [
    "# Final Project Report\n",
    "\n",
    "* Class: DS 5100\n",
    "* Student Name: Jacqui Unciano\n",
    "* Student Net ID: jdu5sq\n",
    "* This URL: a URL to the notebook source of this document"
   ]
  },
  {
   "cell_type": "markdown",
   "id": "acf756c1-ecaa-41dc-b6ca-d566eb94560b",
   "metadata": {},
   "source": [
    "# Instructions\n",
    "\n",
    "Follow the instructions in the [Final Project](https://ontoligent.github.io/DS5100-2023-07-R/notebooks/M00_FinalProject/FinalProjectInstructions.html) isntructions and put your work in this notebook.\n",
    "\n",
    "Total points for each subsection under **Deliverables** and **Scenarios** are given in parentheses.\n",
    "\n",
    "Breakdowns of points within subsections are specified within subsection instructions as bulleted lists.\n",
    "\n",
    "This project is worth **50 points**."
   ]
  },
  {
   "cell_type": "markdown",
   "id": "89dc7a32-f682-4402-8c1e-b6ccdb3e0e39",
   "metadata": {},
   "source": [
    "# Deliverables"
   ]
  },
  {
   "cell_type": "markdown",
   "id": "d32cb273-9a40-4909-a7ce-51f6e4958d3c",
   "metadata": {},
   "source": [
    "## The Monte Carlo Module (10)\n",
    "\n",
    "- URL included, appropriately named (1).\n",
    "- Includes all three specified classes (3).\n",
    "- Includes at least all 12 specified methods (6; .5 each)."
   ]
  },
  {
   "cell_type": "markdown",
   "id": "f5f3b070-de9e-4de9-bfae-8974d184aa28",
   "metadata": {},
   "source": [
    "Put the URL to your GitHub repo here.\n",
    "\n",
    "Repo URL:"
   ]
  },
  {
   "cell_type": "markdown",
   "id": "162370fb-3729-4c85-b040-8c25b2c966d2",
   "metadata": {},
   "source": [
    "Paste a copyy of your module here.\n",
    "\n",
    "NOTE: Paste as text, not as code. Use triple backticks to wrap your code blocks."
   ]
  },
  {
   "cell_type": "raw",
   "id": "371c25e2-6537-44b2-b684-6aecef2125ae",
   "metadata": {
    "tags": []
   },
   "source": [
    "'''\n",
    "import numpy as np\n",
    "import pandas as pd\n",
    "import random as rn\n",
    "\n",
    "class Dice:\n",
    "    '''\n",
    "    This is a Dice object.\n",
    "    '''\n",
    "\n",
    "    df  = pd.DataFrame({\"faces\":[],\n",
    "                        \"weights\":[]}).set_index(\"faces\")\n",
    "    \n",
    "    def __init__(self, n, w=1):\n",
    "        '''\n",
    "        This is a initializer for the Dice object. It takes a numpy array with the faces \n",
    "        of the die (n) and the weight for each face (w) and performs methods onto \n",
    "        the given array.\n",
    "        \n",
    "        INPUT:\n",
    "        n    numpy array of int or str\n",
    "        w    int or numpy array, default 1\n",
    "        \n",
    "        OUTPUT:\n",
    "        NONE\n",
    "        \n",
    "        Result:\n",
    "        Saves your faces and weights as a private dataframe.\n",
    "        '''\n",
    "        \n",
    "        if not isinstance(n, np.ndarray):\n",
    "            raise TypeError(\"Hey, you need to use an numpy.array!\")\n",
    "        if len(set(n)) != len(n):\n",
    "            raise ValueError(\"Hey, you've got some repeats in your array!\")\n",
    "        self.df  = pd.DataFrame({\"faces\":n,\n",
    "                       \"weights\":w}).set_index(\"faces\")\n",
    "        \n",
    "    def change_weight(self, face, weight):\n",
    "        '''\n",
    "        This is a change weight method. It takes a number representing the face of the die that\n",
    "        you want to change the weight of (face) and finds the face in the private dataframe. It \n",
    "        updates the dataframe with the new weight for the given face.\n",
    "        \n",
    "        INPUT:\n",
    "        face      int, str\n",
    "        weight    int, float\n",
    "        \n",
    "        OUTPUT:\n",
    "        NONE\n",
    "        \n",
    "        Result:\n",
    "        Updates and saves your changes to the dataframe.\n",
    "        '''\n",
    "        \n",
    "        if face not in self.df.index:\n",
    "            raise IndexError(\"Hey, this face value is not in the current record of faces!\")\n",
    "        if not isinstance(float(weight), float):\n",
    "            raise TypeError(\"Hey, your weight value is not a number!\")\n",
    "        self.df.loc[face] = weight\n",
    "        \n",
    "    def rolldie(self, r=1):\n",
    "        '''\n",
    "        This is a roll die method. It takes a number representing the number of times you \n",
    "        want to roll a die and outputs all the outcomes for each roll in one list.\n",
    "        \n",
    "        INPUT:\n",
    "        r          int\n",
    "        \n",
    "        OUTPUT:\n",
    "        myrolls    list\n",
    "        \n",
    "        Result:\n",
    "        NONE\n",
    "        '''        \n",
    "        \n",
    "        myrolls = rn.choices(self.df.index, weights=self.df.weights, k=r)\n",
    "        return myrolls\n",
    "    \n",
    "    def currentdie(self):\n",
    "        '''\n",
    "        This is a current die method. This allows you to check the current state of the given \n",
    "        die faces and weights.\n",
    "        \n",
    "        INPUT:\n",
    "        NONE\n",
    "        \n",
    "        OUTPUT:\n",
    "        df    dataframe\n",
    "        \n",
    "        Result:\n",
    "        NONE\n",
    "        '''\n",
    "        \n",
    "        return self.df\n",
    "    \n",
    "class Game:\n",
    "    '''\n",
    "    This is a Game object.\n",
    "    '''\n",
    "    \n",
    "    mylist = []\n",
    "    df_rolls = pd.DataFrame({\"Roll Number\":[],\n",
    "                           \"Dice Number\":[]}).set_index(\"Roll Number\")\n",
    "    \n",
    "    def __init__(self, mylist):\n",
    "        '''\n",
    "        This is an initilzer for the Game object. It takes a list of Dice objects and \n",
    "        performs methods on the given list.\n",
    "        \n",
    "        INPUT:\n",
    "        mylist    list\n",
    "        \n",
    "        OUTPUT:\n",
    "        NONE\n",
    "        \n",
    "        Result:\n",
    "        Saves your list.\n",
    "        '''\n",
    "        \n",
    "        face1 = set(mylist[0].df.index)\n",
    "        for each_obj in mylist:\n",
    "            if not isinstance(each_obj, Dice):\n",
    "                raise TypeError(\"Hey, one or more of your inputs is not a Dice object!\")\n",
    "            if not face1 == set(each_obj.df.index):\n",
    "                raise ValueError(\"Hey, your inputs need to all have the same faces!\")\n",
    "        self.mylist = mylist\n",
    "    \n",
    "    def play(self, n):\n",
    "        '''\n",
    "        This is a play method for the Game object. It takes a list of Dice object and rolls\n",
    "        all dice a given number of times and saves the results in a dataframe with a wide\n",
    "        format.\n",
    "        \n",
    "        INPUT:\n",
    "        n    int\n",
    "        \n",
    "        OUTPUT:\n",
    "        NONE\n",
    "        \n",
    "        Result:\n",
    "        Saves a dataframe with the results in wide format.\n",
    "        '''\n",
    "        \n",
    "        roll_results = sum([x.rolldie(n) for x in self.mylist], [])\n",
    "        die_num = np.repeat(np.arange(1,len(self.mylist)+1),n)\n",
    "        roll_num = np.tile(np.arange(1,n+1), len(self.mylist))\n",
    "        \n",
    "        df_rolls = pd.DataFrame({\"Roll Number\": roll_num, \"Dice Number\": die_num, \"y\": roll_results}, \n",
    "                        index=roll_num)\n",
    "        self.df_rolls = df_rolls.pivot(index=\"Roll Number\", columns=\"Dice Number\", values=\"y\")\n",
    "        \n",
    "    def recent_play(self, narrow=False):\n",
    "        '''\n",
    "        This is a recent play method for the Game object. It returns the most recent results \n",
    "        from the play method in either wide format (default) or long format.\n",
    "        \n",
    "        INPUT:\n",
    "        **narrow    bool\n",
    "        \n",
    "        OUTPUT:\n",
    "        df_rolls    dataframe\n",
    "        \n",
    "        Result:\n",
    "        **optional argument\n",
    "        '''\n",
    "        \n",
    "        if not isinstance(narrow, bool):\n",
    "            raise ValueError(\"Hey, this method takes 0 or 1 arguements. If 1 arguement, \\\n",
    "            it must be a boolean value!\")\n",
    "        if narrow==False:\n",
    "            return self.df_rolls\n",
    "        else:\n",
    "            return pd.melt(self.df_rolls, value_name=\"Roll Results\", ignore_index=False)\\\n",
    "        .set_index([pd.melt(self.df_rolls, value_name=\"Roll Results\", ignore_index=False).index, \"Dice Number\"])\n",
    "    \n",
    "class Analyzer:\n",
    "    '''\n",
    "    This is an Analyzer object.\n",
    "    '''\n",
    "    \n",
    "    mygame = pd.DataFrame()\n",
    "    \n",
    "    def __init__(self, mygame):\n",
    "        '''\n",
    "        This is an initilzer for the Analyzer object. It takes a Game object's dataframe\n",
    "        and performs methods on the given Game object dataframe.\n",
    "        \n",
    "        INPUT:\n",
    "        mygame    dataframe\n",
    "        \n",
    "        OUTPUT:\n",
    "        NONE\n",
    "        \n",
    "        Result:\n",
    "        Saves your dataframe.\n",
    "        '''\n",
    "        \n",
    "        if not isinstance(mygame, Game):\n",
    "                raise ValueError(\"Hey, your input is not a Game object!\")\n",
    "        self.mygame = mygame.df_rolls\n",
    "        \n",
    "    def jackpot(self):\n",
    "        '''\n",
    "        This is a jackpot method for the Analyzer object. It returns the number of \n",
    "        times a Game object has hit a jackpot. \n",
    "        \n",
    "        INPUT:\n",
    "        NONE\n",
    "        \n",
    "        OUTPUT:\n",
    "        jackpot_results    int\n",
    "        \n",
    "        Result:\n",
    "        NONE\n",
    "        '''\n",
    "        \n",
    "        jackpot_results = self.mygame.iloc[np.where\\\n",
    "        (self.mygame.eq(self.mygame.iloc[:, 0], axis=0).all(1))]\n",
    "        return len(jackpot_results)\n",
    "    \n",
    "    def face_counts(self):\n",
    "        '''\n",
    "        This is a face counts method for the Analyzer object. Computes how many times a \n",
    "        given face is rolled in the Game object and returns a data frame of results. \n",
    "        \n",
    "        INPUT:\n",
    "        NONE\n",
    "        \n",
    "        OUTPUT:\n",
    "        new_df    dataframe\n",
    "        \n",
    "        Result:\n",
    "        NONE\n",
    "        '''\n",
    "        \n",
    "        new_df = self.mygame.apply(pd.Series.value_counts, axis=1).fillna(0)\n",
    "        new_df = new_df.rename_axis(\"Face Number\", axis=\"columns\")\n",
    "        return new_df\n",
    "    \n",
    "    def combo_count(self):\n",
    "        '''\n",
    "        This is a combination count method for the Analyzer object. Calculates the distinct number \n",
    "        of combinations of faces rolled. Returns a data frame of results.\n",
    "        \n",
    "        INPUT:\n",
    "        NONE\n",
    "        \n",
    "        OUTPUT:\n",
    "        df    dataframe\n",
    "        \n",
    "        Result:\n",
    "        NONE\n",
    "        '''\n",
    "        \n",
    "        return pd.DataFrame(np.sort(self.mygame.values, axis=1), columns=self.mygame.columns) \\\n",
    "        .value_counts().to_frame(name=\"Combo Count\")\n",
    "    \n",
    "    def perm_count(self):\n",
    "        '''\n",
    "        This is a permutation count method for the Analyzer object. Calculates the distinct \n",
    "        number of permutations of faces rolled and returns a data frame of results.\n",
    "        \n",
    "        INPUT:\n",
    "        NONE\n",
    "        \n",
    "        OUTPUT:\n",
    "        perm_df    dataframe\n",
    "        \n",
    "        Result:\n",
    "        NONE\n",
    "        '''\n",
    "        \n",
    "        perm_df = self.mygame.value_counts().to_frame(name=\"Permutation Count\")\n",
    "        return perm_df\n",
    "    \n",
    "'''"
   ]
  },
  {
   "cell_type": "markdown",
   "id": "6377727a-8f0a-491e-9f1c-d9dc225edd35",
   "metadata": {},
   "source": [
    "## Unitest Module (2)\n",
    "\n",
    "Paste a copy of your test module below.\n",
    "\n",
    "NOTE: Paste as text, not as code. Use triple backticks to wrap your code blocks.\n",
    "\n",
    "- All methods have at least one test method (1).\n",
    "- Each method employs one of Unittest's Assert methods (1)."
   ]
  },
  {
   "cell_type": "raw",
   "id": "76efd145-b15e-43d4-acd5-92a738e84790",
   "metadata": {
    "tags": []
   },
   "source": [
    "'''\n",
    "import numpy as np\n",
    "import pandas as pd\n",
    "import unittest\n",
    "import random as rn\n",
    "from montecarlo import Dice as d\n",
    "from montecarlo import Game as g\n",
    "from montecarlo import Analyzer as a\n",
    "\n",
    "class BookLoverTestSuite(unittest.TestCase):\n",
    "    \n",
    "    def test_1_init(self):\n",
    "        mydie = d(np.array([1,2,3,4]))\n",
    "        current = mydie.df\n",
    "        expected = pd.DataFrame({\"faces\":[1,2,3,4],\n",
    "                        \"weights\":[1,1,1,1]}).set_index(\"faces\")\n",
    "        message = \"Hey, something is wrong with the initializer in Dice object!\\\n",
    "        It's not saving the dataframe correctly.\"\n",
    "        self.assertTrue(current.equals(expected), message)\n",
    "        \n",
    "    def test_2_change_weight(self):\n",
    "        mydie = d(np.array([1,2,3,4]))\n",
    "        mydie.change_weight(2,2)\n",
    "        current = mydie.df.iloc[1].item()\n",
    "        expected = 2\n",
    "        message = \"Hey, something is wrong with the change_weight method in Dice object!\\\n",
    "        It's not updating the dataframe correctly.\"\n",
    "        self.assertEqual(current, expected, message)\n",
    "        \n",
    "    def test_3_rolldie(self):\n",
    "        mydie = d(np.array([1,2,3,4]))\n",
    "        current = len(mydie.rolldie(5))\n",
    "        expected = 5\n",
    "        message = \"Hey, something is wrong with the rolldie method in Dice object!\\\n",
    "        It's not rolling the die the amount of times that you want.\"\n",
    "        self.assertEqual(current, expected, message)\n",
    "        \n",
    "    def test_4_currentdie(self):\n",
    "        mydie = d(np.array([1,2,3,4]))\n",
    "        mydie.change_weight(2,2)\n",
    "        current = mydie.currentdie()\n",
    "        expected = pd.DataFrame({\"faces\":[1,2,3,4],\n",
    "                        \"weights\":[1,2,1,1]}).set_index(\"faces\")\n",
    "        message = \"Hey, something is wrong with the currentdie method in Dice object!\\\n",
    "        It's not returning the updated dataframe.\"\n",
    "        self.assertTrue(current.equals(expected), message)\n",
    "        \n",
    "    def test_5_init(self):\n",
    "        mydie1 = d(np.array([1,2,3,4]))\n",
    "        mydie2 = d(np.array([1,2,3,4]))\n",
    "        mygame = g([mydie1, mydie2])\n",
    "        current = mygame.mylist\n",
    "        expected = [mydie1, mydie2]\n",
    "        message = \"Hey, something is wrong with the initializer in Game object!\\\n",
    "        It's not saving the list correctly.\"\n",
    "        self.assertEqual(current, expected, message)\n",
    "        \n",
    "    def test_6_play(self):\n",
    "        mydie1 = d(np.array([1,2,3,4]))\n",
    "        mydie2 = d(np.array([1,2,3,4]))\n",
    "        mygame = g([mydie1, mydie2])\n",
    "        mygame.play(4)\n",
    "        current = mygame.df_rolls.shape\n",
    "        expected = (4, 2)\n",
    "        message = \"Hey, something is wrong with the play method in Game object!\\\n",
    "        The dataframe is not saving as a wide dataframe correctly.\"\n",
    "        self.assertEqual(current, expected, message)\n",
    "        \n",
    "    def test_7_recent_play(self):\n",
    "        mydie1 = d(np.array([1,2,3,4]))\n",
    "        mydie2 = d(np.array([1,2,3,4]))\n",
    "        mygame = g([mydie1, mydie2])\n",
    "        mygame.play(4)\n",
    "        current = mygame.recent_play(narrow=True).shape\n",
    "        expected = (8,1)\n",
    "        message = \"Hey, something is wrong with the recent play method in Game object!\\\n",
    "        The dataframe is not in long format.\"\n",
    "        self.assertEqual(current, expected, message)\n",
    "        \n",
    "    def test_8_init(self):\n",
    "        mydie1 = d(np.array([1,2,3,4]))\n",
    "        mydie2 = d(np.array([1,2,3,4]))\n",
    "        mygame = g([mydie1, mydie2])\n",
    "        myana = a(mygame)\n",
    "        current = myana.mygame\n",
    "        message = \"Hey, something is wrong with the initializer in Analyzer object!\\\n",
    "        The Game object did not save as a dataframe.\"\n",
    "        self.assertTrue(isinstance(current, pd.DataFrame), message)\n",
    "        \n",
    "    def test_9_jackpot(self):\n",
    "        mydie1 = d(np.array([1,2,3,4]))\n",
    "        mydie2 = d(np.array([1,2,3,4]))\n",
    "        mygame = g([mydie1, mydie2])\n",
    "        myana = a(mygame)\n",
    "        current = myana.jackpot()\n",
    "        message = \"Hey, something is wrong with the jackpot method in Analyzer object!\\\n",
    "        It's not returning an integer.\"\n",
    "        self.assertTrue(isinstance(current, int), message)\n",
    "        \n",
    "    def test_10_face_counts(self):\n",
    "        mydie1 = d(np.array([1,2,3,4]))\n",
    "        mydie2 = d(np.array([1,2,3,4]))\n",
    "        mygame = g([mydie1, mydie2])\n",
    "        myana = a(mygame)\n",
    "        test1 = myana.face_counts().index.name == \"Roll Number\"\n",
    "        test2 = myana.face_counts().columns.name == \"Face Number\"\n",
    "        test3 = all(myana.face_counts().apply(pd.Series.sum, axis=1)==2)\n",
    "        message = \"Hey, something is wrong with the face counts method in Analyzer object!\\\n",
    "        The data frame returned is not in the correct format.\"\n",
    "        self.assertTrue(test1==test2==test3==True, message)\n",
    "        \n",
    "    def test_11_combo_count(self):\n",
    "        mydie1 = d(np.array([1,2,3,4]))\n",
    "        mydie2 = d(np.array([1,2,3,4]))\n",
    "        mygame = g([mydie1, mydie2])\n",
    "        myana = a(mygame)\n",
    "        test1 = myana.combo_count()['Combo Count'].sum() == 0\n",
    "        test2 = isinstance(myana.combo_count().index, pd.MultiIndex)\n",
    "        message = \"Hey, something is wrong with the combo count method in Analyzer object!\\\n",
    "        The dataframe returned is not in the correct format.\"\n",
    "        self.assertTrue(test1==test2==True, message)\n",
    "        \n",
    "    def test_12_perm_count(self):\n",
    "        mydie1 = d(np.array([1,2,3,4]))\n",
    "        mydie2 = d(np.array([1,2,3,4]))\n",
    "        mygame = g([mydie1, mydie2])\n",
    "        myana = a(mygame)\n",
    "        test1 = myana.perm_count()['Permutation Count'].sum() == 0 \n",
    "        test2 = isinstance(myana.perm_count().index, pd.MultiIndex)\n",
    "        message = \"Hey, something is wrong with the perm count method in Analyzer object!\\\n",
    "        The dataframe returned is not in the correct format.\"\n",
    "        self.assertTrue(test1==test2==True, message)\n",
    "        \n",
    "if __name__=='__main__':\n",
    "    unittest.main(verbosity=3)\n",
    "'''"
   ]
  },
  {
   "cell_type": "markdown",
   "id": "3e058d03-29bc-408f-b36d-0605b4f4b8c0",
   "metadata": {
    "tags": []
   },
   "source": [
    "## Unittest Results (3)\n",
    "\n",
    "Put a copy of the results of running your tests from the command line here.\n",
    "\n",
    "Again, paste as text using triple backticks.\n",
    "\n",
    "- All 12 specified methods return OK (3; .25 each)."
   ]
  },
  {
   "cell_type": "raw",
   "id": "54691fd0-836c-43c7-adc9-4a09d8aa9ab2",
   "metadata": {
    "tags": []
   },
   "source": [
    "'''\n",
    "python : test_10_face_counts (__main__.BookLoverTestSuite) ... ok\n",
    "At line:1 char:1\n",
    "+ python monte_test.py 2> monte_test.txt\n",
    "+ ~~~~~~~~~~~~~~~~~~~~~~~~~~~~~~~~~~~~~~\n",
    "    + CategoryInfo          : NotSpecified: (test_10_face_co...stSuite) ... ok:String) [], RemoteException\n",
    "    + FullyQualifiedErrorId : NativeCommandError\n",
    " \n",
    "test_11_combo_count (__main__.BookLoverTestSuite) ... ok\n",
    "test_12_perm_count (__main__.BookLoverTestSuite) ... ok\n",
    "test_1_init (__main__.BookLoverTestSuite) ... ok\n",
    "test_2_change_weight (__main__.BookLoverTestSuite) ... ok\n",
    "test_3_rolldie (__main__.BookLoverTestSuite) ... ok\n",
    "test_4_currentdie (__main__.BookLoverTestSuite) ... ok\n",
    "test_5_init (__main__.BookLoverTestSuite) ... ok\n",
    "test_6_play (__main__.BookLoverTestSuite) ... ok\n",
    "test_7_recent_play (__main__.BookLoverTestSuite) ... ok\n",
    "test_8_init (__main__.BookLoverTestSuite) ... ok\n",
    "test_9_jackpot (__main__.BookLoverTestSuite) ... ok\n",
    "\n",
    "----------------------------------------------------------------------\n",
    "Ran 12 tests in 0.034s\n",
    "\n",
    "OK\n",
    "'''"
   ]
  },
  {
   "cell_type": "markdown",
   "id": "d9ffe8c5-eb2f-4ad1-af76-a46550e4c7ac",
   "metadata": {},
   "source": [
    "## Import (1)\n",
    "\n",
    "Import your module here. This import should refer to the code in your package directory.\n",
    "\n",
    "- Module successuflly imported (1)."
   ]
  },
  {
   "cell_type": "code",
   "execution_count": 1,
   "id": "a05dffb3-e6d6-4f78-9df4-5abd0cf74ca9",
   "metadata": {
    "tags": []
   },
   "outputs": [],
   "source": [
    "import montecarlo"
   ]
  },
  {
   "cell_type": "markdown",
   "id": "f30c4842-65b1-4556-98b6-3fe1a07e1371",
   "metadata": {},
   "source": [
    "## Help Docs (4)\n",
    "\n",
    "Show your docstring documentation by applying `help()` to your imported module.\n",
    "\n",
    "- All methods have a docstring (3; .25 each).\n",
    "- All classes have a docstring (1; .33 each)."
   ]
  },
  {
   "cell_type": "code",
   "execution_count": 2,
   "id": "bf4fbf1f-9885-471c-a0a6-e9ca90e160de",
   "metadata": {
    "tags": []
   },
   "outputs": [
    {
     "name": "stdout",
     "output_type": "stream",
     "text": [
      "Help on module montecarlo:\n",
      "\n",
      "NAME\n",
      "    montecarlo\n",
      "\n",
      "CLASSES\n",
      "    builtins.object\n",
      "        Analyzer\n",
      "        Dice\n",
      "        Game\n",
      "    \n",
      "    class Analyzer(builtins.object)\n",
      "     |  Analyzer(mygame)\n",
      "     |  \n",
      "     |  This is an Analyzer object.\n",
      "     |  \n",
      "     |  Methods defined here:\n",
      "     |  \n",
      "     |  __init__(self, mygame)\n",
      "     |      This is an initilzer for the Analyzer object. It takes a Game object's dataframe\n",
      "     |      and performs methods on the given Game object dataframe.\n",
      "     |      \n",
      "     |      INPUT:\n",
      "     |      mygame    dataframe\n",
      "     |      \n",
      "     |      OUTPUT:\n",
      "     |      NONE\n",
      "     |      \n",
      "     |      Result:\n",
      "     |      Saves your dataframe.\n",
      "     |  \n",
      "     |  combo_count(self)\n",
      "     |      This is a combination count method for the Analyzer object. Calculates the distinct number \n",
      "     |      of combinations of faces rolled. Returns a data frame of results.\n",
      "     |      \n",
      "     |      INPUT:\n",
      "     |      NONE\n",
      "     |      \n",
      "     |      OUTPUT:\n",
      "     |      df    dataframe\n",
      "     |      \n",
      "     |      Result:\n",
      "     |      NONE\n",
      "     |  \n",
      "     |  face_counts(self)\n",
      "     |      This is a face counts method for the Analyzer object. Computes how many times a \n",
      "     |      given face is rolled in the Game object and returns a data frame of results. \n",
      "     |      \n",
      "     |      INPUT:\n",
      "     |      NONE\n",
      "     |      \n",
      "     |      OUTPUT:\n",
      "     |      new_df    dataframe\n",
      "     |      \n",
      "     |      Result:\n",
      "     |      NONE\n",
      "     |  \n",
      "     |  jackpot(self)\n",
      "     |      This is a jackpot method for the Analyzer object. It returns the number of \n",
      "     |      times a Game object has hit a jackpot. \n",
      "     |      \n",
      "     |      INPUT:\n",
      "     |      NONE\n",
      "     |      \n",
      "     |      OUTPUT:\n",
      "     |      jackpot_results    int\n",
      "     |      \n",
      "     |      Result:\n",
      "     |      NONE\n",
      "     |  \n",
      "     |  perm_count(self)\n",
      "     |      This is a permutation count method for the Analyzer object. Calculates the distinct \n",
      "     |      number of permutations of faces rolled and returns a data frame of results.\n",
      "     |      \n",
      "     |      INPUT:\n",
      "     |      NONE\n",
      "     |      \n",
      "     |      OUTPUT:\n",
      "     |      perm_df    dataframe\n",
      "     |      \n",
      "     |      Result:\n",
      "     |      NONE\n",
      "     |  \n",
      "     |  ----------------------------------------------------------------------\n",
      "     |  Data descriptors defined here:\n",
      "     |  \n",
      "     |  __dict__\n",
      "     |      dictionary for instance variables (if defined)\n",
      "     |  \n",
      "     |  __weakref__\n",
      "     |      list of weak references to the object (if defined)\n",
      "     |  \n",
      "     |  ----------------------------------------------------------------------\n",
      "     |  Data and other attributes defined here:\n",
      "     |  \n",
      "     |  mygame = Empty DataFrame\n",
      "     |  Columns: []\n",
      "     |  Index: []\n",
      "    \n",
      "    class Dice(builtins.object)\n",
      "     |  Dice(n, w=1)\n",
      "     |  \n",
      "     |  This is a Dice object.\n",
      "     |  \n",
      "     |  Methods defined here:\n",
      "     |  \n",
      "     |  __init__(self, n, w=1)\n",
      "     |      This is a initializer for the Dice object. It takes a numpy array with the faces \n",
      "     |      of the die (n) and the weight for each face (w) and performs methods onto \n",
      "     |      the given array.\n",
      "     |      \n",
      "     |      INPUT:\n",
      "     |      n    numpy array of int or str\n",
      "     |      w    int or numpy array, default 1\n",
      "     |      \n",
      "     |      OUTPUT:\n",
      "     |      NONE\n",
      "     |      \n",
      "     |      Result:\n",
      "     |      Saves your faces and weights as a private dataframe.\n",
      "     |  \n",
      "     |  change_weight(self, face, weight)\n",
      "     |      This is a change weight method. It takes a number representing the face of the die that\n",
      "     |      you want to change the weight of (face) and finds the face in the private dataframe. It \n",
      "     |      updates the dataframe with the new weight for the given face.\n",
      "     |      \n",
      "     |      INPUT:\n",
      "     |      face      int, str\n",
      "     |      weight    int, float\n",
      "     |      \n",
      "     |      OUTPUT:\n",
      "     |      NONE\n",
      "     |      \n",
      "     |      Result:\n",
      "     |      Updates and saves your changes to the dataframe.\n",
      "     |  \n",
      "     |  currentdie(self)\n",
      "     |      This is a current die method. This allows you to check the current state of the given \n",
      "     |      die faces and weights.\n",
      "     |      \n",
      "     |      INPUT:\n",
      "     |      NONE\n",
      "     |      \n",
      "     |      OUTPUT:\n",
      "     |      df    dataframe\n",
      "     |      \n",
      "     |      Result:\n",
      "     |      NONE\n",
      "     |  \n",
      "     |  rolldie(self, r=1)\n",
      "     |      This is a roll die method. It takes a number representing the number of times you \n",
      "     |      want to roll a die and outputs all the outcomes for each roll in one list.\n",
      "     |      \n",
      "     |      INPUT:\n",
      "     |      r          int\n",
      "     |      \n",
      "     |      OUTPUT:\n",
      "     |      myrolls    list\n",
      "     |      \n",
      "     |      Result:\n",
      "     |      NONE\n",
      "     |  \n",
      "     |  ----------------------------------------------------------------------\n",
      "     |  Data descriptors defined here:\n",
      "     |  \n",
      "     |  __dict__\n",
      "     |      dictionary for instance variables (if defined)\n",
      "     |  \n",
      "     |  __weakref__\n",
      "     |      list of weak references to the object (if defined)\n",
      "     |  \n",
      "     |  ----------------------------------------------------------------------\n",
      "     |  Data and other attributes defined here:\n",
      "     |  \n",
      "     |  df = Empty DataFrame\n",
      "     |  Columns: [weights]\n",
      "     |  Index: []\n",
      "    \n",
      "    class Game(builtins.object)\n",
      "     |  Game(mylist)\n",
      "     |  \n",
      "     |  This is a Game object.\n",
      "     |  \n",
      "     |  Methods defined here:\n",
      "     |  \n",
      "     |  __init__(self, mylist)\n",
      "     |      This is an initilzer for the Game object. It takes a list of Dice objects and \n",
      "     |      performs methods on the given list.\n",
      "     |      \n",
      "     |      INPUT:\n",
      "     |      mylist    list\n",
      "     |      \n",
      "     |      OUTPUT:\n",
      "     |      NONE\n",
      "     |      \n",
      "     |      Result:\n",
      "     |      Saves your list.\n",
      "     |  \n",
      "     |  play(self, n)\n",
      "     |      This is a play method for the Game object. It takes a list of Dice object and rolls\n",
      "     |      all dice a given number of times and saves the results in a dataframe with a wide\n",
      "     |      format.\n",
      "     |      \n",
      "     |      INPUT:\n",
      "     |      n    int\n",
      "     |      \n",
      "     |      OUTPUT:\n",
      "     |      NONE\n",
      "     |      \n",
      "     |      Result:\n",
      "     |      Saves a dataframe with the results in wide format.\n",
      "     |  \n",
      "     |  recent_play(self, narrow=False)\n",
      "     |      This is a recent play method for the Game object. It returns the most recent results \n",
      "     |      from the play method in either wide format (default) or long format.\n",
      "     |      \n",
      "     |      INPUT:\n",
      "     |      **narrow    bool\n",
      "     |      \n",
      "     |      OUTPUT:\n",
      "     |      df_rolls    dataframe\n",
      "     |      \n",
      "     |      Result:\n",
      "     |      **optional argument\n",
      "     |  \n",
      "     |  ----------------------------------------------------------------------\n",
      "     |  Data descriptors defined here:\n",
      "     |  \n",
      "     |  __dict__\n",
      "     |      dictionary for instance variables (if defined)\n",
      "     |  \n",
      "     |  __weakref__\n",
      "     |      list of weak references to the object (if defined)\n",
      "     |  \n",
      "     |  ----------------------------------------------------------------------\n",
      "     |  Data and other attributes defined here:\n",
      "     |  \n",
      "     |  df_rolls = Empty DataFrame\n",
      "     |  Columns: [Dice Number]\n",
      "     |  Index: []\n",
      "     |  \n",
      "     |  mylist = []\n",
      "\n",
      "FILE\n",
      "    c:\\users\\jacqu\\onedrive\\documents\\msds-at-uva-2023\\projects\\ds5100_pythonds\\montecarlo.py\n",
      "\n",
      "\n"
     ]
    }
   ],
   "source": [
    "help(montecarlo)"
   ]
  },
  {
   "cell_type": "markdown",
   "id": "a9defa84-b395-4966-bd1c-5c6c2bb7ed68",
   "metadata": {},
   "source": [
    "## `README.md` File (3)\n",
    "\n",
    "Provide link to the README.md file of your project's repo.\n",
    "\n",
    "- Metadata section or info present (1).\n",
    "- Synopsis section showing how each class is called (1). (All must be included.)\n",
    "- API section listing all classes and methods (1). (All must be included.)"
   ]
  },
  {
   "cell_type": "markdown",
   "id": "ee090b33-d593-48a0-bf35-e739cea0942c",
   "metadata": {},
   "source": [
    "URL:"
   ]
  },
  {
   "cell_type": "markdown",
   "id": "108604c8-8827-42ef-ab59-6b25428fc0ca",
   "metadata": {},
   "source": [
    "## Successful installation (2)\n",
    "\n",
    "Put a screenshot or paste a copy of a terminal session where you successfully install your module with pip.\n",
    "\n",
    "If pasting text, use a preformatted text block to show the results.\n",
    "\n",
    "- Installed with `pip` (1).\n",
    "- Successfully installed message appears (1)."
   ]
  },
  {
   "cell_type": "raw",
   "id": "1278db6a-aa53-4e5c-a749-93a87ab239e0",
   "metadata": {},
   "source": [
    "'''\n",
    "PS C:\\Users\\jacqu> pip install montecarlo\n",
    "Collecting montecarlo\n",
    "  Downloading montecarlo-0.1.17.tar.gz (1.3 kB)\n",
    "  Preparing metadata (setup.py) ... done\n",
    "Building wheels for collected packages: montecarlo\n",
    "  Building wheel for montecarlo (setup.py) ... done\n",
    "  Created wheel for montecarlo: filename=montecarlo-0.1.17-py3-none-any.whl size=1861 sha256=3f7bdb1214b54f53386580b93aed10ba8f3c0008e910e128f3464f79069a294a\n",
    "  Stored in directory: c:\\users\\jacqu\\appdata\\local\\pip\\cache\\wheels\\9b\\96\\96\\9ba8cf535febd42d4b6f0650941b412502cd6f6471bca1bf12\n",
    "Successfully built montecarlo\n",
    "Installing collected packages: montecarlo\n",
    "Successfully installed montecarlo-0.1.17\n",
    "'''"
   ]
  },
  {
   "cell_type": "markdown",
   "id": "7c44695d-d1b3-4edf-9f94-e64d7446f199",
   "metadata": {
    "tags": []
   },
   "source": [
    "# Scenarios\n",
    "\n",
    "Use code blocks to perform the tasks for each scenario.\n",
    "\n",
    "Be sure the outputs are visible before submitting."
   ]
  },
  {
   "cell_type": "code",
   "execution_count": 3,
   "id": "dceee032-a985-47f2-a136-2203bc5afa23",
   "metadata": {
    "tags": []
   },
   "outputs": [],
   "source": [
    "import numpy as np\n",
    "import pandas as pd\n",
    "import random as rn\n",
    "from montecarlo import Dice as d\n",
    "from montecarlo import Game as g\n",
    "from montecarlo import Analyzer as a"
   ]
  },
  {
   "cell_type": "markdown",
   "id": "e2479eae-6fc9-44cd-b8d7-9b22cb501f2a",
   "metadata": {
    "tags": []
   },
   "source": [
    "## Scenario 1: A 2-headed Coin (9)\n",
    "\n",
    "Task 1. Create a fair coin (with faces $H$ and $T$) and one unfair coin in which one of the faces has a weight of $5$ and the others $1$.\n",
    "\n",
    "- Fair coin created (1).\n",
    "- Unfair coin created with weight as specified (1)."
   ]
  },
  {
   "cell_type": "code",
   "execution_count": 4,
   "id": "55ce498e-c75f-4425-9e3e-b635bd6cd9e1",
   "metadata": {
    "tags": []
   },
   "outputs": [
    {
     "data": {
      "text/html": [
       "<div>\n",
       "<style scoped>\n",
       "    .dataframe tbody tr th:only-of-type {\n",
       "        vertical-align: middle;\n",
       "    }\n",
       "\n",
       "    .dataframe tbody tr th {\n",
       "        vertical-align: top;\n",
       "    }\n",
       "\n",
       "    .dataframe thead th {\n",
       "        text-align: right;\n",
       "    }\n",
       "</style>\n",
       "<table border=\"1\" class=\"dataframe\">\n",
       "  <thead>\n",
       "    <tr style=\"text-align: right;\">\n",
       "      <th></th>\n",
       "      <th>weights</th>\n",
       "    </tr>\n",
       "    <tr>\n",
       "      <th>faces</th>\n",
       "      <th></th>\n",
       "    </tr>\n",
       "  </thead>\n",
       "  <tbody>\n",
       "    <tr>\n",
       "      <th>H</th>\n",
       "      <td>1</td>\n",
       "    </tr>\n",
       "    <tr>\n",
       "      <th>T</th>\n",
       "      <td>1</td>\n",
       "    </tr>\n",
       "  </tbody>\n",
       "</table>\n",
       "</div>"
      ],
      "text/plain": [
       "       weights\n",
       "faces         \n",
       "H            1\n",
       "T            1"
      ]
     },
     "execution_count": 4,
     "metadata": {},
     "output_type": "execute_result"
    }
   ],
   "source": [
    "fair = d(np.array([\"H\",\"T\"]))\n",
    "fair.df"
   ]
  },
  {
   "cell_type": "code",
   "execution_count": 5,
   "id": "d801d534-a304-429e-aafc-5a8f977c7a44",
   "metadata": {
    "tags": []
   },
   "outputs": [
    {
     "data": {
      "text/html": [
       "<div>\n",
       "<style scoped>\n",
       "    .dataframe tbody tr th:only-of-type {\n",
       "        vertical-align: middle;\n",
       "    }\n",
       "\n",
       "    .dataframe tbody tr th {\n",
       "        vertical-align: top;\n",
       "    }\n",
       "\n",
       "    .dataframe thead th {\n",
       "        text-align: right;\n",
       "    }\n",
       "</style>\n",
       "<table border=\"1\" class=\"dataframe\">\n",
       "  <thead>\n",
       "    <tr style=\"text-align: right;\">\n",
       "      <th></th>\n",
       "      <th>weights</th>\n",
       "    </tr>\n",
       "    <tr>\n",
       "      <th>faces</th>\n",
       "      <th></th>\n",
       "    </tr>\n",
       "  </thead>\n",
       "  <tbody>\n",
       "    <tr>\n",
       "      <th>H</th>\n",
       "      <td>5</td>\n",
       "    </tr>\n",
       "    <tr>\n",
       "      <th>T</th>\n",
       "      <td>1</td>\n",
       "    </tr>\n",
       "  </tbody>\n",
       "</table>\n",
       "</div>"
      ],
      "text/plain": [
       "       weights\n",
       "faces         \n",
       "H            5\n",
       "T            1"
      ]
     },
     "execution_count": 5,
     "metadata": {},
     "output_type": "execute_result"
    }
   ],
   "source": [
    "unfair = d(np.array([\"H\",\"T\"]))\n",
    "unfair.change_weight(\"H\", 5)\n",
    "unfair.df"
   ]
  },
  {
   "cell_type": "markdown",
   "id": "02b272ab-99da-4b6e-ac2a-555b73e09c07",
   "metadata": {},
   "source": [
    "Task 2. Play a game of $1000$ flips with two fair dice.\n",
    "\n",
    "- Play method called correclty and without error (1)."
   ]
  },
  {
   "cell_type": "code",
   "execution_count": 6,
   "id": "49e5dc56-9228-46be-adc5-96c88469b03d",
   "metadata": {
    "tags": []
   },
   "outputs": [],
   "source": [
    "mg = g([fair, fair])\n",
    "mg.play(1000)"
   ]
  },
  {
   "cell_type": "code",
   "execution_count": 7,
   "id": "c45fcf33-ad1d-48b2-a8b8-0d2e091c89e7",
   "metadata": {
    "tags": []
   },
   "outputs": [
    {
     "data": {
      "text/html": [
       "<div>\n",
       "<style scoped>\n",
       "    .dataframe tbody tr th:only-of-type {\n",
       "        vertical-align: middle;\n",
       "    }\n",
       "\n",
       "    .dataframe tbody tr th {\n",
       "        vertical-align: top;\n",
       "    }\n",
       "\n",
       "    .dataframe thead th {\n",
       "        text-align: right;\n",
       "    }\n",
       "</style>\n",
       "<table border=\"1\" class=\"dataframe\">\n",
       "  <thead>\n",
       "    <tr style=\"text-align: right;\">\n",
       "      <th>Roll Number</th>\n",
       "      <th>1</th>\n",
       "      <th>2</th>\n",
       "      <th>3</th>\n",
       "      <th>4</th>\n",
       "      <th>5</th>\n",
       "      <th>6</th>\n",
       "      <th>7</th>\n",
       "      <th>8</th>\n",
       "      <th>9</th>\n",
       "      <th>10</th>\n",
       "      <th>11</th>\n",
       "      <th>12</th>\n",
       "      <th>13</th>\n",
       "      <th>14</th>\n",
       "      <th>15</th>\n",
       "      <th>16</th>\n",
       "      <th>17</th>\n",
       "      <th>18</th>\n",
       "      <th>19</th>\n",
       "      <th>20</th>\n",
       "    </tr>\n",
       "    <tr>\n",
       "      <th>Dice Number</th>\n",
       "      <th></th>\n",
       "      <th></th>\n",
       "      <th></th>\n",
       "      <th></th>\n",
       "      <th></th>\n",
       "      <th></th>\n",
       "      <th></th>\n",
       "      <th></th>\n",
       "      <th></th>\n",
       "      <th></th>\n",
       "      <th></th>\n",
       "      <th></th>\n",
       "      <th></th>\n",
       "      <th></th>\n",
       "      <th></th>\n",
       "      <th></th>\n",
       "      <th></th>\n",
       "      <th></th>\n",
       "      <th></th>\n",
       "      <th></th>\n",
       "    </tr>\n",
       "  </thead>\n",
       "  <tbody>\n",
       "    <tr>\n",
       "      <th>1</th>\n",
       "      <td>T</td>\n",
       "      <td>T</td>\n",
       "      <td>T</td>\n",
       "      <td>T</td>\n",
       "      <td>H</td>\n",
       "      <td>H</td>\n",
       "      <td>T</td>\n",
       "      <td>T</td>\n",
       "      <td>T</td>\n",
       "      <td>H</td>\n",
       "      <td>H</td>\n",
       "      <td>T</td>\n",
       "      <td>T</td>\n",
       "      <td>T</td>\n",
       "      <td>T</td>\n",
       "      <td>H</td>\n",
       "      <td>H</td>\n",
       "      <td>H</td>\n",
       "      <td>T</td>\n",
       "      <td>H</td>\n",
       "    </tr>\n",
       "    <tr>\n",
       "      <th>2</th>\n",
       "      <td>T</td>\n",
       "      <td>T</td>\n",
       "      <td>T</td>\n",
       "      <td>T</td>\n",
       "      <td>H</td>\n",
       "      <td>T</td>\n",
       "      <td>T</td>\n",
       "      <td>H</td>\n",
       "      <td>T</td>\n",
       "      <td>H</td>\n",
       "      <td>T</td>\n",
       "      <td>T</td>\n",
       "      <td>T</td>\n",
       "      <td>T</td>\n",
       "      <td>T</td>\n",
       "      <td>H</td>\n",
       "      <td>H</td>\n",
       "      <td>T</td>\n",
       "      <td>H</td>\n",
       "      <td>H</td>\n",
       "    </tr>\n",
       "  </tbody>\n",
       "</table>\n",
       "</div>"
      ],
      "text/plain": [
       "Roll Number 1  2  3  4  5  6  7  8  9  10 11 12 13 14 15 16 17 18 19 20\n",
       "Dice Number                                                            \n",
       "1            T  T  T  T  H  H  T  T  T  H  H  T  T  T  T  H  H  H  T  H\n",
       "2            T  T  T  T  H  T  T  H  T  H  T  T  T  T  T  H  H  T  H  H"
      ]
     },
     "execution_count": 7,
     "metadata": {},
     "output_type": "execute_result"
    }
   ],
   "source": [
    "mg.df_rolls.head(20).T"
   ]
  },
  {
   "cell_type": "markdown",
   "id": "7d9c3dc8-22c1-4cae-81fb-d68d774a05d1",
   "metadata": {},
   "source": [
    "Task 3. Play another game (using a new Game object) of $1000$ flips, this time using two unfair dice and one fair die. For the second unfair die, you can use the same die object twice in the list of dice you pass to the Game object.\n",
    "\n",
    "- New game object created (1).\n",
    "- Play method called correclty and without error (1)."
   ]
  },
  {
   "cell_type": "code",
   "execution_count": 8,
   "id": "65c92601-d32d-4326-b215-74953aee27f2",
   "metadata": {
    "tags": []
   },
   "outputs": [],
   "source": [
    "mg2 = g([unfair, unfair, fair])\n",
    "mg2.play(1000)"
   ]
  },
  {
   "cell_type": "code",
   "execution_count": 9,
   "id": "d4098bed-1eb2-4084-8d5e-9fda07c3be43",
   "metadata": {
    "tags": []
   },
   "outputs": [
    {
     "data": {
      "text/html": [
       "<div>\n",
       "<style scoped>\n",
       "    .dataframe tbody tr th:only-of-type {\n",
       "        vertical-align: middle;\n",
       "    }\n",
       "\n",
       "    .dataframe tbody tr th {\n",
       "        vertical-align: top;\n",
       "    }\n",
       "\n",
       "    .dataframe thead th {\n",
       "        text-align: right;\n",
       "    }\n",
       "</style>\n",
       "<table border=\"1\" class=\"dataframe\">\n",
       "  <thead>\n",
       "    <tr style=\"text-align: right;\">\n",
       "      <th>Roll Number</th>\n",
       "      <th>1</th>\n",
       "      <th>2</th>\n",
       "      <th>3</th>\n",
       "      <th>4</th>\n",
       "      <th>5</th>\n",
       "      <th>6</th>\n",
       "      <th>7</th>\n",
       "      <th>8</th>\n",
       "      <th>9</th>\n",
       "      <th>10</th>\n",
       "      <th>11</th>\n",
       "      <th>12</th>\n",
       "      <th>13</th>\n",
       "      <th>14</th>\n",
       "      <th>15</th>\n",
       "      <th>16</th>\n",
       "      <th>17</th>\n",
       "      <th>18</th>\n",
       "      <th>19</th>\n",
       "      <th>20</th>\n",
       "    </tr>\n",
       "    <tr>\n",
       "      <th>Dice Number</th>\n",
       "      <th></th>\n",
       "      <th></th>\n",
       "      <th></th>\n",
       "      <th></th>\n",
       "      <th></th>\n",
       "      <th></th>\n",
       "      <th></th>\n",
       "      <th></th>\n",
       "      <th></th>\n",
       "      <th></th>\n",
       "      <th></th>\n",
       "      <th></th>\n",
       "      <th></th>\n",
       "      <th></th>\n",
       "      <th></th>\n",
       "      <th></th>\n",
       "      <th></th>\n",
       "      <th></th>\n",
       "      <th></th>\n",
       "      <th></th>\n",
       "    </tr>\n",
       "  </thead>\n",
       "  <tbody>\n",
       "    <tr>\n",
       "      <th>1</th>\n",
       "      <td>T</td>\n",
       "      <td>H</td>\n",
       "      <td>H</td>\n",
       "      <td>H</td>\n",
       "      <td>H</td>\n",
       "      <td>H</td>\n",
       "      <td>H</td>\n",
       "      <td>H</td>\n",
       "      <td>H</td>\n",
       "      <td>H</td>\n",
       "      <td>H</td>\n",
       "      <td>H</td>\n",
       "      <td>T</td>\n",
       "      <td>H</td>\n",
       "      <td>H</td>\n",
       "      <td>H</td>\n",
       "      <td>H</td>\n",
       "      <td>T</td>\n",
       "      <td>H</td>\n",
       "      <td>H</td>\n",
       "    </tr>\n",
       "    <tr>\n",
       "      <th>2</th>\n",
       "      <td>T</td>\n",
       "      <td>H</td>\n",
       "      <td>H</td>\n",
       "      <td>H</td>\n",
       "      <td>H</td>\n",
       "      <td>T</td>\n",
       "      <td>H</td>\n",
       "      <td>H</td>\n",
       "      <td>H</td>\n",
       "      <td>H</td>\n",
       "      <td>T</td>\n",
       "      <td>H</td>\n",
       "      <td>H</td>\n",
       "      <td>H</td>\n",
       "      <td>T</td>\n",
       "      <td>H</td>\n",
       "      <td>H</td>\n",
       "      <td>T</td>\n",
       "      <td>H</td>\n",
       "      <td>H</td>\n",
       "    </tr>\n",
       "    <tr>\n",
       "      <th>3</th>\n",
       "      <td>T</td>\n",
       "      <td>H</td>\n",
       "      <td>T</td>\n",
       "      <td>T</td>\n",
       "      <td>T</td>\n",
       "      <td>H</td>\n",
       "      <td>H</td>\n",
       "      <td>T</td>\n",
       "      <td>T</td>\n",
       "      <td>H</td>\n",
       "      <td>H</td>\n",
       "      <td>H</td>\n",
       "      <td>H</td>\n",
       "      <td>T</td>\n",
       "      <td>H</td>\n",
       "      <td>T</td>\n",
       "      <td>H</td>\n",
       "      <td>T</td>\n",
       "      <td>T</td>\n",
       "      <td>T</td>\n",
       "    </tr>\n",
       "  </tbody>\n",
       "</table>\n",
       "</div>"
      ],
      "text/plain": [
       "Roll Number 1  2  3  4  5  6  7  8  9  10 11 12 13 14 15 16 17 18 19 20\n",
       "Dice Number                                                            \n",
       "1            T  H  H  H  H  H  H  H  H  H  H  H  T  H  H  H  H  T  H  H\n",
       "2            T  H  H  H  H  T  H  H  H  H  T  H  H  H  T  H  H  T  H  H\n",
       "3            T  H  T  T  T  H  H  T  T  H  H  H  H  T  H  T  H  T  T  T"
      ]
     },
     "execution_count": 9,
     "metadata": {},
     "output_type": "execute_result"
    }
   ],
   "source": [
    "mg2.df_rolls.head(20).T"
   ]
  },
  {
   "cell_type": "markdown",
   "id": "f690ebfc-fe71-4eb2-976d-7ac80ca6c23f",
   "metadata": {},
   "source": [
    "Task 4. For each game, use an Analyzer object to determine the raw frequency of jackpots — i.e. getting either all $H$s or all $T$s.\n",
    "\n",
    "- Analyzer objecs instantiated for both games (1).\n",
    "- Raw frequencies reported for both (1)."
   ]
  },
  {
   "cell_type": "code",
   "execution_count": 10,
   "id": "30a75b14-f31b-46ca-890f-52e64a92fb43",
   "metadata": {
    "tags": []
   },
   "outputs": [],
   "source": [
    "ma = a(mg)\n",
    "ma2 = a(mg2)"
   ]
  },
  {
   "cell_type": "code",
   "execution_count": 11,
   "id": "6004ca77-6bf0-4f25-bb04-8ba566d6265a",
   "metadata": {
    "tags": []
   },
   "outputs": [
    {
     "data": {
      "text/plain": [
       "478"
      ]
     },
     "execution_count": 11,
     "metadata": {},
     "output_type": "execute_result"
    }
   ],
   "source": [
    "f1 = ma.jackpot()\n",
    "f1"
   ]
  },
  {
   "cell_type": "code",
   "execution_count": 12,
   "id": "260c5ab7-6131-4fce-9b53-d3359fe5e7c4",
   "metadata": {
    "tags": []
   },
   "outputs": [
    {
     "data": {
      "text/plain": [
       "336"
      ]
     },
     "execution_count": 12,
     "metadata": {},
     "output_type": "execute_result"
    }
   ],
   "source": [
    "f2 = ma2.jackpot()\n",
    "f2"
   ]
  },
  {
   "cell_type": "markdown",
   "id": "b73d233c-445e-40cd-8858-0c5e1f097105",
   "metadata": {},
   "source": [
    "Task 5. For each analyzer, compute relative frequency as the number of jackpots over the total number of rolls.\n",
    "\n",
    "- Both relative frequencies computed (1)."
   ]
  },
  {
   "cell_type": "code",
   "execution_count": 13,
   "id": "b26b8b7e-3be7-4476-a9a4-37d97536729e",
   "metadata": {
    "tags": []
   },
   "outputs": [
    {
     "data": {
      "text/plain": [
       "0.478"
      ]
     },
     "execution_count": 13,
     "metadata": {},
     "output_type": "execute_result"
    }
   ],
   "source": [
    "f3 = ma.jackpot()/1000\n",
    "f3"
   ]
  },
  {
   "cell_type": "code",
   "execution_count": 14,
   "id": "7e03adc2-26ad-42b7-8fc9-028d5cffadce",
   "metadata": {
    "tags": []
   },
   "outputs": [
    {
     "data": {
      "text/plain": [
       "0.336"
      ]
     },
     "execution_count": 14,
     "metadata": {},
     "output_type": "execute_result"
    }
   ],
   "source": [
    "f4 = ma2.jackpot()/1000\n",
    "f4"
   ]
  },
  {
   "cell_type": "markdown",
   "id": "a6e1e734-7f5c-4721-8ba4-2f3a424cf984",
   "metadata": {},
   "source": [
    "Task 6. Show your results, comparing the two relative frequencies, in a simple bar chart.\n",
    "\n",
    "- Bar chart plotted and correct (1)."
   ]
  },
  {
   "cell_type": "code",
   "execution_count": 15,
   "id": "9a96b31b-1b9d-496e-be3e-4bf83c45ec3a",
   "metadata": {
    "tags": []
   },
   "outputs": [
    {
     "data": {
      "text/html": [
       "<div>\n",
       "<style scoped>\n",
       "    .dataframe tbody tr th:only-of-type {\n",
       "        vertical-align: middle;\n",
       "    }\n",
       "\n",
       "    .dataframe tbody tr th {\n",
       "        vertical-align: top;\n",
       "    }\n",
       "\n",
       "    .dataframe thead th {\n",
       "        text-align: right;\n",
       "    }\n",
       "</style>\n",
       "<table border=\"1\" class=\"dataframe\">\n",
       "  <thead>\n",
       "    <tr style=\"text-align: right;\">\n",
       "      <th></th>\n",
       "      <th>Dice</th>\n",
       "      <th>Rel Freq</th>\n",
       "    </tr>\n",
       "  </thead>\n",
       "  <tbody>\n",
       "    <tr>\n",
       "      <th>0</th>\n",
       "      <td>2 fair dice</td>\n",
       "      <td>0.478</td>\n",
       "    </tr>\n",
       "    <tr>\n",
       "      <th>1</th>\n",
       "      <td>2 unfair-1 fair dice</td>\n",
       "      <td>0.336</td>\n",
       "    </tr>\n",
       "  </tbody>\n",
       "</table>\n",
       "</div>"
      ],
      "text/plain": [
       "                   Dice  Rel Freq\n",
       "0           2 fair dice     0.478\n",
       "1  2 unfair-1 fair dice     0.336"
      ]
     },
     "execution_count": 15,
     "metadata": {},
     "output_type": "execute_result"
    }
   ],
   "source": [
    "freq = pd.DataFrame({\"Dice\": [\"2 fair dice\", \"2 unfair-1 fair dice\"],\n",
    "                    \"Rel Freq\":[f3,f4]})\n",
    "freq"
   ]
  },
  {
   "cell_type": "code",
   "execution_count": 16,
   "id": "e52e63ef-27c2-49f4-8f83-d5086011ec71",
   "metadata": {
    "tags": []
   },
   "outputs": [],
   "source": [
    "import seaborn as sns\n",
    "import matplotlib.pyplot as plt"
   ]
  },
  {
   "cell_type": "code",
   "execution_count": 17,
   "id": "82f6099c-7c01-4a70-a7d9-eae20cacc87d",
   "metadata": {
    "tags": []
   },
   "outputs": [
    {
     "data": {
      "text/plain": [
       "Text(0.5, 1.0, 'Relative Frequency for Two Games')"
      ]
     },
     "execution_count": 17,
     "metadata": {},
     "output_type": "execute_result"
    },
    {
     "data": {
      "image/png": "[encoded data removed]",
      "text/plain": [
       "<Figure size 400x400 with 1 Axes>"
      ]
     },
     "metadata": {},
     "output_type": "display_data"
    }
   ],
   "source": [
    "plt.figure(figsize=(4,4))\n",
    "sns.barplot(x='Dice', y=\"Rel Freq\", data=freq)\n",
    "plt.title(\"Relative Frequency for Two Games\")"
   ]
  },
  {
   "cell_type": "markdown",
   "id": "725cfa5b-e4b7-47c9-86aa-8d9e1fe6c8c7",
   "metadata": {},
   "source": [
    "## Scenario 2: A 6-sided Die (9)\n",
    "\n",
    "Task 1. Create three dice, each with six sides having the faces 1 through 6.\n",
    "\n",
    "- Three die objects created (1)."
   ]
  },
  {
   "cell_type": "code",
   "execution_count": 18,
   "id": "473fa67c-aa53-4aa3-a0b7-e8772b3f6ed3",
   "metadata": {
    "tags": []
   },
   "outputs": [],
   "source": [
    "d1 = d(np.array([1,2,3,4,5,6]))\n",
    "d2 = d(np.array([1,2,3,4,5,6]))\n",
    "d3 = d(np.array([1,2,3,4,5,6]))"
   ]
  },
  {
   "cell_type": "markdown",
   "id": "2ed3ad26-fbe9-43bd-9ad7-f683a4191d12",
   "metadata": {},
   "source": [
    "Task 2. Convert one of the dice to an unfair one by weighting the face $6$ five times more than the other weights (i.e. it has weight of 5 and the others a weight of 1 each).\n",
    "\n",
    "- Unfair die created with proper call to weight change method (1)."
   ]
  },
  {
   "cell_type": "code",
   "execution_count": 19,
   "id": "39cc9577-0617-4e13-8cb2-07ccd8f917d9",
   "metadata": {
    "tags": []
   },
   "outputs": [
    {
     "data": {
      "text/html": [
       "<div>\n",
       "<style scoped>\n",
       "    .dataframe tbody tr th:only-of-type {\n",
       "        vertical-align: middle;\n",
       "    }\n",
       "\n",
       "    .dataframe tbody tr th {\n",
       "        vertical-align: top;\n",
       "    }\n",
       "\n",
       "    .dataframe thead th {\n",
       "        text-align: right;\n",
       "    }\n",
       "</style>\n",
       "<table border=\"1\" class=\"dataframe\">\n",
       "  <thead>\n",
       "    <tr style=\"text-align: right;\">\n",
       "      <th>faces</th>\n",
       "      <th>1</th>\n",
       "      <th>2</th>\n",
       "      <th>3</th>\n",
       "      <th>4</th>\n",
       "      <th>5</th>\n",
       "      <th>6</th>\n",
       "    </tr>\n",
       "  </thead>\n",
       "  <tbody>\n",
       "    <tr>\n",
       "      <th>weights</th>\n",
       "      <td>1</td>\n",
       "      <td>1</td>\n",
       "      <td>1</td>\n",
       "      <td>1</td>\n",
       "      <td>1</td>\n",
       "      <td>5</td>\n",
       "    </tr>\n",
       "  </tbody>\n",
       "</table>\n",
       "</div>"
      ],
      "text/plain": [
       "faces    1  2  3  4  5  6\n",
       "weights  1  1  1  1  1  5"
      ]
     },
     "execution_count": 19,
     "metadata": {},
     "output_type": "execute_result"
    }
   ],
   "source": [
    "d1.change_weight(6,5)\n",
    "d1.df.T"
   ]
  },
  {
   "cell_type": "markdown",
   "id": "7f6c062a-4c5b-45b9-96b8-76a0354c7e47",
   "metadata": {},
   "source": [
    "Task 3. Convert another of the dice to be unfair by weighting the face $1$ five times more than the others.\n",
    "\n",
    "- Unfair die created with proper call to weight change method (1)."
   ]
  },
  {
   "cell_type": "code",
   "execution_count": 20,
   "id": "6a8bc611-325a-4e05-88d5-980e0a2cf7c5",
   "metadata": {
    "tags": []
   },
   "outputs": [
    {
     "data": {
      "text/html": [
       "<div>\n",
       "<style scoped>\n",
       "    .dataframe tbody tr th:only-of-type {\n",
       "        vertical-align: middle;\n",
       "    }\n",
       "\n",
       "    .dataframe tbody tr th {\n",
       "        vertical-align: top;\n",
       "    }\n",
       "\n",
       "    .dataframe thead th {\n",
       "        text-align: right;\n",
       "    }\n",
       "</style>\n",
       "<table border=\"1\" class=\"dataframe\">\n",
       "  <thead>\n",
       "    <tr style=\"text-align: right;\">\n",
       "      <th>faces</th>\n",
       "      <th>1</th>\n",
       "      <th>2</th>\n",
       "      <th>3</th>\n",
       "      <th>4</th>\n",
       "      <th>5</th>\n",
       "      <th>6</th>\n",
       "    </tr>\n",
       "  </thead>\n",
       "  <tbody>\n",
       "    <tr>\n",
       "      <th>weights</th>\n",
       "      <td>5</td>\n",
       "      <td>1</td>\n",
       "      <td>1</td>\n",
       "      <td>1</td>\n",
       "      <td>1</td>\n",
       "      <td>1</td>\n",
       "    </tr>\n",
       "  </tbody>\n",
       "</table>\n",
       "</div>"
      ],
      "text/plain": [
       "faces    1  2  3  4  5  6\n",
       "weights  5  1  1  1  1  1"
      ]
     },
     "execution_count": 20,
     "metadata": {},
     "output_type": "execute_result"
    }
   ],
   "source": [
    "d2.change_weight(1,5)\n",
    "d2.df.T"
   ]
  },
  {
   "cell_type": "markdown",
   "id": "f0ed31cb-0a3c-4eb2-b85e-6ed6b2eb6e58",
   "metadata": {},
   "source": [
    "Task 4. Play a game of $10000$ rolls with $5$ fair dice.\n",
    "\n",
    "- Game class properly instantiated (1). \n",
    "- Play method called properly (1)."
   ]
  },
  {
   "cell_type": "code",
   "execution_count": 21,
   "id": "e33dd18f-7f90-456d-a680-61c08a328e21",
   "metadata": {
    "tags": []
   },
   "outputs": [],
   "source": [
    "mg3 = g([d3,d3,d3,d3,d3])\n",
    "mg3.play(10000)"
   ]
  },
  {
   "cell_type": "code",
   "execution_count": 22,
   "id": "0fa67509-cc38-4b77-89a9-46482f97475b",
   "metadata": {
    "tags": []
   },
   "outputs": [
    {
     "data": {
      "text/html": [
       "<div>\n",
       "<style scoped>\n",
       "    .dataframe tbody tr th:only-of-type {\n",
       "        vertical-align: middle;\n",
       "    }\n",
       "\n",
       "    .dataframe tbody tr th {\n",
       "        vertical-align: top;\n",
       "    }\n",
       "\n",
       "    .dataframe thead th {\n",
       "        text-align: right;\n",
       "    }\n",
       "</style>\n",
       "<table border=\"1\" class=\"dataframe\">\n",
       "  <thead>\n",
       "    <tr style=\"text-align: right;\">\n",
       "      <th>Roll Number</th>\n",
       "      <th>1</th>\n",
       "      <th>2</th>\n",
       "      <th>3</th>\n",
       "      <th>4</th>\n",
       "      <th>5</th>\n",
       "      <th>6</th>\n",
       "      <th>7</th>\n",
       "      <th>8</th>\n",
       "      <th>9</th>\n",
       "      <th>10</th>\n",
       "      <th>11</th>\n",
       "      <th>12</th>\n",
       "      <th>13</th>\n",
       "      <th>14</th>\n",
       "      <th>15</th>\n",
       "      <th>16</th>\n",
       "      <th>17</th>\n",
       "      <th>18</th>\n",
       "      <th>19</th>\n",
       "      <th>20</th>\n",
       "    </tr>\n",
       "    <tr>\n",
       "      <th>Dice Number</th>\n",
       "      <th></th>\n",
       "      <th></th>\n",
       "      <th></th>\n",
       "      <th></th>\n",
       "      <th></th>\n",
       "      <th></th>\n",
       "      <th></th>\n",
       "      <th></th>\n",
       "      <th></th>\n",
       "      <th></th>\n",
       "      <th></th>\n",
       "      <th></th>\n",
       "      <th></th>\n",
       "      <th></th>\n",
       "      <th></th>\n",
       "      <th></th>\n",
       "      <th></th>\n",
       "      <th></th>\n",
       "      <th></th>\n",
       "      <th></th>\n",
       "    </tr>\n",
       "  </thead>\n",
       "  <tbody>\n",
       "    <tr>\n",
       "      <th>1</th>\n",
       "      <td>1</td>\n",
       "      <td>5</td>\n",
       "      <td>5</td>\n",
       "      <td>3</td>\n",
       "      <td>4</td>\n",
       "      <td>5</td>\n",
       "      <td>6</td>\n",
       "      <td>1</td>\n",
       "      <td>4</td>\n",
       "      <td>3</td>\n",
       "      <td>2</td>\n",
       "      <td>3</td>\n",
       "      <td>5</td>\n",
       "      <td>3</td>\n",
       "      <td>2</td>\n",
       "      <td>2</td>\n",
       "      <td>4</td>\n",
       "      <td>1</td>\n",
       "      <td>1</td>\n",
       "      <td>1</td>\n",
       "    </tr>\n",
       "    <tr>\n",
       "      <th>2</th>\n",
       "      <td>4</td>\n",
       "      <td>6</td>\n",
       "      <td>2</td>\n",
       "      <td>2</td>\n",
       "      <td>2</td>\n",
       "      <td>6</td>\n",
       "      <td>6</td>\n",
       "      <td>5</td>\n",
       "      <td>2</td>\n",
       "      <td>3</td>\n",
       "      <td>5</td>\n",
       "      <td>3</td>\n",
       "      <td>1</td>\n",
       "      <td>1</td>\n",
       "      <td>2</td>\n",
       "      <td>5</td>\n",
       "      <td>2</td>\n",
       "      <td>2</td>\n",
       "      <td>5</td>\n",
       "      <td>2</td>\n",
       "    </tr>\n",
       "    <tr>\n",
       "      <th>3</th>\n",
       "      <td>6</td>\n",
       "      <td>3</td>\n",
       "      <td>6</td>\n",
       "      <td>3</td>\n",
       "      <td>5</td>\n",
       "      <td>6</td>\n",
       "      <td>2</td>\n",
       "      <td>2</td>\n",
       "      <td>6</td>\n",
       "      <td>5</td>\n",
       "      <td>6</td>\n",
       "      <td>4</td>\n",
       "      <td>6</td>\n",
       "      <td>4</td>\n",
       "      <td>3</td>\n",
       "      <td>4</td>\n",
       "      <td>3</td>\n",
       "      <td>1</td>\n",
       "      <td>1</td>\n",
       "      <td>5</td>\n",
       "    </tr>\n",
       "    <tr>\n",
       "      <th>4</th>\n",
       "      <td>1</td>\n",
       "      <td>5</td>\n",
       "      <td>3</td>\n",
       "      <td>1</td>\n",
       "      <td>1</td>\n",
       "      <td>3</td>\n",
       "      <td>4</td>\n",
       "      <td>6</td>\n",
       "      <td>4</td>\n",
       "      <td>3</td>\n",
       "      <td>1</td>\n",
       "      <td>3</td>\n",
       "      <td>6</td>\n",
       "      <td>3</td>\n",
       "      <td>6</td>\n",
       "      <td>6</td>\n",
       "      <td>6</td>\n",
       "      <td>6</td>\n",
       "      <td>1</td>\n",
       "      <td>5</td>\n",
       "    </tr>\n",
       "    <tr>\n",
       "      <th>5</th>\n",
       "      <td>4</td>\n",
       "      <td>1</td>\n",
       "      <td>6</td>\n",
       "      <td>6</td>\n",
       "      <td>6</td>\n",
       "      <td>5</td>\n",
       "      <td>6</td>\n",
       "      <td>4</td>\n",
       "      <td>2</td>\n",
       "      <td>5</td>\n",
       "      <td>6</td>\n",
       "      <td>6</td>\n",
       "      <td>6</td>\n",
       "      <td>6</td>\n",
       "      <td>6</td>\n",
       "      <td>3</td>\n",
       "      <td>5</td>\n",
       "      <td>3</td>\n",
       "      <td>5</td>\n",
       "      <td>3</td>\n",
       "    </tr>\n",
       "  </tbody>\n",
       "</table>\n",
       "</div>"
      ],
      "text/plain": [
       "Roll Number  1   2   3   4   5   6   7   8   9   10  11  12  13  14  15  16  \\\n",
       "Dice Number                                                                   \n",
       "1             1   5   5   3   4   5   6   1   4   3   2   3   5   3   2   2   \n",
       "2             4   6   2   2   2   6   6   5   2   3   5   3   1   1   2   5   \n",
       "3             6   3   6   3   5   6   2   2   6   5   6   4   6   4   3   4   \n",
       "4             1   5   3   1   1   3   4   6   4   3   1   3   6   3   6   6   \n",
       "5             4   1   6   6   6   5   6   4   2   5   6   6   6   6   6   3   \n",
       "\n",
       "Roll Number  17  18  19  20  \n",
       "Dice Number                  \n",
       "1             4   1   1   1  \n",
       "2             2   2   5   2  \n",
       "3             3   1   1   5  \n",
       "4             6   6   1   5  \n",
       "5             5   3   5   3  "
      ]
     },
     "execution_count": 22,
     "metadata": {},
     "output_type": "execute_result"
    }
   ],
   "source": [
    "mg3.df_rolls.head(20).T"
   ]
  },
  {
   "cell_type": "markdown",
   "id": "7814b402-46a4-40e5-8141-20e05c3e646b",
   "metadata": {},
   "source": [
    "Task 5. Play another game of $10000$ rolls, this time with $2$ unfair dice, one as defined in steps #2 and #3 respectively, and $3$ fair dice.\n",
    "\n",
    "- Game class properly instantiated (1). \n",
    "- Play method called properly (1)."
   ]
  },
  {
   "cell_type": "code",
   "execution_count": 23,
   "id": "5c99ca5a-13db-4b0d-9330-4093bd049a38",
   "metadata": {
    "tags": []
   },
   "outputs": [],
   "source": [
    "mg4 = g([d1,d2,d3,d3,d3])\n",
    "mg4.play(10000)"
   ]
  },
  {
   "cell_type": "code",
   "execution_count": 24,
   "id": "01133a4e-6b06-4246-8d90-8e6d6995be51",
   "metadata": {
    "tags": []
   },
   "outputs": [
    {
     "data": {
      "text/html": [
       "<div>\n",
       "<style scoped>\n",
       "    .dataframe tbody tr th:only-of-type {\n",
       "        vertical-align: middle;\n",
       "    }\n",
       "\n",
       "    .dataframe tbody tr th {\n",
       "        vertical-align: top;\n",
       "    }\n",
       "\n",
       "    .dataframe thead th {\n",
       "        text-align: right;\n",
       "    }\n",
       "</style>\n",
       "<table border=\"1\" class=\"dataframe\">\n",
       "  <thead>\n",
       "    <tr style=\"text-align: right;\">\n",
       "      <th>Roll Number</th>\n",
       "      <th>1</th>\n",
       "      <th>2</th>\n",
       "      <th>3</th>\n",
       "      <th>4</th>\n",
       "      <th>5</th>\n",
       "      <th>6</th>\n",
       "      <th>7</th>\n",
       "      <th>8</th>\n",
       "      <th>9</th>\n",
       "      <th>10</th>\n",
       "      <th>11</th>\n",
       "      <th>12</th>\n",
       "      <th>13</th>\n",
       "      <th>14</th>\n",
       "      <th>15</th>\n",
       "      <th>16</th>\n",
       "      <th>17</th>\n",
       "      <th>18</th>\n",
       "      <th>19</th>\n",
       "      <th>20</th>\n",
       "    </tr>\n",
       "    <tr>\n",
       "      <th>Dice Number</th>\n",
       "      <th></th>\n",
       "      <th></th>\n",
       "      <th></th>\n",
       "      <th></th>\n",
       "      <th></th>\n",
       "      <th></th>\n",
       "      <th></th>\n",
       "      <th></th>\n",
       "      <th></th>\n",
       "      <th></th>\n",
       "      <th></th>\n",
       "      <th></th>\n",
       "      <th></th>\n",
       "      <th></th>\n",
       "      <th></th>\n",
       "      <th></th>\n",
       "      <th></th>\n",
       "      <th></th>\n",
       "      <th></th>\n",
       "      <th></th>\n",
       "    </tr>\n",
       "  </thead>\n",
       "  <tbody>\n",
       "    <tr>\n",
       "      <th>1</th>\n",
       "      <td>6</td>\n",
       "      <td>3</td>\n",
       "      <td>6</td>\n",
       "      <td>6</td>\n",
       "      <td>6</td>\n",
       "      <td>6</td>\n",
       "      <td>6</td>\n",
       "      <td>6</td>\n",
       "      <td>6</td>\n",
       "      <td>6</td>\n",
       "      <td>3</td>\n",
       "      <td>5</td>\n",
       "      <td>2</td>\n",
       "      <td>6</td>\n",
       "      <td>2</td>\n",
       "      <td>1</td>\n",
       "      <td>6</td>\n",
       "      <td>6</td>\n",
       "      <td>6</td>\n",
       "      <td>6</td>\n",
       "    </tr>\n",
       "    <tr>\n",
       "      <th>2</th>\n",
       "      <td>1</td>\n",
       "      <td>1</td>\n",
       "      <td>4</td>\n",
       "      <td>1</td>\n",
       "      <td>1</td>\n",
       "      <td>3</td>\n",
       "      <td>3</td>\n",
       "      <td>1</td>\n",
       "      <td>1</td>\n",
       "      <td>2</td>\n",
       "      <td>2</td>\n",
       "      <td>1</td>\n",
       "      <td>4</td>\n",
       "      <td>2</td>\n",
       "      <td>5</td>\n",
       "      <td>1</td>\n",
       "      <td>1</td>\n",
       "      <td>1</td>\n",
       "      <td>6</td>\n",
       "      <td>1</td>\n",
       "    </tr>\n",
       "    <tr>\n",
       "      <th>3</th>\n",
       "      <td>4</td>\n",
       "      <td>4</td>\n",
       "      <td>2</td>\n",
       "      <td>3</td>\n",
       "      <td>6</td>\n",
       "      <td>3</td>\n",
       "      <td>1</td>\n",
       "      <td>3</td>\n",
       "      <td>3</td>\n",
       "      <td>5</td>\n",
       "      <td>5</td>\n",
       "      <td>5</td>\n",
       "      <td>4</td>\n",
       "      <td>3</td>\n",
       "      <td>5</td>\n",
       "      <td>5</td>\n",
       "      <td>1</td>\n",
       "      <td>4</td>\n",
       "      <td>1</td>\n",
       "      <td>1</td>\n",
       "    </tr>\n",
       "    <tr>\n",
       "      <th>4</th>\n",
       "      <td>2</td>\n",
       "      <td>6</td>\n",
       "      <td>5</td>\n",
       "      <td>3</td>\n",
       "      <td>2</td>\n",
       "      <td>2</td>\n",
       "      <td>5</td>\n",
       "      <td>6</td>\n",
       "      <td>4</td>\n",
       "      <td>1</td>\n",
       "      <td>4</td>\n",
       "      <td>2</td>\n",
       "      <td>2</td>\n",
       "      <td>1</td>\n",
       "      <td>4</td>\n",
       "      <td>1</td>\n",
       "      <td>4</td>\n",
       "      <td>5</td>\n",
       "      <td>3</td>\n",
       "      <td>6</td>\n",
       "    </tr>\n",
       "    <tr>\n",
       "      <th>5</th>\n",
       "      <td>5</td>\n",
       "      <td>1</td>\n",
       "      <td>4</td>\n",
       "      <td>5</td>\n",
       "      <td>5</td>\n",
       "      <td>4</td>\n",
       "      <td>5</td>\n",
       "      <td>2</td>\n",
       "      <td>2</td>\n",
       "      <td>4</td>\n",
       "      <td>5</td>\n",
       "      <td>6</td>\n",
       "      <td>3</td>\n",
       "      <td>5</td>\n",
       "      <td>6</td>\n",
       "      <td>6</td>\n",
       "      <td>3</td>\n",
       "      <td>6</td>\n",
       "      <td>4</td>\n",
       "      <td>5</td>\n",
       "    </tr>\n",
       "  </tbody>\n",
       "</table>\n",
       "</div>"
      ],
      "text/plain": [
       "Roll Number  1   2   3   4   5   6   7   8   9   10  11  12  13  14  15  16  \\\n",
       "Dice Number                                                                   \n",
       "1             6   3   6   6   6   6   6   6   6   6   3   5   2   6   2   1   \n",
       "2             1   1   4   1   1   3   3   1   1   2   2   1   4   2   5   1   \n",
       "3             4   4   2   3   6   3   1   3   3   5   5   5   4   3   5   5   \n",
       "4             2   6   5   3   2   2   5   6   4   1   4   2   2   1   4   1   \n",
       "5             5   1   4   5   5   4   5   2   2   4   5   6   3   5   6   6   \n",
       "\n",
       "Roll Number  17  18  19  20  \n",
       "Dice Number                  \n",
       "1             6   6   6   6  \n",
       "2             1   1   6   1  \n",
       "3             1   4   1   1  \n",
       "4             4   5   3   6  \n",
       "5             3   6   4   5  "
      ]
     },
     "execution_count": 24,
     "metadata": {},
     "output_type": "execute_result"
    }
   ],
   "source": [
    "mg4.df_rolls.head(20).T"
   ]
  },
  {
   "cell_type": "markdown",
   "id": "7b6cd372-2bb8-4df8-ade1-8f48bc300955",
   "metadata": {},
   "source": [
    "Task 6. For each game, use an Analyzer object to determine the relative frequency of jackpots and show your results, comparing the two relative frequencies, in a simple bar chart.\n",
    "\n",
    "- Jackpot methods called (1).\n",
    "- Graph produced (1)."
   ]
  },
  {
   "cell_type": "code",
   "execution_count": 25,
   "id": "e92395a4-9ed8-4cb0-8c85-38768a784ffc",
   "metadata": {
    "tags": []
   },
   "outputs": [],
   "source": [
    "ma3 = a(mg3)\n",
    "ma4 = a(mg4)"
   ]
  },
  {
   "cell_type": "code",
   "execution_count": 26,
   "id": "7cd58fba-b2a5-4d5d-bc6d-2a7a68d18c4f",
   "metadata": {
    "tags": []
   },
   "outputs": [
    {
     "data": {
      "text/html": [
       "<div>\n",
       "<style scoped>\n",
       "    .dataframe tbody tr th:only-of-type {\n",
       "        vertical-align: middle;\n",
       "    }\n",
       "\n",
       "    .dataframe tbody tr th {\n",
       "        vertical-align: top;\n",
       "    }\n",
       "\n",
       "    .dataframe thead th {\n",
       "        text-align: right;\n",
       "    }\n",
       "</style>\n",
       "<table border=\"1\" class=\"dataframe\">\n",
       "  <thead>\n",
       "    <tr style=\"text-align: right;\">\n",
       "      <th></th>\n",
       "      <th>Dice</th>\n",
       "      <th>Rel Freq</th>\n",
       "    </tr>\n",
       "  </thead>\n",
       "  <tbody>\n",
       "    <tr>\n",
       "      <th>0</th>\n",
       "      <td>5 Fair</td>\n",
       "      <td>0.0005</td>\n",
       "    </tr>\n",
       "    <tr>\n",
       "      <th>1</th>\n",
       "      <td>2 Unfair-3Fair</td>\n",
       "      <td>0.0005</td>\n",
       "    </tr>\n",
       "  </tbody>\n",
       "</table>\n",
       "</div>"
      ],
      "text/plain": [
       "             Dice  Rel Freq\n",
       "0          5 Fair    0.0005\n",
       "1  2 Unfair-3Fair    0.0005"
      ]
     },
     "execution_count": 26,
     "metadata": {},
     "output_type": "execute_result"
    }
   ],
   "source": [
    "freq3 = ma3.jackpot()/10000\n",
    "freq4 = ma4.jackpot()/10000\n",
    "df2 = pd.DataFrame({'Dice': ['5 Fair', '2 Unfair-3Fair'],\n",
    "              'Rel Freq': [freq3,freq4]})\n",
    "df2"
   ]
  },
  {
   "cell_type": "code",
   "execution_count": 27,
   "id": "bbdcf695-8937-406e-9b53-aa0b9ee3c59a",
   "metadata": {
    "tags": []
   },
   "outputs": [
    {
     "data": {
      "text/plain": [
       "Text(0.5, 1.0, 'Relative Frequency for Two Games')"
      ]
     },
     "execution_count": 27,
     "metadata": {},
     "output_type": "execute_result"
    },
    {
     "data": {
      "image/png": "[encoded data removed]",
      "text/plain": [
       "<Figure size 400x400 with 1 Axes>"
      ]
     },
     "metadata": {},
     "output_type": "display_data"
    }
   ],
   "source": [
    "plt.figure(figsize=(4,4))\n",
    "sns.barplot(x='Dice', y='Rel Freq', data=df2)\n",
    "plt.title(\"Relative Frequency for Two Games\")"
   ]
  },
  {
   "cell_type": "markdown",
   "id": "9f04e9be-8fcf-4ea4-a391-6614608285f8",
   "metadata": {},
   "source": [
    "## Scenario 3: Letters of the Alphabet (7)\n",
    "\n",
    "Task 1. Create a \"die\" of letters from $A$ to $Z$ with weights based on their frequency of usage as found in the data file `english_letters.txt`. Use the frequencies (i.e. raw counts) as weights.\n",
    "\n",
    "- Die correctly instantiated with source file data (1).\n",
    "- Weights properly applied using weight setting method (1)."
   ]
  },
  {
   "cell_type": "raw",
   "id": "c00245d4-80ae-4af1-8cdc-bd7f8ae0fcde",
   "metadata": {
    "tags": []
   },
   "source": [
    "import os\n",
    "os.chdir('C:/Users/jacqu/OneDrive/Documents/MSDS-at-UVA-2023/Projects/DS5100_PythonDS')"
   ]
  },
  {
   "cell_type": "code",
   "execution_count": 28,
   "id": "fbfbb82e-ff7e-4443-9a1d-0d8d58147f49",
   "metadata": {
    "tags": []
   },
   "outputs": [],
   "source": [
    "englet = pd.read_csv('english_letters.txt', sep=' ', header=None)"
   ]
  },
  {
   "cell_type": "code",
   "execution_count": 29,
   "id": "d68946e6-a507-4a8c-b8d5-b10d23703252",
   "metadata": {
    "tags": []
   },
   "outputs": [
    {
     "data": {
      "text/html": [
       "<div>\n",
       "<style scoped>\n",
       "    .dataframe tbody tr th:only-of-type {\n",
       "        vertical-align: middle;\n",
       "    }\n",
       "\n",
       "    .dataframe tbody tr th {\n",
       "        vertical-align: top;\n",
       "    }\n",
       "\n",
       "    .dataframe thead th {\n",
       "        text-align: right;\n",
       "    }\n",
       "</style>\n",
       "<table border=\"1\" class=\"dataframe\">\n",
       "  <thead>\n",
       "    <tr style=\"text-align: right;\">\n",
       "      <th>faces</th>\n",
       "      <th>E</th>\n",
       "      <th>T</th>\n",
       "      <th>A</th>\n",
       "      <th>O</th>\n",
       "      <th>I</th>\n",
       "      <th>N</th>\n",
       "      <th>S</th>\n",
       "      <th>R</th>\n",
       "      <th>H</th>\n",
       "      <th>L</th>\n",
       "    </tr>\n",
       "  </thead>\n",
       "  <tbody>\n",
       "    <tr>\n",
       "      <th>weights</th>\n",
       "      <td>529117365</td>\n",
       "      <td>390965105</td>\n",
       "      <td>374061888</td>\n",
       "      <td>326627740</td>\n",
       "      <td>320410057</td>\n",
       "      <td>313720540</td>\n",
       "      <td>294300210</td>\n",
       "      <td>277000841</td>\n",
       "      <td>216768975</td>\n",
       "      <td>183996130</td>\n",
       "    </tr>\n",
       "  </tbody>\n",
       "</table>\n",
       "</div>"
      ],
      "text/plain": [
       "faces            E          T          A          O          I          N  \\\n",
       "weights  529117365  390965105  374061888  326627740  320410057  313720540   \n",
       "\n",
       "faces            S          R          H          L  \n",
       "weights  294300210  277000841  216768975  183996130  "
      ]
     },
     "execution_count": 29,
     "metadata": {},
     "output_type": "execute_result"
    }
   ],
   "source": [
    "letdie = d(np.array(englet[0]), englet[1])\n",
    "letdie.df.head(10).T"
   ]
  },
  {
   "cell_type": "markdown",
   "id": "88e2e14a-6223-470a-a2c8-bca1120d7a5b",
   "metadata": {},
   "source": [
    "Task 2. Play a game involving $4$ of these dice with $1000$ rolls.\n",
    "\n",
    "- Game play method properly called (1)."
   ]
  },
  {
   "cell_type": "code",
   "execution_count": 30,
   "id": "2ae087cc-936d-4f1e-bddb-a7c179d139e0",
   "metadata": {
    "tags": []
   },
   "outputs": [],
   "source": [
    "mg5 = g([letdie, letdie, letdie, letdie])\n",
    "mg5.play(1000)"
   ]
  },
  {
   "cell_type": "code",
   "execution_count": 31,
   "id": "93b93b2b-8248-4e85-8cc1-6969ee0a15da",
   "metadata": {
    "tags": []
   },
   "outputs": [
    {
     "data": {
      "text/html": [
       "<div>\n",
       "<style scoped>\n",
       "    .dataframe tbody tr th:only-of-type {\n",
       "        vertical-align: middle;\n",
       "    }\n",
       "\n",
       "    .dataframe tbody tr th {\n",
       "        vertical-align: top;\n",
       "    }\n",
       "\n",
       "    .dataframe thead th {\n",
       "        text-align: right;\n",
       "    }\n",
       "</style>\n",
       "<table border=\"1\" class=\"dataframe\">\n",
       "  <thead>\n",
       "    <tr style=\"text-align: right;\">\n",
       "      <th>Roll Number</th>\n",
       "      <th>1</th>\n",
       "      <th>2</th>\n",
       "      <th>3</th>\n",
       "      <th>4</th>\n",
       "      <th>5</th>\n",
       "      <th>6</th>\n",
       "      <th>7</th>\n",
       "      <th>8</th>\n",
       "      <th>9</th>\n",
       "      <th>10</th>\n",
       "      <th>11</th>\n",
       "      <th>12</th>\n",
       "      <th>13</th>\n",
       "      <th>14</th>\n",
       "      <th>15</th>\n",
       "      <th>16</th>\n",
       "      <th>17</th>\n",
       "      <th>18</th>\n",
       "      <th>19</th>\n",
       "      <th>20</th>\n",
       "    </tr>\n",
       "    <tr>\n",
       "      <th>Dice Number</th>\n",
       "      <th></th>\n",
       "      <th></th>\n",
       "      <th></th>\n",
       "      <th></th>\n",
       "      <th></th>\n",
       "      <th></th>\n",
       "      <th></th>\n",
       "      <th></th>\n",
       "      <th></th>\n",
       "      <th></th>\n",
       "      <th></th>\n",
       "      <th></th>\n",
       "      <th></th>\n",
       "      <th></th>\n",
       "      <th></th>\n",
       "      <th></th>\n",
       "      <th></th>\n",
       "      <th></th>\n",
       "      <th></th>\n",
       "      <th></th>\n",
       "    </tr>\n",
       "  </thead>\n",
       "  <tbody>\n",
       "    <tr>\n",
       "      <th>1</th>\n",
       "      <td>I</td>\n",
       "      <td>N</td>\n",
       "      <td>T</td>\n",
       "      <td>I</td>\n",
       "      <td>R</td>\n",
       "      <td>S</td>\n",
       "      <td>A</td>\n",
       "      <td>E</td>\n",
       "      <td>U</td>\n",
       "      <td>R</td>\n",
       "      <td>A</td>\n",
       "      <td>I</td>\n",
       "      <td>E</td>\n",
       "      <td>N</td>\n",
       "      <td>I</td>\n",
       "      <td>E</td>\n",
       "      <td>U</td>\n",
       "      <td>R</td>\n",
       "      <td>G</td>\n",
       "      <td>S</td>\n",
       "    </tr>\n",
       "    <tr>\n",
       "      <th>2</th>\n",
       "      <td>A</td>\n",
       "      <td>I</td>\n",
       "      <td>S</td>\n",
       "      <td>O</td>\n",
       "      <td>T</td>\n",
       "      <td>C</td>\n",
       "      <td>R</td>\n",
       "      <td>R</td>\n",
       "      <td>D</td>\n",
       "      <td>I</td>\n",
       "      <td>S</td>\n",
       "      <td>T</td>\n",
       "      <td>K</td>\n",
       "      <td>O</td>\n",
       "      <td>H</td>\n",
       "      <td>E</td>\n",
       "      <td>R</td>\n",
       "      <td>F</td>\n",
       "      <td>D</td>\n",
       "      <td>D</td>\n",
       "    </tr>\n",
       "    <tr>\n",
       "      <th>3</th>\n",
       "      <td>N</td>\n",
       "      <td>D</td>\n",
       "      <td>S</td>\n",
       "      <td>R</td>\n",
       "      <td>S</td>\n",
       "      <td>N</td>\n",
       "      <td>M</td>\n",
       "      <td>H</td>\n",
       "      <td>T</td>\n",
       "      <td>M</td>\n",
       "      <td>C</td>\n",
       "      <td>T</td>\n",
       "      <td>H</td>\n",
       "      <td>E</td>\n",
       "      <td>I</td>\n",
       "      <td>L</td>\n",
       "      <td>C</td>\n",
       "      <td>B</td>\n",
       "      <td>T</td>\n",
       "      <td>G</td>\n",
       "    </tr>\n",
       "    <tr>\n",
       "      <th>4</th>\n",
       "      <td>E</td>\n",
       "      <td>A</td>\n",
       "      <td>E</td>\n",
       "      <td>O</td>\n",
       "      <td>A</td>\n",
       "      <td>N</td>\n",
       "      <td>A</td>\n",
       "      <td>T</td>\n",
       "      <td>T</td>\n",
       "      <td>S</td>\n",
       "      <td>O</td>\n",
       "      <td>E</td>\n",
       "      <td>H</td>\n",
       "      <td>I</td>\n",
       "      <td>E</td>\n",
       "      <td>S</td>\n",
       "      <td>L</td>\n",
       "      <td>R</td>\n",
       "      <td>I</td>\n",
       "      <td>A</td>\n",
       "    </tr>\n",
       "  </tbody>\n",
       "</table>\n",
       "</div>"
      ],
      "text/plain": [
       "Roll Number 1  2  3  4  5  6  7  8  9  10 11 12 13 14 15 16 17 18 19 20\n",
       "Dice Number                                                            \n",
       "1            I  N  T  I  R  S  A  E  U  R  A  I  E  N  I  E  U  R  G  S\n",
       "2            A  I  S  O  T  C  R  R  D  I  S  T  K  O  H  E  R  F  D  D\n",
       "3            N  D  S  R  S  N  M  H  T  M  C  T  H  E  I  L  C  B  T  G\n",
       "4            E  A  E  O  A  N  A  T  T  S  O  E  H  I  E  S  L  R  I  A"
      ]
     },
     "execution_count": 31,
     "metadata": {},
     "output_type": "execute_result"
    }
   ],
   "source": [
    "mg5.df_rolls.head(20).T"
   ]
  },
  {
   "cell_type": "markdown",
   "id": "3b9ff800-bf1f-4f66-9d7f-ff57a648e9f0",
   "metadata": {},
   "source": [
    "Task 3. Determine how many permutations in your results are actual English words, based on the vocabulary found in `scrabble_words.txt`.\n",
    "\n",
    "- Use permutation method (1).\n",
    "- Get count as difference between permutations and vocabulary (1)."
   ]
  },
  {
   "cell_type": "code",
   "execution_count": 32,
   "id": "ed1c7fa0-cfa3-4cf4-9fd0-9f84b86b0f64",
   "metadata": {
    "tags": []
   },
   "outputs": [],
   "source": [
    "words = pd.read_csv('scrabble_words.txt', header=None)"
   ]
  },
  {
   "cell_type": "code",
   "execution_count": 33,
   "id": "95f6a597-9189-48c3-96b6-110ed030d942",
   "metadata": {
    "tags": []
   },
   "outputs": [
    {
     "data": {
      "text/html": [
       "<div>\n",
       "<style scoped>\n",
       "    .dataframe tbody tr th:only-of-type {\n",
       "        vertical-align: middle;\n",
       "    }\n",
       "\n",
       "    .dataframe tbody tr th {\n",
       "        vertical-align: top;\n",
       "    }\n",
       "\n",
       "    .dataframe thead th {\n",
       "        text-align: right;\n",
       "    }\n",
       "</style>\n",
       "<table border=\"1\" class=\"dataframe\">\n",
       "  <thead>\n",
       "    <tr style=\"text-align: right;\">\n",
       "      <th></th>\n",
       "      <th>1</th>\n",
       "      <th>2</th>\n",
       "      <th>3</th>\n",
       "      <th>4</th>\n",
       "    </tr>\n",
       "  </thead>\n",
       "  <tbody>\n",
       "    <tr>\n",
       "      <th>0</th>\n",
       "      <td>A</td>\n",
       "      <td>A</td>\n",
       "      <td>H</td>\n",
       "      <td>S</td>\n",
       "    </tr>\n",
       "    <tr>\n",
       "      <th>1</th>\n",
       "      <td>A</td>\n",
       "      <td>A</td>\n",
       "      <td>L</td>\n",
       "      <td>S</td>\n",
       "    </tr>\n",
       "    <tr>\n",
       "      <th>2</th>\n",
       "      <td>A</td>\n",
       "      <td>B</td>\n",
       "      <td>A</td>\n",
       "      <td>C</td>\n",
       "    </tr>\n",
       "    <tr>\n",
       "      <th>3</th>\n",
       "      <td>A</td>\n",
       "      <td>B</td>\n",
       "      <td>A</td>\n",
       "      <td>S</td>\n",
       "    </tr>\n",
       "    <tr>\n",
       "      <th>4</th>\n",
       "      <td>A</td>\n",
       "      <td>B</td>\n",
       "      <td>B</td>\n",
       "      <td>A</td>\n",
       "    </tr>\n",
       "  </tbody>\n",
       "</table>\n",
       "</div>"
      ],
      "text/plain": [
       "   1  2  3  4\n",
       "0  A  A  H  S\n",
       "1  A  A  L  S\n",
       "2  A  B  A  C\n",
       "3  A  B  A  S\n",
       "4  A  B  B  A"
      ]
     },
     "execution_count": 33,
     "metadata": {},
     "output_type": "execute_result"
    }
   ],
   "source": [
    "w4 = words[words[0].str.len()==4]\n",
    "w4_df = pd.DataFrame(w4[0].str.split('', expand=True))\n",
    "w4_df = w4_df[[1,2,3,4]].reset_index()\n",
    "w4_df = w4_df.drop(columns=['index']).drop_duplicates()\n",
    "w4_df.head()"
   ]
  },
  {
   "cell_type": "code",
   "execution_count": 34,
   "id": "b0034c8e-b87c-45d6-9d19-15a0ae0c90f1",
   "metadata": {
    "tags": []
   },
   "outputs": [
    {
     "data": {
      "text/plain": [
       "(5637, 4)"
      ]
     },
     "execution_count": 34,
     "metadata": {},
     "output_type": "execute_result"
    }
   ],
   "source": [
    "w4_df.shape"
   ]
  },
  {
   "cell_type": "code",
   "execution_count": 35,
   "id": "acc50a11-2401-4b17-97c1-14345a757627",
   "metadata": {
    "tags": []
   },
   "outputs": [],
   "source": [
    "ma5 = a(mg5)"
   ]
  },
  {
   "cell_type": "code",
   "execution_count": 36,
   "id": "d04299d1-ef64-415a-9b8d-4519ee51f1a4",
   "metadata": {
    "tags": []
   },
   "outputs": [
    {
     "data": {
      "text/html": [
       "<div>\n",
       "<style scoped>\n",
       "    .dataframe tbody tr th:only-of-type {\n",
       "        vertical-align: middle;\n",
       "    }\n",
       "\n",
       "    .dataframe tbody tr th {\n",
       "        vertical-align: top;\n",
       "    }\n",
       "\n",
       "    .dataframe thead th {\n",
       "        text-align: right;\n",
       "    }\n",
       "</style>\n",
       "<table border=\"1\" class=\"dataframe\">\n",
       "  <thead>\n",
       "    <tr style=\"text-align: right;\">\n",
       "      <th></th>\n",
       "      <th>1</th>\n",
       "      <th>2</th>\n",
       "      <th>3</th>\n",
       "      <th>4</th>\n",
       "      <th>Permutation Count</th>\n",
       "    </tr>\n",
       "  </thead>\n",
       "  <tbody>\n",
       "    <tr>\n",
       "      <th>0</th>\n",
       "      <td>N</td>\n",
       "      <td>R</td>\n",
       "      <td>O</td>\n",
       "      <td>E</td>\n",
       "      <td>2</td>\n",
       "    </tr>\n",
       "    <tr>\n",
       "      <th>1</th>\n",
       "      <td>I</td>\n",
       "      <td>H</td>\n",
       "      <td>I</td>\n",
       "      <td>R</td>\n",
       "      <td>2</td>\n",
       "    </tr>\n",
       "    <tr>\n",
       "      <th>2</th>\n",
       "      <td>E</td>\n",
       "      <td>E</td>\n",
       "      <td>E</td>\n",
       "      <td>T</td>\n",
       "      <td>2</td>\n",
       "    </tr>\n",
       "    <tr>\n",
       "      <th>3</th>\n",
       "      <td>E</td>\n",
       "      <td>I</td>\n",
       "      <td>E</td>\n",
       "      <td>E</td>\n",
       "      <td>2</td>\n",
       "    </tr>\n",
       "    <tr>\n",
       "      <th>4</th>\n",
       "      <td>E</td>\n",
       "      <td>R</td>\n",
       "      <td>H</td>\n",
       "      <td>T</td>\n",
       "      <td>2</td>\n",
       "    </tr>\n",
       "  </tbody>\n",
       "</table>\n",
       "</div>"
      ],
      "text/plain": [
       "   1  2  3  4  Permutation Count\n",
       "0  N  R  O  E                  2\n",
       "1  I  H  I  R                  2\n",
       "2  E  E  E  T                  2\n",
       "3  E  I  E  E                  2\n",
       "4  E  R  H  T                  2"
      ]
     },
     "execution_count": 36,
     "metadata": {},
     "output_type": "execute_result"
    }
   ],
   "source": [
    "ma5_df = ma5.perm_count().reset_index()\n",
    "ma5_df.head()"
   ]
  },
  {
   "cell_type": "code",
   "execution_count": 37,
   "id": "d06d0d1a-c43a-4a0b-bf98-aacfceaa8c0c",
   "metadata": {
    "tags": []
   },
   "outputs": [
    {
     "data": {
      "text/html": [
       "<div>\n",
       "<style scoped>\n",
       "    .dataframe tbody tr th:only-of-type {\n",
       "        vertical-align: middle;\n",
       "    }\n",
       "\n",
       "    .dataframe tbody tr th {\n",
       "        vertical-align: top;\n",
       "    }\n",
       "\n",
       "    .dataframe thead th {\n",
       "        text-align: right;\n",
       "    }\n",
       "</style>\n",
       "<table border=\"1\" class=\"dataframe\">\n",
       "  <thead>\n",
       "    <tr style=\"text-align: right;\">\n",
       "      <th></th>\n",
       "      <th>1</th>\n",
       "      <th>2</th>\n",
       "      <th>3</th>\n",
       "      <th>4</th>\n",
       "      <th>Permutation Count</th>\n",
       "    </tr>\n",
       "  </thead>\n",
       "  <tbody>\n",
       "    <tr>\n",
       "      <th>0</th>\n",
       "      <td>A</td>\n",
       "      <td>A</td>\n",
       "      <td>H</td>\n",
       "      <td>S</td>\n",
       "      <td>0.0</td>\n",
       "    </tr>\n",
       "    <tr>\n",
       "      <th>1</th>\n",
       "      <td>A</td>\n",
       "      <td>A</td>\n",
       "      <td>L</td>\n",
       "      <td>S</td>\n",
       "      <td>0.0</td>\n",
       "    </tr>\n",
       "    <tr>\n",
       "      <th>2</th>\n",
       "      <td>A</td>\n",
       "      <td>B</td>\n",
       "      <td>A</td>\n",
       "      <td>C</td>\n",
       "      <td>0.0</td>\n",
       "    </tr>\n",
       "    <tr>\n",
       "      <th>3</th>\n",
       "      <td>A</td>\n",
       "      <td>B</td>\n",
       "      <td>A</td>\n",
       "      <td>S</td>\n",
       "      <td>0.0</td>\n",
       "    </tr>\n",
       "    <tr>\n",
       "      <th>4</th>\n",
       "      <td>A</td>\n",
       "      <td>B</td>\n",
       "      <td>B</td>\n",
       "      <td>A</td>\n",
       "      <td>0.0</td>\n",
       "    </tr>\n",
       "  </tbody>\n",
       "</table>\n",
       "</div>"
      ],
      "text/plain": [
       "   1  2  3  4  Permutation Count\n",
       "0  A  A  H  S                0.0\n",
       "1  A  A  L  S                0.0\n",
       "2  A  B  A  C                0.0\n",
       "3  A  B  A  S                0.0\n",
       "4  A  B  B  A                0.0"
      ]
     },
     "execution_count": 37,
     "metadata": {},
     "output_type": "execute_result"
    }
   ],
   "source": [
    "perm_df = w4_df.merge(ma5_df, on=[1,2,3,4], how='left').fillna(0)\n",
    "perm_df.head()"
   ]
  },
  {
   "cell_type": "code",
   "execution_count": 38,
   "id": "e4bb693b-b7fc-4178-8d7d-6c031b8dc092",
   "metadata": {
    "tags": []
   },
   "outputs": [
    {
     "data": {
      "text/plain": [
       "(5637, 5)"
      ]
     },
     "execution_count": 38,
     "metadata": {},
     "output_type": "execute_result"
    }
   ],
   "source": [
    "perm_df.shape"
   ]
  },
  {
   "cell_type": "code",
   "execution_count": 39,
   "id": "6cb945bd-c77e-4559-be2b-efb48a1a0edb",
   "metadata": {
    "tags": []
   },
   "outputs": [
    {
     "data": {
      "text/plain": [
       "50.0"
      ]
     },
     "execution_count": 39,
     "metadata": {},
     "output_type": "execute_result"
    }
   ],
   "source": [
    "perm_df[\"Permutation Count\"].sum()"
   ]
  },
  {
   "cell_type": "code",
   "execution_count": 40,
   "id": "58d5db34-424d-4564-913b-b904c0573f85",
   "metadata": {
    "tags": []
   },
   "outputs": [
    {
     "data": {
      "text/html": [
       "<div>\n",
       "<style scoped>\n",
       "    .dataframe tbody tr th:only-of-type {\n",
       "        vertical-align: middle;\n",
       "    }\n",
       "\n",
       "    .dataframe tbody tr th {\n",
       "        vertical-align: top;\n",
       "    }\n",
       "\n",
       "    .dataframe thead th {\n",
       "        text-align: right;\n",
       "    }\n",
       "</style>\n",
       "<table border=\"1\" class=\"dataframe\">\n",
       "  <thead>\n",
       "    <tr style=\"text-align: right;\">\n",
       "      <th></th>\n",
       "      <th>1</th>\n",
       "      <th>2</th>\n",
       "      <th>3</th>\n",
       "      <th>4</th>\n",
       "      <th>Permutation Count</th>\n",
       "    </tr>\n",
       "  </thead>\n",
       "  <tbody>\n",
       "    <tr>\n",
       "      <th>37</th>\n",
       "      <td>A</td>\n",
       "      <td>D</td>\n",
       "      <td>O</td>\n",
       "      <td>S</td>\n",
       "      <td>1.0</td>\n",
       "    </tr>\n",
       "    <tr>\n",
       "      <th>77</th>\n",
       "      <td>A</td>\n",
       "      <td>I</td>\n",
       "      <td>R</td>\n",
       "      <td>N</td>\n",
       "      <td>1.0</td>\n",
       "    </tr>\n",
       "    <tr>\n",
       "      <th>102</th>\n",
       "      <td>A</td>\n",
       "      <td>L</td>\n",
       "      <td>E</td>\n",
       "      <td>E</td>\n",
       "      <td>1.0</td>\n",
       "    </tr>\n",
       "    <tr>\n",
       "      <th>319</th>\n",
       "      <td>B</td>\n",
       "      <td>A</td>\n",
       "      <td>R</td>\n",
       "      <td>E</td>\n",
       "      <td>1.0</td>\n",
       "    </tr>\n",
       "    <tr>\n",
       "      <th>331</th>\n",
       "      <td>B</td>\n",
       "      <td>A</td>\n",
       "      <td>T</td>\n",
       "      <td>E</td>\n",
       "      <td>1.0</td>\n",
       "    </tr>\n",
       "  </tbody>\n",
       "</table>\n",
       "</div>"
      ],
      "text/plain": [
       "     1  2  3  4  Permutation Count\n",
       "37   A  D  O  S                1.0\n",
       "77   A  I  R  N                1.0\n",
       "102  A  L  E  E                1.0\n",
       "319  B  A  R  E                1.0\n",
       "331  B  A  T  E                1.0"
      ]
     },
     "execution_count": 40,
     "metadata": {},
     "output_type": "execute_result"
    }
   ],
   "source": [
    "perm_df[perm_df[\"Permutation Count\"]>0].head()"
   ]
  },
  {
   "cell_type": "markdown",
   "id": "fcf068cf-381a-4b3e-ac3a-0510eb4dbdb0",
   "metadata": {},
   "source": [
    "Task 4. Repeat steps #2 and #3, this time with $5$ dice. How many actual words does this produce? Which produces more?\n",
    "\n",
    "- Successfully repreats steps (1).\n",
    "- Identifies parameter with most found words (1)."
   ]
  },
  {
   "cell_type": "code",
   "execution_count": 41,
   "id": "e3198f94-635b-4304-88e9-bfcea5d0cf5a",
   "metadata": {
    "tags": []
   },
   "outputs": [
    {
     "data": {
      "text/html": [
       "<div>\n",
       "<style scoped>\n",
       "    .dataframe tbody tr th:only-of-type {\n",
       "        vertical-align: middle;\n",
       "    }\n",
       "\n",
       "    .dataframe tbody tr th {\n",
       "        vertical-align: top;\n",
       "    }\n",
       "\n",
       "    .dataframe thead th {\n",
       "        text-align: right;\n",
       "    }\n",
       "</style>\n",
       "<table border=\"1\" class=\"dataframe\">\n",
       "  <thead>\n",
       "    <tr style=\"text-align: right;\">\n",
       "      <th></th>\n",
       "      <th>1</th>\n",
       "      <th>2</th>\n",
       "      <th>3</th>\n",
       "      <th>4</th>\n",
       "    </tr>\n",
       "  </thead>\n",
       "  <tbody>\n",
       "    <tr>\n",
       "      <th>0</th>\n",
       "      <td>A</td>\n",
       "      <td>A</td>\n",
       "      <td>H</td>\n",
       "      <td>E</td>\n",
       "    </tr>\n",
       "    <tr>\n",
       "      <th>1</th>\n",
       "      <td>A</td>\n",
       "      <td>A</td>\n",
       "      <td>L</td>\n",
       "      <td>I</td>\n",
       "    </tr>\n",
       "    <tr>\n",
       "      <th>2</th>\n",
       "      <td>A</td>\n",
       "      <td>A</td>\n",
       "      <td>R</td>\n",
       "      <td>G</td>\n",
       "    </tr>\n",
       "    <tr>\n",
       "      <th>3</th>\n",
       "      <td>A</td>\n",
       "      <td>A</td>\n",
       "      <td>R</td>\n",
       "      <td>T</td>\n",
       "    </tr>\n",
       "    <tr>\n",
       "      <th>4</th>\n",
       "      <td>A</td>\n",
       "      <td>B</td>\n",
       "      <td>A</td>\n",
       "      <td>C</td>\n",
       "    </tr>\n",
       "  </tbody>\n",
       "</table>\n",
       "</div>"
      ],
      "text/plain": [
       "   1  2  3  4\n",
       "0  A  A  H  E\n",
       "1  A  A  L  I\n",
       "2  A  A  R  G\n",
       "3  A  A  R  T\n",
       "4  A  B  A  C"
      ]
     },
     "execution_count": 41,
     "metadata": {},
     "output_type": "execute_result"
    }
   ],
   "source": [
    "w5 = words[words[0].str.len()==5]\n",
    "w5_df = pd.DataFrame(w5[0].str.split('', expand=True))\n",
    "w5_df = w5_df[[1,2,3,4]].reset_index()\n",
    "w5_df = w5_df.drop(columns=['index']).drop_duplicates()\n",
    "w5_df.head()"
   ]
  },
  {
   "cell_type": "code",
   "execution_count": 42,
   "id": "379d3350-d6b8-4959-83f9-191d1e5a8f58",
   "metadata": {
    "tags": []
   },
   "outputs": [
    {
     "data": {
      "text/plain": [
       "(8714, 4)"
      ]
     },
     "execution_count": 42,
     "metadata": {},
     "output_type": "execute_result"
    }
   ],
   "source": [
    "w5_df.shape"
   ]
  },
  {
   "cell_type": "code",
   "execution_count": 43,
   "id": "b77a640e-11cd-4e69-9f2a-d492ca6a7bb7",
   "metadata": {
    "tags": []
   },
   "outputs": [],
   "source": [
    "mg6 = g([letdie, letdie, letdie, letdie, letdie])\n",
    "mg6.play(1000)\n",
    "ma6 = a(mg6)"
   ]
  },
  {
   "cell_type": "code",
   "execution_count": 44,
   "id": "56a4ebe4-6975-473e-b240-ab0a7589a5cf",
   "metadata": {
    "tags": []
   },
   "outputs": [
    {
     "data": {
      "text/html": [
       "<div>\n",
       "<style scoped>\n",
       "    .dataframe tbody tr th:only-of-type {\n",
       "        vertical-align: middle;\n",
       "    }\n",
       "\n",
       "    .dataframe tbody tr th {\n",
       "        vertical-align: top;\n",
       "    }\n",
       "\n",
       "    .dataframe thead th {\n",
       "        text-align: right;\n",
       "    }\n",
       "</style>\n",
       "<table border=\"1\" class=\"dataframe\">\n",
       "  <thead>\n",
       "    <tr style=\"text-align: right;\">\n",
       "      <th></th>\n",
       "      <th>1</th>\n",
       "      <th>2</th>\n",
       "      <th>3</th>\n",
       "      <th>4</th>\n",
       "      <th>5</th>\n",
       "      <th>Permutation Count</th>\n",
       "    </tr>\n",
       "  </thead>\n",
       "  <tbody>\n",
       "    <tr>\n",
       "      <th>0</th>\n",
       "      <td>A</td>\n",
       "      <td>A</td>\n",
       "      <td>C</td>\n",
       "      <td>N</td>\n",
       "      <td>T</td>\n",
       "      <td>1</td>\n",
       "    </tr>\n",
       "    <tr>\n",
       "      <th>1</th>\n",
       "      <td>P</td>\n",
       "      <td>A</td>\n",
       "      <td>S</td>\n",
       "      <td>A</td>\n",
       "      <td>Y</td>\n",
       "      <td>1</td>\n",
       "    </tr>\n",
       "    <tr>\n",
       "      <th>2</th>\n",
       "      <td>O</td>\n",
       "      <td>T</td>\n",
       "      <td>A</td>\n",
       "      <td>B</td>\n",
       "      <td>R</td>\n",
       "      <td>1</td>\n",
       "    </tr>\n",
       "    <tr>\n",
       "      <th>3</th>\n",
       "      <td>O</td>\n",
       "      <td>T</td>\n",
       "      <td>D</td>\n",
       "      <td>H</td>\n",
       "      <td>E</td>\n",
       "      <td>1</td>\n",
       "    </tr>\n",
       "    <tr>\n",
       "      <th>4</th>\n",
       "      <td>O</td>\n",
       "      <td>T</td>\n",
       "      <td>I</td>\n",
       "      <td>R</td>\n",
       "      <td>I</td>\n",
       "      <td>1</td>\n",
       "    </tr>\n",
       "  </tbody>\n",
       "</table>\n",
       "</div>"
      ],
      "text/plain": [
       "   1  2  3  4  5  Permutation Count\n",
       "0  A  A  C  N  T                  1\n",
       "1  P  A  S  A  Y                  1\n",
       "2  O  T  A  B  R                  1\n",
       "3  O  T  D  H  E                  1\n",
       "4  O  T  I  R  I                  1"
      ]
     },
     "execution_count": 44,
     "metadata": {},
     "output_type": "execute_result"
    }
   ],
   "source": [
    "ma6_df = ma6.perm_count().reset_index()\n",
    "ma6_df.head()"
   ]
  },
  {
   "cell_type": "code",
   "execution_count": 45,
   "id": "d6c00bbf-0165-449d-92b4-2311c270a6ca",
   "metadata": {
    "tags": []
   },
   "outputs": [
    {
     "data": {
      "text/html": [
       "<div>\n",
       "<style scoped>\n",
       "    .dataframe tbody tr th:only-of-type {\n",
       "        vertical-align: middle;\n",
       "    }\n",
       "\n",
       "    .dataframe tbody tr th {\n",
       "        vertical-align: top;\n",
       "    }\n",
       "\n",
       "    .dataframe thead th {\n",
       "        text-align: right;\n",
       "    }\n",
       "</style>\n",
       "<table border=\"1\" class=\"dataframe\">\n",
       "  <thead>\n",
       "    <tr style=\"text-align: right;\">\n",
       "      <th></th>\n",
       "      <th>1</th>\n",
       "      <th>2</th>\n",
       "      <th>3</th>\n",
       "      <th>4</th>\n",
       "      <th>5</th>\n",
       "      <th>Permutation Count</th>\n",
       "    </tr>\n",
       "  </thead>\n",
       "  <tbody>\n",
       "    <tr>\n",
       "      <th>0</th>\n",
       "      <td>A</td>\n",
       "      <td>A</td>\n",
       "      <td>H</td>\n",
       "      <td>E</td>\n",
       "      <td>0</td>\n",
       "      <td>0.0</td>\n",
       "    </tr>\n",
       "    <tr>\n",
       "      <th>1</th>\n",
       "      <td>A</td>\n",
       "      <td>A</td>\n",
       "      <td>L</td>\n",
       "      <td>I</td>\n",
       "      <td>0</td>\n",
       "      <td>0.0</td>\n",
       "    </tr>\n",
       "    <tr>\n",
       "      <th>2</th>\n",
       "      <td>A</td>\n",
       "      <td>A</td>\n",
       "      <td>R</td>\n",
       "      <td>G</td>\n",
       "      <td>0</td>\n",
       "      <td>0.0</td>\n",
       "    </tr>\n",
       "    <tr>\n",
       "      <th>3</th>\n",
       "      <td>A</td>\n",
       "      <td>A</td>\n",
       "      <td>R</td>\n",
       "      <td>T</td>\n",
       "      <td>0</td>\n",
       "      <td>0.0</td>\n",
       "    </tr>\n",
       "    <tr>\n",
       "      <th>4</th>\n",
       "      <td>A</td>\n",
       "      <td>B</td>\n",
       "      <td>A</td>\n",
       "      <td>C</td>\n",
       "      <td>0</td>\n",
       "      <td>0.0</td>\n",
       "    </tr>\n",
       "  </tbody>\n",
       "</table>\n",
       "</div>"
      ],
      "text/plain": [
       "   1  2  3  4  5  Permutation Count\n",
       "0  A  A  H  E  0                0.0\n",
       "1  A  A  L  I  0                0.0\n",
       "2  A  A  R  G  0                0.0\n",
       "3  A  A  R  T  0                0.0\n",
       "4  A  B  A  C  0                0.0"
      ]
     },
     "execution_count": 45,
     "metadata": {},
     "output_type": "execute_result"
    }
   ],
   "source": [
    "perm_df = w5_df.merge(ma6_df, on=[1,2,3,4], how='left').fillna(0)\n",
    "perm_df.head()"
   ]
  },
  {
   "cell_type": "code",
   "execution_count": 46,
   "id": "763713ad-c629-4c0b-913e-98d2ea313993",
   "metadata": {
    "tags": []
   },
   "outputs": [
    {
     "data": {
      "text/plain": [
       "(8717, 6)"
      ]
     },
     "execution_count": 46,
     "metadata": {},
     "output_type": "execute_result"
    }
   ],
   "source": [
    "perm_df.shape"
   ]
  },
  {
   "cell_type": "code",
   "execution_count": 47,
   "id": "2310bfac-f4be-45e0-99fc-93df014b182a",
   "metadata": {
    "tags": []
   },
   "outputs": [
    {
     "data": {
      "text/plain": [
       "87.0"
      ]
     },
     "execution_count": 47,
     "metadata": {},
     "output_type": "execute_result"
    }
   ],
   "source": [
    "perm_df[\"Permutation Count\"].sum()"
   ]
  },
  {
   "cell_type": "code",
   "execution_count": 48,
   "id": "407aec5d-cce1-4ddc-830f-fb8e9a283ae9",
   "metadata": {
    "tags": []
   },
   "outputs": [
    {
     "data": {
      "text/html": [
       "<div>\n",
       "<style scoped>\n",
       "    .dataframe tbody tr th:only-of-type {\n",
       "        vertical-align: middle;\n",
       "    }\n",
       "\n",
       "    .dataframe tbody tr th {\n",
       "        vertical-align: top;\n",
       "    }\n",
       "\n",
       "    .dataframe thead th {\n",
       "        text-align: right;\n",
       "    }\n",
       "</style>\n",
       "<table border=\"1\" class=\"dataframe\">\n",
       "  <thead>\n",
       "    <tr style=\"text-align: right;\">\n",
       "      <th></th>\n",
       "      <th>1</th>\n",
       "      <th>2</th>\n",
       "      <th>3</th>\n",
       "      <th>4</th>\n",
       "      <th>5</th>\n",
       "      <th>Permutation Count</th>\n",
       "    </tr>\n",
       "  </thead>\n",
       "  <tbody>\n",
       "    <tr>\n",
       "      <th>68</th>\n",
       "      <td>A</td>\n",
       "      <td>C</td>\n",
       "      <td>U</td>\n",
       "      <td>T</td>\n",
       "      <td>F</td>\n",
       "      <td>1.0</td>\n",
       "    </tr>\n",
       "    <tr>\n",
       "      <th>94</th>\n",
       "      <td>A</td>\n",
       "      <td>D</td>\n",
       "      <td>R</td>\n",
       "      <td>E</td>\n",
       "      <td>N</td>\n",
       "      <td>1.0</td>\n",
       "    </tr>\n",
       "    <tr>\n",
       "      <th>232</th>\n",
       "      <td>A</td>\n",
       "      <td>L</td>\n",
       "      <td>L</td>\n",
       "      <td>E</td>\n",
       "      <td>I</td>\n",
       "      <td>1.0</td>\n",
       "    </tr>\n",
       "    <tr>\n",
       "      <th>379</th>\n",
       "      <td>A</td>\n",
       "      <td>R</td>\n",
       "      <td>C</td>\n",
       "      <td>E</td>\n",
       "      <td>S</td>\n",
       "      <td>1.0</td>\n",
       "    </tr>\n",
       "    <tr>\n",
       "      <th>388</th>\n",
       "      <td>A</td>\n",
       "      <td>R</td>\n",
       "      <td>E</td>\n",
       "      <td>D</td>\n",
       "      <td>N</td>\n",
       "      <td>1.0</td>\n",
       "    </tr>\n",
       "  </tbody>\n",
       "</table>\n",
       "</div>"
      ],
      "text/plain": [
       "     1  2  3  4  5  Permutation Count\n",
       "68   A  C  U  T  F                1.0\n",
       "94   A  D  R  E  N                1.0\n",
       "232  A  L  L  E  I                1.0\n",
       "379  A  R  C  E  S                1.0\n",
       "388  A  R  E  D  N                1.0"
      ]
     },
     "execution_count": 48,
     "metadata": {},
     "output_type": "execute_result"
    }
   ],
   "source": [
    "perm_df[perm_df[\"Permutation Count\"]>0].head()"
   ]
  },
  {
   "cell_type": "markdown",
   "id": "f62e87a4-44f0-432f-979d-b6900fe3ada0",
   "metadata": {},
   "source": [
    "The parameter with the most words is the one with 5 dice."
   ]
  },
  {
   "cell_type": "markdown",
   "id": "c278a60d-a4dd-48df-8317-650185f7f0ca",
   "metadata": {},
   "source": [
    "# Submission"
   ]
  },
  {
   "cell_type": "markdown",
   "id": "a2b34ea0-96d3-4e0a-ac65-00a1cf287008",
   "metadata": {},
   "source": [
    "When finished completing the above tasks, save this file to your local repo (and within your project), and them push it to your GitHub repo.\n",
    "\n",
    "Then convert this file to a PDF and submit it to GradeScope according to the assignment instructions in Canvas."
   ]
  }
 ],
 "metadata": {
  "kernelspec": {
   "display_name": "Python 3 (ipykernel)",
   "language": "python",
   "name": "python3"
  },
  "language_info": {
   "codemirror_mode": {
    "name": "ipython",
    "version": 3
   },
   "file_extension": ".py",
   "mimetype": "text/x-python",
   "name": "python",
   "nbconvert_exporter": "python",
   "pygments_lexer": "ipython3",
   "version": "3.10.9"
  },
  "toc-autonumbering": true,
  "widgets": {
   "application/vnd.jupyter.widget-state+json": {
    "state": {},
    "version_major": 2,
    "version_minor": 0
   }
  }
 },
 "nbformat": 4,
 "nbformat_minor": 5
}
