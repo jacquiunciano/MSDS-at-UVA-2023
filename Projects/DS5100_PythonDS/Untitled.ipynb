{
 "cells": [
  {
   "cell_type": "code",
   "execution_count": 1,
   "id": "947a2566-6348-4321-88dd-0a3855799563",
   "metadata": {
    "tags": []
   },
   "outputs": [],
   "source": [
    "import pandas as pd\n",
    "import numpy as np\n",
    "import random as rn"
   ]
  },
  {
   "cell_type": "code",
   "execution_count": 113,
   "id": "e9ed71ef-c3e2-4b93-bb64-c112a3f8549d",
   "metadata": {},
   "outputs": [],
   "source": [
    "x = [('W', 'N', 'H', 'R', 'E'), ('A', 'A', 'A', 'O', 'T')]"
   ]
  },
  {
   "cell_type": "code",
   "execution_count": 118,
   "id": "f3f76ded-819d-411c-91bf-13ba7f488bcd",
   "metadata": {
    "tags": []
   },
   "outputs": [
    {
     "data": {
      "text/plain": [
       "['WNHRE', 'AAAOT']"
      ]
     },
     "execution_count": 118,
     "metadata": {},
     "output_type": "execute_result"
    }
   ],
   "source": [
    "list(map(lambda x:''.join(x), list(x)))"
   ]
  },
  {
   "cell_type": "code",
   "execution_count": null,
   "id": "b44734d4-0280-4b3d-86ee-11e772aab239",
   "metadata": {},
   "outputs": [],
   "source": []
  }
 ],
 "metadata": {
  "kernelspec": {
   "display_name": "Python 3 (ipykernel)",
   "language": "python",
   "name": "python3"
  },
  "language_info": {
   "codemirror_mode": {
    "name": "ipython",
    "version": 3
   },
   "file_extension": ".py",
   "mimetype": "text/x-python",
   "name": "python",
   "nbconvert_exporter": "python",
   "pygments_lexer": "ipython3",
   "version": "3.10.9"
  }
 },
 "nbformat": 4,
 "nbformat_minor": 5
}
