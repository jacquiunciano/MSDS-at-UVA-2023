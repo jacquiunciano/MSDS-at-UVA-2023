{
 "cells": [
  {
   "cell_type": "code",
   "execution_count": 15,
   "id": "9113000e-e7bb-4548-b751-9882045d5eb2",
   "metadata": {},
   "outputs": [],
   "source": [
    "# import packages\n",
    "import os\n",
    "from glob import glob\n",
    "import pandas as pd\n",
    "import numpy as np\n",
    "import re\n",
    "import nltk\n",
    "\n",
    "## MODIFY THIS\n",
    "# get path to your folder that holds the txt files\n",
    "source_files = \"C:/Users/jacqu/Downloads/Court Case PDFs/Court Case TXTs\"\n",
    "# outputs a list of all the txt files in the folder\n",
    "source_file_list = sorted(glob(f\"{source_files}/*.txt\"))\n",
    "\n",
    "# creates a list of tuples with an elememt for the source path and\n",
    "# for the file title\n",
    "file_data = []\n",
    "for source_file_path in source_file_list:\n",
    "    # split might be different, recommend checking with INFO.sample() or .head()\n",
    "    file_title = source_file_path.split('\\\\')[-1]\n",
    "    file_data.append((source_file_path, file_title))\n",
    "\n",
    "# creating df with the file title as the index and source path as a col\n",
    "INFO = pd.DataFrame(file_data, columns=['source_file_path','file_title'])\\\n",
    "    .set_index('file_title').sort_index()\n",
    "# attempt at dropping any duplicate files with same file name\n",
    "# this only works if same file has the SAME NAME\n",
    "# See Notes below\n",
    "INFO = INFO[~INFO.index.duplicated(keep='first')]"
   ]
  },
  {
   "cell_type": "markdown",
   "id": "2af4da28-ebaa-4b36-831c-af48cb224f7a",
   "metadata": {},
   "source": [
    "**Notes** I envision the drop dups code piece to be helpful in the case that a file is downloaded on two different environments (hence, they will have the same name) and then the code is run. This will NOT take care of dups that have DIFFERENT file names..."
   ]
  },
  {
   "cell_type": "code",
   "execution_count": 16,
   "id": "16059a21-3973-4fc6-aad6-7cb7d34980ac",
   "metadata": {},
   "outputs": [
    {
     "data": {
      "text/html": [
       "<div>\n",
       "<style scoped>\n",
       "    .dataframe tbody tr th:only-of-type {\n",
       "        vertical-align: middle;\n",
       "    }\n",
       "\n",
       "    .dataframe tbody tr th {\n",
       "        vertical-align: top;\n",
       "    }\n",
       "\n",
       "    .dataframe thead th {\n",
       "        text-align: right;\n",
       "    }\n",
       "</style>\n",
       "<table border=\"1\" class=\"dataframe\">\n",
       "  <thead>\n",
       "    <tr style=\"text-align: right;\">\n",
       "      <th></th>\n",
       "      <th>source_file_path</th>\n",
       "    </tr>\n",
       "    <tr>\n",
       "      <th>file_title</th>\n",
       "      <th></th>\n",
       "    </tr>\n",
       "  </thead>\n",
       "  <tbody>\n",
       "    <tr>\n",
       "      <th>Kocher v. Sec_y VA., 2023 U.S. App. LEXIS 32355.txt</th>\n",
       "      <td>C:/Users/jacqu/Downloads/Court Case PDFs/Court...</td>\n",
       "    </tr>\n",
       "    <tr>\n",
       "      <th>United States v. Friend, 2023 U.S. App. LEXIS 32368.txt</th>\n",
       "      <td>C:/Users/jacqu/Downloads/Court Case PDFs/Court...</td>\n",
       "    </tr>\n",
       "    <tr>\n",
       "      <th>United States v. Smith, 2023 U.S. Dist. LEXIS 217838.txt</th>\n",
       "      <td>C:/Users/jacqu/Downloads/Court Case PDFs/Court...</td>\n",
       "    </tr>\n",
       "    <tr>\n",
       "      <th>A.B. v. Shilo Inn, Salem, LLC, 2023 U.S. Dist. LEXIS 143289.txt</th>\n",
       "      <td>C:/Users/jacqu/Downloads/Court Case PDFs/Court...</td>\n",
       "    </tr>\n",
       "    <tr>\n",
       "      <th>United States v. Woods, 2021 U.S. Dist. LEXIS 81858.txt</th>\n",
       "      <td>C:/Users/jacqu/Downloads/Court Case PDFs/Court...</td>\n",
       "    </tr>\n",
       "    <tr>\n",
       "      <th>Doe v. Red Roof Inns, Inc., 21 F.4th 714.txt</th>\n",
       "      <td>C:/Users/jacqu/Downloads/Court Case PDFs/Court...</td>\n",
       "    </tr>\n",
       "    <tr>\n",
       "      <th>A.D. v. Best Western Int_l, Inc., 2023 U.S. Dist. LEXIS 150376.txt</th>\n",
       "      <td>C:/Users/jacqu/Downloads/Court Case PDFs/Court...</td>\n",
       "    </tr>\n",
       "    <tr>\n",
       "      <th>United States v. Paul, 2020 U.S. Dist. LEXIS 72619.txt</th>\n",
       "      <td>C:/Users/jacqu/Downloads/Court Case PDFs/Court...</td>\n",
       "    </tr>\n",
       "    <tr>\n",
       "      <th>United States v. Nichols, 2019 U.S. Dist. LEXIS 15081.txt</th>\n",
       "      <td>C:/Users/jacqu/Downloads/Court Case PDFs/Court...</td>\n",
       "    </tr>\n",
       "    <tr>\n",
       "      <th>State v. Burns, 2023 La. App. LEXIS 2107.txt</th>\n",
       "      <td>C:/Users/jacqu/Downloads/Court Case PDFs/Court...</td>\n",
       "    </tr>\n",
       "  </tbody>\n",
       "</table>\n",
       "</div>"
      ],
      "text/plain": [
       "                                                                                     source_file_path\n",
       "file_title                                                                                           \n",
       "Kocher v. Sec_y VA., 2023 U.S. App. LEXIS 32355...  C:/Users/jacqu/Downloads/Court Case PDFs/Court...\n",
       "United States v. Friend, 2023 U.S. App. LEXIS 3...  C:/Users/jacqu/Downloads/Court Case PDFs/Court...\n",
       "United States v. Smith, 2023 U.S. Dist. LEXIS 2...  C:/Users/jacqu/Downloads/Court Case PDFs/Court...\n",
       "A.B. v. Shilo Inn, Salem, LLC, 2023 U.S. Dist. ...  C:/Users/jacqu/Downloads/Court Case PDFs/Court...\n",
       "United States v. Woods, 2021 U.S. Dist. LEXIS 8...  C:/Users/jacqu/Downloads/Court Case PDFs/Court...\n",
       "Doe v. Red Roof Inns, Inc., 21 F.4th 714.txt        C:/Users/jacqu/Downloads/Court Case PDFs/Court...\n",
       "A.D. v. Best Western Int_l, Inc., 2023 U.S. Dis...  C:/Users/jacqu/Downloads/Court Case PDFs/Court...\n",
       "United States v. Paul, 2020 U.S. Dist. LEXIS 72...  C:/Users/jacqu/Downloads/Court Case PDFs/Court...\n",
       "United States v. Nichols, 2019 U.S. Dist. LEXIS...  C:/Users/jacqu/Downloads/Court Case PDFs/Court...\n",
       "State v. Burns, 2023 La. App. LEXIS 2107.txt        C:/Users/jacqu/Downloads/Court Case PDFs/Court..."
      ]
     },
     "execution_count": 16,
     "metadata": {},
     "output_type": "execute_result"
    }
   ],
   "source": [
    "INFO.sample(10)"
   ]
  },
  {
   "cell_type": "code",
   "execution_count": 22,
   "id": "16106509-1a2c-4c74-999e-b3b46c47586c",
   "metadata": {},
   "outputs": [],
   "source": [
    "source_path = \"C:/Users/jacqu/Downloads/Court Case PDFs/Court Case PDFs\"\n",
    "destination_path = \"C:/Users/jacqu/Downloads/Court Case PDFs/Court Case TXTs\""
   ]
  },
  {
   "cell_type": "code",
   "execution_count": 24,
   "id": "997c8390-d897-49c2-8bf4-d99a9a0ecc9a",
   "metadata": {},
   "outputs": [],
   "source": [
    "import sys\n",
    "sys.path.append(\"C:/Users/jacqu/OneDrive/Documents/MSDS-at-UVA-2023/Projects/Capstone/Spring 24\") \n",
    "from trial_run import Extraction"
   ]
  },
  {
   "cell_type": "code",
   "execution_count": 25,
   "id": "6b005826-a32d-4ab4-8f48-304182c4d1a1",
   "metadata": {},
   "outputs": [],
   "source": [
    "mydf = Extraction(source_path, destination_path)"
   ]
  },
  {
   "cell_type": "code",
   "execution_count": 28,
   "id": "5634fd8c-d93e-4404-b82b-d2c42b3bb755",
   "metadata": {},
   "outputs": [
    {
     "data": {
      "text/html": [
       "<div>\n",
       "<style scoped>\n",
       "    .dataframe tbody tr th:only-of-type {\n",
       "        vertical-align: middle;\n",
       "    }\n",
       "\n",
       "    .dataframe tbody tr th {\n",
       "        vertical-align: top;\n",
       "    }\n",
       "\n",
       "    .dataframe thead th {\n",
       "        text-align: right;\n",
       "    }\n",
       "</style>\n",
       "<table border=\"1\" class=\"dataframe\">\n",
       "  <thead>\n",
       "    <tr style=\"text-align: right;\">\n",
       "      <th></th>\n",
       "    </tr>\n",
       "  </thead>\n",
       "  <tbody>\n",
       "  </tbody>\n",
       "</table>\n",
       "</div>"
      ],
      "text/plain": [
       "Empty DataFrame\n",
       "Columns: []\n",
       "Index: []"
      ]
     },
     "execution_count": 28,
     "metadata": {},
     "output_type": "execute_result"
    }
   ],
   "source": [
    "mydf.INFO"
   ]
  },
  {
   "cell_type": "code",
   "execution_count": 32,
   "id": "d093503f-cfbc-46cd-b24d-a8b3fe170bc5",
   "metadata": {},
   "outputs": [],
   "source": [
    "smth = mydf.create_info()"
   ]
  },
  {
   "cell_type": "code",
   "execution_count": 34,
   "id": "5a3a5a21-b254-44e1-b290-6e335de564c4",
   "metadata": {},
   "outputs": [
    {
     "ename": "AttributeError",
     "evalue": "'NoneType' object has no attribute 'INFO'",
     "output_type": "error",
     "traceback": [
      "\u001b[1;31m---------------------------------------------------------------------------\u001b[0m",
      "\u001b[1;31mAttributeError\u001b[0m                            Traceback (most recent call last)",
      "Cell \u001b[1;32mIn[34], line 1\u001b[0m\n\u001b[1;32m----> 1\u001b[0m \u001b[43msmth\u001b[49m\u001b[38;5;241;43m.\u001b[39;49m\u001b[43mINFO\u001b[49m()\n",
      "\u001b[1;31mAttributeError\u001b[0m: 'NoneType' object has no attribute 'INFO'"
     ]
    }
   ],
   "source": [
    "smth.INFO()"
   ]
  },
  {
   "cell_type": "code",
   "execution_count": null,
   "id": "575078a4-16d1-4fab-821f-5b773548044d",
   "metadata": {},
   "outputs": [],
   "source": []
  }
 ],
 "metadata": {
  "kernelspec": {
   "display_name": "Python 3 (ipykernel)",
   "language": "python",
   "name": "python3"
  },
  "language_info": {
   "codemirror_mode": {
    "name": "ipython",
    "version": 3
   },
   "file_extension": ".py",
   "mimetype": "text/x-python",
   "name": "python",
   "nbconvert_exporter": "python",
   "pygments_lexer": "ipython3",
   "version": "3.11.4"
  }
 },
 "nbformat": 4,
 "nbformat_minor": 5
}
