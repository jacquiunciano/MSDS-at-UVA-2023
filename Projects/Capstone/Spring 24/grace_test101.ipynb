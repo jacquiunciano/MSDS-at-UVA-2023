{
 "cells": [
  {
   "cell_type": "code",
   "execution_count": 1,
   "id": "d01d7573-8b80-4087-8611-e8674e556c5a",
   "metadata": {},
   "outputs": [],
   "source": [
    "default_path = \"C:/Users/jacqu/Downloads/\"\n",
    "source_path = default_path+\"trials/101_cases_pdf\"\n",
    "destination_path = default_path+\"trials/101_cases_txt\""
   ]
  },
  {
   "cell_type": "code",
   "execution_count": 2,
   "id": "efb73aaf-2434-4194-8b60-042a86cd9611",
   "metadata": {},
   "outputs": [],
   "source": [
    "import sys\n",
    "sys.path.append(\"C:/Users/jacqu/OneDrive/Documents/MSDS-at-UVA-2023/Projects/Capstone/Spring 24\") \n",
    "from extraction_run import Extraction"
   ]
  },
  {
   "cell_type": "code",
   "execution_count": 3,
   "id": "2e9a1229-c83c-41f1-8376-66419a418bcf",
   "metadata": {},
   "outputs": [],
   "source": [
    "mydf = Extraction(source_path, destination_path)"
   ]
  },
  {
   "cell_type": "code",
   "execution_count": 4,
   "id": "dae97c9f-4e0e-468e-b2b9-658fc4ccc2ef",
   "metadata": {},
   "outputs": [],
   "source": [
    "mydf.process_pdfs()"
   ]
  },
  {
   "cell_type": "code",
   "execution_count": 5,
   "id": "2c1ce710-8280-45bf-84db-1e3793e7c354",
   "metadata": {},
   "outputs": [],
   "source": [
    "INFO = mydf.create_info()"
   ]
  },
  {
   "cell_type": "code",
   "execution_count": 6,
   "id": "c3cae933-7c56-48e9-95f8-30716f7f7258",
   "metadata": {},
   "outputs": [
    {
     "data": {
      "text/plain": [
       "(102, 3)"
      ]
     },
     "execution_count": 6,
     "metadata": {},
     "output_type": "execute_result"
    }
   ],
   "source": [
    "mydf.INFO.shape"
   ]
  },
  {
   "cell_type": "code",
   "execution_count": 7,
   "id": "c77f2836-b9de-41c8-adef-86540511593c",
   "metadata": {},
   "outputs": [],
   "source": [
    "index_list_df1 = INFO.index"
   ]
  },
  {
   "cell_type": "code",
   "execution_count": 8,
   "id": "94f5e781-b351-446c-8af1-ebd365771d95",
   "metadata": {},
   "outputs": [],
   "source": [
    "import pandas as pd\n",
    "import numpy as np"
   ]
  },
  {
   "cell_type": "code",
   "execution_count": 9,
   "id": "d7f14732-b7cb-4f7d-ad99-24f1f9a2e9b5",
   "metadata": {},
   "outputs": [
    {
     "data": {
      "text/plain": [
       "(101, 2)"
      ]
     },
     "execution_count": 9,
     "metadata": {},
     "output_type": "execute_result"
    }
   ],
   "source": [
    "labels = pd.read_csv(default_path+\"trials/updated_101_cases.csv\")\n",
    "labels.shape"
   ]
  },
  {
   "cell_type": "code",
   "execution_count": 10,
   "id": "deaa4eb5-da38-4a92-892c-6b7bb0d96ba2",
   "metadata": {},
   "outputs": [],
   "source": [
    "labels.set_index('CaseName', inplace=True)"
   ]
  },
  {
   "cell_type": "code",
   "execution_count": 11,
   "id": "59bce48e-c42c-4331-b9b5-7c249afb671e",
   "metadata": {},
   "outputs": [],
   "source": [
    "index_list_df2 = labels.index"
   ]
  },
  {
   "cell_type": "code",
   "execution_count": 12,
   "id": "636da45c-423d-404f-a5e1-40dc0d0b6e6f",
   "metadata": {},
   "outputs": [
    {
     "data": {
      "text/html": [
       "<div>\n",
       "<style scoped>\n",
       "    .dataframe tbody tr th:only-of-type {\n",
       "        vertical-align: middle;\n",
       "    }\n",
       "\n",
       "    .dataframe tbody tr th {\n",
       "        vertical-align: top;\n",
       "    }\n",
       "\n",
       "    .dataframe thead th {\n",
       "        text-align: right;\n",
       "    }\n",
       "</style>\n",
       "<table border=\"1\" class=\"dataframe\">\n",
       "  <thead>\n",
       "    <tr style=\"text-align: right;\">\n",
       "      <th></th>\n",
       "      <th>label</th>\n",
       "    </tr>\n",
       "    <tr>\n",
       "      <th>file_title</th>\n",
       "      <th></th>\n",
       "    </tr>\n",
       "  </thead>\n",
       "  <tbody>\n",
       "    <tr>\n",
       "      <th>A.B. v. Shilo Inn, Salem, LLC, 2023 U.S. Dist. LEXIS 143289</th>\n",
       "      <td>1</td>\n",
       "    </tr>\n",
       "    <tr>\n",
       "      <th>A.D. v. Best Western Int_l, Inc., 2023 U.S. Dist. LEXIS 150376</th>\n",
       "      <td>1</td>\n",
       "    </tr>\n",
       "    <tr>\n",
       "      <th>A.D. v. Choice Hotels Int_l, Inc., 2023 U.S. Dist. LEXIS 150380</th>\n",
       "      <td>1</td>\n",
       "    </tr>\n",
       "    <tr>\n",
       "      <th>A.D. v. Choice Hotels Int_l, Inc., 2023 U.S. Dist. LEXIS 150391</th>\n",
       "      <td>1</td>\n",
       "    </tr>\n",
       "    <tr>\n",
       "      <th>A.D. v. Choice Hotels Int_l, Inc., 2023 U.S. Dist. LEXIS 150397</th>\n",
       "      <td>1</td>\n",
       "    </tr>\n",
       "    <tr>\n",
       "      <th>...</th>\n",
       "      <td>...</td>\n",
       "    </tr>\n",
       "    <tr>\n",
       "      <th>Vidal v. Galaxy 2439 Enters., LLC, 2023 U.S. Dist. LEXIS 217264</th>\n",
       "      <td>0</td>\n",
       "    </tr>\n",
       "    <tr>\n",
       "      <th>Williams v. Sisolak, 2023 U.S. App. LEXIS 32338</th>\n",
       "      <td>1</td>\n",
       "    </tr>\n",
       "    <tr>\n",
       "      <th>Wilson v. Conn. DOT, 2023 U.S. Dist. LEXIS 217795</th>\n",
       "      <td>0</td>\n",
       "    </tr>\n",
       "    <tr>\n",
       "      <th>Wisdom v. Perez, 2023 U.S. Dist. LEXIS 217366</th>\n",
       "      <td>0</td>\n",
       "    </tr>\n",
       "    <tr>\n",
       "      <th>Woodhull Freedom Found. v. United States, 72 F.4th 1286</th>\n",
       "      <td>1</td>\n",
       "    </tr>\n",
       "  </tbody>\n",
       "</table>\n",
       "<p>101 rows × 1 columns</p>\n",
       "</div>"
      ],
      "text/plain": [
       "                                                    label\n",
       "file_title                                               \n",
       "A.B. v. Shilo Inn, Salem, LLC, 2023 U.S. Dist. ...      1\n",
       "A.D. v. Best Western Int_l, Inc., 2023 U.S. Dis...      1\n",
       "A.D. v. Choice Hotels Int_l, Inc., 2023 U.S. Di...      1\n",
       "A.D. v. Choice Hotels Int_l, Inc., 2023 U.S. Di...      1\n",
       "A.D. v. Choice Hotels Int_l, Inc., 2023 U.S. Di...      1\n",
       "...                                                   ...\n",
       "Vidal v. Galaxy 2439 Enters., LLC, 2023 U.S. Di...      0\n",
       "Williams v. Sisolak, 2023 U.S. App. LEXIS 32338         1\n",
       "Wilson v. Conn. DOT, 2023 U.S. Dist. LEXIS 217795       0\n",
       "Wisdom v. Perez, 2023 U.S. Dist. LEXIS 217366           0\n",
       "Woodhull Freedom Found. v. United States, 72 F....      1\n",
       "\n",
       "[101 rows x 1 columns]"
      ]
     },
     "execution_count": 12,
     "metadata": {},
     "output_type": "execute_result"
    }
   ],
   "source": [
    "#labels.drop(columns=['Narrative'], inplace=True)\n",
    "labels.index = [each_title.split(\".pdf\")[0].strip() for each_title in labels.index]\n",
    "labels.index.name = 'file_title'\n",
    "labels.rename(columns={\"Sex_Trafficking\":\"label\"}, inplace=True)\n",
    "labels"
   ]
  },
  {
   "cell_type": "code",
   "execution_count": 13,
   "id": "20755530-8db6-49a5-89fb-e897f682398a",
   "metadata": {},
   "outputs": [
    {
     "data": {
      "text/plain": [
       "(109, 4)"
      ]
     },
     "execution_count": 13,
     "metadata": {},
     "output_type": "execute_result"
    }
   ],
   "source": [
    "INFO = mydf.add_labels(labels)\n",
    "INFO.shape"
   ]
  },
  {
   "cell_type": "raw",
   "id": "282d155a-d9c6-45f5-bee9-5fab07197bbe",
   "metadata": {},
   "source": [
    "INFO[INFO.narrative.isna()]"
   ]
  },
  {
   "cell_type": "raw",
   "id": "f17f0457-9225-4e42-9fdb-b025ec3608b0",
   "metadata": {},
   "source": [
    "INFO[INFO.label.isna()]"
   ]
  },
  {
   "cell_type": "code",
   "execution_count": 18,
   "id": "ad61f168-e37b-4d35-b2b3-62588df8475b",
   "metadata": {},
   "outputs": [
    {
     "data": {
      "text/plain": [
       "Index(['A.D. v. Holistic Health Healing Inc., 2023 U.S. Dist. LEXIS 32258',\n",
       "       'A.R. v. Wyndham Hotels & Resorts, Inc., 2022 U.S. Dist. LEXIS 227436',\n",
       "       'B.J. v. G6 Hosp., LLC, 2023 U.S. Dist. LEXIS 88180',\n",
       "       'C.T. v. Red Roof Inns, Inc., 2022 U.S. Dist. LEXIS 233795',\n",
       "       'G.G. v. Salesforce.Com, Inc., 76 F.4th 544',\n",
       "       'J.G. v. Northbrook Indus., 619 F. Supp. 3d 1228',\n",
       "       'L.H. v. Red Roof Inn, Inc., 2023 U.S. Dist. LEXIS 156293',\n",
       "       'Lundstrom v. Holiday Hosp. Franchising, LLC, 2023 U.S. Dist. LEXIS 119435',\n",
       "       'Richardson v. NW Univ., 2023 U.S. Dist. LEXIS 168742',\n",
       "       'S.Y. v. Wyndham Hotels(4)',\n",
       "       'United States v. Bell, 2022 U.S. Dist. LEXIS 74783',\n",
       "       'United States v. Dexter, 2022 U.S. Dist. LEXIS 133111',\n",
       "       'United States v. Palms, 21 F.4th 689',\n",
       "       'Vargasan v. MG Freesites, Ltd., 2022 U.S. Dist. LEXIS 80842',\n",
       "       'Woodhull Freedom Found. v. United States, 72 F.4th 1286'],\n",
       "      dtype='object', name='file_title')"
      ]
     },
     "execution_count": 18,
     "metadata": {},
     "output_type": "execute_result"
    }
   ],
   "source": [
    "index_list_df1[index_list_df1.isin(index_list_df2)]"
   ]
  },
  {
   "cell_type": "code",
   "execution_count": 19,
   "id": "5f9abeab-b748-41e8-bb01-f333bfea6cc0",
   "metadata": {},
   "outputs": [
    {
     "data": {
      "text/plain": [
       "Index(['A.D. v. Holistic Health Healing Inc., 2023 U.S. Dist. LEXIS 32258',\n",
       "       'A.R. v. Wyndham Hotels & Resorts, Inc., 2022 U.S. Dist. LEXIS 227436',\n",
       "       'B.J. v. G6 Hosp., LLC, 2023 U.S. Dist. LEXIS 88180',\n",
       "       'C.T. v. Red Roof Inns, Inc., 2022 U.S. Dist. LEXIS 233795',\n",
       "       'G.G. v. Salesforce.Com, Inc., 76 F.4th 544',\n",
       "       'J.G. v. Northbrook Indus., 619 F. Supp. 3d 1228',\n",
       "       'L.H. v. Red Roof Inn, Inc., 2023 U.S. Dist. LEXIS 156293',\n",
       "       'Lundstrom v. Holiday Hosp. Franchising, LLC, 2023 U.S. Dist. LEXIS 119435',\n",
       "       'Richardson v. NW Univ., 2023 U.S. Dist. LEXIS 168742',\n",
       "       'S.Y. v. Wyndham Hotels(4)',\n",
       "       'United States v. Bell, 2022 U.S. Dist. LEXIS 74783',\n",
       "       'United States v. Dexter, 2022 U.S. Dist. LEXIS 133111',\n",
       "       'United States v. Palms, 21 F.4th 689',\n",
       "       'Vargasan v. MG Freesites, Ltd., 2022 U.S. Dist. LEXIS 80842',\n",
       "       'Woodhull Freedom Found. v. United States, 72 F.4th 1286'],\n",
       "      dtype='object', name='CaseName')"
      ]
     },
     "execution_count": 19,
     "metadata": {},
     "output_type": "execute_result"
    }
   ],
   "source": [
    "index_list_df2[index_list_df2.isin(index_list_df1)]"
   ]
  },
  {
   "cell_type": "code",
   "execution_count": null,
   "id": "fb67a794-3ddd-4f2e-b26b-59759f24e02d",
   "metadata": {},
   "outputs": [],
   "source": []
  }
 ],
 "metadata": {
  "kernelspec": {
   "display_name": "Python 3 (ipykernel)",
   "language": "python",
   "name": "python3"
  },
  "language_info": {
   "codemirror_mode": {
    "name": "ipython",
    "version": 3
   },
   "file_extension": ".py",
   "mimetype": "text/x-python",
   "name": "python",
   "nbconvert_exporter": "python",
   "pygments_lexer": "ipython3",
   "version": "3.11.4"
  }
 },
 "nbformat": 4,
 "nbformat_minor": 5
}
